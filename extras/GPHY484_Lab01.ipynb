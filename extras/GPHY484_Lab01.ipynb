{
 "cells": [
  {
   "cell_type": "markdown",
   "metadata": {
    "id": "aGuS3xaZgFQC"
   },
   "source": [
    "# Lab 1: Introduction to programming in Python\n",
    "\n",
    "This lab will introduce you to some basic programming concepts using the Python language. Python is relatively easy to learn, widely-used across industry and academia, and has many useful packages for map-making and data analysis. But, it's important to remember that there are many programming languages out there that can be used to accomplish a given task. This is not a Python programming course; instead, we hope you will learn to approach spatial problems from a programmatic perspective and implement solutions to those problems using the Python language. \n",
    "\n",
    "Especially if you have limited experience with programming, some of these new concepts may be unintuitive at first. One important skill for a programmer is to know where to look for help. Even professional developers have many browser tabs open with code documentation, examples, and troubleshooting forums easily accessible. At the end of this notebook there is a list of [websites where you can go for help](#helpful_cell) if you get stuck.\n"
   ]
  },
  {
   "cell_type": "markdown",
   "metadata": {
    "id": "BHYehVBcYAzR"
   },
   "source": [
    "## Mathematical operations\n",
    "\n",
    "To begin, let's explore some of the capabilities of python in this notebook coding environment. For our eventual data analysis tasks we'll be doing a fair bit of mathematical operations. Try some of these out by running the code cells below.\n",
    "\n",
    "### But first... How do I \"run code\"?\n",
    "\n",
    "There are a couple of ways to run code in Colab:\n",
    "\n",
    "* Ctrl-Enter runs the current cell and enters command mode.\n",
    "\n",
    "* Shift-Enter runs the code and advances to the next cell. \n",
    "\n",
    "* Alt-Enter runs the current cell and inserts a new one below.\n",
    "\n",
    "Alternatively you can simply press the play button in the upper left corner of the code cell. Go ahead and try all three ways out.\n"
   ]
  },
  {
   "cell_type": "code",
   "execution_count": null,
   "metadata": {
    "colab": {
     "base_uri": "https://localhost:8080/"
    },
    "id": "KNdn5xiybO32",
    "outputId": "1ded091f-e42b-47ce-9210-3c909623dd64"
   },
   "outputs": [],
   "source": [
    "1 + 1"
   ]
  },
  {
   "cell_type": "code",
   "execution_count": null,
   "metadata": {
    "colab": {
     "base_uri": "https://localhost:8080/"
    },
    "id": "yhL3EDNibQX9",
    "outputId": "d2844fa2-626e-414b-8750-0dfb5c5bf915"
   },
   "outputs": [],
   "source": [
    "4 * 5"
   ]
  },
  {
   "cell_type": "code",
   "execution_count": null,
   "metadata": {
    "colab": {
     "base_uri": "https://localhost:8080/"
    },
    "id": "6_obxoaKbVe0",
    "outputId": "1e946ac1-14a2-4475-82cd-8e271bd01cd1"
   },
   "outputs": [],
   "source": [
    "20 / 4"
   ]
  },
  {
   "cell_type": "markdown",
   "metadata": {
    "id": "SQZn-IDrcMwx"
   },
   "source": [
    "Here is a list of some mathematical operators in python. The [modulo operator](https://en.wikipedia.org/wiki/Modulo_operation) returns the integer remainder after two numbers are divided.\n",
    "\n",
    "Operation  | Symbol | Example code | Result | \n",
    "-----------|:------:|:------------:|:------:|\n",
    "Addition   |    +   |     `3+4`    |   `7`  |\n",
    "Subtraction   |    -   |     `5-8`    |   `-3`  |\n",
    "Multiplication   |    *   |     `8*9`    |   `72`  |\n",
    "Division   |    /   |     `30/10`    |   `3.0`  |\n",
    "Exponentiation   |    **   |     `3**2`    |   `9`  |\n",
    "Modulo*   |    %   |     `11%3`    |   `2`  |\n",
    "\n",
    "Python follows PEMDAS (Parentheses, Exponents, Multiplication and Division (from left to right), Addition and Subtraction (from left to right)) order of operations. For example:"
   ]
  },
  {
   "cell_type": "code",
   "execution_count": null,
   "metadata": {
    "colab": {
     "base_uri": "https://localhost:8080/"
    },
    "id": "Y4c9jWMbg4SU",
    "outputId": "6dd4bfc4-1e19-45fa-c5a1-bf30395ab430"
   },
   "outputs": [],
   "source": [
    "5 - 3**2"
   ]
  },
  {
   "cell_type": "code",
   "execution_count": null,
   "metadata": {
    "colab": {
     "base_uri": "https://localhost:8080/"
    },
    "id": "FBz0MmydhF_3",
    "outputId": "af1bcb7d-4cc3-46ad-be1f-6b81cb678368"
   },
   "outputs": [],
   "source": [
    "(5 - 3)**2"
   ]
  },
  {
   "cell_type": "markdown",
   "metadata": {
    "id": "oPja0BUNhy12"
   },
   "source": [
    "We may need some more advanced operations for a particular data analysis task:"
   ]
  },
  {
   "cell_type": "code",
   "execution_count": null,
   "metadata": {
    "colab": {
     "base_uri": "https://localhost:8080/",
     "height": 167
    },
    "id": "nLXylPNMhyab",
    "outputId": "4547db8d-cf19-4af6-c627-635fe507dd30"
   },
   "outputs": [],
   "source": [
    "sqrt(16)"
   ]
  },
  {
   "cell_type": "markdown",
   "metadata": {
    "id": "iuYTpN4wiue8"
   },
   "source": [
    "Congratulations, you've encountered your first programming error! The python language has many functions in its [standard library](https://docs.python.org/3/library/), but most of these functions are not loaded by default. Loading all of these functions all of the time would slow down processing time by taking up a significant portion of the available computer memory. One of the packages (sometimes called modules) in the standard library is called `math` and contains, as you might expect, a collection of mathematical functions. We can access these functions by importing the package:"
   ]
  },
  {
   "cell_type": "code",
   "execution_count": null,
   "metadata": {
    "id": "qLo05mzEkR-8"
   },
   "outputs": [],
   "source": [
    "import math"
   ]
  },
  {
   "cell_type": "markdown",
   "metadata": {
    "id": "fKd-UhwdkT8z"
   },
   "source": [
    "Now let's try the square root function again:"
   ]
  },
  {
   "cell_type": "code",
   "execution_count": null,
   "metadata": {
    "colab": {
     "base_uri": "https://localhost:8080/"
    },
    "id": "kl9-ddkMkTpA",
    "outputId": "a6f8a72b-c267-4c2b-be43-6b767059d23f"
   },
   "outputs": [],
   "source": [
    "math.sqrt(16)"
   ]
  },
  {
   "cell_type": "markdown",
   "metadata": {
    "id": "C9AFz6b-kdDC"
   },
   "source": [
    "In order to access a function in a package you have imported, type the package name followed by a `.` and then the function name. In this notebook, if you type `.` and press `tab`, a tooltip helper will appear that lists all available functions in the package. Try this in the cell below by adding a `.` after the word `math` and pressing `tab`. You can scroll through the list using the up and down arrow keys."
   ]
  },
  {
   "cell_type": "code",
   "execution_count": null,
   "metadata": {
    "id": "S_8mYVjtkzYA"
   },
   "outputs": [],
   "source": [
    "math"
   ]
  },
  {
   "cell_type": "markdown",
   "metadata": {
    "id": "I2uO_sT5lmon"
   },
   "source": [
    "### Exercise 1\n",
    "\n",
    "Create a code block and calculate the cosine of $\\pi$. Find a way to access the constant - do not just use 3.14."
   ]
  },
  {
   "cell_type": "markdown",
   "metadata": {
    "id": "YKfeJYsXm-Zz"
   },
   "source": [
    "## Variable assignment\n",
    "\n",
    "Often we will want to save the result of an operation to use later on. We can do this by creating a variable. Variables are names given to objects in Python that make things easier to code and makes the code faster. The objects can be a number, a text phrase, and a whole slew of other objects.\n",
    "\n",
    "The following assigns a name to an integer value."
   ]
  },
  {
   "cell_type": "code",
   "execution_count": null,
   "metadata": {
    "id": "IOT6HFAtns-n"
   },
   "outputs": [],
   "source": [
    "x = 3"
   ]
  },
  {
   "cell_type": "markdown",
   "metadata": {
    "id": "LCO6umj3n0Qu"
   },
   "source": [
    "Running the previous code cell does not produce any output. However, we have defined a variable named `x` in our notebook's memory and assigned a value of `3` to that variable. Variables in are retained in memory between code blocks within this notebook environment:"
   ]
  },
  {
   "cell_type": "code",
   "execution_count": null,
   "metadata": {
    "id": "qLL_kILOoQwL"
   },
   "outputs": [],
   "source": [
    "x"
   ]
  },
  {
   "cell_type": "code",
   "execution_count": null,
   "metadata": {
    "id": "A9ReCyt1oSoS"
   },
   "outputs": [],
   "source": [
    "y = x + 2\n",
    "y"
   ]
  },
  {
   "cell_type": "code",
   "execution_count": null,
   "metadata": {
    "id": "b6mR8W8DoXOt"
   },
   "outputs": [],
   "source": [
    "y**x"
   ]
  },
  {
   "cell_type": "markdown",
   "metadata": {
    "id": "c1-rrjGiogbz"
   },
   "source": [
    "Variables names in python can consist of upper case and lower case letters, digits 0-9, and the underscore chatacter (`_`). Python is a case-sensitive language, so `var1` and `VAR1` are treated as two different variables. One additional constraint is that a variable name may not start with a digit: `var2` is a valid name while `2nd_var` is not.\n",
    "\n",
    "There are some community-accepted guidelines of 'good' variable names. In general, try to make your variables names descriptive but succinct. For example,"
   ]
  },
  {
   "cell_type": "code",
   "execution_count": null,
   "metadata": {
    "id": "hQsIEvh8p-uG"
   },
   "outputs": [],
   "source": [
    "airtemperatureindegreesfahrenheit = 47.2\n",
    "airtemperatureindegreesfahrenheit\n"
   ]
  },
  {
   "cell_type": "markdown",
   "metadata": {
    "id": "9stDSJmMqM68"
   },
   "source": [
    "is perfectly valid code and will compile without error. Even though this variable is nice and descriptive, a variable name like this is\n",
    "\n",
    "a) difficult to read quickly and;\n",
    "\n",
    "b) annoying to type over and over. Python programmers often use underscores in their variable names to increase readability. A better option for this variable might be:"
   ]
  },
  {
   "cell_type": "code",
   "execution_count": null,
   "metadata": {
    "id": "a-OMpNpyrO6b"
   },
   "outputs": [],
   "source": [
    "air_temp_f = 47.2\n",
    "air_temp_f"
   ]
  },
  {
   "cell_type": "markdown",
   "metadata": {
    "id": "aFzJS9mKsJz9"
   },
   "source": [
    "### Exercise 2\n",
    "\n",
    "In Physics 101, the equation for kinetic energy is $KE=\\frac{1}{2}mv^2$, where $m$ is the mass of an object and $v$ is its velocity. \n",
    "\n",
    "Create a code block and write three lines of code that\n",
    "\n",
    "1.   Define 2 variables to hold the values of an object's mass and velocity.\n",
    "2.   Calculate the kinetic energy of a 2.5 kilogram object with a velocity of 3.2 meters per second. Assign this value to another appropriately-named variable.\n",
    "\n"
   ]
  },
  {
   "cell_type": "markdown",
   "metadata": {
    "id": "z-JdtvIIgkNs"
   },
   "source": [
    "## Data types\n",
    "\n",
    "You may have noticed that in the table of operations and some code cells above, the returned result sometimes has a decimal point and other times it does not. What's going on here? Does it matter? The answer is...sometimes.\n",
    "\n",
    "Almost all programming languages have built-in functionality to differentiate several types of data. The type of data gives an indication to the [compiler](https://en.wikipedia.org/wiki/Interpreter_(computing) (i.e. the under-the-hood computer program that executes our python instructions) how we intend to use the data.\n",
    "\n",
    "A few commonly-used data types in python:\n",
    "\n",
    "Type  | Class | Example | \n",
    "-----------|:------:|:------------:|\n",
    "Integer (`int`)  | Numeric   | 103  |  \n",
    "Real (`float`)   | Numeric   | 0.22 | \n",
    "Boolean (`bool`) | Numeric   | `True` and `False` | \n",
    "String (`str`)   | Sequence  | `'msu bobcats'`    |  \n",
    "List (`list()`)  | Sequence  | `[1, 2, 3]` or `['a', 'b', 'c']`   |  \n"
   ]
  },
  {
   "cell_type": "markdown",
   "metadata": {
    "id": "EPz8jQht0s6a"
   },
   "source": [
    "### Numeric data\n",
    "\n",
    "A whole number without any decimal places (i.e. an **integer**) can be assigned the `int` type, while any **real** number with a decimal is the `float` type (short for [floating-point](https://en.wikipedia.org/wiki/Floating-point_arithmetic) number). We can check the type of any object by using the built-in `type()` function:"
   ]
  },
  {
   "cell_type": "code",
   "execution_count": null,
   "metadata": {
    "id": "Q3Fyz4-quQtt"
   },
   "outputs": [],
   "source": [
    "type(6)"
   ]
  },
  {
   "cell_type": "code",
   "execution_count": null,
   "metadata": {
    "id": "IGirvjX3wNkm"
   },
   "outputs": [],
   "source": [
    "type(3.14)"
   ]
  },
  {
   "cell_type": "markdown",
   "metadata": {
    "id": "RDewbfByv8oF"
   },
   "source": [
    "Note that a decimal may be added to any integer to represent that number as a float:"
   ]
  },
  {
   "cell_type": "code",
   "execution_count": null,
   "metadata": {
    "id": "v_eMv--9wU3E"
   },
   "outputs": [],
   "source": [
    "type(1.)"
   ]
  },
  {
   "cell_type": "markdown",
   "metadata": {
    "id": "X6l1BZiTwkoR"
   },
   "source": [
    "The differences between the `int` and `float` data types are more important in other programming languages. Historically, a single integer occupied a much smaller space than a single floating point number in computer memory. Some languages like FORTRAN and C++ require the programmer to declare the type of number at variable creation in order to allocate the necessary memory (note that python automatically determines the type for us). As a result of differences in memory requirements, integer arithmetic was much faster than floating point arithmetic. \n",
    "\n",
    "Python allocates approximately the same amount of memory for an integer as a floating point number. On our desktop or laptiop computers the computational efficiency is approximately equal for both data types. However, there are some modern cloud computing applications that are very sensitive to the type of numeric data used in calculations. Additionally we will use some functions that require one numeric type or the other, and it will be important to understand the difference between these types.\n",
    "\n",
    "**Boolean** variables refer to the binary `True` or `False`. Remember that python is a case-sensitive language and `false` does not mean the same thing as `False`. Technically these variables are numeric data because python represents `True` as `1` and `False` as `0`. We will explore boolean logic in more detail below."
   ]
  },
  {
   "cell_type": "markdown",
   "metadata": {
    "id": "P79NONm90fNZ"
   },
   "source": [
    "### Sequence data - strings\n",
    "\n"
   ]
  },
  {
   "cell_type": "markdown",
   "metadata": {
    "id": "iIY1Pg9_01LO"
   },
   "source": [
    "Sequences of alphanumeric characters (including spaces) in python are called **strings** and have the `str` data type. We denote a string by using quotation marks: "
   ]
  },
  {
   "cell_type": "code",
   "execution_count": null,
   "metadata": {
    "id": "ZPL7o41H0wjw"
   },
   "outputs": [],
   "source": [
    "type('hello')"
   ]
  },
  {
   "cell_type": "code",
   "execution_count": null,
   "metadata": {
    "id": "pCdZUzSJ3K80"
   },
   "outputs": [],
   "source": [
    "type(2.5)"
   ]
  },
  {
   "cell_type": "code",
   "execution_count": null,
   "metadata": {
    "id": "zzHhQxtH3fcF"
   },
   "outputs": [],
   "source": [
    "type('2.5')"
   ]
  },
  {
   "cell_type": "markdown",
   "metadata": {
    "id": "iPYAE6cD3qqa"
   },
   "source": [
    "Python will accept both single-quoted and double-quoted strings (e.g. `'go bobcats'` and `\"go bobcats\"`). There is no official recommendation for which to use. Choose one and be consistent. Mixing single- and double-quotes will not work:"
   ]
  },
  {
   "cell_type": "code",
   "execution_count": null,
   "metadata": {
    "id": "LODprlDC3qTD"
   },
   "outputs": [],
   "source": [
    "type(\"go bobcats')"
   ]
  },
  {
   "cell_type": "markdown",
   "metadata": {
    "id": "iwH7MhTk46S2"
   },
   "source": [
    "Some programming languages also have a `char` data type that is assigned to a single alphanumeric character. In those languages, strings are comprised of two or more charactrers. Python does not contain the `char` data type and uses the `str` type for alphanumeric sequences of any length (including strings that are 1 or 0 characters long). An example of a 0-character empty string:"
   ]
  },
  {
   "cell_type": "code",
   "execution_count": null,
   "metadata": {
    "id": "4bvd8eNc5nBe"
   },
   "outputs": [],
   "source": [
    "type(\"\")"
   ]
  },
  {
   "cell_type": "markdown",
   "metadata": {
    "id": "X-otK-Iz5wJv"
   },
   "source": [
    "One useful function often used with strings is the `print()` function:"
   ]
  },
  {
   "cell_type": "code",
   "execution_count": null,
   "metadata": {
    "id": "ylt11C3G5vmy"
   },
   "outputs": [],
   "source": [
    "print('hello world')"
   ]
  },
  {
   "cell_type": "markdown",
   "metadata": {
    "id": "ztrO8fZ_6I0F"
   },
   "source": [
    "At first glance this may not seem much different than the cell output we have seen above. But we can combine different functions with the `print()` function:"
   ]
  },
  {
   "cell_type": "code",
   "execution_count": null,
   "metadata": {
    "id": "z6pEVFZd6esu"
   },
   "outputs": [],
   "source": [
    "print('The square root of 9 is 3')\n",
    "\n",
    "x = 9\n",
    "print('x has the data type', type(x))\n",
    "print('The square root of 9 is', math.sqrt(x))"
   ]
  },
  {
   "cell_type": "markdown",
   "metadata": {
    "id": "hffrKvQO_ccW"
   },
   "source": [
    "### A word of caution\n",
    "\n",
    "There are two types of errors in computer programming: syntax errors and logical errors. We have seen some examples of syntax errors already. Syntax errors are when the compiler does not understand our instructions, and will tell us as much by returning an error message instead of the result we were hoping for (e.g. trying to mix single- and double-quotes in a string). Syntax errors are easy to find (since our code won't run) and usually easy to fix (since the compiler gives us some indication of what the problem is). \n",
    "\n",
    "On the other hand, logical errors can be more difficult to detect and fix. These are when your code runs without an error message from the compiler, but the code isn't actually doing what you think it's doing. Say we wanted to take a number, add 3 to it, and double the result. If we start with the number 5, we should end up with 16. Then what is wrong with this code?"
   ]
  },
  {
   "cell_type": "code",
   "execution_count": null,
   "metadata": {
    "id": "Ht_X77RIBHAJ"
   },
   "outputs": [],
   "source": [
    "x = 5\n",
    "result = x + 3 * 2\n",
    "print(result)"
   ]
  },
  {
   "cell_type": "markdown",
   "metadata": {
    "id": "QpiSToewBVhm"
   },
   "source": [
    "Our code runs fine, but because we neglected to include parentheses we got the wrong result. The code we wrote does not accomplish the task we set out to do - this is a logical error. Luckily this one is a simple fix:"
   ]
  },
  {
   "cell_type": "code",
   "execution_count": null,
   "metadata": {
    "id": "V_3wbNkpBzYe"
   },
   "outputs": [],
   "source": [
    "x = 5\n",
    "result = (x + 3) * 2\n",
    "print(result)"
   ]
  },
  {
   "cell_type": "markdown",
   "metadata": {
    "id": "3VGEgVNkB-W0"
   },
   "source": [
    "Now that we have learned about a few different data types, it's important that we keep track of the types we are assigning and using. Unintentionally mixing data types can lead to unexpected logical errors:"
   ]
  },
  {
   "cell_type": "code",
   "execution_count": null,
   "metadata": {
    "id": "bw8RJ8F5DN4Z"
   },
   "outputs": [],
   "source": [
    "a = 2\n",
    "b = 4\n",
    "result = a * b\n",
    "print('The result is', result, 'which has the data type', type(result))"
   ]
  },
  {
   "cell_type": "code",
   "execution_count": null,
   "metadata": {
    "id": "1x2h9gxeDdSs"
   },
   "outputs": [],
   "source": [
    "a = '2'\n",
    "b = 4\n",
    "result = a * b\n",
    "print('The result is', result, 'which has the data type', type(result))"
   ]
  },
  {
   "cell_type": "markdown",
   "metadata": {
    "id": "-0ywTKC16OCl"
   },
   "source": [
    "Either of these examples may produce our desired functionality, depending on what it is we're trying to do. The take home message here is that we need to be careful about keeping track of data types throughout our code. Especially when the compiled code consists of hundreds of lines, it can be very time-consuming to find and correct logical errors."
   ]
  },
  {
   "cell_type": "markdown",
   "metadata": {
    "id": "9MEiMGC_7uAl"
   },
   "source": [
    "### Sequence data - lists\n",
    "\n",
    "So far we have seen data types that refer to a single object in computer memory (i.e. one number or one string). A **list** is a more complex data type that can hold sequences of objects:"
   ]
  },
  {
   "cell_type": "code",
   "execution_count": null,
   "metadata": {
    "id": "HEv7GbYo8LLZ"
   },
   "outputs": [],
   "source": [
    "my_list = list([20, 40, 60, 80, 100])\n",
    "print(my_list)"
   ]
  },
  {
   "cell_type": "markdown",
   "metadata": {
    "id": "SBAKjR-O8Tck"
   },
   "source": [
    "Accessing individual element(s) of a list is called **indexing**. Python is 0-indexed. This means that the first element of a list is in position 0, the second element is in position 1, and so on. The syntax for list indexing involves a number in square brackets after the variable name:"
   ]
  },
  {
   "cell_type": "code",
   "execution_count": null,
   "metadata": {
    "id": "RycunjYl83Hr"
   },
   "outputs": [],
   "source": [
    "first = my_list[0]\n",
    "second = my_list[1]\n",
    "print('The first element is', first)\n",
    "print('The second element is', second)"
   ]
  },
  {
   "cell_type": "markdown",
   "metadata": {
    "id": "Vbl5-B9C9N7U"
   },
   "source": [
    "The compiler will throw an error if you attempt to index with a number larger than the length of the list:"
   ]
  },
  {
   "cell_type": "code",
   "execution_count": null,
   "metadata": {
    "id": "-2gXna_B9YIQ"
   },
   "outputs": [],
   "source": [
    "tenth = my_list[9]"
   ]
  },
  {
   "cell_type": "markdown",
   "metadata": {
    "id": "6qVbYGIo9prJ"
   },
   "source": [
    "Indexing using negative numbers will count backwards from the end of the list. The element in position -1 is the last element."
   ]
  },
  {
   "cell_type": "code",
   "execution_count": null,
   "metadata": {
    "id": "MtZU-jR09n50"
   },
   "outputs": [],
   "source": [
    "print('The second to last element is', my_list[-2])"
   ]
  },
  {
   "cell_type": "markdown",
   "metadata": {
    "id": "pa_7dQMj-AKB"
   },
   "source": [
    "You can select a range of elements (also called a slice) using a `:` between two numbers. The slice between two numbers $a$ and $b$ will select all elements starting in position $a$ up to **but not including** $b$. For example:"
   ]
  },
  {
   "cell_type": "code",
   "execution_count": null,
   "metadata": {
    "id": "0FXAtZfP9_rW"
   },
   "outputs": [],
   "source": [
    "my_slice = my_list[2:4]\n",
    "print(my_slice)"
   ]
  },
  {
   "cell_type": "markdown",
   "metadata": {
    "id": "Tp9tjJzl-hxk"
   },
   "source": [
    "We can also index using variables that have numeric values instead of hard-coded numbers..."
   ]
  },
  {
   "cell_type": "code",
   "execution_count": null,
   "metadata": {
    "id": "eR7cgEGE-tbj"
   },
   "outputs": [],
   "source": [
    "a = 2\n",
    "b = 4\n",
    "slice2 = my_list[a:b]\n",
    "print(slice2)"
   ]
  },
  {
   "cell_type": "markdown",
   "metadata": {
    "id": "4gElMMtR_Mbp"
   },
   "source": [
    "...but only if the variables have the `int` data type."
   ]
  },
  {
   "cell_type": "code",
   "execution_count": null,
   "metadata": {
    "id": "nAfFZqEn-_RJ"
   },
   "outputs": [],
   "source": [
    "x = 2\n",
    "y = 4.0\n",
    "slice3 = my_list[x:y]\n",
    "print(slice3)"
   ]
  },
  {
   "cell_type": "markdown",
   "metadata": {
    "id": "1sArcEnn7htU"
   },
   "source": [
    "A more common way to construct a string is to simply use square brackets at variable assignment. Also note that the elements of a list do not necessarily need to be the same data type."
   ]
  },
  {
   "cell_type": "code",
   "execution_count": null,
   "metadata": {
    "id": "_gjJF07K7_t9"
   },
   "outputs": [],
   "source": [
    "list2 = [49, 'cat', -3.5, 'dog', False]\n",
    "print(type(list2))\n",
    "print(type(list2[1]))\n",
    "print(type(list2[2]))"
   ]
  },
  {
   "cell_type": "markdown",
   "metadata": {
    "id": "tpzTIL5W8qon"
   },
   "source": [
    "## Methods\n",
    "\n",
    "Python has a number of useful built-in [list methods](https://www.w3schools.com/python/python_ref_list.asp). We won't go over all of them now, but here are some brief examples:"
   ]
  },
  {
   "cell_type": "code",
   "execution_count": null,
   "metadata": {
    "colab": {
     "base_uri": "https://localhost:8080/"
    },
    "id": "IlnSEqR8-HZZ",
    "outputId": "55b31a0d-ec5d-448f-be59-4c00f1947eae"
   },
   "outputs": [],
   "source": [
    "list_of_lists = [my_list, list2]\n",
    "print(list_of_lists)\n",
    "print('list_of_lists has data type', type(list_of_lists))\n",
    "print('first element of list_of_lists has data type', type(list_of_lists[0]))\n",
    "print('first element of first element of list_of_lists has data type', type(list_of_lists[0][0]))\n",
    "\n",
    "list3 = my_list + list2\n",
    "print('list3:', list3)\n",
    "\n",
    "letters = ['a', 'b', 'c']\n",
    "list3.extend(letters)\n",
    "print('list3:', list3)\n",
    "\n",
    "list3.remove('cat')\n",
    "print('list3:', list3)\n",
    "\n",
    "list3.insert(3, 'giraffe')\n",
    "print('list3:', list3)"
   ]
  },
  {
   "cell_type": "markdown",
   "metadata": {
    "id": "VITRbn8O5Ggp"
   },
   "source": [
    "You may have noticed something strange in the code block above. Previously whenever we saw a `.` between two words it indicated a package name before the period and a function name after the period (like `math.sqrt`). This time the object before the period (`list3`) is a variable that we have defined, not a package. What's going on here?\n",
    "\n",
    "This is the way we access built-in methods. Different data types in Python are associated with certain methods specific to the data type (e.g. the available list methods are different from available [string methods](https://www.w3schools.com/python/python_strings_methods.asp)). When we define a variable in memory, it automatically comes with the methods associated with its data type. You will get an error message if you try to use a method that isn't associated with a particular data type:"
   ]
  },
  {
   "cell_type": "code",
   "execution_count": null,
   "metadata": {
    "id": "3MNe3-zp8ZyB"
   },
   "outputs": [],
   "source": [
    "test1 = [1, 2, 3]\n",
    "test2 = ['a', 'b', 'c']\n",
    "test3 = 'this is a string'\n",
    "\n",
    "# Use the extend list method\n",
    "test1.extend(test2)\n",
    "print(test1)\n",
    "\n",
    "# Try the same list method from a string\n",
    "test3.extend(test2)\n",
    "print(test3)"
   ]
  },
  {
   "cell_type": "markdown",
   "metadata": {
    "id": "A_Sr_wZXCtKZ"
   },
   "source": [
    "## Writing readable code - whitespace and comments\n",
    "\n",
    "A quick note before we continue: you may have noticed various blank lines and whitespace between characters in the various code blocks above. For the most part, python ignores whitespace and skipped lines which makes it easier for us to organize our code. Readable code is expecially important when working in a collaborative environment. Take a look at the following example:"
   ]
  },
  {
   "cell_type": "code",
   "execution_count": null,
   "metadata": {
    "id": "rv8NIPE9DWlD"
   },
   "outputs": [],
   "source": [
    "a          =   4\n",
    "b=7\n",
    "\n",
    "\n",
    "\n",
    "\n",
    "c =                         3\n",
    "\n",
    "sum               = a            +b+    c\n",
    "print   (    'sum:',         sum   ) "
   ]
  },
  {
   "cell_type": "markdown",
   "metadata": {
    "id": "uTOt_ZrkDkjJ"
   },
   "source": [
    "The code compiles but you will drive your colleagues (and yourself) crazy if you write code like this. Especially avoid extra whitespace when using functions, like the `print` function in the example above. The official [Python Style Guidelines](https://www.python.org/dev/peps/pep-0008/) are fairly extensive and cover many topics that we don't need to consider quite yet. In general, keep things consistent and succinct:"
   ]
  },
  {
   "cell_type": "code",
   "execution_count": null,
   "metadata": {
    "id": "Qnl23htbHCOU"
   },
   "outputs": [],
   "source": [
    "a = 2.5\n",
    "b = 7\n",
    "c = -5.0\n",
    "d = 2\n",
    "\n",
    "result = a*b + c*d\n",
    "print(result)"
   ]
  },
  {
   "cell_type": "markdown",
   "metadata": {
    "id": "t7yqzsVsHZUU"
   },
   "source": [
    "It's also good practice to add inline comments to your code. You can do this using the `#` character. Any text following this character is ignored. These comments will remind you the purpose of your lines of code when you return to a project after not working on it for awhile. Too few comments can leave you confused and frustrated, while too many comments can become distracting. As you code you will learn to strike a balance between the two extremes."
   ]
  },
  {
   "cell_type": "code",
   "execution_count": null,
   "metadata": {
    "id": "ah4PgwsDHY_Q"
   },
   "outputs": [],
   "source": [
    "# Define constants\n",
    "a = 2.5\n",
    "b = 7\n",
    "c = -5.0  # need float here because of reasons\n",
    "d = 2\n",
    "\n",
    "# Calculate result using formula from Singh et. al (2018)\n",
    "result = a*b + c*d\n",
    "print(result)"
   ]
  },
  {
   "cell_type": "markdown",
   "metadata": {
    "id": "SQoGec3_IpDD"
   },
   "source": [
    "You can write a multiline comment by enclosing it in triple double-quotes. This is sometimes called a docstring. It's often included at the beginning of a large code block to describe the purpose of the code."
   ]
  },
  {
   "cell_type": "code",
   "execution_count": null,
   "metadata": {
    "id": "3jdqw30vI_kX"
   },
   "outputs": [],
   "source": [
    "\"\"\"\n",
    "The purpose of this code is to demonstrate a docstring.\n",
    "In the real world, you might describe the various functions, \n",
    "variables, etc. that are important for running the code.\n",
    "\n",
    "Remember that whatever you put in here will be ignored by the compiler.\n",
    "\"\"\"\n",
    "\n",
    "# Define constants\n",
    "a = 2.5\n",
    "b = 7\n",
    "c = -5.0  # need float here because of reasons\n",
    "d = 2\n",
    "\n",
    "# Calculate result using formula from Singh et. al (2018)\n",
    "result = a*b + c*d\n",
    "print(result)"
   ]
  },
  {
   "cell_type": "markdown",
   "metadata": {
    "id": "sRL9C1YXKC9d"
   },
   "source": [
    "For all labs in this course, practice writing consistent, readable, well-documented code. It is much easier to learn good habits from the beginning than have to unlearn bad habits down the road. Your instructor will provide feedback on your coding style in addition to the functional abilities of your code."
   ]
  },
  {
   "cell_type": "markdown",
   "metadata": {
    "id": "DBbojeppBVA_"
   },
   "source": [
    "## String manipulation and regular expressions"
   ]
  },
  {
   "cell_type": "markdown",
   "metadata": {
    "id": "YF4pYbMMyutA"
   },
   "source": [
    "We work with strings (alphanumeric characters) extensively in data analysis tasks. Names of data columns, axis labels on figures, filenames and directories, and more are all stored as strings in python. Sometimes we can make an analysis task easier by interacting with or manipulating a one or more strings. \n",
    "\n",
    "Python has many built-in [string methods](https://www.w3schools.com/python/python_ref_string.asp) that we can use for this purpose. Note that strings in python are **immutable**: once we define a string and save it as a variable in memory, we can index the characters just like elements of a list, but the characters of that original string cannot be altered:"
   ]
  },
  {
   "cell_type": "code",
   "execution_count": null,
   "metadata": {
    "colab": {
     "base_uri": "https://localhost:8080/",
     "height": 222
    },
    "id": "gx2TtFge0aHd",
    "outputId": "453b5c55-99a8-4469-82f1-3e8d495db353"
   },
   "outputs": [],
   "source": [
    "my_string = 'testing'\n",
    "print(my_string[0])\n",
    "my_string[0] = 'r' #this line will throw an error"
   ]
  },
  {
   "cell_type": "markdown",
   "metadata": {
    "id": "tpIVLox-0Zdz"
   },
   "source": [
    "Instead, we need to save the result of our manipulations as a new variable:"
   ]
  },
  {
   "cell_type": "code",
   "execution_count": null,
   "metadata": {
    "colab": {
     "base_uri": "https://localhost:8080/"
    },
    "id": "tmV98sd41C0C",
    "outputId": "087e8854-27bc-4120-db13-7475012ed294"
   },
   "outputs": [],
   "source": [
    "my_string = 'testing'\n",
    "string2 = my_string.replace('t', 'r', 1)\n",
    "print(my_string, string2)\n",
    "\n",
    "combined = my_string + string2\n",
    "print(combined)\n",
    "\n",
    "combined2 = my_string + ' and ' + string2\n",
    "print(combined2)"
   ]
  },
  {
   "cell_type": "markdown",
   "metadata": {
    "id": "YcJwgrDa198_"
   },
   "source": [
    "In most analysis tasks we will have to interact with data, which is often stored in files on our local machines or in Google Drive. In this case we often have to deal with filenames that include a long directory path, when all we actually interested in is the filename itself:"
   ]
  },
  {
   "cell_type": "code",
   "execution_count": null,
   "metadata": {
    "id": "aNSEbZQ52wO8"
   },
   "outputs": [],
   "source": [
    "long_fname = '/very/long/path/to/data/files/station1234_data.csv'"
   ]
  },
  {
   "cell_type": "markdown",
   "metadata": {
    "id": "dDNynmZK2wlz"
   },
   "source": [
    "One useful method in this scenario is the `split` method, which divides up a string based on a chatacter we specify (and note here that we need to put that character in quotes - it is its own string, after all!):"
   ]
  },
  {
   "cell_type": "code",
   "execution_count": null,
   "metadata": {
    "colab": {
     "base_uri": "https://localhost:8080/"
    },
    "id": "KxTwnaKh3RLI",
    "outputId": "c76b128d-b8d9-4677-80f0-f1f7a49ea0e8"
   },
   "outputs": [],
   "source": [
    "split_string = long_fname.split('/')\n",
    "print(split_string)\n",
    "print(type(split_string))"
   ]
  },
  {
   "cell_type": "markdown",
   "metadata": {
    "id": "5azNXxcM4aD2"
   },
   "source": [
    "In this case we know the filename is always the last component of split string, and we can access the last element of the list by indexing on -1:"
   ]
  },
  {
   "cell_type": "code",
   "execution_count": null,
   "metadata": {
    "colab": {
     "base_uri": "https://localhost:8080/"
    },
    "id": "uLvdglYh4mQc",
    "outputId": "6e5ac64a-6608-4d94-abe0-ef59c8830ff6"
   },
   "outputs": [],
   "source": [
    "short_fname = split_string[-1]\n",
    "print(short_fname)"
   ]
  },
  {
   "cell_type": "markdown",
   "metadata": {
    "id": "XEtCmwTp5BnL"
   },
   "source": [
    "A more advanced string manipulation topic involves the concept of [regular expressions](https://en.wikipedia.org/wiki/Regular_expression), or regex. Regex provide a way for us to search and match patterns of characters instead of the characters themselves. Let's go back to our long filename for a moment:"
   ]
  },
  {
   "cell_type": "code",
   "execution_count": null,
   "metadata": {
    "colab": {
     "base_uri": "https://localhost:8080/"
    },
    "id": "xVLD0ypi52GX",
    "outputId": "ae26db54-78c6-422b-e113-80333e93c9de"
   },
   "outputs": [],
   "source": [
    "print(long_fname)"
   ]
  },
  {
   "cell_type": "markdown",
   "metadata": {
    "id": "hvCdckgf51oL"
   },
   "source": [
    "A very common scenario in spatial data analysis is that you have the same dataset from multiple stations or locations, for example streamflow data at streamgauges from multiple rivers over the same period of time. Perhaps you have a list of 100 filenames in the same format as `long_fname` above, and you need to extract **only** the station number from those long filenames. We already learned a way that we can get at the shorter filename, which we have saved as `short_fname`:"
   ]
  },
  {
   "cell_type": "code",
   "execution_count": null,
   "metadata": {
    "colab": {
     "base_uri": "https://localhost:8080/"
    },
    "id": "8WAhERdv7DFA",
    "outputId": "54410c2b-ad07-4c4e-b15f-d8d0f825bbd7"
   },
   "outputs": [],
   "source": [
    "print(short_fname)"
   ]
  },
  {
   "cell_type": "markdown",
   "metadata": {
    "id": "q2P_dm417JMp"
   },
   "source": [
    "But there are some extraneous characters surrounding the station number. In this example with only a single station it would be no problem for us to write some code like `station_id = '1234'`. But we would be very sad if we had to do this for 99 other stations. \n",
    "\n",
    "Instead of knowing the exact station number, we can use regex to pull out only the numeric characters `0-9` from a string. The regular expression `re` library is a python standard library, but just like the `math` library it is not loaded automatically. We need to import it before we can use it:"
   ]
  },
  {
   "cell_type": "code",
   "execution_count": null,
   "metadata": {
    "id": "7JcC8lXN8hWq"
   },
   "outputs": [],
   "source": [
    "import re"
   ]
  },
  {
   "cell_type": "markdown",
   "metadata": {
    "id": "IWYhgvSB8ktB"
   },
   "source": [
    "The function we will use here is called `re.findall()`. The functions takes two arguments. First we need to specify the pattern we want to match, and then we need to specify the string in which we want to search for that pattern:"
   ]
  },
  {
   "cell_type": "code",
   "execution_count": null,
   "metadata": {
    "colab": {
     "base_uri": "https://localhost:8080/"
    },
    "id": "cb2ZyaOW-PAc",
    "outputId": "0b86abc7-f66b-4f39-9376-7131d5984d4b"
   },
   "outputs": [],
   "source": [
    "station_id = re.findall('\\d+', long_fname)\n",
    "print(station_id)"
   ]
  },
  {
   "cell_type": "markdown",
   "metadata": {
    "id": "1f-50OrWAYUF"
   },
   "source": [
    "Let's dissect this strange-looking string that is the first argument in the function above:\n",
    "* `\\d` is a special regex chatacter that matches a digit `0-9`\n",
    "* `+` is called a **greedy** operator. When looking for pattern matches, it will find the first matching character (in this case a digit) and include all subsequent characters until it hits a non-matching character (in this case the underscore charactrer after the four digits in the station ID).\n",
    "* Also note that we enclosed the regular expression inside quotes - it is a string, after all.\n",
    "\n"
   ]
  },
  {
   "cell_type": "markdown",
   "metadata": {
    "id": "av5ifVEUiJ0k"
   },
   "source": [
    "Note that as the name implies, the `re.findall` function will return all instances of a matching pattern in the string in a list. In our example above, the function returned a list with one element. If there are no matching sequences in the string, `re.findall` will return an empty list:"
   ]
  },
  {
   "cell_type": "code",
   "execution_count": null,
   "metadata": {
    "colab": {
     "base_uri": "https://localhost:8080/"
    },
    "id": "xfxtAiRdi491",
    "outputId": "d1905033-4fad-45a7-a46c-4a92c5353c9c"
   },
   "outputs": [],
   "source": [
    "test = re.findall('\\d{5}', long_fname)\n",
    "print(test)\n",
    "print(type(test))"
   ]
  },
  {
   "cell_type": "markdown",
   "metadata": {
    "id": "qlHvDnt5bnjr"
   },
   "source": [
    "In this example, `\\d` still specifies a digit, while `{5}` tells the function to search for exactly 5 digits in a row. Since there are no sequences of 5 digits in `long_fname` we get an empty list."
   ]
  },
  {
   "cell_type": "markdown",
   "metadata": {
    "id": "ctmcI1Cqi4ZM"
   },
   "source": [
    "### Some helpful tables\n",
    "\n",
    "Here is a table summarizing some commonly used patterns in regular expressions (for a more extensive list visit [regex101.com](http://www.regex101.com)):\n",
    "\n",
    "Token        | Description \n",
    "-------------|-------------\n",
    "`'[abc]'`      | A single character of `a`, `b`, or `c` \n",
    "`'[^abc]'`     | A single character except `a`, `b`, or `c` \n",
    "`'[a-zA-Z]'`   | A single character in the range `a-z` or `'A-Z'` \n",
    "`'.'`          | Any single character\n",
    "`'\\s'`         | Any whitespace character (space, tab, etc.)\n",
    "`'\\S'`         | Any non-whitespace character\n",
    "`'\\d'`         | Any digit\n",
    "`'\\D'`         | Any non-digit\n",
    "`'\\w'`         | Any word character (inc. underscore) - same as `'[a-zA-Z0-9_]'`\n",
    "`'\\W'`         | Any non-word character\n",
    "`'\\S'`         | Any non-whitespace character\n",
    "\n",
    "\n",
    "Count and positional tokens:\n",
    "\n",
    "Token        | Description \n",
    "-------------|-------------\n",
    "`a?`         | Zero or one of `a`\n",
    "`a*`         | Zero or more of `a`\n",
    "`a+`         | One or more of `a`\n",
    "`a{3}`       | Exactly 3 of `a`\n",
    "`a{3,}`      | 3 or more of `a`\n",
    "`a{3,6}`     | Between 3 and 6 of `a`\n",
    "`^`          | The start of a line\n",
    "`$`          | The end of a line\n",
    "\n",
    "\n",
    "\n",
    "You'll notice above that some characters like `\\`, `.`, and `^` provide special instructions to the `re.findall` function. If you want to search a string for those characters specifically, you need to insert a backslash before those characters. This is called **escaping** the character. For example, if you wanted to search a string for the backslash character you would need to pass `'\\\\'` in the pattern argument.\n",
    "\n",
    "Let's take a look at a few examples:"
   ]
  },
  {
   "cell_type": "code",
   "execution_count": null,
   "metadata": {
    "colab": {
     "base_uri": "https://localhost:8080/"
    },
    "id": "iiPCgbxpB7Zt",
    "outputId": "f7a38b4a-8913-4a7a-cfd1-46f100a9c8c7"
   },
   "outputs": [],
   "source": [
    "string = 'The Mississippi River datafile is in /data/rivers/station123456_data.csv'\n",
    "\n",
    "# A '/' followed by 4 characters\n",
    "test1 = re.findall('/\\w{4}', string)\n",
    "print(test1)\n",
    "\n",
    "# Any capital letter and the character immediately following it\n",
    "test2 = re.findall('[A-Z].', string)\n",
    "print(test2)\n",
    "\n",
    "# All sequences of 1 or 2 consecutive digits\n",
    "test3 = re.findall('\\d{1,2}', string)\n",
    "print(test3)\n",
    "\n",
    "# The word 'data' with any preceding or following punctuation\n",
    "# Note that \\W does not pick up an underscore\n",
    "test4 = re.findall('\\W?data\\W?', string)\n",
    "print(test4)"
   ]
  },
  {
   "cell_type": "markdown",
   "metadata": {
    "id": "OEiuBe7OzPxY"
   },
   "source": [
    "### Exercise 3\n",
    "\n",
    "Complete the code block below by using regular expressions and the `re.findall` function."
   ]
  },
  {
   "cell_type": "code",
   "execution_count": null,
   "metadata": {
    "colab": {
     "base_uri": "https://localhost:8080/"
    },
    "id": "M2VtZ7YszsdH",
    "outputId": "85efcadd-5551-485c-8df7-38e56bb83891"
   },
   "outputs": [],
   "source": [
    "string = 'Today in Math Class we learned that 0.9999... = 1.'\n",
    "\n",
    "# Task 1: Find all sequences of characters following a space.\n",
    "\n",
    "\n",
    "# Task 2: Find all sequences of more than one non-word characters.\n",
    "\n",
    "\n",
    "# Task 3: Find all English words (i.e. all sequences of letters only)\n",
    "\n",
    "\n",
    "# Task 4: Find all capitalized English words.\n",
    "\n",
    "\n",
    "# Task 5: Find all sequences of any character followed by a period.\n"
   ]
  },
  {
   "cell_type": "markdown",
   "metadata": {
    "id": "QojX0BHeBtoe"
   },
   "source": [
    "## Functions\n",
    "\n",
    "So far we have seen several examples of built-in functions that come with python: `type()`, `print()`, `math.sqrt()`, and `re.findall()`. Some functions take one or more **arguments** - these are the variables inside the paremtheses after the function name. For example, the `re.findall` takes two arguments: 1) the regex pattern to match and 2) the string in which to search for the pattern.\n",
    "\n",
    "We can also write our own functions. Let's break down a simple example:"
   ]
  },
  {
   "cell_type": "code",
   "execution_count": null,
   "metadata": {
    "id": "WT0yfPyd8_Fu"
   },
   "outputs": [],
   "source": [
    "def doubler(x):\n",
    "    \"\"\"\n",
    "    This function doubles any number.\n",
    "\n",
    "    Arguments\n",
    "    =========\n",
    "    x: The number to double\n",
    "\n",
    "    Returns: int or float (same type as x)\n",
    "    \"\"\"\n",
    "    \n",
    "    return 2*x\n",
    "\n"
   ]
  },
  {
   "cell_type": "markdown",
   "metadata": {
    "id": "XNZNmK1z-Lnk"
   },
   "source": [
    "Some important components of this function:\n",
    "* `def` - this is the necessary syntax to inform the python interpreter that you are defining a function.\n",
    "* `doubler(x):` - the name of the function, the arguments that the function will accept, and a colon. \n",
    "    * Naming functions is like naming any other variable - keep it descriptive but concise. The same rules apply (e.g. can include digits but cannot start with them).\n",
    "    * Separate multiple arguments with a comma followed by a space.\n",
    "    * The colon after the closed parenthesis should be the last character before starting the next line.\n",
    "\n",
    "* Everything after the first line is indented one level. Indentation levels indicate to the interpreter that particular lines of code are separated into logical blocks. All code that is part of the function **must** be indented. We will take a closer look at indentation levels in the next section. The convention in python is to use four spaces for each indentation level.\n",
    "\n",
    "* A docstring in triple double-quotes at the beginning of the function. Admittedly, this one is probably overkill but serves as a demonstration. This docstring has a brief description of the purpose of the function, the arguments, and what we should expect the function to return.\n",
    "\n",
    "* `return`: For functions that return something, this will be the last line of the function. Note that a function does not have to return anything.\n",
    "\n",
    "Let's test it out:"
   ]
  },
  {
   "cell_type": "code",
   "execution_count": null,
   "metadata": {
    "colab": {
     "base_uri": "https://localhost:8080/"
    },
    "id": "cTayi_3V-K9a",
    "outputId": "5911a0eb-9826-45f6-8f86-b11bc05e2b93"
   },
   "outputs": [],
   "source": [
    "test1 = doubler(5)\n",
    "test2 = doubler(-1.1)\n",
    "test3 = doubler('hello')\n",
    "\n",
    "print(test1)\n",
    "print(test2)\n",
    "print(test3)"
   ]
  },
  {
   "cell_type": "markdown",
   "metadata": {
    "id": "NPzqnOJ2CHv0"
   },
   "source": [
    "Not bad - the first two examples do what we expected. However, the docstring specifies that the function doubles any number. If we want to be strict about that aspect of the function, we need to find some way to prevent it from 'doubling' strings. This will hopefully help us avoid logical errors down the road. We will explore some possibilities to address this in the next section."
   ]
  },
  {
   "cell_type": "markdown",
   "metadata": {
    "id": "K4DNW1PwDHw_"
   },
   "source": [
    "### Exercise 4\n",
    "\n",
    "Create a code block and write a function that takes two numbers and divides the first number by the second number. Include a docstring. Test your function a few times with different"
   ]
  },
  {
   "cell_type": "markdown",
   "metadata": {
    "id": "9d5Pu_lbBXj0"
   },
   "source": [
    "## Boolean logic and conditional statements\n",
    "\n",
    "Conditional statements in python provide a way to perform certain actions if a condition is met. Python uses the boolean `True` and `False` variables for the truth values of conditional statements. Essentially, this allows us to define some condition and then execute some code only if that condition is met. Before we get into conditional statements we need to take a look at **comparative** and **logical** operators."
   ]
  },
  {
   "cell_type": "markdown",
   "metadata": {
    "id": "iUftS3j-JzAH"
   },
   "source": [
    "### Comparative operators"
   ]
  },
  {
   "cell_type": "code",
   "execution_count": null,
   "metadata": {
    "colab": {
     "base_uri": "https://localhost:8080/"
    },
    "id": "KfzddFhOFYMT",
    "outputId": "88e45729-a36d-4a7d-c1f8-16374705bf98"
   },
   "outputs": [],
   "source": [
    "10 > 1"
   ]
  },
  {
   "cell_type": "code",
   "execution_count": null,
   "metadata": {
    "colab": {
     "base_uri": "https://localhost:8080/"
    },
    "id": "vRXHnU4TFbpb",
    "outputId": "e26a942c-5775-421d-c8a5-da6409ac2347"
   },
   "outputs": [],
   "source": [
    "10 < 1"
   ]
  },
  {
   "cell_type": "markdown",
   "metadata": {
    "id": "t50RHpf8FlFl"
   },
   "source": [
    "Hopefully these are intuitive. With the `>` and `<` operators, python compares the two values on either side of the operator and returns a value of either `True` or `False`. We can use `>=` and `<=` to similar effect.\n",
    "\n"
   ]
  },
  {
   "cell_type": "code",
   "execution_count": null,
   "metadata": {
    "colab": {
     "base_uri": "https://localhost:8080/"
    },
    "id": "gJZa5MuWG0Xo",
    "outputId": "8794ace5-9759-4267-e270-1844d730b02c"
   },
   "outputs": [],
   "source": [
    "print(5 > 5)\n",
    "print(5 >= 5)"
   ]
  },
  {
   "cell_type": "markdown",
   "metadata": {
    "id": "9Ae4YCcLG0xD"
   },
   "source": [
    "We can use the `==` (equal) and `!=` (not equal) operators to check if two values are equal or not equal. **Note that `==` is different from `=` that we have been using this whole time for variable assignment!**"
   ]
  },
  {
   "cell_type": "code",
   "execution_count": null,
   "metadata": {
    "colab": {
     "base_uri": "https://localhost:8080/"
    },
    "id": "G3_Ds_9IFgkJ",
    "outputId": "5de6912c-2e93-4e2a-b832-5adbeb0ddd3d"
   },
   "outputs": [],
   "source": [
    "x = 1 + 1\n",
    "x == 2"
   ]
  },
  {
   "cell_type": "code",
   "execution_count": null,
   "metadata": {
    "colab": {
     "base_uri": "https://localhost:8080/"
    },
    "id": "Pa_3MmyKGVHy",
    "outputId": "2f0822c7-7e35-49b5-af66-48ab40f0d626"
   },
   "outputs": [],
   "source": [
    "x = 4\n",
    "y = 5\n",
    "x != y"
   ]
  },
  {
   "cell_type": "markdown",
   "metadata": {
    "id": "IDoCOXHd7cc-"
   },
   "source": [
    "### Logical operators\n",
    "\n",
    "We can combine two comparative operators with the logical operators `and`, `or`, and `not`. The `and` operator will return `True` if both comparisons are true."
   ]
  },
  {
   "cell_type": "code",
   "execution_count": null,
   "metadata": {
    "colab": {
     "base_uri": "https://localhost:8080/"
    },
    "id": "1KDhA1XIIJUN",
    "outputId": "6aa73610-5161-4d00-f523-fdaa3f6624f8"
   },
   "outputs": [],
   "source": [
    "print(3 > 2 and 10 > 9)\n",
    "print(3 > 2 and 10 < 9)\n",
    "print(3 < 2 and 10 > 9)\n",
    "print(3 < 2 and 10 < 9)"
   ]
  },
  {
   "cell_type": "markdown",
   "metadata": {
    "id": "46z0C2UHI9mF"
   },
   "source": [
    "The `or` operator will return `True` if at least one comparison is true."
   ]
  },
  {
   "cell_type": "code",
   "execution_count": null,
   "metadata": {
    "colab": {
     "base_uri": "https://localhost:8080/"
    },
    "id": "Hw5aFF4xIqB3",
    "outputId": "f4ff2c96-0fb3-4e88-f88c-f870fd66ae69"
   },
   "outputs": [],
   "source": [
    "print(3 > 2 or 10 > 9)\n",
    "print(3 > 2 or 10 < 9)\n",
    "print(3 < 2 or 10 > 9)\n",
    "print(3 < 2 or 10 < 9)"
   ]
  },
  {
   "cell_type": "markdown",
   "metadata": {
    "id": "boJppme4JPyM"
   },
   "source": [
    "The `not` operator will reverse the result, i.e. returns `True` if the comparison would normally return `False`."
   ]
  },
  {
   "cell_type": "code",
   "execution_count": null,
   "metadata": {
    "colab": {
     "base_uri": "https://localhost:8080/"
    },
    "id": "k1bnIve6JauR",
    "outputId": "a4813824-4299-4b8f-84c9-36bf6c32bd41"
   },
   "outputs": [],
   "source": [
    "print(not(3 > 100))\n",
    "print(not(3 > 2 and 10 < 9))\n",
    "print(not(3 > 2 or 10 < 9))"
   ]
  },
  {
   "cell_type": "markdown",
   "metadata": {
    "id": "JV_EYpA0J5cj"
   },
   "source": [
    "### Conditional statements\n",
    "\n",
    "Now that we know about comparative and logical operators, we can use them as part of conditional statements. Here is an example to get us started:"
   ]
  },
  {
   "cell_type": "code",
   "execution_count": null,
   "metadata": {
    "colab": {
     "base_uri": "https://localhost:8080/"
    },
    "id": "GsgbYRMHmHGt",
    "outputId": "aa0ed796-6850-4cd5-d17f-c41a55bcbbb8"
   },
   "outputs": [],
   "source": [
    "x = 50\n",
    "\n",
    "# Conditional statement (evaluates to True or False)\n",
    "if x > 100: \n",
    "    # Run this code if True\n",
    "    print('x is pretty big!')\n",
    "else:\n",
    "    # Run this code if False\n",
    "    print('x is not so big...')\n"
   ]
  },
  {
   "cell_type": "markdown",
   "metadata": {
    "id": "EGFvIyF6lv-X"
   },
   "source": [
    "Let's dissect the example, which is sometimes called an if/else statement:\n",
    "* We start with the word `if`. This might be the most commonly used conditional statement in python. \n",
    "* Immediately after `if` we have some sort of comparative or logical statement that can be evaluated to either `True` or `False`. This statement ends with a colon.\n",
    "* The line after the colon is indented 4 spaces. This is code that will run only if the statement evaluates to `True`. We can add more lines of code in this section as long as they are also indented the same 4 spaces.\n",
    "* Next we have the word `else` followed by a colon, and some more indented code underneath. This allows  us to specify code to run if the logical statement evaluates to `False`. Note that it is not necessary to have an `else` component with every `if` statement."
   ]
  },
  {
   "cell_type": "markdown",
   "metadata": {
    "id": "ayDLBvbC9emL"
   },
   "source": [
    "We can chain multiple if/else statements together using the `elif` keyword:"
   ]
  },
  {
   "cell_type": "code",
   "execution_count": null,
   "metadata": {
    "colab": {
     "base_uri": "https://localhost:8080/"
    },
    "id": "yogoxsOO9eDF",
    "outputId": "34d21415-ee82-434e-e838-f634e0ff50df"
   },
   "outputs": [],
   "source": [
    "x = 5\n",
    "\n",
    "# Conditional statement (evaluates to True or False)\n",
    "if x > 100: \n",
    "    # Run this code only if first statement is True.\n",
    "    print('x is pretty big!')\n",
    "# If first condition is false, move on to test this statement.\n",
    "elif x > 10 and x <= 100:\n",
    "    # Run this code only if second statement is True.\n",
    "    print('x is not so big...')\n",
    "else:\n",
    "    # Run this code if both conditions are False.\n",
    "    print('x is tiny!')"
   ]
  },
  {
   "cell_type": "markdown",
   "metadata": {
    "id": "Mu8hyyEY9-cD"
   },
   "source": [
    "Let's expand our example by adding some additional logic levels:"
   ]
  },
  {
   "cell_type": "code",
   "execution_count": null,
   "metadata": {
    "colab": {
     "base_uri": "https://localhost:8080/"
    },
    "id": "a6MhCk85osxK",
    "outputId": "17adc1cd-d4af-4233-efa2-1630e2dc009b"
   },
   "outputs": [],
   "source": [
    "x = '50'\n",
    "\n",
    "# First conditional statement\n",
    "if type(x) == int or type(x) == float:\n",
    "    # This code will only run if first condition is True\n",
    "    # Second conditional statement\n",
    "    if x > 100: \n",
    "        # Run this code if True\n",
    "        print('x is pretty big!')\n",
    "    else:\n",
    "        # Run this code if False\n",
    "        print('x is not so big...')\n",
    "else:\n",
    "    # Run this code if first condition is False\n",
    "    print('x is not a number!')"
   ]
  },
  {
   "cell_type": "markdown",
   "metadata": {
    "id": "sVFWGmRIpYCO"
   },
   "source": [
    "Different levels of indentation are also helpful to draw our eyes to the logical structure of the code. We can take this another step further by wrapping our code inside a function (thereby adding another indentation level):"
   ]
  },
  {
   "cell_type": "code",
   "execution_count": null,
   "metadata": {
    "id": "2D1n6lWmpoHq"
   },
   "outputs": [],
   "source": [
    "def is_big_number(x):\n",
    "    \"\"\"\n",
    "    A function that tests whether x is a number, \n",
    "    and if so, whether it is a big number.\n",
    "\n",
    "    Arguments\n",
    "    =========\n",
    "    - x: variable to test\n",
    "\n",
    "    Returns: none\n",
    "    \"\"\"\n",
    "    # First conditional statement\n",
    "    if type(x) == int or type(x) == float:\n",
    "        # This code will only run if first condition is True\n",
    "        # Second conditional statement\n",
    "        if x > 100: \n",
    "            # Run this code if True\n",
    "            print(x, 'is pretty big!')\n",
    "        else:\n",
    "            # Run this code if False\n",
    "            print(x, 'is not so big...')\n",
    "    else:\n",
    "        # Run this code if first condition is False\n",
    "        print('That\\'s not a number!')"
   ]
  },
  {
   "cell_type": "markdown",
   "metadata": {
    "id": "G21rOAKDpxBC"
   },
   "source": [
    "Remember that running this cell only defines our function and saves it into memory. In order to use it we need to call it and pass various arguments:"
   ]
  },
  {
   "cell_type": "code",
   "execution_count": null,
   "metadata": {
    "colab": {
     "base_uri": "https://localhost:8080/"
    },
    "id": "F43wEQyHqRTl",
    "outputId": "0d889665-76ce-48f8-bcea-7d3dabab962e"
   },
   "outputs": [],
   "source": [
    "is_big_number(50)\n",
    "is_big_number(500.1)\n",
    "is_big_number('50')\n"
   ]
  },
  {
   "cell_type": "markdown",
   "metadata": {
    "id": "hIjHLMrVqxt1"
   },
   "source": [
    "Let's return to our `doubler` function from earlier, which had some unwanted behavior when we passed in a string instead of a numeric variable. We can use conditional statements to try to catch logical errors:"
   ]
  },
  {
   "cell_type": "code",
   "execution_count": null,
   "metadata": {
    "colab": {
     "base_uri": "https://localhost:8080/"
    },
    "id": "K41uE46MrHvY",
    "outputId": "5c46dddd-3bf6-40d9-cca4-01622e7373c2"
   },
   "outputs": [],
   "source": [
    "def doubler(x):\n",
    "    \"\"\"\n",
    "    This function doubles any number.\n",
    "\n",
    "    Arguments\n",
    "    =========\n",
    "    x: The number to double\n",
    "\n",
    "    Returns: int or float (same type as x)\n",
    "    \"\"\"\n",
    "    # Check for numeric type\n",
    "    if not(type(x) == int or type(x) == float):\n",
    "        print('Please pass a number to the doubler!')\n",
    "    else: # If numeric\n",
    "        return 2*x\n",
    "\n",
    "\n",
    "var1 = doubler(9)\n",
    "var2 = doubler('9')\n",
    "print(var1)\n",
    "print(var2)"
   ]
  },
  {
   "cell_type": "markdown",
   "metadata": {
    "id": "2sk1K29sr8xR"
   },
   "source": [
    "Note that we were successful in not doubling a string variable, but the variable `var2` was still initialized into memory and currently holds the value `None`. This may or may not be the behavior we want, depending on the situation. We will revisit this concept in a future lab."
   ]
  },
  {
   "cell_type": "markdown",
   "metadata": {
    "id": "7sehrCV2s5T0"
   },
   "source": [
    "### Exercise 5\n",
    "\n",
    "Revisit your division function from Exercise 5. Use conditional statements to make sure both arguments have numeric types before performing the division (otherwise print out an appropriate message). Also check to make sure you don't try to divide by 0. Test your function a few times with different values, including non-numbers and 0."
   ]
  },
  {
   "cell_type": "markdown",
   "metadata": {
    "id": "vUod7ccVBdw-"
   },
   "source": [
    "## Loops and list comprehension\n",
    "\n",
    "We've already seen that lists can hold any number of elements. Sometimes we want to apply some function to every element of a list. We can do this using loops. Python has two types of loops: `for` loops and `while` loops."
   ]
  },
  {
   "cell_type": "markdown",
   "metadata": {
    "id": "hk74K-wN3o2s"
   },
   "source": [
    "### For loops\n",
    "\n",
    "For loops are a fairly common way to programatically access every element of a list in order. Let's take a look at some examples, starting fairly basic and gradually adding more of the concepts we have learned above."
   ]
  },
  {
   "cell_type": "code",
   "execution_count": null,
   "metadata": {
    "colab": {
     "base_uri": "https://localhost:8080/"
    },
    "id": "3QSLBovs4aL1",
    "outputId": "635c6de1-b229-4c09-a1d0-084f811b2f2d"
   },
   "outputs": [],
   "source": [
    "for i in range(10):\n",
    "    print(i)"
   ]
  },
  {
   "cell_type": "markdown",
   "metadata": {
    "id": "Z7RGax5Q4iFc"
   },
   "source": [
    "Let's dissect this example:\n",
    "* The first line consists of the `for` keyword, a variable called `i`, the word `in`, and a new function called `range()`.\n",
    "    * `for` is necessary to indicate a loop to the compiler\n",
    "    * The variable following `for` can have any name. `i` is often used as a placeholder variable. Feel free to use a different name that is more descriptive if the situation calls for it.\n",
    "    * `in` always separates the variable and some sort of enumerable variable. For now, we will stick to the `range` function and predefined lists.\n",
    "        * The syntax for `range()` is `range(start, stop, step)`. This function produces numbers starting at `start` moving up to **but not including** `stop`. If only a single number is given, the range will be from 0 to that number, incrementing by 1. If two numbers are provided, the range will be between those two numbers still with a step size of 1.\n",
    "\n",
    "The first line ends with a colon and the next line is indented 4 spaces. This should look familiar by now.\n",
    "\n",
    "Here is another example using a list and some more descriptive variables:"
   ]
  },
  {
   "cell_type": "code",
   "execution_count": null,
   "metadata": {
    "id": "GAVJR1tp5zSL"
   },
   "outputs": [],
   "source": [
    "farm = ['cow', 'pig', 'llama', 'horse', 'chicken']\n",
    "for animal in farm:\n",
    "    print(animal)"
   ]
  },
  {
   "cell_type": "markdown",
   "metadata": {
    "id": "Ev8UxOIm8OMe"
   },
   "source": [
    "We are not limited to just printing numbers. We can apply functions we have already created:"
   ]
  },
  {
   "cell_type": "code",
   "execution_count": null,
   "metadata": {
    "id": "lJsXTuJj8N3U"
   },
   "outputs": [],
   "source": [
    "for i in range(40, 150, 50):\n",
    "    is_big_number(i)"
   ]
  },
  {
   "cell_type": "markdown",
   "metadata": {
    "id": "bWCBlmy68i96"
   },
   "source": [
    "It is also very common to combine loops with conditional statements. Can you follow the logic with the modulo operator to see what's going on here? (See the Mathematical Operations section for a modulo refresher.)"
   ]
  },
  {
   "cell_type": "code",
   "execution_count": null,
   "metadata": {
    "id": "xQt2KJKN8sW1"
   },
   "outputs": [],
   "source": [
    "for i in range(10):\n",
    "    if i == 0:\n",
    "        print(i, 'is neither even nor odd.')\n",
    "    elif not i%2:\n",
    "        print(i, 'is even.')\n",
    "    else:\n",
    "        print(i, 'is odd.')"
   ]
  },
  {
   "cell_type": "markdown",
   "metadata": {
    "id": "C6HkUntr6JdV"
   },
   "source": [
    "What about functions other than just printing? It is easy to imagine a situation where we have lists containing data (numbers) that we want to manipulate in some way. How would we double every number in a list? Where do we store the new doubled numbers?"
   ]
  },
  {
   "cell_type": "code",
   "execution_count": null,
   "metadata": {
    "id": "AwsBf_5r7Jpz"
   },
   "outputs": [],
   "source": [
    "data = [1, 2, 3, 5, 7, 10, 20]\n",
    "print(data*2) # Not what we want! \n",
    "\n",
    "for i in data:\n",
    "    print(i*2) # Right idea, but we need to store, not print\n",
    "\n",
    "new_data = [] # Create an empty list\n",
    "for i in data:\n",
    "    new_data.append(i*2)\n",
    "\n",
    "#After the for loop, print out new_data\n",
    "print(new_data)\n"
   ]
  },
  {
   "cell_type": "markdown",
   "metadata": {
    "id": "hD4Ruisy7JTg"
   },
   "source": [
    "### List comprehension\n",
    "\n",
    "Above, we created an empty list and filled in the values one at a time using the `append` string method. This works, but is not very efficent. Python provides a tool called **list comprehension** as a more efficient route to apply a function to every element of a list:"
   ]
  },
  {
   "cell_type": "code",
   "execution_count": null,
   "metadata": {
    "id": "3FHeabSIBrpl"
   },
   "outputs": [],
   "source": [
    "data = [1, 2, 3, 5, 7, 10, 20]\n",
    "doubled_data = [i*2 for i in data]\n",
    "print(doubled_data)"
   ]
  },
  {
   "cell_type": "markdown",
   "metadata": {
    "id": "o9OivrlbCAqc"
   },
   "source": [
    "List comprehension is like a more compact version of a `for` loop. Take a look at the syntax:\n",
    "* Start with a open square bracket as the list constructor.\n",
    "* The first thing after the bracket is the expression or function we want to apply to each element (in this case multiplying each element by 2).\n",
    "    * In a `for` loop, this would be the indented second line after the colon on the first line.\n",
    "* After our expression, we add what is essentially the first line of a `for` loop, without the colon.\n",
    "* Don't forget the closing square bracket to complete the list."
   ]
  },
  {
   "cell_type": "markdown",
   "metadata": {
    "id": "PP5SuoyODLIq"
   },
   "source": [
    "List comprehension can handle more complex functions:"
   ]
  },
  {
   "cell_type": "code",
   "execution_count": null,
   "metadata": {
    "id": "Wu5Oboh_DYSC"
   },
   "outputs": [],
   "source": [
    "def my_func(x):\n",
    "    if type(x) == str:\n",
    "        return re.findall('\\D+', x)[0]\n",
    "    elif x > 0:\n",
    "        return round(math.sqrt(math.exp(3**-x)), 4)\n",
    "    else:\n",
    "        return round(math.sqrt(-math.sin(x*math.pi/16)), 4)\n",
    "\n",
    "data = [-3, -2, -1, 1, 5, 10, 'abc123', 'xyz456']\n",
    "result = [my_func(x) for x in data]\n",
    "print(result)"
   ]
  },
  {
   "cell_type": "markdown",
   "metadata": {
    "id": "KkNDqMBuE9Gd"
   },
   "source": [
    "### Exercise 6\n",
    "\n",
    "Part 1: In the code block below, use `re.findall` and regular expressions inside list comprehension to only the station numbers from the list of filenames. Note that the station numbers are not uniform in the number of digits they contain. Make sure you get a list of strings, not a list of lists of strings."
   ]
  },
  {
   "cell_type": "code",
   "execution_count": null,
   "metadata": {
    "colab": {
     "base_uri": "https://localhost:8080/"
    },
    "id": "KVbNbmRKFPF9",
    "outputId": "094378a5-f344-4337-db26-58c98e13f070"
   },
   "outputs": [],
   "source": [
    "filenames = ['path/to/files/station1234.csv',\n",
    "             'path/to/files/station5033.csv',\n",
    "             'path/to/files/station11710.csv',\n",
    "             'path/to/files/station8406098.csv',\n",
    "             'path/to/files/station496.csv'\n",
    "             ]\n",
    "\n"
   ]
  },
  {
   "cell_type": "markdown",
   "metadata": {
    "id": "rn1sjhH6FSu3"
   },
   "source": [
    "Part 2: Write some code that does the following:\n",
    "* If a number is divisible by 3, print the number and the  word 'Fizz' \n",
    "* If a number is divisible by 5, print the number and the  word 'Buzz'\n",
    "* If a number is divisible by both 3 and 5, print the number and the word 'FizzBuzz'.\n",
    "\n",
    "Apply your code to the numbers from 1 to 100, counting by 2.\n"
   ]
  },
  {
   "cell_type": "markdown",
   "metadata": {
    "id": "Aq0plufn9ndT"
   },
   "source": [
    "<a name=\"helpful_cell\"></a>\n",
    "## Where to go for help\n",
    "\n",
    "If you are having trouble and getting errors when you try to compile your code, it is highly likely that someone else has already encountered your same issue. It's important to know that even professional software developers do not know every detail of every function they use off the top of their heads. Often at the end of a coding session you will end up with dozens of tabs in your internet browser as a result of trying to fix errors.\n",
    "\n",
    "Here are some reputable places to look for help. Check these before you ask your instructor for help, because these websites are the first places your instructor will visit when trying to solve the problem.\n",
    "\n",
    "* When using Google, it usually helps to begin your search with 'python'. \n",
    "    * If you are getting a specific error message, include that too, e.g. 'python TypeError'.\n",
    "    * You can also use more general search terms like 'python import package'\n",
    "\n",
    "* Often the first Google results are from a website called Stack Exchange. This is a public Q&A site that usually provides good advice.\n",
    "\n",
    "* You can always check the official python [documentation](https://docs.python.org/3/) and [style guide](https://www.python.org/dev/peps/pep-0008/).\n",
    "\n",
    "* You may also start to notice a few learning/tutorial websites popping up in your Google searches. [W3 Schools](https://www.w3schools.com/python/) is generally a good one, and [Programiz](https://www.programiz.com/python-programming) may be useful if you prefer video clips as part of the explanation.\n",
    "\n",
    "* [regex101](http://www.regex101.com) for help/practice with regular expressions."
   ]
  }
 ],
 "metadata": {
  "colab": {
   "provenance": [],
   "toc_visible": true
  },
  "kernelspec": {
   "display_name": "Python 3 (ipykernel)",
   "language": "python",
   "name": "python3"
  },
  "language_info": {
   "codemirror_mode": {
    "name": "ipython",
    "version": 3
   },
   "file_extension": ".py",
   "mimetype": "text/x-python",
   "name": "python",
   "nbconvert_exporter": "python",
   "pygments_lexer": "ipython3",
   "version": "3.10.9"
  },
  "toc-autonumbering": false,
  "toc-showcode": false,
  "toc-showmarkdowntxt": false
 },
 "nbformat": 4,
 "nbformat_minor": 4
}
