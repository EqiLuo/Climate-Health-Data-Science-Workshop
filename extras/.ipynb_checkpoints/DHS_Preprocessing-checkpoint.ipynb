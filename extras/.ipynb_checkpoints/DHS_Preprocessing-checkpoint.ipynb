{
 "cells": [
  {
   "cell_type": "code",
   "execution_count": null,
   "id": "d51410e6-e716-4a8e-8d91-831bf547b32d",
   "metadata": {},
   "outputs": [],
   "source": [
    "import pandas as pd\n",
    "import numpy as np"
   ]
  },
  {
   "cell_type": "code",
   "execution_count": null,
   "id": "c61fa7ba-b10d-402b-96fd-0a46fc5e7af5",
   "metadata": {},
   "outputs": [],
   "source": [
    "df = pd.read_csv('./data/Ghana-2014-DHS-Household-Filtered.csv')\n",
    "\n",
    "df"
   ]
  },
  {
   "cell_type": "code",
   "execution_count": null,
   "id": "4be9b3fe-d78c-4056-bc86-0788551976c4",
   "metadata": {},
   "outputs": [],
   "source": [
    "# Create a unique identifier based on the combination of 'lat' and 'long'\n",
    "df['lat_long'] = df['lat'].astype(str) + '_' + df['long'].astype(str)\n",
    "\n",
    "df"
   ]
  },
  {
   "cell_type": "code",
   "execution_count": null,
   "id": "c43b7803-a3e3-4cbc-bf61-5194c1537e98",
   "metadata": {},
   "outputs": [],
   "source": [
    "# Map each unique 'lat_long' to a unique integer\n",
    "cluster_id_mapping = {id: idx +1 for idx, id in enumerate(df['lat_long'].unique())}\n",
    "df['cluster_id'] = df['lat_long'].map(cluster_id_mapping)\n",
    "df"
   ]
  },
  {
   "cell_type": "code",
   "execution_count": null,
   "id": "edc512bf-92d7-4291-bdd2-64d21a343d56",
   "metadata": {},
   "outputs": [],
   "source": [
    "# Create a combined key of cluster ID and original household ID\n",
    "df['cluster_household_key'] = df['cluster_id'].astype(str) + '-' + df['household_id'].astype(str)\n",
    "\n",
    "# Map each unique 'cluster_household_key' to a new household ID starting from 1 within each cluster\n",
    "household_mapping = {key: idx + 1 for idx, key in enumerate(df['cluster_household_key'].unique())}\n",
    "df['new_household_id'] = df['cluster_household_key'].map(household_mapping)\n",
    "df['new_household_id'] = df['cluster_id'].astype(str) + '-' + df['new_household_id'].astype(str)\n",
    "\n",
    "# Display the dataframe to verify the new 'new_household_id' values\n",
    "df.head(30)"
   ]
  },
  {
   "cell_type": "code",
   "execution_count": null,
   "id": "347f90de-b9d8-4383-b2b7-868a3920a517",
   "metadata": {},
   "outputs": [],
   "source": [
    "# Create a combined key of new household ID and original mother ID\n",
    "df['household_mother_key'] = df['new_household_id'].astype(str) + '-' + df['mother_id'].astype(str)\n",
    "\n",
    "# Map each unique 'household_mother_key' to a new mother ID starting from 1 within each new household\n",
    "mother_mapping = {key: idx + 1 for idx, key in enumerate(df['household_mother_key'].unique())}\n",
    "df['new_mother_id'] = df['household_mother_key'].map(mother_mapping)\n",
    "df['new_mother_id'] = df['new_household_id'].astype(str) + '-' + df['new_mother_id'].astype(str)\n",
    "\n",
    "df.head(30)"
   ]
  },
  {
   "cell_type": "code",
   "execution_count": null,
   "id": "2ebb5902-ab62-445a-89c7-3ed9f0aecad9",
   "metadata": {},
   "outputs": [],
   "source": [
    "# Remove the 'cluster_household_key','household_mother_key', 'lat_long' columns\n",
    "df.drop(columns=['cluster_household_key', 'household_mother_key', 'lat_long'], inplace=True)"
   ]
  },
  {
   "cell_type": "code",
   "execution_count": null,
   "id": "6275a555-8766-4541-879f-5059992b4456",
   "metadata": {},
   "outputs": [],
   "source": [
    "df"
   ]
  },
  {
   "cell_type": "code",
   "execution_count": null,
   "id": "624e6b4b-c6af-49ab-a2da-0d4fdbe7616d",
   "metadata": {},
   "outputs": [],
   "source": [
    "# Replace the 'mother_id' column with the values from 'new_mother_id'\n",
    "df['mother_id'] = df['new_mother_id']\n",
    "\n",
    "# Replace the 'household_id' column with the values from 'new_household_id'\n",
    "df['household_id'] = df['new_household_id']\n",
    "\n",
    "# remove the 'new_mother_id' and 'new_household_id' columns if they are no longer needed\n",
    "df.drop(columns=['new_mother_id', 'new_household_id'], inplace=True)\n",
    "\n",
    "df"
   ]
  },
  {
   "cell_type": "code",
   "execution_count": null,
   "id": "219863ca-abb1-4043-99aa-e426ca18a9b6",
   "metadata": {},
   "outputs": [],
   "source": [
    "# List of all columns in the DataFrame\n",
    "columns = list(df.columns)\n",
    "\n",
    "# Identify the positions for 'cluster_id', 'household_id', 'mother_id'\n",
    "# We want them to be at index positions 2, 3, and 4 respectively (third, fourth, fifth columns)\n",
    "desired_order = ['cluster_id', 'household_id', 'mother_id']\n",
    "\n",
    "# Remove these columns from their current positions\n",
    "columns = [col for col in columns if col not in desired_order]\n",
    "\n",
    "# Insert them into the desired positions\n",
    "for index, col in enumerate(desired_order, 2):\n",
    "    columns.insert(index, col)\n",
    "\n",
    "# Reorder the DataFrame columns\n",
    "df = df[columns]\n",
    "\n",
    "df"
   ]
  },
  {
   "cell_type": "code",
   "execution_count": null,
   "id": "35bd1d24-1009-4386-965d-cbd884b6760d",
   "metadata": {},
   "outputs": [],
   "source": [
    "\n",
    "# Sort the combined DataFrame by 'cluster_id', 'household_id', 'mother_id'\n",
    "df.sort_values(by=['cluster_id', 'household_id', 'mother_id'], inplace=True)\n",
    "\n",
    "# Reset the index after sorting\n",
    "df.reset_index(drop=True, inplace=True)"
   ]
  },
  {
   "cell_type": "code",
   "execution_count": null,
   "id": "74d52026-8e4e-4f8c-98eb-f15ed56c7f01",
   "metadata": {},
   "outputs": [],
   "source": []
  },
  {
   "cell_type": "code",
   "execution_count": null,
   "id": "28b6ca74-8f83-4225-84c6-69c1db6fc02b",
   "metadata": {},
   "outputs": [],
   "source": [
    "# Sample 500 urban rows\n",
    "urban_sample = df[df['rural_urban'] == 'urban'].sample(n=500, random_state=1)\n",
    "\n",
    "# Sample 500 rural rows\n",
    "rural_sample = df[df['rural_urban'] == 'rural'].sample(n=500, random_state=1)\n",
    "\n",
    "# Concatenate the two samples into a new DataFrame\n",
    "sampled_df = pd.concat([urban_sample, rural_sample])\n",
    "\n",
    "# Shuffle the combined DataFrame to mix rural and urban rows\n",
    "sampled_df = sampled_df.sample(frac=1, random_state=1).reset_index(drop=True)\n",
    "\n",
    "sampled_df"
   ]
  },
  {
   "cell_type": "code",
   "execution_count": null,
   "id": "598557b9-75f0-4515-a219-527b2fd200ef",
   "metadata": {},
   "outputs": [],
   "source": [
    "# Define the distance in degrees for latitude\n",
    "latitude_shift = 2.5 / 111  # approximately 0.0225 degrees\n",
    "\n",
    "# Apply random shift to latitude in the sampled dataset\n",
    "sampled_df['lat'] += np.random.uniform(-latitude_shift, latitude_shift, size=len(sampled_df))\n",
    "\n",
    "# Apply random shift to longitude in the sampled dataset, adjusted by the cosine of the latitude\n",
    "sampled_df['long'] += np.random.uniform(-latitude_shift, latitude_shift, size=len(sampled_df)) / np.cos(np.radians(sampled_df['lat']))\n",
    "\n",
    "# Round the latitude and longitude to 6 decimal places\n",
    "sampled_df['lat'] = sampled_df['lat'].round(6)\n",
    "sampled_df['long'] = sampled_df['long'].round(6)\n",
    "\n",
    "sampled_df"
   ]
  },
  {
   "cell_type": "code",
   "execution_count": null,
   "id": "7d96f1f6-ab75-4c41-9031-c448d2a82001",
   "metadata": {},
   "outputs": [],
   "source": [
    "# Append the sampled and adjusted DataFrame back to the original DataFrame\n",
    "df = pd.concat([df, sampled_df]).reset_index(drop=True)\n",
    "\n",
    "# Sort the combined DataFrame by 'cluster_id', 'household_id', 'mother_id'\n",
    "df.sort_values(by=['cluster_id', 'household_id', 'mother_id'], inplace=True)\n",
    "\n",
    "# Reset the index after sorting\n",
    "df.reset_index(drop=True, inplace=True)"
   ]
  },
  {
   "cell_type": "code",
   "execution_count": null,
   "id": "a89f4335-991b-4ef8-aa20-1e747ff19a7b",
   "metadata": {},
   "outputs": [],
   "source": [
    "df"
   ]
  },
  {
   "cell_type": "code",
   "execution_count": null,
   "id": "35eea8c9-2dcc-48bb-9173-e8b6fd328732",
   "metadata": {},
   "outputs": [],
   "source": [
    "df.to_csv('Ghana-2014-DHS-Household-Filtered.csv', index=False)"
   ]
  },
  {
   "cell_type": "code",
   "execution_count": null,
   "id": "23579574-55a5-4373-85b6-71daf952588d",
   "metadata": {},
   "outputs": [],
   "source": []
  },
  {
   "cell_type": "code",
   "execution_count": null,
   "id": "21c79809-0cba-4b70-8e7c-96ccf429bc8f",
   "metadata": {},
   "outputs": [],
   "source": []
  }
 ],
 "metadata": {
  "kernelspec": {
   "display_name": "eqi-general",
   "language": "python",
   "name": "eqi-general"
  },
  "language_info": {
   "codemirror_mode": {
    "name": "ipython",
    "version": 3
   },
   "file_extension": ".py",
   "mimetype": "text/x-python",
   "name": "python",
   "nbconvert_exporter": "python",
   "pygments_lexer": "ipython3",
   "version": "3.11.7"
  }
 },
 "nbformat": 4,
 "nbformat_minor": 5
}
