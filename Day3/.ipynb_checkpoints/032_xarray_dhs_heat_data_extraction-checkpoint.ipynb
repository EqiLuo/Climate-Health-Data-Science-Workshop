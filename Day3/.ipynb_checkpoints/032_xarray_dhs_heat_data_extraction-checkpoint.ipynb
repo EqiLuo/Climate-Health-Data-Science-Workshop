{
 "cells": [
  {
   "cell_type": "markdown",
   "id": "7a261a1b-299a-4651-a1dd-04f983f1dc73",
   "metadata": {
    "tags": []
   },
   "source": [
    "## Session3-2: Xarray and DHS Heat Data Extraction \n",
    "<hr style=\"border-top: 1px solid gray; margin-top: 24px; margin-bottom: 1px\"></hr>\n",
    "\n",
    "In our previous tutorial, we explored the fundamentals of handling geospatial raster data, focusing on computing zonal statistics for Ghana's administrative regions using `rasterio` and `geopandas`. We looked into how we can extract meaningful statistics from raster data based on various administrative zones. This allowed us to perform targeted analyses on regional and district levels, providing insights into spatial variations in climate-related indices such as heat.\n",
    "\n",
    "While our previous approach was effective for specific tasks, the nature of climate data often requires handling more complex, multidimensional datasets. These datasets typically include variables distributed across different dimensions—*time, latitude, and longitude*—making them ideal candidates for analysis with `Xarray`, a powerful Python library designed specifically for handling such data structures.\n",
    "\n",
    "#### Why Xarry?\n",
    "[**Xarray**](https://docs.xarray.dev/en/stable/user-guide/dask.html) introduces labels in the form of dimensions, coordinates, and attributes on top of raw NumPy-like arrays, which makes data more intuitive to reason about. With Xarray, we can perform more sophisticated analyses that involve:\n",
    "- <ins>Time-series Analysis</ins>: Climate data often comes as time series, with measurements spanning multiple timestamps. Xarray makes it easy to manipulate such data, allowing for temporal querying and resampling operations which are essential for trend analysis and forecasting.\n",
    "- <ins>Multi-dimensional Operations</ins>: Xarray supports broadcasting and vectorized operations on multi-dimensional data, making complex climate modeling and data aggregation straightforward.\n",
    "\n",
    "#### Understanding Xarray's Data Structures\n",
    "\n",
    "Xarry introduces two main data structures: `DataArray` and `Dataset`. These structures are built on top of NumPy and pandas. We recommend you read about [`Xarray` data structures](https://docs.xarray.dev/en/stable/user-guide/data-structures.html) because the terminology can be a bit confusing\n",
    "\n",
    "A `DataArray` is Xarray’s implementation of a labeled, multi-dimensional array. \n",
    "\n",
    "- Values: a numpy.ndarray or numpy-like array holding the array’s values\n",
    "- Dimensions: These are names for each axis of the array. For instance, in climate data, common dimensions include 'time', 'latitude', and 'longitude'.\n",
    "- Coordinates: These are arrays that label each point, such as specific dates for the 'time' dimension or longitude and latitude values for geographical dimensions. Coordinates enable powerful and intuitive data selections.\n",
    "- Attributes: These are metadata for the array, used to store arbitrary metadata such as the description of the dataset, units of measurement, or other relevant information.\n",
    "\n",
    "A `Dataset` is a dictionary-like container that holds multiple variables (arrays) that potentially share the same coordinates. It is analogous to a pandas DataFrame but can handle multi-dimensional data. Each variable in a Dataset is itself a DataArray.\n",
    "\n",
    "![ntl](./assets/xarray.png) <br>\n",
    "\n",
    "Basically, `Xarray` allows you to create labeled n-dimentional numpy arrays. So you can label your datasets (temperature, precipitation, etc.) and your dimentions (time, lat/long, etc.) to easily subset the data to run analysis. For example, you could say, what is the average heat index in Accra based on Lat/Long with just a few lines of code. **Note** We will use the package [`rioxarray`](https://corteva.github.io/rioxarray/html/rioxarray.html) too to load in the GeoTiff files. More on this later. Let's get started!"
   ]
  },
  {
   "cell_type": "markdown",
   "id": "6610a078-a182-471c-9534-e8c62a207df0",
   "metadata": {
    "tags": []
   },
   "source": [
    "<div class=\"run\">\n",
    "    ▶️ <b> Run the cells below. </b>\n",
    "</div>"
   ]
  },
  {
   "cell_type": "code",
   "execution_count": null,
   "id": "7b0f5b14-4b21-481d-bd04-18eec47d465d",
   "metadata": {
    "tags": []
   },
   "outputs": [],
   "source": [
    "# Dependencies \n",
    "import os\n",
    "import glob \n",
    "import xarray as xr\n",
    "import dask\n",
    "import rioxarray as rio\n",
    "import pandas as pd\n",
    "import numpy as np\n",
    "import rasterio\n",
    "import matplotlib.pyplot as plt"
   ]
  },
  {
   "cell_type": "markdown",
   "id": "b8bc7b54-6383-4b15-822f-476ab7170c77",
   "metadata": {},
   "source": [
    "### A Toy Dataset\n",
    "Let's start by making two toy data xarray data arrays and turn them into an xarray dataset with temperature and precipitation. They will be 100 by 100 by 30 arrays, representing 100 by 100 lat/long and 30 days."
   ]
  },
  {
   "cell_type": "code",
   "execution_count": null,
   "id": "eaddbe69-d8cf-4bb0-a603-125a19064637",
   "metadata": {
    "tags": []
   },
   "outputs": [],
   "source": [
    "# make an empty temperature array\n",
    "# temperature range from low:20 to high:100 (exclusive), integer\n",
    "temp = np.random.randint(20, high=100, size=(100,100,30), dtype=int)\n",
    "temp.shape"
   ]
  },
  {
   "cell_type": "code",
   "execution_count": null,
   "id": "9a4a2d3a-0f07-4d78-aaca-639857851c3b",
   "metadata": {},
   "outputs": [],
   "source": [
    "# you can print the generated temperature array if want\n",
    "temp"
   ]
  },
  {
   "cell_type": "code",
   "execution_count": null,
   "id": "a6e2457f-a852-47ea-916b-540e0b404760",
   "metadata": {
    "tags": []
   },
   "outputs": [],
   "source": [
    "# make an empty precip array\n",
    "# percipitation ragnge from low:0 to high:10 (exclusive), integer\n",
    "precip = np.random.randint(0, high= 10, size=(100,100,30), dtype=int)\n",
    "precip.shape"
   ]
  },
  {
   "cell_type": "code",
   "execution_count": null,
   "id": "19e851e7-b3fd-43af-a6b7-f0e892500277",
   "metadata": {
    "tags": []
   },
   "outputs": [],
   "source": [
    "# make a 30 day time stamp\n",
    "time = pd.date_range(\"2016-01-01\", periods=30)\n",
    "time"
   ]
  },
  {
   "cell_type": "code",
   "execution_count": null,
   "id": "c345a6e5-8418-4db3-b1d8-6f269bcf2bca",
   "metadata": {
    "tags": []
   },
   "outputs": [],
   "source": [
    "len(time)"
   ]
  },
  {
   "cell_type": "code",
   "execution_count": null,
   "id": "6964598f-6158-4c08-a430-63380ad98d73",
   "metadata": {
    "tags": []
   },
   "outputs": [],
   "source": [
    "# make x and y index values from 1 to 100\n",
    "x = list(range(1,100+1))\n",
    "y = list(range(1,100+1))"
   ]
  },
  {
   "cell_type": "code",
   "execution_count": null,
   "id": "0fe9e6c1-59cb-4b09-bd4b-717196a06369",
   "metadata": {
    "tags": []
   },
   "outputs": [],
   "source": [
    "# Turn temp into xarray data array\n",
    "temp_da = xr.DataArray(data = temp, # data\n",
    "                       dims = ['x', 'y', 'time'], # dim labels as a list\n",
    "                       coords = {'x' : x, 'y' : y, 'time' : time}, # coords data as a dict\n",
    "                       name = 'temp' # name the da\n",
    "                      )\n",
    "temp_da"
   ]
  },
  {
   "cell_type": "code",
   "execution_count": null,
   "id": "b8f0a236-3ef5-4ca6-a901-c3a14190c252",
   "metadata": {
    "tags": []
   },
   "outputs": [],
   "source": [
    "# Turn precip into xarray data array\n",
    "precip_da = xr.DataArray(data = precip, # data\n",
    "                       dims = ['x', 'y', 'time'], # dim labels as a list\n",
    "                       coords = {'x' : x, 'y' : y, 'time' : time}, # coords data as a dict\n",
    "                       name = 'precip' # name the da\n",
    "                      )\n",
    "precip_da"
   ]
  },
  {
   "cell_type": "code",
   "execution_count": null,
   "id": "cf1dfbfd-64f9-4548-8d92-a1855e987e36",
   "metadata": {
    "tags": []
   },
   "outputs": [],
   "source": [
    "# Now combine temp and precip into a xarry dataset\n",
    "ds = xr.merge([temp_da, precip_da])\n",
    "ds"
   ]
  },
  {
   "cell_type": "markdown",
   "id": "13c7b1f1-313c-4eee-af6f-2c892d74128d",
   "metadata": {},
   "source": [
    "Did you see the difference between data array and dataset?"
   ]
  },
  {
   "cell_type": "markdown",
   "id": "f92c598a-d732-4003-9437-29652b7b9b52",
   "metadata": {},
   "source": [
    "#### A bit about Xarray Datasets\n",
    "\n",
    "Xarray Datasets are nice because you can easily stack several data arrays and run analysis on the data. Like numpy arrays, they must be the same size. But unlike numpy arrays, you have labels, so it is easy to subset the data."
   ]
  },
  {
   "cell_type": "code",
   "execution_count": null,
   "id": "2288a2c2-290c-49db-9d37-7d4c3d424c97",
   "metadata": {
    "tags": []
   },
   "outputs": [],
   "source": [
    "# access the temp data\n",
    "ds.temp"
   ]
  },
  {
   "cell_type": "code",
   "execution_count": null,
   "id": "8de60af0-6031-400b-9e1f-84b65adfa8e9",
   "metadata": {
    "tags": []
   },
   "outputs": [],
   "source": [
    "# access the precip data\n",
    "ds.precip "
   ]
  },
  {
   "cell_type": "code",
   "execution_count": null,
   "id": "cf1f84f6-ba82-481d-ad40-59fd3465ff84",
   "metadata": {
    "tags": []
   },
   "outputs": [],
   "source": [
    "# Estimate correlation between precip and temperature over time\n",
    "corr = xr.corr(ds.temp, ds.precip, dim= 'time')\n",
    "corr"
   ]
  },
  {
   "cell_type": "markdown",
   "id": "1cd68467-21ff-4a83-a6e4-d85b8a8848ef",
   "metadata": {
    "tags": []
   },
   "source": [
    "## Let's look at some real data using Xarry\n",
    "<hr style=\"border-top: 0.2px solid gray; margin-top: 12px; margin-bottom: 1px\"></hr>\n",
    "\n",
    "Let's now use `rioxarry` to open our maximum heat index data for the whole 2016!<br>\n",
    "\n",
    "[`rio.open_rasterio()`](https://corteva.github.io/rioxarray/html/rioxarray.html) is a function provided by the 'rioxarray' library, an extension of 'xarra'y specifically designed to facilitate the handling of raster data within the geospatial data analysis context.\n",
    "\n",
    "- Raster Reading: Opens raster files (like GeoTIFFs), loading them into xarray.DataArray while preserving geospatial metadata including CRS and spatial dimensions.\n",
    "- Masking Support: Automatically masks nodata values by converting them to NaN in the DataArray, ensuring clean and accurate data analysis.\n",
    "- CRS Handling: Reads and attaches the CRS from the raster file to the DataArray for precise spatial operations.\n",
    "- Chunking for Large Data: Supports integration with `Dask` to read data in chunks, facilitating the handling of large datasets that exceed memory capacity.\n"
   ]
  },
  {
   "cell_type": "markdown",
   "id": "731e3040-dbaf-4487-a6b6-9112d91747d3",
   "metadata": {
    "tags": []
   },
   "source": [
    "<div class=\"run\">\n",
    "    ▶️ <b> Run the cells below. </b>\n",
    "</div>"
   ]
  },
  {
   "cell_type": "code",
   "execution_count": null,
   "id": "716308df-467e-433c-9c29-35597e23a0af",
   "metadata": {
    "tags": []
   },
   "outputs": [],
   "source": [
    "# Get the path to your files in a list files\n",
    "path = os.path.join('./data/himax-2016/')\n",
    "fns = sorted(glob.glob(path + '*.tif'))\n",
    "\n",
    "# print first five files to make sure they are in order\n",
    "fns[:5]"
   ]
  },
  {
   "cell_type": "markdown",
   "id": "db7c9238-a26a-4f6e-9bf5-ad7951ada44e",
   "metadata": {
    "tags": []
   },
   "source": [
    "### Load a 'view' of all 366 files into a Xarray DataSet\n",
    "\n",
    "The code below will read all the files into memory, and create a Multi-Dimensional DataArray for the max heat index of 2016. Note that for this tutorial, we are directly loading all raster files (since our file is small), but in real-world practice this is not usually recommended, as it will squeeze up the memory quickly, especially when working with large climate datasets. At the end of this tutorial, we will provide some information about `Dask`, a flexible parallel computing library, but later!\n"
   ]
  },
  {
   "cell_type": "code",
   "execution_count": null,
   "id": "f44f4717-b1f6-4ee1-b578-81b6105812c2",
   "metadata": {},
   "outputs": [],
   "source": [
    "# initilize an empty list to store the raster DataArray\n",
    "himax_arrays = []\n",
    "\n",
    "for fn in fns:\n",
    "    # Use rioxarray (aliased as rio) to open and handle the raster file\n",
    "    da = rio.open_rasterio(fn, masked=True) # this will mask out the NaN values\n",
    "    da = da.sel(band=1)  # Select the first band if more than one band exists\n",
    "    da.name = 'himax'  # Set the name for each DataArray\n",
    "    himax_arrays.append(da)"
   ]
  },
  {
   "cell_type": "code",
   "execution_count": null,
   "id": "583b68ea-6d2e-402e-ac69-e36a24bc2d08",
   "metadata": {},
   "outputs": [],
   "source": [
    "# Combine all DataArrays into a single Dataset along the 'band' dimension\n",
    "himax_arrays = xr.concat(himax_arrays, dim='band')"
   ]
  },
  {
   "cell_type": "code",
   "execution_count": null,
   "id": "ace47ffa-d3f2-490a-ba5d-6380454051c4",
   "metadata": {},
   "outputs": [],
   "source": [
    "# you can check the DataArrays\n",
    "himax_arrays"
   ]
  },
  {
   "cell_type": "markdown",
   "id": "322c84ca-bebf-457b-92c8-32aaa5dd5d25",
   "metadata": {},
   "source": [
    "What did you observe? did you see a time variable on the coordinates?"
   ]
  },
  {
   "cell_type": "code",
   "execution_count": null,
   "id": "2d0f3e31-ae24-4da4-8fe2-93dbfe75c3c0",
   "metadata": {},
   "outputs": [],
   "source": [
    "# Make a pandas time daily time series for 2016\n",
    "time = pd.date_range(\"2016-01-01\", periods=366)\n",
    "time"
   ]
  },
  {
   "cell_type": "code",
   "execution_count": null,
   "id": "5cbbf2aa-9f69-4d5f-a9f2-6bebf42af686",
   "metadata": {},
   "outputs": [],
   "source": [
    "# rename time dim\n",
    "himax_arrays = himax_arrays.rename({'band' : 'time'})\n",
    "\n",
    "# Revalue the time' coord\n",
    "himax_arrays['time'] = time\n",
    "himax_arrays"
   ]
  },
  {
   "cell_type": "code",
   "execution_count": null,
   "id": "506ad9d2-92fb-43b4-b2b2-6edf7f0668b7",
   "metadata": {},
   "outputs": [],
   "source": [
    "# for better readibility, you can also rename the x,y to long and lat\n",
    "himax_arrays = himax_arrays.rename({'x': 'long', 'y': 'lat'})\n",
    "\n",
    "himax_arrays"
   ]
  },
  {
   "cell_type": "markdown",
   "id": "5d901880-8e7f-4d7b-b2d4-a4c7acab0276",
   "metadata": {},
   "source": [
    "##### Export Xarray to NetCDF\n",
    "Exporting Xarray data to NetCDF format is a common practice in the fields of climate science, oceanography, meteorology, and other environmental sciences. NetCDF (Network Common Data Form) is a set of software libraries and machine-independent data formats that support the creation, access, and sharing of array-oriented scientific data"
   ]
  },
  {
   "cell_type": "code",
   "execution_count": null,
   "id": "35dff345-1ff7-43ca-a1bd-c30c7e2df7d1",
   "metadata": {},
   "outputs": [],
   "source": [
    "# Export the combined dataset to a NetCDF file\n",
    "#output_path = './data/himax_ghana_2016.nc'\n",
    "#himax_arrays.to_netcdf(output_path)"
   ]
  },
  {
   "cell_type": "markdown",
   "id": "e4adea4b-e6ed-4f6d-afa1-08bc4ba5c57d",
   "metadata": {},
   "source": [
    "### Read a NetCDF File with Xarray\n",
    "\n",
    "Reading a NetCDF file using xarray is straightforward due to its built-in support for this format, which is commonly used in scientific and climate-related data analysis"
   ]
  },
  {
   "cell_type": "markdown",
   "id": "f9df47d7-ba10-42cc-a7cc-611061f39baf",
   "metadata": {
    "tags": []
   },
   "source": [
    "<div class=\"run\">\n",
    "    ▶️ <b> Run the cells below. </b>\n",
    "</div>"
   ]
  },
  {
   "cell_type": "code",
   "execution_count": null,
   "id": "21b050e3-5d57-4036-8af1-0e566c7f1e65",
   "metadata": {},
   "outputs": [],
   "source": [
    "# Path to the NetCDF file\n",
    "fn = './data/himax_ghana_2016.nc'\n",
    "\n",
    "# Open the NetCDF file as a xarry.Dataset\n",
    "ds = xr.open_dataset(fn)\n",
    "\n",
    "# set the spatial_ref as coordinate\n",
    "ds = ds.set_coords('spatial_ref')"
   ]
  },
  {
   "cell_type": "code",
   "execution_count": null,
   "id": "6d7ffc09-d307-421f-acd3-41515867f20c",
   "metadata": {},
   "outputs": [],
   "source": [
    "ds"
   ]
  },
  {
   "cell_type": "markdown",
   "id": "cb63edfa-5061-4301-aed3-cd63252b951e",
   "metadata": {},
   "source": [
    "Xarray typically employs <ins>lazy loading with NetCDF files</ins>. This means it does not load the data into memory until you explicitly request it to do so. This approach is beneficial for working with large datasets because it allows you to operate on metadata and prepare operations without the overhead of loading potentially huge arrays into memory."
   ]
  },
  {
   "cell_type": "code",
   "execution_count": null,
   "id": "4330649b-2cae-4054-8991-6d23d4a339ad",
   "metadata": {},
   "outputs": [],
   "source": [
    "ds.load()  # This will load the data into memory \n",
    "ds"
   ]
  },
  {
   "cell_type": "code",
   "execution_count": null,
   "id": "c632e76a-2951-43cd-afe8-1b164d301fcd",
   "metadata": {},
   "outputs": [],
   "source": [
    "# read the maximum heat index da\n",
    "himax = ds.himax\n",
    "himax"
   ]
  },
  {
   "cell_type": "markdown",
   "id": "43ee2d75-1cf3-46e3-9982-47a83d8e3134",
   "metadata": {},
   "source": [
    "### Subsetting data\n",
    "\n",
    "There are tons of ways to slice Xarray Data Arrays. In Xarray, the methods `.sel()`(*selection by Label*) and `.isel()`(*selection by Integer Index*) are used to select data from an `xarray.Dataset` or `xarray.DataArray`. Subsetting allows you to focus on specific periods or regions where heat extremes could be a concern. Here are two examples:"
   ]
  },
  {
   "cell_type": "code",
   "execution_count": null,
   "id": "255c5aae-3b86-4d73-b45c-fbb8e786f48e",
   "metadata": {},
   "outputs": [],
   "source": [
    "# Subsetting by a specific time range during a hot period\n",
    "summer_himax = ds['himax'].sel(time=slice('2016-06-01', '2016-08-31'))\n",
    "summer_himax"
   ]
  },
  {
   "cell_type": "code",
   "execution_count": null,
   "id": "31cc749b-9551-4721-b72f-e4703a2eab33",
   "metadata": {},
   "outputs": [],
   "source": [
    "# Subsetting by latitude and longitude to focus on a specific area\n",
    "regional_himax = ds['himax'].sel(lat=slice(10, 7), long=slice(-1, 1)) #latitude is in descending order\n",
    "regional_himax"
   ]
  },
  {
   "cell_type": "code",
   "execution_count": null,
   "id": "3ed81cf6-e9e6-4479-89a9-b38a3810861b",
   "metadata": {},
   "outputs": [],
   "source": [
    "# Select by set by col / row\n",
    "subset = himax.isel(lat=slice(60, 90), long=slice(40, 70)) #select rows from 61st to 90th, columns from 41st to 70th\n",
    "subset"
   ]
  },
  {
   "cell_type": "markdown",
   "id": "17a17e7f-8c35-4f4b-81a7-c9547daefce7",
   "metadata": {},
   "source": [
    "### Calculating Mean Heat Values\n",
    "Heat index values are crucial for understanding heat stress on humans. Here's how you can analyze the 'himax' data over different time scales:"
   ]
  },
  {
   "cell_type": "code",
   "execution_count": null,
   "id": "9ac39f26-eada-4007-9e02-971411d0c863",
   "metadata": {},
   "outputs": [],
   "source": [
    "# Calculate the annual mean to get an idea of the average maximum heat index over the entire year\n",
    "annual_mean_himax = ds['himax'].mean(dim='time')\n",
    "annual_mean_himax"
   ]
  },
  {
   "cell_type": "code",
   "execution_count": null,
   "id": "186be4ad-4487-4411-916b-75a72679d3f0",
   "metadata": {},
   "outputs": [],
   "source": [
    "# Monthly means can show you how heat conditions change over the year, which is useful for seasonal analysis\n",
    "monthly_mean_himax = ds['himax'].groupby('time.month').mean()\n",
    "monthly_mean_himax"
   ]
  },
  {
   "cell_type": "code",
   "execution_count": null,
   "id": "00214937-bff9-4d7f-80df-2a36d2e96735",
   "metadata": {},
   "outputs": [],
   "source": [
    "# Calculate Seasonal Mean\n",
    "seasonal_mean_himax = ds['himax'].groupby('time.season').mean()\n",
    "seasonal_mean_himax"
   ]
  },
  {
   "cell_type": "markdown",
   "id": "8a7cd49b-7844-49a7-be5f-cb47c1ac623a",
   "metadata": {},
   "source": [
    "### Ploting data"
   ]
  },
  {
   "cell_type": "code",
   "execution_count": null,
   "id": "4b3925f3-3617-46c3-bbb8-1e0024155065",
   "metadata": {},
   "outputs": [],
   "source": [
    "# plot the annual mean heat index\n",
    "arr = annual_mean_himax.data\n",
    "plt.imshow(arr)\n",
    "plt.colorbar(shrink = 0.7)\n",
    "plt.title('Average Daily Maximum Heat Index for Ghana 2016');"
   ]
  },
  {
   "cell_type": "markdown",
   "id": "e2c308d4-32ff-413e-ac5a-a2c9c5160ca0",
   "metadata": {},
   "source": [
    "### Save your the daily average heat index for 2016 as a tif file"
   ]
  },
  {
   "cell_type": "code",
   "execution_count": null,
   "id": "9d8f787b-7414-4b7b-bfc6-e8f612da1c51",
   "metadata": {
    "tags": []
   },
   "outputs": [],
   "source": [
    "# get the meta data\n",
    "meta = rasterio.open(fns[0]).meta"
   ]
  },
  {
   "cell_type": "code",
   "execution_count": null,
   "id": "dd9dee0b-44a1-4327-97eb-5281fda11ab7",
   "metadata": {
    "tags": []
   },
   "outputs": [],
   "source": [
    "# make a file name\n",
    "fn_out = os.path.join('./data/himax_2016_avg.tif')"
   ]
  },
  {
   "cell_type": "code",
   "execution_count": null,
   "id": "c0ac11af-1997-48f1-83d1-2a97a0ea47f8",
   "metadata": {
    "tags": []
   },
   "outputs": [],
   "source": [
    "# save it \n",
    "#with rasterio.open(fn_out, \"w\", **meta) as dest:\n",
    "    #dest.write(arr, 1)"
   ]
  },
  {
   "cell_type": "code",
   "execution_count": null,
   "id": "8d9b6360-5a80-4d47-ac24-9ee9b1566650",
   "metadata": {
    "tags": []
   },
   "outputs": [],
   "source": [
    "# Check it\n",
    "plt.imshow(rasterio.open(fn_out).read(1))\n",
    "plt.colorbar(shrink = 0.7);"
   ]
  },
  {
   "cell_type": "markdown",
   "id": "07acb6c7-a841-4cc2-83ea-ca3abbaccd2d",
   "metadata": {},
   "source": [
    "## Congratulations! You have accomplished it!\n",
    "<hr style=\"border-top: 0.2px solid gray; margin-top: 12px; margin-bottom: 1px\"></hr>"
   ]
  },
  {
   "cell_type": "markdown",
   "id": "6577f0a6-bb9b-4088-81af-b333db49f3a8",
   "metadata": {},
   "source": [
    "### Additional Note: Enhancing Xarray with Dask for Large Datasets\n",
    "\n",
    "![ntl](./assets/Dask_Logo.jpg)<br>\n",
    "As we explore the use of Xarray for handling complex, multi-dimensional datasets in climate science, one challenge often arises: **the sheer volume of data can exceed your system's memory capacity.** To address this, we can leverage `Dask`, a flexible parallel computing library for analytic computing. Dask integrates smoothly with Xarray, providing out-of-the-box support for parallelizing operations and working with datasets that are larger than memory.<br>\n",
    "\n",
    "The key advantage of `Dask` is the use of `'chunks'`: dataset is divided into smaller blocks along specified dimensions. Each chunk is processed independently, allowing for distributed computing."
   ]
  },
  {
   "cell_type": "markdown",
   "id": "e34a44bc-89f4-4146-a64e-d9338e9b4ca6",
   "metadata": {},
   "source": [
    "#### Integrating Dask with Xarray\n",
    "When used with Xarray, Dask allows you to create a distributed, chunked version of your datasets.\n"
   ]
  },
  {
   "cell_type": "code",
   "execution_count": null,
   "id": "1ecd25d6-3476-440b-a2e1-b09a20bce222",
   "metadata": {},
   "outputs": [],
   "source": [
    "# Open a dataset using Xarray and create Dask arrays\n",
    "ds = xr.open_dataset('./data/himax_ghana_2016.nc', chunks='auto')\n",
    "# set the spatial_ref as coordinate\n",
    "ds = ds.set_coords('spatial_ref')"
   ]
  },
  {
   "cell_type": "code",
   "execution_count": null,
   "id": "4b94b65d-bfd3-4b3b-8baa-d1eccdb3f28d",
   "metadata": {},
   "outputs": [],
   "source": [
    "ds"
   ]
  },
  {
   "cell_type": "code",
   "execution_count": null,
   "id": "61b41845-7bd6-443e-9493-0b5718c5a63d",
   "metadata": {},
   "outputs": [],
   "source": [
    "# Perform an operation that benefits from Dask\n",
    "mean_temp = ds['himax'].mean(dim='time')"
   ]
  },
  {
   "cell_type": "code",
   "execution_count": null,
   "id": "22d80da0-d91d-4db2-9f82-0bc08699d651",
   "metadata": {},
   "outputs": [],
   "source": [
    "mean_temp"
   ]
  },
  {
   "cell_type": "code",
   "execution_count": null,
   "id": "757b7446-6db0-4d29-a094-b461b5712e97",
   "metadata": {},
   "outputs": [],
   "source": [
    "# Access a specific variable, say 'temperature'\n",
    "himax = ds['himax']\n",
    "himax"
   ]
  },
  {
   "cell_type": "code",
   "execution_count": null,
   "id": "2bad1c71-6d2a-44d1-8af9-7eb40b42b2a2",
   "metadata": {},
   "outputs": [],
   "source": []
  }
 ],
 "metadata": {
  "kernelspec": {
   "display_name": "eqi-general",
   "language": "python",
   "name": "eqi-general"
  },
  "language_info": {
   "codemirror_mode": {
    "name": "ipython",
    "version": 3
   },
   "file_extension": ".py",
   "mimetype": "text/x-python",
   "name": "python",
   "nbconvert_exporter": "python",
   "pygments_lexer": "ipython3",
   "version": "3.11.7"
  }
 },
 "nbformat": 4,
 "nbformat_minor": 5
}
