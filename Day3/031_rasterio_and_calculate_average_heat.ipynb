{
 "cells": [
  {
   "cell_type": "markdown",
   "id": "06d9c39c-0625-49c2-9524-fb50d798afa8",
   "metadata": {},
   "source": [
    "## Session 3-1:<br> Rasterio / Zonalstats: Ghana Regional and District Average Heat Comparison\n",
    "\n",
    "<hr style=\"border-top: 0.2px solid gray; margin-top: 12pt; margin-bottom: 0pt\"></hr>\n",
    "\n",
    "<img src=\"./assets/rasterio.png\">\n",
    "\n",
    "[Rasterio](https://rasterio.readthedocs.io/en/stable/#) is an open-source Python library that enables the use and maniplation of raster data. Most often used for remote-sensed or weather/climate data, raster data is a spatial grid in which each cell is ascribe a numeric or float point value. Often, raster values actually mean something physical (e.g. a global map of daily maximum temperature may be in °C). But they also can be used to classify grid cells (e.g. a value of 0, means ocean and a value of 1 means land). \n",
    "\n",
    "<img src=\"./assets/raster-vector.png\" alt=\"rastervector\" width=\"500\"/>\n",
    "\n",
    "As shown above, `Vector` data can be transformed into `raster` data, and vice versa. Like vector data, `raster` data must have spatial metadata that explains the geographic extent, crs, and projection, as well as things like `nan` values "
   ]
  },
  {
   "cell_type": "markdown",
   "id": "8c48dd90-359b-4e47-91ba-224b95e77734",
   "metadata": {},
   "source": [
    "### Loading a Raster\n",
    "\n",
    "Let's take a look at a `raster` dataset. This file contains an estimated **Maximum Daily Heat Index(himax)** values from [CHC-CMIP6](https://www.chc.ucsb.edu/data/chc-cmip6), a dataset from Climate Hazards Center at UC Santa Barbara. <ins>The `'himax'` is expressed as an apparent temperature in Celcius degrees to represent the perceived temperature based on air temperature and humidity.</ins>\n",
    "\n",
    "The Climate Hazards Center (CHC) Coupled Model Intercomparison Project Phase 6 (CHC-CMIP6) was created to support the analysis of climate-related hazards over the recent past and in the near-future. This climate projection dataset contains global, daily gridded data for the observational (1983-2016) and projection (2030 and 2050) periods to be used in the identification and monitoring of hydroclimatic extremes\n",
    "\n",
    "The temperature data within this dataset is from [CHIRTS-daily](https://www.chc.ucsb.edu/data/chirtsdaily), which leverages the temporal accuracy of weather stations with the spatial coverage of weather satellites to produce a continuous ~5km grid of daily maximum temperatures from 1983-2016. This is really important, because much of the planet does not have weather station data. In fact, about 4 billion people live more than 25 km from a weather station (see Cascade's paper in [Environmental Research Letters](https://iopscience.iop.org/article/10.1088/1748-9326/ac30c0/pdf))."
   ]
  },
  {
   "cell_type": "markdown",
   "id": "1574b3e3-0ad3-46eb-ac1e-c0808d319f43",
   "metadata": {},
   "source": [
    "For the purpose of this workshop, we select only a HI image on 2016-07-01 and clipped it to the extent of Ghana for our analysis."
   ]
  },
  {
   "cell_type": "code",
   "execution_count": null,
   "id": "d1f01f5b-5959-48ea-ac79-a9d7917adcb1",
   "metadata": {},
   "outputs": [],
   "source": [
    "# load packages\n",
    "import rasterio \n",
    "import os\n",
    "import glob\n",
    "import matplotlib.pyplot as plt\n",
    "import pandas as pd\n",
    "import numpy as np\n",
    "import geopandas as gpd\n",
    "from rasterstats import zonal_stats"
   ]
  },
  {
   "cell_type": "markdown",
   "id": "9b48160a-176d-4958-8ba1-67f28149aae5",
   "metadata": {},
   "source": [
    "First, let's have an overview about the himax tif files we have"
   ]
  },
  {
   "cell_type": "code",
   "execution_count": null,
   "id": "34a790c0-a2e3-4324-b1cd-49e161f4031f",
   "metadata": {},
   "outputs": [],
   "source": [
    "# Get the path to your files in a list files\n",
    "path = os.path.join('./data/himax-2016/')\n",
    "# search all the tif file under the path directory and sort them as a list\n",
    "fns = sorted(glob.glob(path + '*.tif'))\n",
    "\n",
    "# print first five files to make sure they are in order\n",
    "fns[:5]"
   ]
  },
  {
   "cell_type": "markdown",
   "id": "56e93684-c1b3-4897-bf58-6432ed7d7f56",
   "metadata": {},
   "source": [
    "we will be using the himax from 1 July 2016 `himax-2016-07-01-Ghana.tif` and it is the 181th tif file."
   ]
  },
  {
   "cell_type": "code",
   "execution_count": null,
   "id": "11e8692f-7580-42e3-b105-867b86a7abac",
   "metadata": {},
   "outputs": [],
   "source": [
    "# file path\n",
    "fn = fns[182]\n",
    "fn"
   ]
  },
  {
   "cell_type": "code",
   "execution_count": null,
   "id": "555b08bf-fb35-45ad-b66b-090acf2bbb4b",
   "metadata": {},
   "outputs": [],
   "source": [
    "# open the raster dataset as python variable \n",
    "himax = rasterio.open(fn)\n",
    "\n",
    "# print the type\n",
    "print(type(himax))"
   ]
  },
  {
   "cell_type": "markdown",
   "id": "1c243991-e60b-43f5-af94-747985ef0f54",
   "metadata": {},
   "source": [
    "The `rasterio` object is a `rasterio.io.DatasetReader` and has several attributes/methods that allow you to understand the dataset and access the data. But it is is not as straightforward as `GeoPandas DataFrames`. The `meta` attribute is the most useful. \n",
    "\n",
    "**QUESTION: What information does the meta give you?**"
   ]
  },
  {
   "cell_type": "code",
   "execution_count": null,
   "id": "c36f93d5-8e84-4b6f-9021-d887d655a3fd",
   "metadata": {
    "tags": []
   },
   "outputs": [],
   "source": [
    "himax.meta"
   ]
  },
  {
   "cell_type": "markdown",
   "id": "e1d6cbb9-347a-494d-8bc4-15c7ff2316a8",
   "metadata": {},
   "source": [
    "Notice that the `meta` attribute is a Python `dictionary`, which means it can easily be accessed by `keys`. It can also be easily updated. "
   ]
  },
  {
   "cell_type": "code",
   "execution_count": null,
   "id": "98e8818a-d756-4f28-88fd-b994f35ee21f",
   "metadata": {
    "tags": []
   },
   "outputs": [],
   "source": [
    "print(himax.meta['dtype'])"
   ]
  },
  {
   "cell_type": "markdown",
   "id": "99f93f6f-321f-403a-b755-ba2bf1d7940d",
   "metadata": {},
   "source": [
    "### Read and Write the data\n",
    "Raster files (usually `GeoTiff`) often contain multiple `bands` or stacked arrays. In this case our raster only has one band. We can access it with the code below. Notice that the `band` is a 2-d numpy object with a shape of 2600 rows by 7200 columns."
   ]
  },
  {
   "cell_type": "markdown",
   "id": "733c247a-13bf-4846-a76b-57e9b31d15fa",
   "metadata": {},
   "source": [
    "<div class=\"run\">\n",
    "    ▶️ <b> Run the cells below. </b>\n",
    "</div>"
   ]
  },
  {
   "cell_type": "code",
   "execution_count": null,
   "id": "476cfdcc-e56d-48c4-9e31-353bcdd8edf9",
   "metadata": {
    "tags": []
   },
   "outputs": [],
   "source": [
    "# read the first band of the raster file\n",
    "himax.read(1)"
   ]
  },
  {
   "cell_type": "code",
   "execution_count": null,
   "id": "bf76c6e4-7bf1-4b65-868f-730c54c404ee",
   "metadata": {
    "tags": []
   },
   "outputs": [],
   "source": [
    "# check what data type is hi.read(1)\n",
    "print(type(himax.read(1)))\n",
    "\n",
    "# print the shape of the data\n",
    "print(himax.read(1).shape)"
   ]
  },
  {
   "cell_type": "markdown",
   "id": "e41e2c30-d7f4-482a-a7fb-4ae1880c6945",
   "metadata": {},
   "source": [
    "Let's plot it! You can use the [`plt.show()`](https://matplotlib.org/stable/api/_as_gen/matplotlib.pyplot.imshow.html) function to Display data as an image"
   ]
  },
  {
   "cell_type": "code",
   "execution_count": null,
   "id": "160b3d51-dea6-45b7-a156-a01c39a06574",
   "metadata": {
    "tags": []
   },
   "outputs": [],
   "source": [
    "plt.imshow(himax.read(1))\n",
    "plt.colorbar()"
   ]
  },
  {
   "cell_type": "markdown",
   "id": "8581f6cd-cbc9-4226-bc73-91da7865b96d",
   "metadata": {},
   "source": [
    "What's wrong with the image? Well it looks like the ocean values must be very small. From the printed array we know those ocean pixels are `-9999`, representing the `Nodata/NaN value`. Notice that in the meta data, nodata value is specified as -9999, but the ocean is still funny.<br> This is because `plt.imshow` is only being passed the `numpy array` object, not the meta data. "
   ]
  },
  {
   "cell_type": "markdown",
   "id": "9fc8be45-9cdc-42e5-ba35-c956dfda1960",
   "metadata": {},
   "source": [
    "One way to correctly visualize this raster will be to manual set the `vmin` and `vmax` parameteres."
   ]
  },
  {
   "cell_type": "code",
   "execution_count": null,
   "id": "7f1e39fe-9318-49ad-8498-596d18a1f225",
   "metadata": {
    "tags": []
   },
   "outputs": [],
   "source": [
    "# For example, we can set the vmin to 0 for the visualization\n",
    "plt.imshow(himax.read(1), vmin = 0 )\n",
    "\n",
    "plt.colorbar(shrink = 0.4)"
   ]
  },
  {
   "cell_type": "markdown",
   "id": "47ba43e9-4816-4da0-ae2c-409caba85444",
   "metadata": {},
   "source": [
    "Another way to deal with NaN values when plotting raster data is to applying a `mask` to filter out the NaN pixels"
   ]
  },
  {
   "cell_type": "code",
   "execution_count": null,
   "id": "136455e9-ac3e-4a47-8a0b-f442363e98c3",
   "metadata": {},
   "outputs": [],
   "source": [
    "# First, read the himax as a numpy array\n",
    "data = himax.read(1)\n",
    "\n",
    "# Mask NoData values (-9999)\n",
    "masked_data = np.ma.masked_where(data == -9999, data)\n",
    "\n",
    "# Plotting the raster data\n",
    "plt.imshow(masked_data) \n",
    "plt.colorbar(shrink=0.4)  # Adjust the size of the color bar"
   ]
  },
  {
   "cell_type": "markdown",
   "id": "8b82b251-93c1-4384-8142-ca059b20006c",
   "metadata": {},
   "source": [
    "### We can also look at the distribution of the data\n",
    "<div class=\"run\">\n",
    "    ▶️ <b> Run the cells below. </b>\n",
    "</div>"
   ]
  },
  {
   "cell_type": "code",
   "execution_count": null,
   "id": "d23899fe-4329-40e7-bf99-b5ca0c5beb3d",
   "metadata": {
    "tags": []
   },
   "outputs": [],
   "source": [
    "# copy the array\n",
    "arr = himax.read(1)\n",
    "print(arr.shape)\n",
    "\n",
    "# flatten it\n",
    "arr_f = arr.flatten()\n",
    "print(arr_f.shape)"
   ]
  },
  {
   "cell_type": "code",
   "execution_count": null,
   "id": "be741a4e-7625-4f2f-bee9-3215a941eedc",
   "metadata": {
    "tags": []
   },
   "outputs": [],
   "source": [
    "# Drop the NaN values - which is -9999\n",
    "arr_f = arr_f[arr_f != -9999.]\n",
    "print(arr_f.shape)"
   ]
  },
  {
   "cell_type": "code",
   "execution_count": null,
   "id": "4ef06716-cb73-469e-ad2c-b4440d708d58",
   "metadata": {
    "tags": []
   },
   "outputs": [],
   "source": [
    "# Plot the histogram\n",
    "plt.hist(arr_f);\n",
    "plt.title('Distribution of Heat Index (℃) on July 1 2016', fontsize = 13)"
   ]
  },
  {
   "cell_type": "markdown",
   "id": "60324172-e14a-4ffb-b03a-2004cae7edd8",
   "metadata": {},
   "source": [
    "### Raster Math\n",
    "Because `raster` data are read by Python as 2-D `numpy arrays`, it is easy to preform mathmatical oppertations on them. The arrays must be the same size. In other words the rasters must align, the underlying raster files must have the same projection, .crs, spatial resolution, and spatial extent. \n"
   ]
  },
  {
   "cell_type": "markdown",
   "id": "cc972129-51df-4368-a906-7a1ff4ebd70e",
   "metadata": {},
   "source": [
    "For example, we can convert the heat index from *Celcius Degree* to *Farenheit Degree* using `numpy` for a finer temperature scale."
   ]
  },
  {
   "cell_type": "code",
   "execution_count": null,
   "id": "da58b3c1-4b4f-4a32-aa8c-a1cd009d613a",
   "metadata": {},
   "outputs": [],
   "source": [
    "celsius_data = himax.read(1) \n",
    "\n",
    "# Replace -9999 with NaN\n",
    "celsius_data = np.where(celsius_data == -9999, np.nan, celsius_data)\n",
    "\n",
    "# Convert Celsius to Fahrenheit\n",
    "fahrenheit_data = (celsius_data * 9/5) + 32\n",
    "\n",
    "fahrenheit_data"
   ]
  },
  {
   "cell_type": "code",
   "execution_count": null,
   "id": "9e647858-f8c1-4433-8d32-b558e86599d9",
   "metadata": {},
   "outputs": [],
   "source": [
    "# Plotting the raster data\n",
    "plt.imshow(fahrenheit_data)  # Set vmin to 0 to start color mapping from 0\n",
    "plt.colorbar(shrink=0.4)  # Adjust the size of the color bar"
   ]
  },
  {
   "cell_type": "code",
   "execution_count": null,
   "id": "821d1c88-33d4-43ff-95da-61b24a849fd4",
   "metadata": {},
   "outputs": [],
   "source": [
    "output_path = './data/himax-2016-07-01-Ghana-farenheit.tif'\n",
    "\n",
    "# Prepare to write the new data by copying the metadata\n",
    "new_meta = himax.meta.copy()\n",
    "\n",
    "# Write the converted data to a new raster file\n",
    "with rasterio.open(output_path, 'w', **new_meta) as dst:\n",
    "    dst.write(fahrenheit_data, 1)  # Write the Celsius data to the first band"
   ]
  },
  {
   "cell_type": "markdown",
   "id": "a85eadfe-f4c6-4443-b3fb-125c467a4083",
   "metadata": {},
   "source": [
    "### EXAMPLE: Ghana Regional and District Average Heat Index Caclculation\n",
    "<hr style=\"border-top: 0.2px solid gray; margin-top: 12pt; margin-bottom: 0pt\"></hr>\n",
    "\n",
    "#### Objective\n",
    "This tutorial aims to analyze and compare the average heat index across the different administrative regions and districts of Ghana. We will use geospatial data analysis techniques involving raster data and zonal statistics to explore heat variations and their implications.\n",
    "\n",
    "#### Background\n",
    "Understanding spatial variations in heat indices is crucial in assessing climate change impacts and aiding in effective planning and adaptation strategies. This tutorial will guide you through the processes of loading, processing, and analyzing raster and vector data using Python libraries such as `rasterio` and `rasterstats`.\n",
    "\n",
    "**zonal statistics**: a method of summarizing and aggregating the raster values intersecting a vector geometry. For example, zonal statistics provides answers such as the mean precipitation or maximum elevation of an administrative unit.\n",
    "\n",
    "#### Overview \n",
    "Typically, when you want to run an analysis like Zonnal Statistics, there are a few things asked for: \n",
    "\n",
    "- Input Zone layer\n",
    "- Input raster Layer to Summarize\n",
    "- Statistic Type\n",
    "\n",
    "As an example, in our case, we will be working with: \n",
    "\n",
    "- 3 Polygon layers of Ghana Administrative Boundary at National, Regional and Distric Level\n",
    "- Heat Index Map at 2016-07-01\n",
    "- Average "
   ]
  },
  {
   "cell_type": "markdown",
   "id": "34e29c1f-4fa6-4d5b-aac6-ea5ccb1a6328",
   "metadata": {},
   "source": [
    "### Loading Vector Data\n",
    "\n",
    "First, Let's load our <ins>admin boundary layer of Ghana</ins>, reterived from [Database of Global Administrative Areas(GADM)](https://gadm.org/) using `geopandas`. GADM provides maps and spatial data for all countries and their sub-divisions."
   ]
  },
  {
   "cell_type": "code",
   "execution_count": null,
   "id": "f01502e5-c419-4bfd-b334-60f0223d2662",
   "metadata": {},
   "outputs": [],
   "source": [
    "# Load the national admin boundary \n",
    "national = gpd.read_file('./data/gadm41_GHA_0.shp')\n",
    "\n",
    "national"
   ]
  },
  {
   "cell_type": "code",
   "execution_count": null,
   "id": "6d3e3790-b4b6-4b5b-b886-777148925899",
   "metadata": {},
   "outputs": [],
   "source": [
    "# Check out the columns of national admin boundary\n",
    "national.columns"
   ]
  },
  {
   "cell_type": "code",
   "execution_count": null,
   "id": "9b3e60ac-56ca-4b89-a9ca-ce133b4e7d7f",
   "metadata": {},
   "outputs": [],
   "source": [
    "# Check out the shape of national vector dataframe\n",
    "national.shape"
   ]
  },
  {
   "cell_type": "code",
   "execution_count": null,
   "id": "b7696adc-3803-4b85-883d-34cba9f68e76",
   "metadata": {},
   "outputs": [],
   "source": [
    "# Make a quick plot of Ghana national boundary\n",
    "national.plot()"
   ]
  },
  {
   "cell_type": "code",
   "execution_count": null,
   "id": "70d39a74-12a5-436b-bd85-f67b7f4d6a16",
   "metadata": {},
   "outputs": [],
   "source": [
    "# Load the regional admin boundary \n",
    "regional = gpd.read_file('./data/gadm41_GHA_1.shp')\n",
    "regional"
   ]
  },
  {
   "cell_type": "code",
   "execution_count": null,
   "id": "0e64f5d7-6075-46fc-b191-759211dc981b",
   "metadata": {},
   "outputs": [],
   "source": [
    "# Check out the columns of national admin boundary\n",
    "regional.columns"
   ]
  },
  {
   "cell_type": "code",
   "execution_count": null,
   "id": "e15be02c-5ba8-499f-96b8-3bc3d3a93b3a",
   "metadata": {},
   "outputs": [],
   "source": [
    "# Check out the shape of national vector dataframe\n",
    "regional.shape"
   ]
  },
  {
   "cell_type": "code",
   "execution_count": null,
   "id": "95d1973b-6c0e-478c-a112-da4de928a917",
   "metadata": {},
   "outputs": [],
   "source": [
    "# Make a quick plot of Ghana national boundary\n",
    "regional.plot()"
   ]
  },
  {
   "cell_type": "code",
   "execution_count": null,
   "id": "4c95fd49-4c3b-447a-8129-1561d490efe6",
   "metadata": {},
   "outputs": [],
   "source": [
    "# Load the district admin boundary \n",
    "district = gpd.read_file('./data/gadm41_GHA_2.shp')\n",
    "\n",
    "district"
   ]
  },
  {
   "cell_type": "code",
   "execution_count": null,
   "id": "4be4079c-5e89-498d-a772-ccd1ea64cec5",
   "metadata": {},
   "outputs": [],
   "source": [
    "# Check out the columns of national admin boundary\n",
    "district.columns"
   ]
  },
  {
   "cell_type": "code",
   "execution_count": null,
   "id": "6695dac6-5c90-49e1-8f48-1a9bda59d755",
   "metadata": {},
   "outputs": [],
   "source": [
    "# Check out the shape of national vector dataframe\n",
    "district.shape"
   ]
  },
  {
   "cell_type": "code",
   "execution_count": null,
   "id": "7d9efa91-1305-481f-974c-d5408bb27346",
   "metadata": {},
   "outputs": [],
   "source": [
    "# Make a quick plot of Ghana national boundary\n",
    "district.plot()"
   ]
  },
  {
   "cell_type": "markdown",
   "id": "2729bef8-e652-4d16-bb93-f59d476524b1",
   "metadata": {},
   "source": [
    "### Loading Raster Data\n",
    "Next, let's the daily maximum heat index raster data using `rasterio`."
   ]
  },
  {
   "cell_type": "code",
   "execution_count": null,
   "id": "032c69ef-a609-4e02-826b-2e45f0ed89a8",
   "metadata": {},
   "outputs": [],
   "source": [
    "# specify file path\n",
    "fn = fns[182]\n",
    "hi_max = rasterio.open(fn)"
   ]
  },
  {
   "cell_type": "markdown",
   "id": "f327f93d-eb32-4473-8839-94dc6ef5a908",
   "metadata": {},
   "source": [
    "You can also use the [`show()`](https://rasterio.readthedocs.io/en/latest/topics/plotting.html) funtion from `Rasterio` to plot raster file, which will recognize the NaN value from the meta data and haldle it when plotting. Run the following code and check the result:"
   ]
  },
  {
   "cell_type": "code",
   "execution_count": null,
   "id": "a8860d18-2187-4dc6-adbc-1bfb362c354e",
   "metadata": {},
   "outputs": [],
   "source": [
    "from rasterio.plot import show\n",
    "\n",
    "show(hi_max)"
   ]
  },
  {
   "cell_type": "code",
   "execution_count": null,
   "id": "0469e98a-4759-4b91-8f1e-83710057c99d",
   "metadata": {},
   "outputs": [],
   "source": [
    "# you can also pass the 'cmap' parameter to change the color scheme\n",
    "show(hi_max, cmap = 'YlOrRd')"
   ]
  },
  {
   "cell_type": "markdown",
   "id": "27c2bc05-0e95-4b9d-91e7-489a32ded627",
   "metadata": {},
   "source": [
    "\n",
    "### Aligning Coordinate Reference Systems (CRS)\n",
    "It's crucial that <ins>the raster and vector data share the same CRS</ins> to accurately overlay and analyze them. Here's how you can check and align CRS.\n"
   ]
  },
  {
   "cell_type": "code",
   "execution_count": null,
   "id": "17d74631-5822-4a9c-b683-05e5d59eeaf0",
   "metadata": {},
   "outputs": [],
   "source": [
    "# Check CRS of both datasets\n",
    "print(\"Raster CRS:\", hi_max.crs)\n",
    "print(\"Vector CRS:\", national.crs)\n",
    "print(\"Vector CRS:\", regional.crs)\n",
    "print(\"Vector CRS:\", district.crs)"
   ]
  },
  {
   "cell_type": "markdown",
   "id": "305f37fb-6430-4ffb-a5f5-70d40e6785f4",
   "metadata": {},
   "source": [
    "If the raster and vector files are not in the same CRS, a reprojection is required."
   ]
  },
  {
   "cell_type": "markdown",
   "id": "bdb99477-340f-46be-9a4d-d3eac74aef87",
   "metadata": {},
   "source": [
    "### Plotting Himax with Admin Boundary\n",
    "Before we run the zonal statistics, it will be good to plot how the himax raster file overlays with admin boundaries, to put us into context understanding how the Zonal statistic is conducted."
   ]
  },
  {
   "cell_type": "code",
   "execution_count": null,
   "id": "bdc639f5-b7e7-470d-91f9-f5baaa5e193f",
   "metadata": {},
   "outputs": [],
   "source": [
    "# we will creat a three pannel plot to visualize national-regional-distrct level\n",
    "\n",
    "# Initialize empty figure\n",
    "fig = plt.figure(figsize = (10,8))\n",
    "\n",
    "# Add three axes\n",
    "ax1 = fig.add_subplot(1,3,1)\n",
    "ax2 = fig.add_subplot(1,3,2)\n",
    "ax3 = fig.add_subplot(1,3,3)\n",
    "\n",
    "# in the 1st pannel, plot the himax and national boundary\n",
    "show(himax, ax=ax1, cmap = 'YlOrRd')\n",
    "national.boundary.plot(ax=ax1, edgecolor='black', linewidth=1, alpha=0.5) #use `gef.boundary` to access boundary\n",
    "ax1.set_title('National level', fontsize = 10)\n",
    "\n",
    "# in the 2st pannel, plot the himax and regional boundary\n",
    "show(himax, ax=ax2, cmap = 'YlOrRd')\n",
    "regional.boundary.plot(ax=ax2, edgecolor='black', linewidth=1, alpha=0.5) #use `gef.boundary` to access boundary\n",
    "ax2.set_title('Regional level', fontsize = 10)\n",
    "\n",
    "# in the 3rd pannel, plot the himax and district boundary\n",
    "show(himax, ax=ax3, cmap = 'YlOrRd')\n",
    "district.boundary.plot(ax=ax3, edgecolor='black', linewidth=1, alpha=0.5) #use `gef.boundary` to access boundary\n",
    "ax3.set_title('District level', fontsize = 10)\n",
    "\n",
    "plt.tight_layout()"
   ]
  },
  {
   "cell_type": "markdown",
   "id": "dcf1785f-07f6-4c3e-882a-5ff73040542c",
   "metadata": {},
   "source": [
    "#### Introduction to Functions in Python\n",
    "Before we officially run the zonal statistic, let's briefly learn about Function in Python - they are your best friends who makes coding easier! \n",
    "\n",
    "What is a Function?<br>\n",
    "In Python, a function is <ins>a reusable block of code that performs a specific task</ins>. Functions help break our program into smaller and modular chunks. As our program grows larger and larger, functions make it more organized and manageable. Furthermore, it avoids repetition and makes the code reusable.\n",
    "\n",
    "You define functions using the `def` key word and you use `()` to state the parameters (or arguments) that the function needs to be passed to be implemented. Not all functions require parameters. A few things to note: \n",
    "1. Variables assigned within a function are local (e.g. exist within the function) and those outside functions are global (e.g. accessable by all parts of your code). \n",
    "2. To get the output of a function, you must use the key word `return`\n"
   ]
  },
  {
   "cell_type": "code",
   "execution_count": null,
   "id": "5e5baa3a-5de6-48fd-8c5f-64c319ba18e8",
   "metadata": {},
   "outputs": [],
   "source": [
    "def greet(name):\n",
    "    \"\"\"This function greets to the person passed in as a parameter\"\"\"\n",
    "    print(\"Hello, \" + name + \"!\")"
   ]
  },
  {
   "cell_type": "code",
   "execution_count": null,
   "id": "98105ee4-4abb-473a-8d2e-8ddcedfcb0b4",
   "metadata": {},
   "outputs": [],
   "source": [
    "# try to greet someone \n",
    "greet('Ghana')"
   ]
  },
  {
   "cell_type": "markdown",
   "id": "b288d957-dcdb-4d0b-8390-4cb4cb54cb2e",
   "metadata": {},
   "source": [
    "#### Calculating Zonal Statistics\n",
    "From `rasterstats`, we can use the [`zonal_stats`](https://pythonhosted.org/rasterstats/manual.html) function to build our own defined function `zonal` to easily compute the average heat index per geographic area we want. This function will encapsulate all the necessary steps required to perform this computation and can be reused for any raster or vector data input with different statistics.\n"
   ]
  },
  {
   "cell_type": "code",
   "execution_count": null,
   "id": "3b89e250-f0a6-4888-9482-d5b9fd7457e6",
   "metadata": {},
   "outputs": [],
   "source": [
    "def zonal(rst_in, polys_in, do_stats):\n",
    "    \"\"\"Function will run zonal stats on a raster and a set of polygons. All touched is set to True by default.\n",
    "    \n",
    "    Args:\n",
    "        rst_in (str): File name/path of raster to run zonal stats on.\n",
    "        polys_in (GeoDataFrame): GeoDataFrame of polygons (e.g., administrative boundaries).\n",
    "        do_stats (str): Stats to compute, see rasterstats package for documentation (e.g., 'mean', 'sum').\n",
    "    \n",
    "    Returns:\n",
    "        GeoDataFrame: A GeoDataFrame with the results of the zonal statistics.\n",
    "    \"\"\"\n",
    "    # Ensure the polygons are in the same CRS as the raster\n",
    "    # Note: It's good practice to read the raster's CRS dynamically rather than hardcoding it\n",
    "    with rasterio.open(rst_in) as src:\n",
    "        raster_crs = src.crs\n",
    "    polys_in = polys_in.to_crs(raster_crs)\n",
    "    \n",
    "    # Run Zonal Stats\n",
    "    zs_feats = zonal_stats(polys_in, rst_in, stats=do_stats, geojson_out=True, all_touched=True)\n",
    "    \n",
    "    # Turn into GeoDataFrame and set CRS\n",
    "    zgdf = gpd.GeoDataFrame.from_features(zs_feats)\n",
    "    zgdf.crs = polys_in.crs  # Ensuring the resulting GeoDataFrame retains the original CRS\n",
    "    \n",
    "    return zgdf\n"
   ]
  },
  {
   "cell_type": "markdown",
   "id": "64f3d742-88ca-4f30-b7cf-9a25dfc98fc9",
   "metadata": {},
   "source": [
    "First, let's calculate the average maximum heat index at the national scale"
   ]
  },
  {
   "cell_type": "code",
   "execution_count": null,
   "id": "9e8a30fa-befb-4583-8745-7a8d9d887f96",
   "metadata": {},
   "outputs": [],
   "source": [
    "# Load your vector data \n",
    "polys_in = national[['COUNTRY', 'geometry']]\n",
    "\n",
    "# Specify the raster file and the statistic you want to compute\n",
    "rst_in = fns[182]\n",
    "do_stats = 'mean'  # This could be 'sum', 'mean', 'max', etc.\n",
    "\n",
    "# Run the zonal statistics function\n",
    "national = zonal(rst_in, polys_in, do_stats)"
   ]
  },
  {
   "cell_type": "code",
   "execution_count": null,
   "id": "e7281ec2-9fbe-430c-9022-efdbcb4e8e85",
   "metadata": {},
   "outputs": [],
   "source": [
    "# check the result\n",
    "national"
   ]
  },
  {
   "cell_type": "code",
   "execution_count": null,
   "id": "7c5d03d4-1a03-464a-925d-757bf9c942c3",
   "metadata": {},
   "outputs": [],
   "source": [
    "print('the average daily maximun heat index at national level for Ghana is ' + str(national['mean'].iloc[0]))"
   ]
  },
  {
   "cell_type": "markdown",
   "id": "63030320-2aa8-4ec6-bee7-425e66fdda9a",
   "metadata": {},
   "source": [
    "Second, let's calculate the average maximum heat index at the regional scale"
   ]
  },
  {
   "cell_type": "code",
   "execution_count": null,
   "id": "cdabd77f-78cd-4e33-b26b-abd48bd43c3b",
   "metadata": {},
   "outputs": [],
   "source": [
    "# Load your vector data \n",
    "polys_in = regional\n",
    "\n",
    "# Specify the raster file and the statistic you want to compute\n",
    "rst_in = fns[182]\n",
    "do_stats = 'mean'  # This could be 'sum', 'mean', 'max', etc.\n",
    "\n",
    "# Run the zonal statistics function\n",
    "regional = zonal(rst_in, polys_in, do_stats)"
   ]
  },
  {
   "cell_type": "code",
   "execution_count": null,
   "id": "e4218c1e-939d-4f61-aef2-943a518d6d53",
   "metadata": {},
   "outputs": [],
   "source": [
    "regional"
   ]
  },
  {
   "cell_type": "markdown",
   "id": "3e960476-7200-4557-8aae-945cd6202230",
   "metadata": {},
   "source": [
    "we can now plot the average maximum heat index at regional level "
   ]
  },
  {
   "cell_type": "code",
   "execution_count": null,
   "id": "aff35a2d-06da-4bb1-bd63-c71fe75565e8",
   "metadata": {},
   "outputs": [],
   "source": [
    "# Initialize the plot\n",
    "fig, ax = plt.subplots(1, 1, figsize=(7, 5))\n",
    "\n",
    "# Plot the locations of the household survey with the rural/urban column defining the colors\n",
    "regional.plot(column='mean', cmap = 'YlOrRd', legend=True, legend_kwds={'shrink': 0.5}, ax=ax)\n",
    "\n",
    "\n",
    "# Set plot title and labels\n",
    "plt.title('The average maximum heat index on 1 July 2016 in Ghana')\n",
    "plt.xlabel('Longitude')\n",
    "plt.ylabel('Latitude')\n",
    "\n",
    "# Adjust the layout to make room for the legend\n",
    "plt.tight_layout()\n",
    "\n",
    "# Show the plot\n",
    "plt.show()"
   ]
  },
  {
   "cell_type": "markdown",
   "id": "74d6ab7a-d979-4b1b-89db-74782631b88b",
   "metadata": {},
   "source": [
    "Looks good? Now let's do this at the district level."
   ]
  },
  {
   "cell_type": "code",
   "execution_count": null,
   "id": "4241ebd7-fadb-4561-992b-f1866c324a8e",
   "metadata": {},
   "outputs": [],
   "source": [
    "# Load your vector data \n",
    "polys_in = district\n",
    "\n",
    "# Specify the raster file and the statistic you want to compute\n",
    "rst_in = fns[182]\n",
    "do_stats = 'mean'  # This could be 'sum', 'mean', 'max', etc.\n",
    "\n",
    "# Run the zonal statistics function\n",
    "district = zonal(rst_in, polys_in, do_stats)"
   ]
  },
  {
   "cell_type": "code",
   "execution_count": null,
   "id": "100bbade-0904-4b99-ae71-c7c1d2e34094",
   "metadata": {},
   "outputs": [],
   "source": [
    "district"
   ]
  },
  {
   "cell_type": "code",
   "execution_count": null,
   "id": "41489a65-8ddc-41d9-8266-d6071807dcdc",
   "metadata": {},
   "outputs": [],
   "source": [
    "# Initialize the plot\n",
    "fig, ax = plt.subplots(1, 1, figsize=(7, 5))\n",
    "\n",
    "# Plot the locations of the household survey with the rural/urban column defining the colors\n",
    "district.plot(column='mean', cmap = 'YlOrRd', legend=True, legend_kwds={'shrink': 0.5}, ax=ax)\n",
    "\n",
    "# Set plot title and labels\n",
    "plt.title('The average maximum heat index at district level on 1 July 2016 in Ghana')\n",
    "plt.xlabel('Longitude')\n",
    "plt.ylabel('Latitude')\n",
    "\n",
    "# Adjust the layout to make room for the legend\n",
    "plt.tight_layout()\n",
    "\n",
    "# Show the plot\n",
    "plt.show()"
   ]
  },
  {
   "cell_type": "markdown",
   "id": "8bcd0e1b-0a43-4b4c-8871-71a2554c9c13",
   "metadata": {},
   "source": [
    "Besides mean, there are other statistics that can be calculated by `zonal_stats()` function: \n",
    "\n",
    "By default, the zonal_stats function will return the following statistics\n",
    "\n",
    "- min\n",
    "- max\n",
    "- mean\n",
    "- count\n",
    "\n",
    "Optionally, these statistics are also available.\n",
    "\n",
    "- sum\n",
    "- std\n",
    "- median\n",
    "- majority\n",
    "- minority\n",
    "- unique\n",
    "- range\n",
    "- nodata\n"
   ]
  },
  {
   "cell_type": "markdown",
   "id": "8f8b907d-dccc-47cd-8e4c-0ee91ab61606",
   "metadata": {},
   "source": [
    "#### What's next...?\n",
    "After we calculate the average heat index of each district, there are many ways to use this information. For example, we can <ins>identify the districts with extreme heat conditions and prioritize them.</ins> \n",
    "\n",
    "In this tutorial, we'll define \"extreme\" heat conditions as *being above the 90th percentile of the mean heat index across all districts.* We will identify which districts consistently experience higher heat indices and might require additional attention for heat-related health advisories and urban planning."
   ]
  },
  {
   "cell_type": "code",
   "execution_count": null,
   "id": "c591aea9-18dd-41be-a955-f6f9e435f4ec",
   "metadata": {},
   "outputs": [],
   "source": [
    "# Calculate the 90th percentile of the mean heat index\n",
    "threshold = np.percentile(district['mean'], 90)\n",
    "\n",
    "# Create a new column 'heat_class' that labels districts based on the heat index threshold\n",
    "district['heat_class'] = np.where(district['mean'] >= threshold, 'Extreme Heat', 'Normal')\n",
    "\n",
    "\n",
    "# Plotting all districts with custom colors based on 'heat_class'\n",
    "fig, ax = plt.subplots(figsize=(7, 6))\n",
    "district.plot(ax=ax, cmap='Pastel1', legend=True, edgecolor='black', \n",
    "              linewidth=0.5, column='heat_class',\n",
    "              legend_kwds={'loc': 'upper left', 'bbox_to_anchor': (1, 1)})\n",
    "\n",
    "# Adding title and labels\n",
    "plt.title('Districts with Extreme Heat Conditions')\n",
    "plt.xlabel('Longitude')\n",
    "plt.ylabel('Latitude')\n",
    "\n",
    "# Removing the x and y axis for a cleaner look\n",
    "ax.set_xticks([])\n",
    "ax.set_yticks([])\n",
    "\n",
    "# Show the plot\n",
    "plt.show()\n"
   ]
  },
  {
   "cell_type": "markdown",
   "id": "d6b0106e-5166-4327-9747-a440dc3e74c4",
   "metadata": {},
   "source": [
    "#### Now you can save your geopandas with calculated mean maximum heat index at different scale"
   ]
  },
  {
   "cell_type": "code",
   "execution_count": null,
   "id": "27b5dd4a-9e49-439c-88d7-fb8c48eb3387",
   "metadata": {},
   "outputs": [],
   "source": [
    "# as you specify\n",
    "output_path = '.../..../output_filename.shp' \n",
    "\n",
    "# Save the GeoDataFrame as a Shapefile\n",
    "#district.to_file(output_path)"
   ]
  },
  {
   "cell_type": "markdown",
   "id": "77e09ca6-9870-4a8f-8fa7-c5baed6d3d54",
   "metadata": {},
   "source": [
    "If you only need the attribute data and not the geometry, you can save it as a CSV:"
   ]
  },
  {
   "cell_type": "code",
   "execution_count": null,
   "id": "5131e841-3155-45de-8e7a-fcaee04bc40a",
   "metadata": {},
   "outputs": [],
   "source": [
    "# as you specify\n",
    "output_path = '.../..../output_filename.csv' \n",
    "\n",
    "## Save the GeoDataFrame as a CSV\n",
    "#district.to_csv(output_path, index=False)"
   ]
  },
  {
   "cell_type": "code",
   "execution_count": null,
   "id": "5e2b34b4-aeea-472c-b31d-418cbb7318ef",
   "metadata": {},
   "outputs": [],
   "source": []
  }
 ],
 "metadata": {
  "kernelspec": {
   "display_name": "eqi-general",
   "language": "python",
   "name": "eqi-general"
  },
  "language_info": {
   "codemirror_mode": {
    "name": "ipython",
    "version": 3
   },
   "file_extension": ".py",
   "mimetype": "text/x-python",
   "name": "python",
   "nbconvert_exporter": "python",
   "pygments_lexer": "ipython3",
   "version": "3.11.7"
  }
 },
 "nbformat": 4,
 "nbformat_minor": 5
}
