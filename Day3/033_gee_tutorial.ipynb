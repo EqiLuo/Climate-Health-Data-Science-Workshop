{
 "cells": [
  {
   "cell_type": "markdown",
   "id": "3b9c9b8c-7622-44d3-88d5-230479c7e6d4",
   "metadata": {},
   "source": [
    "# Google Earth Engine Tutorial\n",
    "\n",
    "This tutorial is borrowed from NCEAS: https://learning.nceas.ucsb.edu/2022-09-arctic/sections/15-google-earth-engine.html.\n",
    "\n",
    "GEE Data catalogue is here: https://developers.google.com/earth-engine/datasets\n",
    "\n",
    "More tutorial here: https://developers.google.com/earth-engine/tutorials/community/intro-to-python-api"
   ]
  },
  {
   "cell_type": "code",
   "execution_count": null,
   "id": "1453cca9-339b-46a2-8e69-5500f27d47e2",
   "metadata": {},
   "outputs": [],
   "source": [
    "# Dependencies\n",
    "import ee\n",
    "import geemap"
   ]
  },
  {
   "cell_type": "code",
   "execution_count": null,
   "id": "e9110eb6-0d0e-464c-91a4-7030276a7762",
   "metadata": {},
   "outputs": [],
   "source": [
    "# triggers the authentication process\n",
    "ee.Authenticate() "
   ]
  },
  {
   "cell_type": "code",
   "execution_count": null,
   "id": "979a422c-cd76-4ac4-892d-3e9cab04127f",
   "metadata": {},
   "outputs": [],
   "source": [
    "# Initialize\n",
    "ee.Initialize() "
   ]
  },
  {
   "cell_type": "code",
   "execution_count": null,
   "id": "45825a2c-8666-4831-a079-7c2976665823",
   "metadata": {},
   "outputs": [],
   "source": [
    "# Create a leaflet map\n",
    "myMap = geemap.Map(center = [10, 15], zoom = 2)\n",
    "myMap"
   ]
  },
  {
   "cell_type": "code",
   "execution_count": null,
   "id": "f0b7889f-f3ea-4bf6-9141-1771bfeafd1f",
   "metadata": {},
   "outputs": [],
   "source": [
    "# Gather ECMWF ERA5 Weather data collection\n",
    "weatherData = ee.ImageCollection('ECMWF/ERA5/DAILY')"
   ]
  },
  {
   "cell_type": "code",
   "execution_count": null,
   "id": "df7f0419-db2a-49f8-8299-c2c1fcdbe3d3",
   "metadata": {},
   "outputs": [],
   "source": [
    "# Check it out\n",
    "print(type(weatherData))\n",
    "weatherData"
   ]
  },
  {
   "cell_type": "code",
   "execution_count": null,
   "id": "b39bbec5-b870-423a-a154-a32f4c9a0250",
   "metadata": {},
   "outputs": [],
   "source": [
    "# select desired bands (total_preciptation)\n",
    "precip = weatherData.select(\"total_precipitation\")\n",
    "print(type(weatherData))"
   ]
  },
  {
   "cell_type": "code",
   "execution_count": null,
   "id": "f581e651-d8bf-4425-961c-ba1ae62a4df0",
   "metadata": {},
   "outputs": [],
   "source": [
    "# initial date of interest (inclusive)\n",
    "i_date = '1995-01-01'\n",
    "\n",
    "# final data of interest (exclusive)\n",
    "f_date = '1996-01-01'\n",
    "\n",
    "# select desired bands (total_preciptation), dates, and calculate mean precipitation across that date range\n",
    "precip = weatherData.select(\"total_precipitation\").filterDate(i_date, f_date).mean()"
   ]
  },
  {
   "cell_type": "code",
   "execution_count": null,
   "id": "f5fee185-c296-44b5-b9e9-2df6cc63e1b1",
   "metadata": {},
   "outputs": [],
   "source": [
    "# Check it out\n",
    "print(type(precip))\n",
    "precip"
   ]
  },
  {
   "cell_type": "code",
   "execution_count": null,
   "id": "2dd521af-6285-4246-ad35-195561a524e7",
   "metadata": {},
   "outputs": [],
   "source": [
    "# Make a color palet\n",
    "precip_palette = {\n",
    "    'min':0,\n",
    "    'max':0.01,\n",
    "    'palette': ['#FFFFFF', '#00FFFF', '#0080FF', '#DA00FF', '#FFA400', '#FF0000']\n",
    "}"
   ]
  },
  {
   "cell_type": "code",
   "execution_count": null,
   "id": "a7cb4ce3-e9e3-4481-86c8-bf6d6b1547e0",
   "metadata": {},
   "outputs": [],
   "source": [
    "# Plot it\n",
    "myMap.addLayer(precip, precip_palette, 'total precipitation', opacity = 0.3)\n",
    "myMap"
   ]
  },
  {
   "cell_type": "code",
   "execution_count": null,
   "id": "8b0df4be-a94f-4750-b4e8-e36ee12b7b8a",
   "metadata": {},
   "outputs": [],
   "source": [
    "from IPython.display import Image\n",
    "\n",
    "# Define the urban location of interest as a point near Lyon, France.\n",
    "u_lon = 4.8148\n",
    "u_lat = 45.7758\n",
    "u_poi = ee.Geometry.Point(u_lon, u_lat)\n",
    "\n",
    "# Define a region of interest with a buffer zone of 1000 km around Lyon.\n",
    "roi = u_poi.buffer(1e6)\n",
    "\n",
    "# Get a feature collection of administrative boundaries.\n",
    "countries = ee.FeatureCollection('FAO/GAUL/2015/level0').select('ADM0_NAME')\n",
    "\n",
    "# Filter the feature collection to subset France.\n",
    "fr = countries.filter(ee.Filter.eq('ADM0_NAME', 'France'))\n",
    "\n",
    "# Clip the image by France.\n",
    "precip_fr = precip.clip(fr)\n",
    "\n",
    "# Create the URL associated with the styled image data.\n",
    "url = precip_fr.getThumbUrl({\n",
    "    'min': 0, 'max': 0.01, 'region': roi, 'dimensions': 512,\n",
    "    'palette': ['#FFFFFF', '#00FFFF', '#0080FF', '#DA00FF', '#FFA400', '#FF0000']})\n",
    "\n",
    "# Display a thumbnail of elevation in France.\n",
    "Image(url=url)"
   ]
  },
  {
   "cell_type": "code",
   "execution_count": null,
   "id": "fffddb80-717b-4d8c-844c-3948cc65a919",
   "metadata": {},
   "outputs": [],
   "source": [
    "# Get a link to download \n",
    "link = precip_fr.getDownloadURL({\n",
    "    'scale': 30,\n",
    "    'crs': 'EPSG:4326',\n",
    "    'fileFormat': 'GeoTIFF',\n",
    "    'region': u_poi})\n",
    "print(link)"
   ]
  },
  {
   "cell_type": "markdown",
   "id": "17f07972-7144-4739-bde6-8db3b69d2c87",
   "metadata": {},
   "source": [
    "There are many datasets available in GEE. You can also leverage it to analyse e.g., Landsat"
   ]
  },
  {
   "cell_type": "code",
   "execution_count": null,
   "id": "1e3a0d86-dde8-41bc-846a-a01b360ef00f",
   "metadata": {},
   "outputs": [],
   "source": [
    "# initial date of interest (inclusive)\n",
    "i_date = '2022-01-01'\n",
    "\n",
    "# final data of interest (exclusive)\n",
    "f_date = '2022-02-01'\n",
    "\n",
    "dataset = ee.ImageCollection('LANDSAT/LC09/C02/T1_L2').filterDate(i_date, f_date)\n",
    "\n",
    "\n",
    "# Applies scaling factors.\n",
    "def apply_scale_factors(image):\n",
    "  optical_bands = image.select('SR_B.').multiply(0.0000275).add(-0.2)\n",
    "  thermal_bands = image.select('ST_B.*').multiply(0.00341802).add(149.0)\n",
    "  return image.addBands(optical_bands, None, True).addBands(\n",
    "      thermal_bands, None, True\n",
    "  )\n",
    "\n",
    "\n",
    "dataset = dataset.map(apply_scale_factors)\n",
    "\n",
    "visualization = {\n",
    "    'bands': ['SR_B4', 'SR_B3', 'SR_B2'],\n",
    "    'min': 0.0,\n",
    "    'max': 0.3,\n",
    "}\n",
    "\n",
    "m = geemap.Map()\n",
    "m.set_center(-0.1870, 5.6037, 10)\n",
    "m.add_layer(dataset, visualization, 'True Color (432)')\n",
    "m"
   ]
  },
  {
   "cell_type": "code",
   "execution_count": null,
   "id": "90c9100c-bb0b-48d2-b2d0-6c8fcca77828",
   "metadata": {},
   "outputs": [],
   "source": []
  },
  {
   "cell_type": "code",
   "execution_count": null,
   "id": "807ab4fd-4abd-4b53-a343-0c26789ca385",
   "metadata": {},
   "outputs": [],
   "source": []
  }
 ],
 "metadata": {
  "kernelspec": {
   "display_name": "Python 3 (ipykernel)",
   "language": "python",
   "name": "python3"
  },
  "language_info": {
   "codemirror_mode": {
    "name": "ipython",
    "version": 3
   },
   "file_extension": ".py",
   "mimetype": "text/x-python",
   "name": "python",
   "nbconvert_exporter": "python",
   "pygments_lexer": "ipython3",
   "version": "3.11.7"
  }
 },
 "nbformat": 4,
 "nbformat_minor": 5
}
