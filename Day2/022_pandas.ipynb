{
 "cells": [
  {
   "cell_type": "markdown",
   "metadata": {},
   "source": [
    "# Session 2-2: Pandas 🐼\n",
    "\n",
    "<img src=\"./assets/panda.jpeg\" alt=\"panda\" width=\"800\"/>\n",
    "\n",
    "[Pandas](https://pandas.pydata.org/docs/index.html) (\"Python Data Analysis Library\") is arguably the most important tool for data scientists using Python. As the central component of the Python data science toolkit, pandas is essentially where your data will \"live\" when you're working in Python. Pandas is built on [NumPy](https://numpy.org), which means that many of the data structures of NumPy are used in pandas. Data stored in pandas `DataFrame`s are often analysed statistically in [SciPy](https://docs.scipy.org/doc/scipy/reference/), visualized using plotting functions from [Matplotlib](https://matplotlib.org), and fed into machine learning algorithms in [scikit-learn](https://scikit-learn.org/stable/).\n"
   ]
  },
  {
   "cell_type": "markdown",
   "metadata": {},
   "source": [
    "\n",
    "This session will cover the basics of pandas, including `DataFrame` construction, importing data with pandas, `DataFrame` attributes, working with `datetime` objects, and data selection and manipulation. While this tutorial is designed to give you an overview of pandas, the [docs](https://pandas.pydata.org/docs/index.html) should the first place you look for more detailed information and additional pandas functionality. The pandas documentation is particularly well-written, making it easy to find methods and functions with numerous examples. Make the docs your best friend! 🐼\n",
    "\n",
    "The Pandas library was originally developed by Wes McKinney, who is the author of the excellent [Python for Data Analysis](https://learning.oreilly.com/library/view/python-for-data/9781098104023/) book, which is now its third edition.\n",
    "\n",
    "<p style=\"height:1pt\"> </p>\n",
    "\n",
    "<div class=\"boxhead2\">\n",
    "    Session Topics\n",
    "</div>\n",
    "\n",
    "<div class=\"boxtext2\">\n",
    "<ul class=\"a\">\n",
    "    <li> 📌 <code>Series</code> and <code>DataFrame</code> objects </li>\n",
    "    <ul class=\"b\">\n",
    "        <li> Creating <code>Series</code> and <code>DataFrame</code> objects from scratch </li>\n",
    "    </ul>\n",
    "    <li> 📌 Importing data </li>\n",
    "    <ul class=\"b\">\n",
    "        <li> <code>pd.read_csv()</code> </li>\n",
    "        <li> Data cleaning </li>\n",
    "    </ul>\n",
    "    <li> 📌 Examining your DataFrame </li>\n",
    "    <ul class=\"b\">\n",
    "        <li> Viewing your data </li>\n",
    "        <li> <code>DataFrame</code> attributes </li>\n",
    "    </ul>\n",
    "    <li> 📌 DataFrame indexing + data selection </li>\n",
    "    <ul class=\"b\">\n",
    "        <li> Indexing by position with <code>df.iloc</code> </li>\n",
    "        <li> Row indexing: <code>df.loc</code> </li>\n",
    "        <li> Column indexing: brackets, dot notation </li>\n",
    "    </ul>\n",
    "    <li> 📌 <code>Datetime</code> objects </li>\n",
    "    <ul class=\"b\">\n",
    "        <li> Generating <code>datetime</code> objects </li>\n",
    "        <li> Parsing dates in pandas </li>\n",
    "    </ul>\n",
    "    <li> 📌 DataFrame operations </li>\n",
    "    <ul class=\"b\">\n",
    "        <li> DataFrame reduction </li>\n",
    "        <li> Adding data </li>\n",
    "        <li> Removing data </li>\n",
    "        <li> Applying functions </li>\n",
    "        <li> Combining DataFrames </li>\n",
    "    </ul>\n",
    "    <li> 📌 Data export </li>\n",
    "</ul>\n",
    "</div>\n",
    "\n",
    "<hr style=\"border-top: 0.2px solid gray; margin-top: 12pt; margin-bottom: 0pt\"></hr>\n"
   ]
  },
  {
   "cell_type": "markdown",
   "metadata": {},
   "source": [
    "\n",
    "### Instructions\n",
    "We will work through this notebook together. To run a cell, click on the cell and press \"Shift\" + \"Enter\" or click the \"Run\" button in the toolbar at the top. \n",
    "\n",
    "<p style=\"color:#408000; font-weight: bold\"> 🐍 &nbsp; &nbsp; This symbol designates an important note about Python structure, syntax, or another quirk.  </p>\n",
    "\n",
    "<p style=\"color:#008C96; font-weight: bold\"> ▶️ &nbsp; &nbsp; This symbol designates a cell with code to be run.  </p>\n",
    "\n",
    "<p style=\"color:#008C96; font-weight: bold\"> ✏️ &nbsp; &nbsp; This symbol designates a partially coded cell with an example.  </p>\n",
    "\n",
    "<hr style=\"border-top: 1px solid gray; margin-top: 24px; margin-bottom: 1px\"></hr>"
   ]
  },
  {
   "cell_type": "markdown",
   "metadata": {},
   "source": [
    "## Introduction to pandas\n",
    "\n",
    "<img src=\"./assets/pandas.svg\" alt=\"pandas\" width=\"400\"/>\n",
    "\n",
    "As always, we must begin by importing the pandas library. The standard import statement for pandas is:\n",
    "\n",
    "```python\n",
    "import pandas as pd\n",
    "```\n",
    "\n",
    "<div class=\"run\">\n",
    "    ▶️ <b> Run the cell below. </b>\n",
    "</div>"
   ]
  },
  {
   "cell_type": "code",
   "execution_count": 44,
   "metadata": {
    "tags": []
   },
   "outputs": [],
   "source": [
    "import pandas as pd"
   ]
  },
  {
   "cell_type": "markdown",
   "metadata": {},
   "source": [
    "### `Series` and `DataFrame` objects\n",
    "<hr style=\"border-top: 0.2px solid gray; margin-top: 12px; margin-bottom: 1px\"></hr>\n",
    "\n",
    "The core components of pandas are the `Series` and the `DataFrame` objects. Both of these are essentially enhanced versions of the NumPy array, with a few key differences: 1) pandas DataFrames can be *heterogeneous*, meaning that the columns can contain different data types; and 2) the rows and columns of DataFrames can be identified with labels (usually strings) in addition to standard integer indexing. \n",
    "\n",
    "A `Series` is essentially a column of data, while a `DataFrame` is a multidimensional table made up of many `Series`, not unlike a spreadsheet:\n",
    "\n",
    "<img src=\"./assets/series_dfs.png\" alt=\"dfs\" width=\"400\"/>\n",
    "\n",
    "Series and DataFrames are similar in many respects – most common operations can be performed on both objects, though Series are more limited, as they can only ever contain a single column (i.e. you cannot turn a `Series` into a `DataFrame` by adding a column).\n",
    "\n",
    "Both `Series` and `DataFrame` objects contain an `Index` object similar to the row index of the `ndarray` or the index of a list. The pandas `Index` object can be conceptualized as an immutable array or an ordered multiset. Unless explicitly defined otherwise, the `Index` of a `Series` or `DataFrame` is initialized as the ordered set of positive integers beginning at 0 (see figure above).\n"
   ]
  },
  {
   "cell_type": "markdown",
   "metadata": {},
   "source": [
    "\n",
    "#### Creating `Series` and `DataFrame` objects from scratch\n",
    "\n",
    "A `Series` can be easily created from a list or array as follows:"
   ]
  },
  {
   "cell_type": "code",
   "execution_count": 45,
   "metadata": {},
   "outputs": [
    {
     "data": {
      "text/plain": [
       "0    25.8\n",
       "1    16.2\n",
       "2    17.9\n",
       "3    18.8\n",
       "4    23.6\n",
       "5    29.9\n",
       "6    23.6\n",
       "7    22.1\n",
       "dtype: float64"
      ]
     },
     "execution_count": 45,
     "metadata": {},
     "output_type": "execute_result"
    }
   ],
   "source": [
    "# Create a Series from a list with numerical values\n",
    "series = pd.Series([25.8, 16.2, 17.9, 18.8, 23.6, 29.9, 23.6, 22.1])\n",
    "\n",
    "series"
   ]
  },
  {
   "cell_type": "code",
   "execution_count": 46,
   "metadata": {
    "tags": []
   },
   "outputs": [
    {
     "data": {
      "text/plain": [
       "0      5\n",
       "1      6\n",
       "2      7\n",
       "3    2.4\n",
       "4      5\n",
       "5     34\n",
       "6     67\n",
       "dtype: object"
      ]
     },
     "execution_count": 46,
     "metadata": {},
     "output_type": "execute_result"
    }
   ],
   "source": [
    "# Create a Series from another list, with a string variable included - see the change on the dtype\n",
    "series = pd.Series([5, 6, 7, '2.4', 5, 34, 67])\n",
    "\n",
    "series"
   ]
  },
  {
   "cell_type": "markdown",
   "metadata": {},
   "source": [
    "There are many ways to create a `DataFrame`, but the most common are to use a list of lists or a dictionary. First, let's use a list of lists (or an array):\n",
    "\n",
    "```python\n",
    "# Create a df from a list of lists\n",
    "df = pd.DataFrame([[25.8, 28.1, 16.2, 11.0],[17.9, 14.2, 18.8, 28.0],\n",
    "                   [23.6, 18.4, 29.9, 27.8],[23.6, 36.2, 22.1, 14.5]],\n",
    "                 columns=['A','B','C','D'])\n",
    "```"
   ]
  },
  {
   "cell_type": "code",
   "execution_count": 47,
   "metadata": {
    "tags": []
   },
   "outputs": [
    {
     "data": {
      "text/html": [
       "<div>\n",
       "<style scoped>\n",
       "    .dataframe tbody tr th:only-of-type {\n",
       "        vertical-align: middle;\n",
       "    }\n",
       "\n",
       "    .dataframe tbody tr th {\n",
       "        vertical-align: top;\n",
       "    }\n",
       "\n",
       "    .dataframe thead th {\n",
       "        text-align: right;\n",
       "    }\n",
       "</style>\n",
       "<table border=\"1\" class=\"dataframe\">\n",
       "  <thead>\n",
       "    <tr style=\"text-align: right;\">\n",
       "      <th></th>\n",
       "      <th>A</th>\n",
       "      <th>B</th>\n",
       "      <th>C</th>\n",
       "      <th>D</th>\n",
       "    </tr>\n",
       "  </thead>\n",
       "  <tbody>\n",
       "    <tr>\n",
       "      <th>0</th>\n",
       "      <td>25.8</td>\n",
       "      <td>29.4</td>\n",
       "      <td>25.6</td>\n",
       "      <td>54.6</td>\n",
       "    </tr>\n",
       "    <tr>\n",
       "      <th>1</th>\n",
       "      <td>34.5</td>\n",
       "      <td>78.2</td>\n",
       "      <td>86.2</td>\n",
       "      <td>99.0</td>\n",
       "    </tr>\n",
       "    <tr>\n",
       "      <th>2</th>\n",
       "      <td>12.4</td>\n",
       "      <td>75.4</td>\n",
       "      <td>23.6</td>\n",
       "      <td>88.5</td>\n",
       "    </tr>\n",
       "  </tbody>\n",
       "</table>\n",
       "</div>"
      ],
      "text/plain": [
       "      A     B     C     D\n",
       "0  25.8  29.4  25.6  54.6\n",
       "1  34.5  78.2  86.2  99.0\n",
       "2  12.4  75.4  23.6  88.5"
      ]
     },
     "execution_count": 47,
     "metadata": {},
     "output_type": "execute_result"
    }
   ],
   "source": [
    "df = pd.DataFrame([[25.8, 29.4, 25.6, 54.6],\n",
    "                   [34.5, 78.2, 86.2, 99.0],\n",
    "                   [12.4, 75.4, 23.6, 88.5]],columns=['A', 'B', 'C', 'D'])\n",
    "\n",
    "df"
   ]
  },
  {
   "cell_type": "markdown",
   "metadata": {},
   "source": [
    "Much like with NumPy arrays, each inner list element in the outer list corresponds to a *row*. Using the optional `columns` keyword argument, we can specify the name of each column. If this parameter is not passed, the columns would be displayed with integer index values (like the rows).\n",
    "\n",
    "Next, let's create a DataFrame from a `dict` object:\n",
    "\n",
    "```python\n",
    "# Create a df from a dictionary\n",
    "df = pd.DataFrame({'A': [25.8, 17.9, 23.6, 23.6],\n",
    "                   'B': [28.1, 14.2, 18.4, 36.2],\n",
    "                   'C': [16.2, 18.8, 29.9, 22.1],\n",
    "                   'D': [11.0, 28.0, 27.8, 14.5]})\n",
    "\n",
    "df\n",
    "```"
   ]
  },
  {
   "cell_type": "code",
   "execution_count": 48,
   "metadata": {
    "tags": []
   },
   "outputs": [
    {
     "data": {
      "text/html": [
       "<div>\n",
       "<style scoped>\n",
       "    .dataframe tbody tr th:only-of-type {\n",
       "        vertical-align: middle;\n",
       "    }\n",
       "\n",
       "    .dataframe tbody tr th {\n",
       "        vertical-align: top;\n",
       "    }\n",
       "\n",
       "    .dataframe thead th {\n",
       "        text-align: right;\n",
       "    }\n",
       "</style>\n",
       "<table border=\"1\" class=\"dataframe\">\n",
       "  <thead>\n",
       "    <tr style=\"text-align: right;\">\n",
       "      <th></th>\n",
       "      <th>A</th>\n",
       "      <th>B</th>\n",
       "      <th>C</th>\n",
       "      <th>D</th>\n",
       "    </tr>\n",
       "  </thead>\n",
       "  <tbody>\n",
       "    <tr>\n",
       "      <th>0</th>\n",
       "      <td>25.8</td>\n",
       "      <td>29.4</td>\n",
       "      <td>25.6</td>\n",
       "      <td>54.6</td>\n",
       "    </tr>\n",
       "    <tr>\n",
       "      <th>1</th>\n",
       "      <td>34.5</td>\n",
       "      <td>78.2</td>\n",
       "      <td>86.2</td>\n",
       "      <td>99.0</td>\n",
       "    </tr>\n",
       "    <tr>\n",
       "      <th>2</th>\n",
       "      <td>12.4</td>\n",
       "      <td>75.4</td>\n",
       "      <td>23.6</td>\n",
       "      <td>88.5</td>\n",
       "    </tr>\n",
       "  </tbody>\n",
       "</table>\n",
       "</div>"
      ],
      "text/plain": [
       "      A     B     C     D\n",
       "0  25.8  29.4  25.6  54.6\n",
       "1  34.5  78.2  86.2  99.0\n",
       "2  12.4  75.4  23.6  88.5"
      ]
     },
     "execution_count": 48,
     "metadata": {},
     "output_type": "execute_result"
    }
   ],
   "source": [
    "#df = pd.DataFrame([[25.8, 29.4, 25.6, 54.6],\n",
    "#                   [34.5, 78.2, 86.2, 99.0],\n",
    "#                   [12.4, 75.4, 23.6, 88.5]],columns=['A', 'B', 'C', 'D'])\n",
    "\n",
    "df = pd.DataFrame({\n",
    "    'A':[25.8, 34.5, 12.4],\n",
    "    'B':[29.4, 78.2, 75.4],\n",
    "    'C':[25.6, 86.2, 23.6],\n",
    "    'D':[54.6, 99.0, 88.5]\n",
    "})\n",
    "\n",
    "df"
   ]
  },
  {
   "cell_type": "markdown",
   "metadata": {},
   "source": [
    "Using this method, each `key` corresponds to a column name, and each `value` is a column.\n"
   ]
  },
  {
   "cell_type": "markdown",
   "metadata": {},
   "source": [
    " "
   ]
  },
  {
   "cell_type": "markdown",
   "metadata": {},
   "source": [
    "### Importing data\n",
    "<hr style=\"border-top: 0.2px solid gray; margin-top: 12px; margin-bottom: 1px\"></hr>\n",
    "\n",
    "While you will likely create many DataFrames from scratch throughout your code, in most cases, you'll have some data you'd like to import as a starting point. Pandas has [several functions](https://pandas.pydata.org/pandas-docs/stable/reference/io.html) to read in data from a variety of formats. For now, we'll focus on reading in data from plain-text flat files.\n",
    "\n",
    "Most environmental datasets are stored as **flat files**, meaning that the data are unstructured – the records follow a uniform format, but they are not indexed and no information about relationships between records is included. Plain-text flat files use **delimiters** such as commas, tabs, or spaces to separate values. Pandas has a few different functions to import flat files, but perhaps the most useful is the `pd.read_csv()` function, designed to read CSV files. As its name suggests, a CSV (Comma Separated Values) file is a plain-text file that uses commas to delimit (separate) values. Each line of the file is a record (row).  \n",
    "\n",
    "Let's start by taking a look at the [`pd.read_csv()`](https://pandas.pydata.org/pandas-docs/stable/reference/api/pandas.read_csv.html) function.\n",
    "\n",
    "<div class=\"run\">\n",
    "    ▶️ <b> Run the cell below. </b>\n",
    "</div>"
   ]
  },
  {
   "cell_type": "code",
   "execution_count": 49,
   "metadata": {
    "tags": []
   },
   "outputs": [
    {
     "name": "stdout",
     "output_type": "stream",
     "text": [
      "Help on function read_csv in module pandas.io.parsers.readers:\n",
      "\n",
      "read_csv(filepath_or_buffer: 'FilePath | ReadCsvBuffer[bytes] | ReadCsvBuffer[str]', *, sep: 'str | None | lib.NoDefault' = <no_default>, delimiter: 'str | None | lib.NoDefault' = None, header: \"int | Sequence[int] | None | Literal['infer']\" = 'infer', names: 'Sequence[Hashable] | None | lib.NoDefault' = <no_default>, index_col: 'IndexLabel | Literal[False] | None' = None, usecols: 'UsecolsArgType' = None, dtype: 'DtypeArg | None' = None, engine: 'CSVEngine | None' = None, converters: 'Mapping[Hashable, Callable] | None' = None, true_values: 'list | None' = None, false_values: 'list | None' = None, skipinitialspace: 'bool' = False, skiprows: 'list[int] | int | Callable[[Hashable], bool] | None' = None, skipfooter: 'int' = 0, nrows: 'int | None' = None, na_values: 'Hashable | Iterable[Hashable] | Mapping[Hashable, Iterable[Hashable]] | None' = None, keep_default_na: 'bool' = True, na_filter: 'bool' = True, verbose: 'bool | lib.NoDefault' = <no_default>, skip_blank_lines: 'bool' = True, parse_dates: 'bool | Sequence[Hashable] | None' = None, infer_datetime_format: 'bool | lib.NoDefault' = <no_default>, keep_date_col: 'bool | lib.NoDefault' = <no_default>, date_parser: 'Callable | lib.NoDefault' = <no_default>, date_format: 'str | dict[Hashable, str] | None' = None, dayfirst: 'bool' = False, cache_dates: 'bool' = True, iterator: 'bool' = False, chunksize: 'int | None' = None, compression: 'CompressionOptions' = 'infer', thousands: 'str | None' = None, decimal: 'str' = '.', lineterminator: 'str | None' = None, quotechar: 'str' = '\"', quoting: 'int' = 0, doublequote: 'bool' = True, escapechar: 'str | None' = None, comment: 'str | None' = None, encoding: 'str | None' = None, encoding_errors: 'str | None' = 'strict', dialect: 'str | csv.Dialect | None' = None, on_bad_lines: 'str' = 'error', delim_whitespace: 'bool | lib.NoDefault' = <no_default>, low_memory: 'bool' = True, memory_map: 'bool' = False, float_precision: \"Literal['high', 'legacy'] | None\" = None, storage_options: 'StorageOptions | None' = None, dtype_backend: 'DtypeBackend | lib.NoDefault' = <no_default>) -> 'DataFrame | TextFileReader'\n",
      "    Read a comma-separated values (csv) file into DataFrame.\n",
      "    \n",
      "    Also supports optionally iterating or breaking of the file\n",
      "    into chunks.\n",
      "    \n",
      "    Additional help can be found in the online docs for\n",
      "    `IO Tools <https://pandas.pydata.org/pandas-docs/stable/user_guide/io.html>`_.\n",
      "    \n",
      "    Parameters\n",
      "    ----------\n",
      "    filepath_or_buffer : str, path object or file-like object\n",
      "        Any valid string path is acceptable. The string could be a URL. Valid\n",
      "        URL schemes include http, ftp, s3, gs, and file. For file URLs, a host is\n",
      "        expected. A local file could be: file://localhost/path/to/table.csv.\n",
      "    \n",
      "        If you want to pass in a path object, pandas accepts any ``os.PathLike``.\n",
      "    \n",
      "        By file-like object, we refer to objects with a ``read()`` method, such as\n",
      "        a file handle (e.g. via builtin ``open`` function) or ``StringIO``.\n",
      "    sep : str, default ','\n",
      "        Character or regex pattern to treat as the delimiter. If ``sep=None``, the\n",
      "        C engine cannot automatically detect\n",
      "        the separator, but the Python parsing engine can, meaning the latter will\n",
      "        be used and automatically detect the separator from only the first valid\n",
      "        row of the file by Python's builtin sniffer tool, ``csv.Sniffer``.\n",
      "        In addition, separators longer than 1 character and different from\n",
      "        ``'\\s+'`` will be interpreted as regular expressions and will also force\n",
      "        the use of the Python parsing engine. Note that regex delimiters are prone\n",
      "        to ignoring quoted data. Regex example: ``'\\r\\t'``.\n",
      "    delimiter : str, optional\n",
      "        Alias for ``sep``.\n",
      "    header : int, Sequence of int, 'infer' or None, default 'infer'\n",
      "        Row number(s) containing column labels and marking the start of the\n",
      "        data (zero-indexed). Default behavior is to infer the column names: if no ``names``\n",
      "        are passed the behavior is identical to ``header=0`` and column\n",
      "        names are inferred from the first line of the file, if column\n",
      "        names are passed explicitly to ``names`` then the behavior is identical to\n",
      "        ``header=None``. Explicitly pass ``header=0`` to be able to\n",
      "        replace existing names. The header can be a list of integers that\n",
      "        specify row locations for a :class:`~pandas.MultiIndex` on the columns\n",
      "        e.g. ``[0, 1, 3]``. Intervening rows that are not specified will be\n",
      "        skipped (e.g. 2 in this example is skipped). Note that this\n",
      "        parameter ignores commented lines and empty lines if\n",
      "        ``skip_blank_lines=True``, so ``header=0`` denotes the first line of\n",
      "        data rather than the first line of the file.\n",
      "    names : Sequence of Hashable, optional\n",
      "        Sequence of column labels to apply. If the file contains a header row,\n",
      "        then you should explicitly pass ``header=0`` to override the column names.\n",
      "        Duplicates in this list are not allowed.\n",
      "    index_col : Hashable, Sequence of Hashable or False, optional\n",
      "      Column(s) to use as row label(s), denoted either by column labels or column\n",
      "      indices.  If a sequence of labels or indices is given, :class:`~pandas.MultiIndex`\n",
      "      will be formed for the row labels.\n",
      "    \n",
      "      Note: ``index_col=False`` can be used to force pandas to *not* use the first\n",
      "      column as the index, e.g., when you have a malformed file with delimiters at\n",
      "      the end of each line.\n",
      "    usecols : Sequence of Hashable or Callable, optional\n",
      "        Subset of columns to select, denoted either by column labels or column indices.\n",
      "        If list-like, all elements must either\n",
      "        be positional (i.e. integer indices into the document columns) or strings\n",
      "        that correspond to column names provided either by the user in ``names`` or\n",
      "        inferred from the document header row(s). If ``names`` are given, the document\n",
      "        header row(s) are not taken into account. For example, a valid list-like\n",
      "        ``usecols`` parameter would be ``[0, 1, 2]`` or ``['foo', 'bar', 'baz']``.\n",
      "        Element order is ignored, so ``usecols=[0, 1]`` is the same as ``[1, 0]``.\n",
      "        To instantiate a :class:`~pandas.DataFrame` from ``data`` with element order\n",
      "        preserved use ``pd.read_csv(data, usecols=['foo', 'bar'])[['foo', 'bar']]``\n",
      "        for columns in ``['foo', 'bar']`` order or\n",
      "        ``pd.read_csv(data, usecols=['foo', 'bar'])[['bar', 'foo']]``\n",
      "        for ``['bar', 'foo']`` order.\n",
      "    \n",
      "        If callable, the callable function will be evaluated against the column\n",
      "        names, returning names where the callable function evaluates to ``True``. An\n",
      "        example of a valid callable argument would be ``lambda x: x.upper() in\n",
      "        ['AAA', 'BBB', 'DDD']``. Using this parameter results in much faster\n",
      "        parsing time and lower memory usage.\n",
      "    dtype : dtype or dict of {Hashable : dtype}, optional\n",
      "        Data type(s) to apply to either the whole dataset or individual columns.\n",
      "        E.g., ``{'a': np.float64, 'b': np.int32, 'c': 'Int64'}``\n",
      "        Use ``str`` or ``object`` together with suitable ``na_values`` settings\n",
      "        to preserve and not interpret ``dtype``.\n",
      "        If ``converters`` are specified, they will be applied INSTEAD\n",
      "        of ``dtype`` conversion.\n",
      "    \n",
      "        .. versionadded:: 1.5.0\n",
      "    \n",
      "            Support for ``defaultdict`` was added. Specify a ``defaultdict`` as input where\n",
      "            the default determines the ``dtype`` of the columns which are not explicitly\n",
      "            listed.\n",
      "    engine : {'c', 'python', 'pyarrow'}, optional\n",
      "        Parser engine to use. The C and pyarrow engines are faster, while the python engine\n",
      "        is currently more feature-complete. Multithreading is currently only supported by\n",
      "        the pyarrow engine.\n",
      "    \n",
      "        .. versionadded:: 1.4.0\n",
      "    \n",
      "            The 'pyarrow' engine was added as an *experimental* engine, and some features\n",
      "            are unsupported, or may not work correctly, with this engine.\n",
      "    converters : dict of {Hashable : Callable}, optional\n",
      "        Functions for converting values in specified columns. Keys can either\n",
      "        be column labels or column indices.\n",
      "    true_values : list, optional\n",
      "        Values to consider as ``True`` in addition to case-insensitive variants of 'True'.\n",
      "    false_values : list, optional\n",
      "        Values to consider as ``False`` in addition to case-insensitive variants of 'False'.\n",
      "    skipinitialspace : bool, default False\n",
      "        Skip spaces after delimiter.\n",
      "    skiprows : int, list of int or Callable, optional\n",
      "        Line numbers to skip (0-indexed) or number of lines to skip (``int``)\n",
      "        at the start of the file.\n",
      "    \n",
      "        If callable, the callable function will be evaluated against the row\n",
      "        indices, returning ``True`` if the row should be skipped and ``False`` otherwise.\n",
      "        An example of a valid callable argument would be ``lambda x: x in [0, 2]``.\n",
      "    skipfooter : int, default 0\n",
      "        Number of lines at bottom of file to skip (Unsupported with ``engine='c'``).\n",
      "    nrows : int, optional\n",
      "        Number of rows of file to read. Useful for reading pieces of large files.\n",
      "    na_values : Hashable, Iterable of Hashable or dict of {Hashable : Iterable}, optional\n",
      "        Additional strings to recognize as ``NA``/``NaN``. If ``dict`` passed, specific\n",
      "        per-column ``NA`` values.  By default the following values are interpreted as\n",
      "        ``NaN``: \" \", \"#N/A\", \"#N/A N/A\", \"#NA\", \"-1.#IND\", \"-1.#QNAN\", \"-NaN\", \"-nan\",\n",
      "        \"1.#IND\", \"1.#QNAN\", \"<NA>\", \"N/A\", \"NA\", \"NULL\", \"NaN\", \"None\",\n",
      "        \"n/a\", \"nan\", \"null \".\n",
      "    \n",
      "    keep_default_na : bool, default True\n",
      "        Whether or not to include the default ``NaN`` values when parsing the data.\n",
      "        Depending on whether ``na_values`` is passed in, the behavior is as follows:\n",
      "    \n",
      "        * If ``keep_default_na`` is ``True``, and ``na_values`` are specified, ``na_values``\n",
      "          is appended to the default ``NaN`` values used for parsing.\n",
      "        * If ``keep_default_na`` is ``True``, and ``na_values`` are not specified, only\n",
      "          the default ``NaN`` values are used for parsing.\n",
      "        * If ``keep_default_na`` is ``False``, and ``na_values`` are specified, only\n",
      "          the ``NaN`` values specified ``na_values`` are used for parsing.\n",
      "        * If ``keep_default_na`` is ``False``, and ``na_values`` are not specified, no\n",
      "          strings will be parsed as ``NaN``.\n",
      "    \n",
      "        Note that if ``na_filter`` is passed in as ``False``, the ``keep_default_na`` and\n",
      "        ``na_values`` parameters will be ignored.\n",
      "    na_filter : bool, default True\n",
      "        Detect missing value markers (empty strings and the value of ``na_values``). In\n",
      "        data without any ``NA`` values, passing ``na_filter=False`` can improve the\n",
      "        performance of reading a large file.\n",
      "    verbose : bool, default False\n",
      "        Indicate number of ``NA`` values placed in non-numeric columns.\n",
      "    \n",
      "        .. deprecated:: 2.2.0\n",
      "    skip_blank_lines : bool, default True\n",
      "        If ``True``, skip over blank lines rather than interpreting as ``NaN`` values.\n",
      "    parse_dates : bool, list of Hashable, list of lists or dict of {Hashable : list}, default False\n",
      "        The behavior is as follows:\n",
      "    \n",
      "        * ``bool``. If ``True`` -> try parsing the index. Note: Automatically set to\n",
      "          ``True`` if ``date_format`` or ``date_parser`` arguments have been passed.\n",
      "        * ``list`` of ``int`` or names. e.g. If ``[1, 2, 3]`` -> try parsing columns 1, 2, 3\n",
      "          each as a separate date column.\n",
      "        * ``list`` of ``list``. e.g.  If ``[[1, 3]]`` -> combine columns 1 and 3 and parse\n",
      "          as a single date column. Values are joined with a space before parsing.\n",
      "        * ``dict``, e.g. ``{'foo' : [1, 3]}`` -> parse columns 1, 3 as date and call\n",
      "          result 'foo'. Values are joined with a space before parsing.\n",
      "    \n",
      "        If a column or index cannot be represented as an array of ``datetime``,\n",
      "        say because of an unparsable value or a mixture of timezones, the column\n",
      "        or index will be returned unaltered as an ``object`` data type. For\n",
      "        non-standard ``datetime`` parsing, use :func:`~pandas.to_datetime` after\n",
      "        :func:`~pandas.read_csv`.\n",
      "    \n",
      "        Note: A fast-path exists for iso8601-formatted dates.\n",
      "    infer_datetime_format : bool, default False\n",
      "        If ``True`` and ``parse_dates`` is enabled, pandas will attempt to infer the\n",
      "        format of the ``datetime`` strings in the columns, and if it can be inferred,\n",
      "        switch to a faster method of parsing them. In some cases this can increase\n",
      "        the parsing speed by 5-10x.\n",
      "    \n",
      "        .. deprecated:: 2.0.0\n",
      "            A strict version of this argument is now the default, passing it has no effect.\n",
      "    \n",
      "    keep_date_col : bool, default False\n",
      "        If ``True`` and ``parse_dates`` specifies combining multiple columns then\n",
      "        keep the original columns.\n",
      "    date_parser : Callable, optional\n",
      "        Function to use for converting a sequence of string columns to an array of\n",
      "        ``datetime`` instances. The default uses ``dateutil.parser.parser`` to do the\n",
      "        conversion. pandas will try to call ``date_parser`` in three different ways,\n",
      "        advancing to the next if an exception occurs: 1) Pass one or more arrays\n",
      "        (as defined by ``parse_dates``) as arguments; 2) concatenate (row-wise) the\n",
      "        string values from the columns defined by ``parse_dates`` into a single array\n",
      "        and pass that; and 3) call ``date_parser`` once for each row using one or\n",
      "        more strings (corresponding to the columns defined by ``parse_dates``) as\n",
      "        arguments.\n",
      "    \n",
      "        .. deprecated:: 2.0.0\n",
      "           Use ``date_format`` instead, or read in as ``object`` and then apply\n",
      "           :func:`~pandas.to_datetime` as-needed.\n",
      "    date_format : str or dict of column -> format, optional\n",
      "        Format to use for parsing dates when used in conjunction with ``parse_dates``.\n",
      "        The strftime to parse time, e.g. :const:`\"%d/%m/%Y\"`. See\n",
      "        `strftime documentation\n",
      "        <https://docs.python.org/3/library/datetime.html\n",
      "        #strftime-and-strptime-behavior>`_ for more information on choices, though\n",
      "        note that :const:`\"%f\"` will parse all the way up to nanoseconds.\n",
      "        You can also pass:\n",
      "    \n",
      "        - \"ISO8601\", to parse any `ISO8601 <https://en.wikipedia.org/wiki/ISO_8601>`_\n",
      "            time string (not necessarily in exactly the same format);\n",
      "        - \"mixed\", to infer the format for each element individually. This is risky,\n",
      "            and you should probably use it along with `dayfirst`.\n",
      "    \n",
      "        .. versionadded:: 2.0.0\n",
      "    dayfirst : bool, default False\n",
      "        DD/MM format dates, international and European format.\n",
      "    cache_dates : bool, default True\n",
      "        If ``True``, use a cache of unique, converted dates to apply the ``datetime``\n",
      "        conversion. May produce significant speed-up when parsing duplicate\n",
      "        date strings, especially ones with timezone offsets.\n",
      "    \n",
      "    iterator : bool, default False\n",
      "        Return ``TextFileReader`` object for iteration or getting chunks with\n",
      "        ``get_chunk()``.\n",
      "    chunksize : int, optional\n",
      "        Number of lines to read from the file per chunk. Passing a value will cause the\n",
      "        function to return a ``TextFileReader`` object for iteration.\n",
      "        See the `IO Tools docs\n",
      "        <https://pandas.pydata.org/pandas-docs/stable/io.html#io-chunking>`_\n",
      "        for more information on ``iterator`` and ``chunksize``.\n",
      "    \n",
      "    compression : str or dict, default 'infer'\n",
      "        For on-the-fly decompression of on-disk data. If 'infer' and 'filepath_or_buffer' is\n",
      "        path-like, then detect compression from the following extensions: '.gz',\n",
      "        '.bz2', '.zip', '.xz', '.zst', '.tar', '.tar.gz', '.tar.xz' or '.tar.bz2'\n",
      "        (otherwise no compression).\n",
      "        If using 'zip' or 'tar', the ZIP file must contain only one data file to be read in.\n",
      "        Set to ``None`` for no decompression.\n",
      "        Can also be a dict with key ``'method'`` set\n",
      "        to one of {``'zip'``, ``'gzip'``, ``'bz2'``, ``'zstd'``, ``'xz'``, ``'tar'``} and\n",
      "        other key-value pairs are forwarded to\n",
      "        ``zipfile.ZipFile``, ``gzip.GzipFile``,\n",
      "        ``bz2.BZ2File``, ``zstandard.ZstdDecompressor``, ``lzma.LZMAFile`` or\n",
      "        ``tarfile.TarFile``, respectively.\n",
      "        As an example, the following could be passed for Zstandard decompression using a\n",
      "        custom compression dictionary:\n",
      "        ``compression={'method': 'zstd', 'dict_data': my_compression_dict}``.\n",
      "    \n",
      "        .. versionadded:: 1.5.0\n",
      "            Added support for `.tar` files.\n",
      "    \n",
      "        .. versionchanged:: 1.4.0 Zstandard support.\n",
      "    \n",
      "    thousands : str (length 1), optional\n",
      "        Character acting as the thousands separator in numerical values.\n",
      "    decimal : str (length 1), default '.'\n",
      "        Character to recognize as decimal point (e.g., use ',' for European data).\n",
      "    lineterminator : str (length 1), optional\n",
      "        Character used to denote a line break. Only valid with C parser.\n",
      "    quotechar : str (length 1), optional\n",
      "        Character used to denote the start and end of a quoted item. Quoted\n",
      "        items can include the ``delimiter`` and it will be ignored.\n",
      "    quoting : {0 or csv.QUOTE_MINIMAL, 1 or csv.QUOTE_ALL, 2 or csv.QUOTE_NONNUMERIC, 3 or csv.QUOTE_NONE}, default csv.QUOTE_MINIMAL\n",
      "        Control field quoting behavior per ``csv.QUOTE_*`` constants. Default is\n",
      "        ``csv.QUOTE_MINIMAL`` (i.e., 0) which implies that only fields containing special\n",
      "        characters are quoted (e.g., characters defined in ``quotechar``, ``delimiter``,\n",
      "        or ``lineterminator``.\n",
      "    doublequote : bool, default True\n",
      "       When ``quotechar`` is specified and ``quoting`` is not ``QUOTE_NONE``, indicate\n",
      "       whether or not to interpret two consecutive ``quotechar`` elements INSIDE a\n",
      "       field as a single ``quotechar`` element.\n",
      "    escapechar : str (length 1), optional\n",
      "        Character used to escape other characters.\n",
      "    comment : str (length 1), optional\n",
      "        Character indicating that the remainder of line should not be parsed.\n",
      "        If found at the beginning\n",
      "        of a line, the line will be ignored altogether. This parameter must be a\n",
      "        single character. Like empty lines (as long as ``skip_blank_lines=True``),\n",
      "        fully commented lines are ignored by the parameter ``header`` but not by\n",
      "        ``skiprows``. For example, if ``comment='#'``, parsing\n",
      "        ``#empty\\na,b,c\\n1,2,3`` with ``header=0`` will result in ``'a,b,c'`` being\n",
      "        treated as the header.\n",
      "    encoding : str, optional, default 'utf-8'\n",
      "        Encoding to use for UTF when reading/writing (ex. ``'utf-8'``). `List of Python\n",
      "        standard encodings\n",
      "        <https://docs.python.org/3/library/codecs.html#standard-encodings>`_ .\n",
      "    \n",
      "    encoding_errors : str, optional, default 'strict'\n",
      "        How encoding errors are treated. `List of possible values\n",
      "        <https://docs.python.org/3/library/codecs.html#error-handlers>`_ .\n",
      "    \n",
      "        .. versionadded:: 1.3.0\n",
      "    \n",
      "    dialect : str or csv.Dialect, optional\n",
      "        If provided, this parameter will override values (default or not) for the\n",
      "        following parameters: ``delimiter``, ``doublequote``, ``escapechar``,\n",
      "        ``skipinitialspace``, ``quotechar``, and ``quoting``. If it is necessary to\n",
      "        override values, a ``ParserWarning`` will be issued. See ``csv.Dialect``\n",
      "        documentation for more details.\n",
      "    on_bad_lines : {'error', 'warn', 'skip'} or Callable, default 'error'\n",
      "        Specifies what to do upon encountering a bad line (a line with too many fields).\n",
      "        Allowed values are :\n",
      "    \n",
      "        - ``'error'``, raise an Exception when a bad line is encountered.\n",
      "        - ``'warn'``, raise a warning when a bad line is encountered and skip that line.\n",
      "        - ``'skip'``, skip bad lines without raising or warning when they are encountered.\n",
      "    \n",
      "        .. versionadded:: 1.3.0\n",
      "    \n",
      "        .. versionadded:: 1.4.0\n",
      "    \n",
      "            - Callable, function with signature\n",
      "              ``(bad_line: list[str]) -> list[str] | None`` that will process a single\n",
      "              bad line. ``bad_line`` is a list of strings split by the ``sep``.\n",
      "              If the function returns ``None``, the bad line will be ignored.\n",
      "              If the function returns a new ``list`` of strings with more elements than\n",
      "              expected, a ``ParserWarning`` will be emitted while dropping extra elements.\n",
      "              Only supported when ``engine='python'``\n",
      "    \n",
      "        .. versionchanged:: 2.2.0\n",
      "    \n",
      "            - Callable, function with signature\n",
      "              as described in `pyarrow documentation\n",
      "              <https://arrow.apache.org/docs/python/generated/pyarrow.csv.ParseOptions.html\n",
      "              #pyarrow.csv.ParseOptions.invalid_row_handler>`_ when ``engine='pyarrow'``\n",
      "    \n",
      "    delim_whitespace : bool, default False\n",
      "        Specifies whether or not whitespace (e.g. ``' '`` or ``'\\t'``) will be\n",
      "        used as the ``sep`` delimiter. Equivalent to setting ``sep='\\s+'``. If this option\n",
      "        is set to ``True``, nothing should be passed in for the ``delimiter``\n",
      "        parameter.\n",
      "    \n",
      "        .. deprecated:: 2.2.0\n",
      "            Use ``sep=\"\\s+\"`` instead.\n",
      "    low_memory : bool, default True\n",
      "        Internally process the file in chunks, resulting in lower memory use\n",
      "        while parsing, but possibly mixed type inference.  To ensure no mixed\n",
      "        types either set ``False``, or specify the type with the ``dtype`` parameter.\n",
      "        Note that the entire file is read into a single :class:`~pandas.DataFrame`\n",
      "        regardless, use the ``chunksize`` or ``iterator`` parameter to return the data in\n",
      "        chunks. (Only valid with C parser).\n",
      "    memory_map : bool, default False\n",
      "        If a filepath is provided for ``filepath_or_buffer``, map the file object\n",
      "        directly onto memory and access the data directly from there. Using this\n",
      "        option can improve performance because there is no longer any I/O overhead.\n",
      "    float_precision : {'high', 'legacy', 'round_trip'}, optional\n",
      "        Specifies which converter the C engine should use for floating-point\n",
      "        values. The options are ``None`` or ``'high'`` for the ordinary converter,\n",
      "        ``'legacy'`` for the original lower precision pandas converter, and\n",
      "        ``'round_trip'`` for the round-trip converter.\n",
      "    \n",
      "    storage_options : dict, optional\n",
      "        Extra options that make sense for a particular storage connection, e.g.\n",
      "        host, port, username, password, etc. For HTTP(S) URLs the key-value pairs\n",
      "        are forwarded to ``urllib.request.Request`` as header options. For other\n",
      "        URLs (e.g. starting with \"s3://\", and \"gcs://\") the key-value pairs are\n",
      "        forwarded to ``fsspec.open``. Please see ``fsspec`` and ``urllib`` for more\n",
      "        details, and for more examples on storage options refer `here\n",
      "        <https://pandas.pydata.org/docs/user_guide/io.html?\n",
      "        highlight=storage_options#reading-writing-remote-files>`_.\n",
      "    \n",
      "    dtype_backend : {'numpy_nullable', 'pyarrow'}, default 'numpy_nullable'\n",
      "        Back-end data type applied to the resultant :class:`DataFrame`\n",
      "        (still experimental). Behaviour is as follows:\n",
      "    \n",
      "        * ``\"numpy_nullable\"``: returns nullable-dtype-backed :class:`DataFrame`\n",
      "          (default).\n",
      "        * ``\"pyarrow\"``: returns pyarrow-backed nullable :class:`ArrowDtype`\n",
      "          DataFrame.\n",
      "    \n",
      "        .. versionadded:: 2.0\n",
      "    \n",
      "    Returns\n",
      "    -------\n",
      "    DataFrame or TextFileReader\n",
      "        A comma-separated values (csv) file is returned as two-dimensional\n",
      "        data structure with labeled axes.\n",
      "    \n",
      "    See Also\n",
      "    --------\n",
      "    DataFrame.to_csv : Write DataFrame to a comma-separated values (csv) file.\n",
      "    read_table : Read general delimited file into DataFrame.\n",
      "    read_fwf : Read a table of fixed-width formatted lines into DataFrame.\n",
      "    \n",
      "    Examples\n",
      "    --------\n",
      "    >>> pd.read_csv('data.csv')  # doctest: +SKIP\n",
      "\n"
     ]
    }
   ],
   "source": [
    "help(pd.read_csv)"
   ]
  },
  {
   "cell_type": "markdown",
   "metadata": {},
   "source": [
    "As you can see, `pd.read_csv()` has *quite a few* parameters. Don't be overwhelmed – most of these are optional arguments that allow you to specify exactly how your data file is structured and which part(s) you want to import. In particular, the `sep` parameter allows the user to specify the type of delimiter used in the file. The default is a comma, but you can actually pass other common delimiters (such as `sep='\\t'`, which is a tab) to import other delimited files. The only *required* argument is a string specifying the filepath of your file. \n"
   ]
  },
  {
   "cell_type": "markdown",
   "metadata": {},
   "source": [
    "<hr style=\"border-top: 0.2px solid gray; margin-top: 12px; margin-bottom: 1px\"></hr>\n",
    "\n",
    "<img src=\"./assets/DHS-logo.png\" alt=\"pandas\" width=\"400\"/>\n",
    "\n",
    "In this session, we'll import a CSV file with household survey data collected in 2014 by **The Demographic and Health Surveys (DHS) Program** in Ghana. \n",
    " \n",
    "[DHS](https://dhsprogram.com/) are nationally-representative household surveys that provide data for a wide range of monitoring and impact evaluation indicators in the areas of population, health, and nutrition. The DHS Program has earned a worldwide reputation for collecting and disseminating accurate, nationally representative data on topics such as fertility, family planning, maternal and child health, gender, HIV/AIDS, malaria, nutrition, and environmental health. Health information is collected through interviews with women and men, as well as collection of biological samples to test for malaria, vitamin deficiencies, and many other health conditions.\n",
    "\n",
    "The CSV file is located in the `Day2/data` folder.\n",
    "\n",
    "While the file may not display properly in if you oepn then with txt editor, the first 10 lines of the file should look like:\n",
    "```\n",
    "year,rural_urban,mother_id,household_id,country,stunting,wasting,haz_new,waz_new,bmi_adult,wealth_index,lat,long\n",
    "2014,rural,         1 1  2,1 1,Ghana,NA,NA,NA,NA,2026,poorer,4.965165,-2.009094\n",
    "2014,rural,         1 1  2,1 1,Ghana,1,0,-266,-146,2026,poorer,4.965165,-2.009094\n",
    "2014,rural,         1 3  2,1 3,Ghana,0,0,-159,-198,2360,middle,4.965165,-2.009094\n",
    "2014,rural,         1 5  2,1 5,Ghana,NA,NA,NA,NA,NA,richer,4.965165,-2.009094\n",
    "2014,rural,         1 5  2,1 5,Ghana,NA,NA,NA,NA,NA,richer,4.965165,-2.009094\n",
    "```\n",
    "\n",
    "The first line of the file contains the names of the columns(variables), which are described in the table below.\n",
    "\n",
    "| Column name | Description |\n",
    "| :---------- | :---------- |\n",
    "| **year**    | Time |\n",
    "| **rural_urban**     | Household located in urban or rurual area |\n",
    "| **mother_id** | ID of the mother being surveyed |\n",
    "| **household_id** | ID of the household being surveyed |\n",
    "| **country** | Country of the survey |\n",
    "| **stunting** | If the child in the household is stunting (1) or not (0) |\n",
    "| **wasting** | If the child in the household is stunting (1) or not (0) |\n",
    "| **haz_new** | Height for age as a z score, the lower means more under the mean |\n",
    "| **waz_new** | Weight for age as a z score, the lower means more under the mean |\n",
    "| **bmi_adult** | Body Mass Index (BMI) of the adult in the family |\n",
    "| **wealth_index** | Wealth condition of the household  |\n",
    "| **lat** | Latitude of the survey location (deliberately randomly shifted from original location for privacy)|\n",
    "| **long**  | Longitude of the survey location (deliberately randomly shifted from original location for privacy) |\n",
    " \n",
    " \n",
    "We can import the data into pandas using the following syntax:\n",
    "\n",
    "```python\n",
    "dhs = pd.read_csv('./data/Ghana-2014-DHS-Household-Filtered.csv')\n",
    "```\n",
    "\n",
    "<div class=\"example\">\n",
    "    ✏️ <b> Try it. </b> \n",
    "    Copy and paste the code above to import the data in the CSV file into a pandas <code>DataFrame</code> named <code>bsrn</code>.\n",
    "</div>"
   ]
  },
  {
   "cell_type": "code",
   "execution_count": null,
   "metadata": {
    "tags": []
   },
   "outputs": [],
   "source": [
    "dhs = pd.read_csv('./data/Ghana-2014-DHS-Household-Filtered.csv')  \n",
    "# './' refers to the current directory where the notebook file is running\n",
    "\n",
    "dhs"
   ]
  },
  {
   "cell_type": "markdown",
   "metadata": {},
   "source": [
    "#### A bit of housekeeping\n",
    "\n",
    "<img src=\"assets/mariekondo.png\" alt=\"mariekondo\" width=\"400\"/>\n",
    "\n",
    "Before we move on into viewing and operating on the DataFrame, it's worth noting that data import is rarely ever this straightforward. Most raw data require considerable cleaning before they are ready for analysis. Often some of this must happen outside of Python to format the data for import, but ideally the majority of data preprocessing can be conducted in Python – allowing you to perform the same operations on multiple datasets at once and making the process easily repeatable.\n",
    "\n",
    "<img src=\"assets/datacleaning.jpg\" alt=\"datacleaning\" width=\"800\"/>\n"
   ]
  },
  {
   "cell_type": "markdown",
   "metadata": {},
   "source": [
    "### Examining your DataFrame\n",
    "<hr style=\"border-top: 0.2px solid gray; margin-top: 12px; margin-bottom: 1px\"></hr>\n",
    "\n",
    "Now that we've loaded in our data, it would be useful to take a look at it. Given the size of our `dhs` DataFrame, however, we can't simply print out the entire table. The `df.head()` method allows us to quickly view the first five rows.\n",
    "\n",
    "<div class=\"run\">\n",
    "    ▶️ <b> Run the cell below. </b>\n",
    "</div>"
   ]
  },
  {
   "cell_type": "code",
   "execution_count": null,
   "metadata": {
    "tags": []
   },
   "outputs": [],
   "source": [
    "dhs.head(1)"
   ]
  },
  {
   "cell_type": "markdown",
   "metadata": {},
   "source": [
    "Similarly, `df.tail()` prints the last five rows.\n",
    "\n",
    "<div class=\"run\">\n",
    "    ▶️ <b> Run the cell below. </b>\n",
    "</div>"
   ]
  },
  {
   "cell_type": "code",
   "execution_count": null,
   "metadata": {
    "tags": []
   },
   "outputs": [],
   "source": [
    "dhs.tail()"
   ]
  },
  {
   "cell_type": "markdown",
   "metadata": {},
   "source": [
    "Both `df.head()` and `df.tail()` can also accept an integer argument, e.g. `df.head(n)`, where the first `n` rows will be printed.\n",
    "\n",
    "<div class=\"example\">\n",
    "    ✏️ <b> Try it. </b> \n",
    "    Print the first and last 10 rows of <code>bsrn</code> using <code>df.head()</code> and <code>df.tail()</code>.\n",
    "</div>"
   ]
  },
  {
   "cell_type": "code",
   "execution_count": null,
   "metadata": {},
   "outputs": [],
   "source": [
    "# print the first 10 rows of dhs \n",
    "\n",
    "# print the last 10 rows of dhs \n"
   ]
  },
  {
   "cell_type": "markdown",
   "metadata": {},
   "source": [
    "In addition to those for viewing your data, pandas has several methods to describe attributes of your `DataFrame`. For example, `df.info()` provides basic information about the DataFrame:\n",
    "\n",
    "<div class=\"run\">\n",
    "    ▶️ <b> Run the cell below. </b>\n",
    "</div>"
   ]
  },
  {
   "cell_type": "code",
   "execution_count": null,
   "metadata": {
    "tags": []
   },
   "outputs": [],
   "source": [
    "dhs.info()"
   ]
  },
  {
   "cell_type": "markdown",
   "metadata": {},
   "source": [
    "The `df.info()` method provides several different pieces of information about the DataFrame that are sometimes useful to retrieve separately. For example, `df.index` returns the index as an iterable object for use in plotting and the `df.columns` method returns the column names as an index object which can be used in a `for` loop or to reset the column names. These and other descriptive DataFrame methods are summarized in the table below.\n",
    "\n",
    "\n",
    "| Method | Description |\n",
    "| :----- | :---------- |\n",
    "| <span style=\"font-family: Lucida Console, Courier, monospace; font-weight: bold\"> df.info() </span> | Prints a concise summary of the DataFrame |\n",
    "| <span style=\"font-family: Lucida Console, Courier, monospace; font-weight: bold\"> df.head(<i>n</i>) </span> | Returns the first *n* rows of the DataFrame |\n",
    "| <span style=\"font-family: Lucida Console, Courier, monospace; font-weight: bold\"> df.tail(<i>n</i>) </span> | Returns the last *n* rows of the DataFrame |\n",
    "| <span style=\"font-family: Lucida Console, Courier, monospace; font-weight: bold\"> df.index </span> | Returns the index range (number of rows) |\n",
    "| <span style=\"font-family: Lucida Console, Courier, monospace; font-weight: bold\"> df.columns </span> | Returns the column names |\n",
    "| <span style=\"font-family: Lucida Console, Courier, monospace; font-weight: bold\"> df.dtypes </span> | Returns a Series with the data types of each column indexed by column name |\n",
    "| <span style=\"font-family: Lucida Console, Courier, monospace; font-weight: bold\"> df.size </span> | Returns the total number of values in the DataFrame as an `int` |\n",
    "| <span style=\"font-family: Lucida Console, Courier, monospace; font-weight: bold\"> df.shape </span> | Returns the shape of the DataFrame as a tuple (*rows*,*columns*) |\n",
    "| <span style=\"font-family: Lucida Console, Courier, monospace; font-weight: bold\"> df.values </span> | Returns the DataFrame values as a NumPy array (not recommended) |\n",
    "| <span style=\"font-family: Lucida Console, Courier, monospace; font-weight: bold\"> df.describe() </span> | Returns a DataFrame with summary statistics of each column |"
   ]
  },
  {
   "cell_type": "code",
   "execution_count": null,
   "metadata": {},
   "outputs": [],
   "source": [
    "dhs.index"
   ]
  },
  {
   "cell_type": "code",
   "execution_count": null,
   "metadata": {},
   "outputs": [],
   "source": [
    "dhs.columns"
   ]
  },
  {
   "cell_type": "code",
   "execution_count": null,
   "metadata": {},
   "outputs": [],
   "source": [
    "dhs.dtypes"
   ]
  },
  {
   "cell_type": "code",
   "execution_count": null,
   "metadata": {},
   "outputs": [],
   "source": [
    "dhs.size"
   ]
  },
  {
   "cell_type": "code",
   "execution_count": null,
   "metadata": {},
   "outputs": [],
   "source": [
    "dhs.shape"
   ]
  },
  {
   "cell_type": "markdown",
   "metadata": {},
   "source": [
    "### DataFrame indexing + data selection\n",
    "<hr style=\"border-top: 0.2px solid gray; margin-top: 12px; margin-bottom: 1px\"></hr>\n",
    "\n",
    "Because DataFrames can contain *labels* as well as *indices*, indexing in pandas DataFrames is a bit more complicated than we've seen with strings, lists, and arrays. Generally speaking, pandas allows indexing by either the integer index or the label, but the syntax is a bit different for each. \n",
    "\n",
    "The index operator, which refers to the square brackets following an object `[]`, does not work quite like we might expect it to.\n",
    "\n",
    "<div class=\"run\">\n",
    "    ▶️ <b> Run the cell below. </b>\n",
    "</div>"
   ]
  },
  {
   "cell_type": "code",
   "execution_count": null,
   "metadata": {
    "tags": []
   },
   "outputs": [],
   "source": [
    "# try to loacte to the last 6th column and last 3rd row\n",
    "dhs[-6,-3]"
   ]
  },
  {
   "cell_type": "markdown",
   "metadata": {},
   "source": [
    "Instead of a value, we get a `KeyError`. This is because the `Index` object in pandas is essentially a dictionary, and we have not passed proper `keys`. \n",
    "\n",
    "Instead, pandas uses `df.iloc[]` for integer-based indexing to select data by position:\n"
   ]
  },
  {
   "cell_type": "code",
   "execution_count": null,
   "metadata": {},
   "outputs": [],
   "source": [
    "# select the 3rd row and 2nd column\n",
    "dhs.iloc[2,1]"
   ]
  },
  {
   "cell_type": "markdown",
   "metadata": {},
   "source": [
    "`df.iloc` acts just like the index operator works with arrays. In addition to indexing a single value, `df.iloc` can be used to select multiple rows and columns via slicing: `df.iloc[row_start:row_end:row_step, col_start:col_end:col_step]`."
   ]
  },
  {
   "cell_type": "code",
   "execution_count": null,
   "metadata": {},
   "outputs": [],
   "source": [
    "# Select the last 6 rows and last 3 columns\n",
    "dhs.iloc[-6:,-3:]"
   ]
  },
  {
   "cell_type": "code",
   "execution_count": null,
   "metadata": {},
   "outputs": [],
   "source": [
    "# First 5 columns, every 40th row\n",
    "dhs.iloc[::40,:5]"
   ]
  },
  {
   "cell_type": "markdown",
   "metadata": {},
   "source": [
    "#### Row indexing\n",
    "\n",
    "In addition to `df.iloc`, rows of a DataFrame can be accessed using `df.loc`, which \"locates\" rows based on their labels. Unless you have set a custom index (which we will see later), the row \"labels\" are the same as the integer index.\n",
    "\n",
    "When indexing a single row, `df.loc` (like `df.iloc`) transforms the row into a `Series`, with the column names as the index:\n",
    "\n",
    "```python\n",
    "# Classic indexing\n",
    "dhs.loc[500]\n",
    "```\n",
    "<p style=\"font-family: Lucida Console, Courier, monospace; margin-left: 22pt; margin-top: 0pt; margin-bottom: 0pt; color: #A514F6; font-weight: bold\"> >>> </p>\n",
    "<pre style=\"margin-top: 0pt;\"><samp>year                       2014\r\n",
    "rural_urban               rural\r\n",
    "mother_id               33 4  2\r\n",
    "household_id               33 4\r\n",
    "country                   Ghana\r\n",
    "stunting                    0.0\r\n",
    "wasting                     0.0\r\n",
    "haz_new                   -93.0\r\n",
    "waz_new                     9.0\r\n",
    "bmi_adult                2773.0\r\n",
    "wealth_index             poorer\r\n",
    "lat                    6.445297\r\n",
    "long                  -0.857472\r\n",
    "Name: 500, dtype: object\n",
    "</samp></pre>"
   ]
  },
  {
   "cell_type": "code",
   "execution_count": null,
   "metadata": {},
   "outputs": [],
   "source": [
    "# Classic indexing\n",
    "dhs.loc[500]"
   ]
  },
  {
   "cell_type": "code",
   "execution_count": null,
   "metadata": {
    "tags": []
   },
   "outputs": [],
   "source": [
    "one_row = dhs.loc[0]\n",
    "one_row"
   ]
  },
  {
   "cell_type": "markdown",
   "metadata": {},
   "source": [
    " "
   ]
  },
  {
   "cell_type": "markdown",
   "metadata": {},
   "source": [
    "<div class=\"python\">\n",
    "    🐍 <b>DataFrames + data types.</b>  Notice that the <code>dtype</code> of the Series is an <code>object</code>. This is because the column contains mixed data types – floats, integers, and an <code>object</code> in the first row. Unlike NumPy, pandas allows both rows and columns to contain mixed data types. However, while it is perfectly fine (and, in fact, almost always necessary) to have multiple data types within a single <b><i>row</i></b>, it is best if each <b><i>column</i></b> is comprised of a <b><i>single data type</i></b>.\n",
    "</div>"
   ]
  },
  {
   "cell_type": "markdown",
   "metadata": {},
   "source": [
    "Slicing using `df.loc` is similar to `df.iloc`, with the exception that the `stop` value is ***inclusive***:</pre>\n"
   ]
  },
  {
   "cell_type": "code",
   "execution_count": null,
   "metadata": {},
   "outputs": [],
   "source": [
    "# Using .loc\n",
    "dhs.loc[1434:1440]"
   ]
  },
  {
   "cell_type": "code",
   "execution_count": null,
   "metadata": {},
   "outputs": [],
   "source": [
    "# Using .iloc\n",
    "dhs.iloc[1434:1440]"
   ]
  },
  {
   "cell_type": "markdown",
   "metadata": {},
   "source": [
    "Did you see the difference of the two printed result?"
   ]
  },
  {
   "cell_type": "markdown",
   "metadata": {},
   "source": [
    "#### Column indexing\n",
    "\n",
    "In addition to integer indexing with `df.iloc`, columns can be accessed in two ways: dot notation `.` or square brackets `[]`. The former takes advantage of the fact that the columns are effectively \"attributes\" of the DataFrame and returns a Series:samp></pre>\n"
   ]
  },
  {
   "cell_type": "code",
   "execution_count": null,
   "metadata": {},
   "outputs": [],
   "source": [
    "dhs.wealth_index"
   ]
  },
  {
   "cell_type": "markdown",
   "metadata": {},
   "source": [
    "The second way of extracting columns is to pass the column name as a string in square brackets, i.e. `df['col']`:o the list:"
   ]
  },
  {
   "cell_type": "code",
   "execution_count": null,
   "metadata": {},
   "outputs": [],
   "source": [
    "dhs['wealth_index']"
   ]
  },
  {
   "cell_type": "markdown",
   "metadata": {},
   "source": [
    "Using single brackets, the result is a Series. However, using double brackets, it is possible to return the column as a DataFrame:o the list:"
   ]
  },
  {
   "cell_type": "code",
   "execution_count": null,
   "metadata": {},
   "outputs": [],
   "source": [
    "dhs[['wealth_index']]"
   ]
  },
  {
   "cell_type": "markdown",
   "metadata": {},
   "source": [
    "This allows you to add additional columns, which you cannot do with a `Series` object. Furthermore, with the double bracket notation, a list is being passed to the index operator (outer brackets). Thus, it is possible to extract multiple columns by adding column names to the list:"
   ]
  },
  {
   "cell_type": "code",
   "execution_count": null,
   "metadata": {
    "tags": []
   },
   "outputs": [],
   "source": [
    "new_df = dhs[['year', 'rural_urban', 'wealth_index']]\n",
    "new_df.head()"
   ]
  },
  {
   "cell_type": "markdown",
   "metadata": {},
   "source": [
    "### Handling NaN Values in pandas\n",
    "<hr style=\"border-top: 0.2px solid gray; margin-top: 12px; margin-bottom: 1px\"></hr>\n",
    "\n",
    "As you may already notice, there are a decent amount of NaN/Null values on our DHS dataset - Do not worry, this is very common - We just need to know how to properly deal with them. Working with real-world data often involves dealing with missing or undefined values, represented as ***NaN (Not a Number)*** in pandas. Proper handling of NaN values is crucial for accurate data analysis and ensuring robust models. In the next few lines of codes, we'll briefly explore methods to identify, remove, and fill NaN values in pandas DataFrames and Series. <br>\n",
    "\n",
    "NaN values can represent missing data, undefined calculations, or placeholder entries in a dataset. Understanding and managing these values is essential in data preprocessing steps.\n",
    "\n",
    "#### Identify NaN values:\r\n",
    "To detect NaN values in a DataFrame or Series, pandas provides the`pd. isna(`) function, which returns a boolean mask over the data indicating True where an element is NaN."
   ]
  },
  {
   "cell_type": "code",
   "execution_count": null,
   "metadata": {},
   "outputs": [],
   "source": [
    "# Identifying NaN values\n",
    "nan_mask = dhs.isna()\n",
    "nan_mask"
   ]
  },
  {
   "cell_type": "markdown",
   "metadata": {},
   "source": [
    "If you want to isolate to print only the elements/rows/columns that contain NaN values, you can use the `df.isna().any()` function"
   ]
  },
  {
   "cell_type": "code",
   "execution_count": null,
   "metadata": {},
   "outputs": [],
   "source": [
    "# Check for any NaNs in each row\n",
    "nan_rows = dhs[dhs.isna().any(axis=1)]\n",
    "nan_rows"
   ]
  },
  {
   "cell_type": "markdown",
   "metadata": {},
   "source": [
    "#### Removing NaN Values\r\n",
    "In some cases, you might want to exclude missing data from your analysis <br>\n",
    "\n",
    "The common method is to use `pd.dropna()`, which allows you to remove rows or columns that contain NaN valuesues."
   ]
  },
  {
   "cell_type": "code",
   "execution_count": null,
   "metadata": {},
   "outputs": [],
   "source": [
    "# Dropping rows with any NaN values\n",
    "dhs_dropped_rows = dhs.dropna()\n",
    "\n",
    "dhs_dropped_rows"
   ]
  },
  {
   "cell_type": "markdown",
   "metadata": {},
   "source": [
    "Did you notice what happen to the column index? and what happened to the size of the dataframe?"
   ]
  },
  {
   "cell_type": "code",
   "execution_count": null,
   "metadata": {},
   "outputs": [],
   "source": [
    "# Dropping columns with any NaN values\n",
    "dhs_dropped_columns = dhs.dropna(axis=1)\n",
    "\n",
    "dhs_dropped_columns"
   ]
  },
  {
   "cell_type": "markdown",
   "metadata": {},
   "source": [
    "#### Filling NaN Values\r\n",
    "Instead of removing NaN values, you can replace them with a specified value or a computed statistic such as mean, median, or mod.\n",
    "<br>We can use `pd.fillna()` to replace NaN values with a specified value or a computed value.."
   ]
  },
  {
   "cell_type": "code",
   "execution_count": null,
   "metadata": {},
   "outputs": [],
   "source": [
    "# Filling NaN values with a specific value, e.g., 0\n",
    "dhs_filled_zero = dhs.fillna(0)\n",
    "\n",
    "dhs_filled_zero"
   ]
  },
  {
   "cell_type": "code",
   "execution_count": null,
   "metadata": {},
   "outputs": [],
   "source": [
    "# Filling NaN values with the mean of each column\n",
    "# However we need to first calculate all the mean for only numerical values \n",
    "\n",
    "# Calculate mean only for numeric columns\n",
    "numeric_means = dhs.select_dtypes(include='number').mean() \n",
    "\n",
    "dhs_filled_mean = dhs.fillna(numeric_means)\n",
    "\n",
    "dhs_filled_mean"
   ]
  },
  {
   "cell_type": "markdown",
   "metadata": {},
   "source": [
    "\n",
    "For more sophisticated approaches, especially in time-series data, interpolation methods can be used to estimate the missing values<br>\n",
    "To do this, we can use the `pd.interpolate()` function."
   ]
  },
  {
   "cell_type": "code",
   "execution_count": null,
   "metadata": {},
   "outputs": [],
   "source": [
    "# Interpolate using linear method\n",
    "df_interpolated = dhs[['stunting', 'wasting', 'haz_new',\t'waz_new','bmi_adult']].interpolate(method='linear')\n",
    "\n",
    "df_interpolated"
   ]
  },
  {
   "cell_type": "markdown",
   "metadata": {},
   "source": [
    "\n",
    "When accessing a single column, the choice between using dot notation and square brackets is more or less a matter of preference. However, there are occasions when the bracket notation proves particularly useful. For example, you could access each column in a DataFrame by iterating through `df.columns`, which returns an `Index` object containing the column names as `str` objects that can be directly passed to the index operator. Additionally, you may find it useful to use the double bracket syntax to return a `DataFrame` object, rather than a `Series`, which can only ever contain a single column of data."
   ]
  },
  {
   "cell_type": "markdown",
   "metadata": {},
   "source": [
    "### `Datetime` objects\n",
    "<hr style=\"border-top: 0.2px solid gray; margin-top: 12px; margin-bottom: 1px\"></hr>\n",
    "\n",
    "Although the DHS data used in this tutorial is only at year level, in reality, many environmental datasets include timed records at much finer temporal resolution (e.g., hourly, daily). Python has a few different libraries for dealing with timestamps, which are referred to as **datetime** objects. The standard [**`datetime`**](https://docs.python.org/3/library/datetime.html) library is the primary way of manipulating dates and times in Python, but there are additional third-party packages that provide additional support. A few worth exploring are [**`dateutil`**](https://dateutil.readthedocs.io/en/stable/), an extension of the datetime library useful for parsing timestamps, and [**`pytz`**](http://pytz.sourceforge.net), which provides a smooth way of tackling time zones.\n",
    "\n",
    "Though we will not review `datetime` objects in depth here, it is useful to understand the basics of how to deal with `datetime` objects in Python as you will no doubt encounter them in the future. For now, we will focus on a few pandas functions built on the datetime library to handle `datetime` objects.\n",
    "\n",
    "The `pd.date_range()` function allows you to build a DatetimeIndex with a fixed frequency. This can be done by specifying a start date and an end date as follows:"
   ]
  },
  {
   "cell_type": "code",
   "execution_count": null,
   "metadata": {},
   "outputs": [],
   "source": [
    "# create a pandas DatetimeIndex - note the date format is '%m/%d/%Y'\n",
    "pd.date_range('3/1/2023','4/2/2023')"
   ]
  },
  {
   "cell_type": "markdown",
   "metadata": {},
   "source": [
    "Because it was not specified otherwise, the frequency was set as the default, daily. To return a different frequency, we could use the `freq` parameter:\n"
   ]
  },
  {
   "cell_type": "code",
   "execution_count": null,
   "metadata": {},
   "outputs": [],
   "source": [
    "# Specify start and end, minute-ly frequency\n",
    "pd.date_range('1/1/2023','1/31/2023', freq='min')"
   ]
  },
  {
   "cell_type": "code",
   "execution_count": null,
   "metadata": {},
   "outputs": [],
   "source": [
    "# Specify start and end, monthly frequency\n",
    "pd.date_range('1/1/2023','12/31/2023', freq='ME')"
   ]
  },
  {
   "cell_type": "markdown",
   "metadata": {},
   "source": [
    "There are many other parameters for the `pd.date_range()` function, as well as other pandas functions. More useful to us, however, are the functions for dealing with *existing* timestamps, such as those in our `dhs` DataFrame.\n"
   ]
  },
  {
   "cell_type": "markdown",
   "metadata": {},
   "source": [
    "**For demostration purpose, let's create a new colum named `'date'` for the `dhs` dataframe. The `'date'` column contains pseudo timestamps for each record of household survey**\n"
   ]
  },
  {
   "cell_type": "code",
   "execution_count": null,
   "metadata": {},
   "outputs": [],
   "source": [
    "# import packages to create timestamps\n",
    "from datetime import datetime, timedelta\n",
    "\n",
    "# Set a start datetime to January 1, 2014\n",
    "start_datetime = datetime(2014, 1, 1)\n",
    "\n",
    "# Generate hourly timestamps\n",
    "dhs['date'] = [start_datetime + timedelta(hours=i) for i in range(len(dhs))]\n",
    "dhs['date'].astype(object) # this will convert the column data type to 'object'/string"
   ]
  },
  {
   "cell_type": "markdown",
   "metadata": {},
   "source": [
    "\n",
    "#### Parsing dates in pandas\n",
    "\n",
    "Let's start by taking a look at `dhs.date`, which contains the timestamps for each record of our dhs data."
   ]
  },
  {
   "cell_type": "code",
   "execution_count": null,
   "metadata": {},
   "outputs": [],
   "source": [
    "dhs.date\n",
    "# OR dhs['date']"
   ]
  },
  {
   "cell_type": "markdown",
   "metadata": {},
   "source": [
    "While the values certainly resemble `datetime` objects, they are stored in pandas as \"objects,\" which basically means that pandas doesn't recognize the data type – it doesn't know how to handle them. <br>Using the `pd.to_datetime()` function, we can convert this column to `datetime` objects:"
   ]
  },
  {
   "cell_type": "code",
   "execution_count": null,
   "metadata": {},
   "outputs": [],
   "source": [
    "pd.to_datetime(dhs.date)"
   ]
  },
  {
   "cell_type": "markdown",
   "metadata": {},
   "source": [
    "Notice that ostensibly nothing has changed, but the `dtype` is now a `datetime` object, making it much easier to manipulate not only this column, but the entire DataFrame. For instance, now that we've told pandas that this column contains timestamps, we can set this column as the index using `df.set_index()`.\n",
    "\n",
    "<div class=\"run\">\n",
    "    ▶️ <b> Run the cell below. </b>\n",
    "</div>"
   ]
  },
  {
   "cell_type": "code",
   "execution_count": null,
   "metadata": {
    "tags": []
   },
   "outputs": [],
   "source": [
    "dhs['date'] = pd.to_datetime(dhs.date)  # Note: overwriting a column like this is NOT recommended.\n",
    "# Set bsrn.DATE as the DataFrame index\n",
    "dhs.set_index('date', inplace=True)\n",
    "dhs.head()"
   ]
  },
  {
   "cell_type": "markdown",
   "metadata": {},
   "source": [
    "As noted in the comment in the cell above, reseting the values in a column as we did in the first line of code is generally not recommended, but in this case, since we knew exactly what the result would be, it's acceptable. Also, notice the `inplace=True` argument passed to `df.set_index()`. This prevented us from having to copy the DataFrame to a new variable, instead performing the operation *in-place*.\n",
    "\n",
    "Let's take a look at our DataFrame again:\n",
    "\n",
    "<div class=\"run\">\n",
    "    ▶️ <b> Run the cell below. </b>\n",
    "</div>"
   ]
  },
  {
   "cell_type": "code",
   "execution_count": null,
   "metadata": {
    "tags": []
   },
   "outputs": [],
   "source": [
    "dhs.info()"
   ]
  },
  {
   "cell_type": "markdown",
   "metadata": {},
   "source": [
    "As expected, the index has been changed to a `DatetimeIndex`, and there is no longer a `'date'` column. Had we wanted to keep the timestamps as a column as well, we could have passed `drop=False` to `df.set_index()`, telling pandas not to *drop* (or *delete*) the `'DATE'` column. We can look at the `DatetimeIndex` just as before using `df.index`.\n",
    "\n",
    "<div class=\"run\">\n",
    "    ▶️ <b> Run the cell below. </b>\n",
    "</div>"
   ]
  },
  {
   "cell_type": "code",
   "execution_count": null,
   "metadata": {
    "tags": []
   },
   "outputs": [],
   "source": [
    "dhs.describe()"
   ]
  },
  {
   "cell_type": "markdown",
   "metadata": {},
   "source": [
    "Now that we have a `DatetimeIndex`, we can access specific attributes of the `datetime` objects like the year, day, hour, etc. To do this, we add the desired time period using dot notation: `df.index.attribute`. For a full list of attributes, see the [`pd.DatetimeIndex` documentation](https://pandas.pydata.org/pandas-docs/stable/reference/api/pandas.DatetimeIndex.html). For example:"
   ]
  },
  {
   "cell_type": "code",
   "execution_count": null,
   "metadata": {},
   "outputs": [],
   "source": [
    "# Get the hour of each record\n",
    "dhs.index.hour"
   ]
  },
  {
   "cell_type": "code",
   "execution_count": null,
   "metadata": {
    "tags": []
   },
   "outputs": [],
   "source": [
    "dhs.index.unique()"
   ]
  },
  {
   "cell_type": "markdown",
   "metadata": {},
   "source": [
    "\n",
    "The result is a pandas `Index` object with the same length as the original DataFrame. To return only the unique values, we use the `Series.unique()` function, which can be used on any `Series` object (including a column of a DataFrame):"
   ]
  },
  {
   "cell_type": "code",
   "execution_count": null,
   "metadata": {},
   "outputs": [],
   "source": [
    "# Get the unique hour values\n",
    "dhs.index.hour.unique()"
   ]
  },
  {
   "cell_type": "markdown",
   "metadata": {},
   "source": [
    "### A few useful operations\n",
    "<hr style=\"border-top: 0.2px solid gray; margin-top: 12px; margin-bottom: 1px\"></hr>\n",
    "\n",
    "Now, we'll explore `DataFrame` reduction operations, how to add and delete data, and concatenation in pandas.\n",
    "\n",
    "#### `DataFrame` reduction\n",
    "\n",
    "Much like NumPy, pandas has several useful methods for *reducing* data to a single statistic. These are intuitively named and include: `df.mean()`, `df.median()`, `df.sum()`, `df.max()`, `df.min()`, and `df.std()`. Unlike array reduction, however, these basic statistical methods in pandas operate *column-wise*, returning a Series containing the statistic for each column indexed by column name. For example:\n",
    "\n",
    "\n",
    "\n"
   ]
  },
  {
   "cell_type": "code",
   "execution_count": null,
   "metadata": {},
   "outputs": [],
   "source": [
    "# try to run the following code\n",
    "dhs.median()"
   ]
  },
  {
   "cell_type": "markdown",
   "metadata": {},
   "source": [
    "Wupos - we got an error! Why? this is because such operations require all the included columns' type to be numerical"
   ]
  },
  {
   "cell_type": "code",
   "execution_count": null,
   "metadata": {},
   "outputs": [],
   "source": [
    "# create a all numerical code and check the results\n",
    "df = pd.DataFrame({\n",
    "    'A':[25.8, 34.5, 12.4],\n",
    "    'B':[29.4, 78.2, 75.4],\n",
    "    'C':[25.6, 86.2, 23.6],\n",
    "    'D':[54.6, 99.0, 88.5]\n",
    "})\n",
    "\n",
    "# Calculate median of each column\n",
    "df.median()"
   ]
  },
  {
   "cell_type": "markdown",
   "metadata": {},
   "source": [
    "To retrieve the value for just a single column, you can use indexing to call the column as a Series:"
   ]
  },
  {
   "cell_type": "code",
   "execution_count": null,
   "metadata": {},
   "outputs": [],
   "source": [
    "# Calculate median of the bmi_adult column\n",
    "dhs['bmi_adult'].median()"
   ]
  },
  {
   "cell_type": "code",
   "execution_count": null,
   "metadata": {},
   "outputs": [],
   "source": [
    "# Calculate mean of the bmi_adult column\n",
    "dhs['bmi_adult'].mean()"
   ]
  },
  {
   "cell_type": "code",
   "execution_count": null,
   "metadata": {},
   "outputs": [],
   "source": [
    "# Calculate max of the bmi_adult column\n",
    "dhs['bmi_adult'].max()"
   ]
  },
  {
   "cell_type": "code",
   "execution_count": null,
   "metadata": {},
   "outputs": [],
   "source": [
    "# Calculate min of the bmi_adult column\n",
    "dhs['bmi_adult'].min()"
   ]
  },
  {
   "cell_type": "code",
   "execution_count": null,
   "metadata": {},
   "outputs": [],
   "source": [
    "# Calculate sum of the bmi_adult column\n",
    "dhs['bmi_adult'].sum()"
   ]
  },
  {
   "cell_type": "code",
   "execution_count": null,
   "metadata": {},
   "outputs": [],
   "source": [
    "# Calculate standard deviation of the bmi_adult column\n",
    "dhs['bmi_adult'].std()"
   ]
  },
  {
   "cell_type": "markdown",
   "metadata": {},
   "source": [
    "Furthermore, as you may alrady notice, there are lots of NaN values in our `dhs` dataframe. <br>Pandas default behaviour is to **ignore NaN values** when performing computations. This can be changed by passing `skipna=False` to the reduction method (e.g. `df.median(skipna=False)`), though skipping NaNs is often quite useful!"
   ]
  },
  {
   "cell_type": "markdown",
   "metadata": {},
   "source": [
    "#### Adding data\n",
    "\n",
    "Just like we did before when creating the `date` column, a column can be added to a DataFrame using square bracket notation with a new column label as a string. The data for the new column can come in the form of a list, Series, or a single value:\n"
   ]
  },
  {
   "cell_type": "code",
   "execution_count": null,
   "metadata": {
    "tags": []
   },
   "outputs": [],
   "source": [
    "df = pd.DataFrame([[25.8, 28.1, 16.2, 11.0],\n",
    "                   [17.9, 14.2, 18.8, 28.0],\n",
    "                   [23.6, 18.4, 29.9, 27.8],\n",
    "                   [23.6, 36.2, 22.1, 14.5]],\n",
    "                 columns=['A','B','C','D'])"
   ]
  },
  {
   "cell_type": "markdown",
   "metadata": {},
   "source": [
    "**Add a column from a list**\n",
    "\n",
    "```\n",
    "df['E'] = [13.0, 40.1, 39.8, 28.2]\n",
    "``` \n",
    "**Add a column from a Series**\n",
    "```\n",
    "df['F'] = pd.Series([18, 22, 30, 24])\n",
    "```\n",
    "**Propagate a single value through all rows**\n",
    "```\n",
    "df['G'] = 'blue'\n",
    "df\n",
    "```\n"
   ]
  },
  {
   "cell_type": "code",
   "execution_count": null,
   "metadata": {
    "tags": []
   },
   "outputs": [],
   "source": [
    "# Add a column from a list\n",
    "df['E'] = [13.0, 40.1, 39.8, 28.2]\n",
    "# Add a column from a Series\n",
    "df['F'] = pd.Series([18, 22, 30, 24])\n",
    "# Propagate a single value through all rows\n",
    "df['G'] = 'blue'\n",
    "\n",
    "df"
   ]
  },
  {
   "cell_type": "markdown",
   "metadata": {},
   "source": [
    "New columns can also be added as the result of an arithmetic operation (e.g. sum, product, etc.) performed on one or more existing columns:"
   ]
  },
  {
   "cell_type": "code",
   "execution_count": null,
   "metadata": {},
   "outputs": [],
   "source": [
    "# Add a new column by converting values in df.A from °C to °F\n",
    "df['A_degF'] = (df['A'] * (9/5)) + 32\n",
    "\n",
    "# Add a new column representing the difference between df.B and df.C\n",
    "df['BC_diff'] = df.B - df.C\n",
    "\n",
    "df"
   ]
  },
  {
   "cell_type": "markdown",
   "metadata": {},
   "source": [
    "Finally, you can use a Boolean expression to add a column, which contains **Boolean** objects (`True` or `False`) based on the condition. For example:"
   ]
  },
  {
   "cell_type": "code",
   "execution_count": null,
   "metadata": {},
   "outputs": [],
   "source": [
    "# Add a column with Booleans for values in df.D greater than or equal to 20.0\n",
    "df['D_20plus'] = df.D >= 20.0\n",
    "\n",
    "df"
   ]
  },
  {
   "cell_type": "markdown",
   "metadata": {},
   "source": [
    "These conditional expressions can also be used to create **Boolean masks**, which allow you to \"mask\" the values in the DataFrame that do not meet a condition, only extracting those that do. For example, let's use a Boolean mask to apply an mathematical expression on only certain values in column `'D'`:"
   ]
  },
  {
   "cell_type": "code",
   "execution_count": null,
   "metadata": {},
   "outputs": [],
   "source": [
    "# Subtract 20 from all values in dfD greater than or equal to 20\n",
    "df['D_less20'] = df.D[df.D >= 20.0] - 20.0\n",
    "\n",
    "df"
   ]
  },
  {
   "cell_type": "markdown",
   "metadata": {},
   "source": [
    "\n",
    "All values that do not meet the condition are hidden from the expression, leaving **NaNs** in the resulting column. Boolean masks come in quite handy in data analysis, as they allow you to extract certain rows from a DataFrame based on their values in one or more columns. \n",
    "\n",
    "Furthermore, in addition to simply **adding** columns, new columns can be **inserted** in a desired index position using `df.insert()` with arguments specifying the *location*, *name*, and *values* of the column:\n"
   ]
  },
  {
   "cell_type": "code",
   "execution_count": null,
   "metadata": {},
   "outputs": [],
   "source": [
    "# Create list of seasons\n",
    "seasons = ['winter', 'spring', 'summer', 'fall']\n",
    "\n",
    "# Insert season as first column\n",
    "df.insert(0, 'SEASON', seasons)\n",
    "\n",
    "df"
   ]
  },
  {
   "cell_type": "markdown",
   "metadata": {},
   "source": [
    "#### Removing data\n",
    "\n",
    "Unlike adding new data columns, *removing* columns from a DataFrame should be done with caution. In fact, it's not a bad idea to create a copy of your DataFrame before performing *any* operations. This will allow you to return to the original data as needed without having to re-import or re-initialize the DataFrame. If you do need to remove a column, you can use the `del` command:"
   ]
  },
  {
   "cell_type": "code",
   "execution_count": null,
   "metadata": {},
   "outputs": [],
   "source": [
    "# Delete 'G' from df\n",
    "del df['G']\n",
    "\n",
    "df"
   ]
  },
  {
   "cell_type": "markdown",
   "metadata": {},
   "source": [
    "Note that this is an *in-place* operation, meaning that the column is deleted from the original variable. Alternatively, you can use `df.pop()` to **extract** a column. This method allows a column values to be extracted (and deleted) from a DataFrame and assigned to a new variable:\n"
   ]
  },
  {
   "cell_type": "code",
   "execution_count": null,
   "metadata": {},
   "outputs": [],
   "source": [
    "# Extract column 'F' from df as a new Series\n",
    "df_F = df.pop('F')\n",
    "\n",
    "df"
   ]
  },
  {
   "cell_type": "markdown",
   "metadata": {},
   "source": [
    " "
   ]
  },
  {
   "cell_type": "markdown",
   "metadata": {},
   "source": [
    "#### Applying functions\n",
    "In addition to manipulating individual columns, you can apply a function to an entire Series or DataFrame using the pandas function `df.apply()`. For example, consider our original DataFrame `df`, which consists of temperature values in °C:\n"
   ]
  },
  {
   "cell_type": "code",
   "execution_count": null,
   "metadata": {},
   "outputs": [],
   "source": [
    "df = pd.DataFrame([[25.8, 28.1, 16.2, 11.0],[17.9, 14.2, 18.8, 28.0],\n",
    "                   [23.6, 18.4, 29.9, 27.8],[23.6, 36.2, 22.1, 14.5]],\n",
    "                 columns=['A','B','C','D'])\n",
    "df"
   ]
  },
  {
   "cell_type": "markdown",
   "metadata": {},
   "source": [
    "We previously used arithmetic operators to convert column `'A'` to °F, but we could also use a function. First, let's define a function `convert_CtoF` to convert temperature values from Celsius to Fahrenheit:\n"
   ]
  },
  {
   "cell_type": "code",
   "execution_count": null,
   "metadata": {},
   "outputs": [],
   "source": [
    "def convert_CtoF(degC):\n",
    "    \"\"\" Converts a temperature to from Celsius to Fahrenheit\n",
    "    \n",
    "    Parameters\n",
    "    ----------\n",
    "        degC : float\n",
    "            Temperature value in °C\n",
    "       \n",
    "    Returns\n",
    "    -------\n",
    "        degF : float\n",
    "            Temperature value in °F\n",
    "    \"\"\"\n",
    "    \n",
    "    degF = (degC *(9./5)) + 32\n",
    "    \n",
    "    return degF"
   ]
  },
  {
   "cell_type": "markdown",
   "metadata": {},
   "source": [
    "Using `df.apply()` we can use this function to convert values in column `'A'` as follows:"
   ]
  },
  {
   "cell_type": "code",
   "execution_count": null,
   "metadata": {},
   "outputs": [],
   "source": [
    "df['A'].apply(convert_CtoF)"
   ]
  },
  {
   "cell_type": "markdown",
   "metadata": {},
   "source": [
    "Where this becomes especially useful is for operating on entire DataFrames. You have to be careful with this if your DataFrame contains multiple data types, but it works well when you need to perform an operation on an entire DataFrame. For example, we could convert all of the values in `df` by iterating through the columns, or, using `df.apply()`, we could acheive the same result in a single line of code:"
   ]
  },
  {
   "cell_type": "code",
   "execution_count": null,
   "metadata": {},
   "outputs": [],
   "source": [
    "df.apply(convert_CtoF)"
   ]
  },
  {
   "cell_type": "markdown",
   "metadata": {},
   "source": [
    " "
   ]
  },
  {
   "cell_type": "markdown",
   "metadata": {},
   "source": [
    "#### Combining DataFrames\n",
    "\n",
    "There are several ways to combine data from multiple Series or DataFrames into a single object in pandas. These functions include [`pd.append()`](https://pandas.pydata.org/pandas-docs/stable/reference/api/pandas.DataFrame.append.html#pandas.DataFrame.append), [`pd.join()`](https://pandas.pydata.org/pandas-docs/stable/reference/api/pandas.DataFrame.join.html#pandas.DataFrame.join), and [`pd.merge()`](https://pandas.pydata.org/pandas-docs/stable/reference/api/pandas.DataFrame.merge.html#pandas.DataFrame.merge). We will focus on the general [`pd.concat()`](https://pandas.pydata.org/pandas-docs/stable/reference/api/pandas.concat.html) function, which is the most versatile way to concatenate pandas objects. To learn more about these other functions, refer to the pandas documentation or see <a href=\"https://proquest-safaribooksonline-com.proxy.library.ucsb.edu:9443/book/programming/python/9781491912126/3dot-data-manipulation-with-pandas/introduction_to_pandas_html\"> Chapter 3</a> of the <a href=\"https://proquest-safaribooksonline-com.proxy.library.ucsb.edu:9443/book/programming/python/9781491912126\"> <i>Python Data Science Handbook</i></a>.\n",
    "\n",
    "Let's start by considering the simplest case of two DataFrames with identical columns:\n"
   ]
  },
  {
   "cell_type": "code",
   "execution_count": null,
   "metadata": {},
   "outputs": [],
   "source": [
    "df1 = pd.DataFrame([['Los Angeles', 34.0522, -118.2437],\n",
    "                    ['Bamako', 12.6392, 8.0029],\n",
    "                    ['Johannesburg', -26.2041, 28.0473],\n",
    "                    ['Cairo', 30.0444, 31.2357]],\n",
    "                  columns=['CITY', 'LAT', 'LONG'])\n",
    "\n",
    "df2 = pd.DataFrame([['Cape Town', -33.9249, 18.4241],\n",
    "                    ['Kyoto', 35.0116, 135.7681],\n",
    "                    ['London', 51.5074, -0.1278],\n",
    "                    ['Cochabamba', -17.4140, -66.1653]],\n",
    "                  columns=['CITY', 'LAT', 'LONG'])"
   ]
  },
  {
   "cell_type": "markdown",
   "metadata": {},
   "source": [
    "\n",
    "Using `pd.concat([df1,df2])`, we can combine the two DataFrames into one. Notice that we must pass the DataFrames as a *list*, because `pd.concat()` requires an *iterable object* as its input.\n"
   ]
  },
  {
   "cell_type": "code",
   "execution_count": null,
   "metadata": {},
   "outputs": [],
   "source": [
    "# Concatenate df1 and df2\n",
    "city_coords = pd.concat([df1,df2])\n",
    "\n",
    "city_coords"
   ]
  },
  {
   "cell_type": "markdown",
   "metadata": {},
   "source": [
    "\n",
    "By default, pandas concatenates along the *row* axis, appending the values in `df2` to `df1` as new rows. However, notice that the original index values have been retained. Since these index labels do not contain useful information, it would be best to reset the index before proceeding. This can be done in one of two ways. First, we could have passed `ignore_index=True` to the `pd.concat()` function, telling pandas to ignore the index labels. Since we have already created a new variable, however, let's use a more general method: `df.reset_index()`. "
   ]
  },
  {
   "cell_type": "code",
   "execution_count": null,
   "metadata": {},
   "outputs": [],
   "source": [
    "# Reset index in-place and delete old index\r\n",
    "city_coords.reset_index(inplace=True, drop=True)\r\n",
    "\r\n",
    "city_coords"
   ]
  },
  {
   "cell_type": "markdown",
   "metadata": {},
   "source": [
    "By passing the optional *`inplace`* and *`drop`* parameters, we ensured that pandas would reset the index *in-place* (the default is to return a new DataFrame) and *drop* the old index (the default behaviour is to add the former index as a column).\n",
    "\n",
    "Now let's consider the case of concatenating two DataFrames whose columns do not match. In this case, pandas will keep source rows and columns separate in the concatenated DataFrame, filling empty cells with NaN values:"
   ]
  },
  {
   "cell_type": "code",
   "execution_count": null,
   "metadata": {},
   "outputs": [],
   "source": [
    "df3 = pd.DataFrame([['USA', 87],['Mali', 350],['South Africa', 1753],['Egypt', 23],\n",
    "                    ['South Africa', 25],['Japan', 47],['UK', 11],['Bolivia', 2558]],\n",
    "                  columns=['COUNTRY', 'ELEV'])\n",
    "\n",
    "# Concatenate cities1 and df3\n",
    "pd.concat([city_coords,df3])"
   ]
  },
  {
   "cell_type": "markdown",
   "metadata": {},
   "source": [
    "Instead, we must pass `axis=1` to the function to specify that we want to add the data in `df3` as columns to the new DataFrame:"
   ]
  },
  {
   "cell_type": "code",
   "execution_count": null,
   "metadata": {},
   "outputs": [],
   "source": [
    "# Concatenate along column axis\n",
    "cities = pd.concat([city_coords,df3], axis=1)\n",
    "\n",
    "cities"
   ]
  },
  {
   "cell_type": "markdown",
   "metadata": {},
   "source": [
    "### Data export\n",
    "<hr style=\"border-top: 0.2px solid gray; margin-top: 12px; margin-bottom: 1px\"></hr>\n",
    "\n",
    "While you will most likely use pandas DataFrames to manipulate data, perform statistical analyses, and visualize results *within* Python, you may encounter scenarios where it is useful to \"save\" a DataFrame with which you've been working. Exporting data from pandas is analogous to importing it. \n",
    "\n",
    "Let's take the example of the `cities` DataFrame we created in the last example. Now that we've compiled GPS coordinates of various cities, let's say we wanted to load these data into a GIS software application. We could export this DataFrame using `df.to_csv()` specifying the file name with the full file path as follows:\n",
    "\n",
    "```python\n",
    "cities.to_csv('./exports/cities.csv')\n",
    "```\n"
   ]
  },
  {
   "cell_type": "code",
   "execution_count": null,
   "metadata": {},
   "outputs": [],
   "source": []
  },
  {
   "cell_type": "markdown",
   "metadata": {},
   "source": [
    "### File Path in Python\n",
    "<hr style=\"border-top: 0.2px solid gray; margin-top: 12px; margin-bottom: 1px\"></hr>\n",
    "\n",
    "When working with files in Python, it's common to manage file paths—especially in projects that involve data analysis, file manipulation, or when your code needs to be shared or run on different systems. Here's a brief introduction on file paths and why joining them is a standard practice:\n",
    "\n",
    "#### Understanding File Path\n",
    "\n",
    "A file path provides the specific location of a file on a computer. It consists of a sequence of directories that leads to the file. There are two types: \n",
    "\n",
    "1. **Absolute Paths**: These provide the complete details needed to locate a file, starting from the root element of the file system. Example: `'C:/Users/username/Documents/file.txt'`\n",
    "2. **Relative Paths**: These are partial paths based on the current working directory. They are more flexible for projects that might be moved to a different folder structure. Example: `'./data/Ghana-2014-DHS-Household-Filtered.csv'`"
   ]
  },
  {
   "cell_type": "markdown",
   "metadata": {},
   "source": [
    "#### Joining File Paths in Python\n",
    "Joining file paths involves combining different parts of a path into a single path string using a method that is aware of the operating system's path separator (e.g., slashes in Unix/Linux or backslashes in Windows)\n",
    "\n",
    "Using `os.path.join()` function enhances portability by automatically handling path separators for different operating systems, making your code adaptable. It also improves code readability and maintenance by organizing file paths effectively, and reduces errors such as missing or doubled separators"
   ]
  },
  {
   "cell_type": "code",
   "execution_count": null,
   "metadata": {},
   "outputs": [],
   "source": [
    "import os\n",
    "\n",
    "# Path to the base directory of this workshop folder - you can modify it based on your file location\n",
    "base_dir = 'C:/Users/eqiluo1/02_Ghana_Workshop_Apr_2024/Climate-Health-Data-Science-Workshop'\n",
    "\n",
    "# relative location path file within the base directory\n",
    "filename = 'Day2/data/DhsPrevalenceWCovar.csv'\n",
    "\n",
    "full_path = os.path.join(base_dir, filename)\n",
    "\n",
    "print(full_path)"
   ]
  },
  {
   "cell_type": "code",
   "execution_count": null,
   "metadata": {},
   "outputs": [],
   "source": [
    "df = pd.read_csv(full_path)\n",
    "df"
   ]
  },
  {
   "cell_type": "markdown",
   "metadata": {},
   "source": [
    "### Congratulations!\n",
    "\n",
    "You made it to the end of your first journey with Pandas.\n"
   ]
  }
 ],
 "metadata": {
  "kernelspec": {
   "display_name": "eqi-general",
   "language": "python",
   "name": "eqi-general"
  },
  "language_info": {
   "codemirror_mode": {
    "name": "ipython",
    "version": 3
   },
   "file_extension": ".py",
   "mimetype": "text/x-python",
   "name": "python",
   "nbconvert_exporter": "python",
   "pygments_lexer": "ipython3",
   "version": "3.11.7"
  },
  "vscode": {
   "interpreter": {
    "hash": "02ac31c1bbea2dba9779e88833d1a7f8b96adbee2f2e8f94aa6bdb7029706ca5"
   }
  }
 },
 "nbformat": 4,
 "nbformat_minor": 4
}
