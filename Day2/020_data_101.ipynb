{
 "cells": [
  {
   "cell_type": "markdown",
   "metadata": {
    "cell_style": "center",
    "slideshow": {
     "slide_type": "slide"
    }
   },
   "source": [
    "# GPHY-491-591 Lecture 3: Data 101\n",
    "\n",
    "- Course Repository: [https://github.com/cascadet/GPHY-491-591](https://github.com/cascadet/GPHY-491-591)\n",
    "\n",
    "- Course Brightspace / D2L Website: [https://ecat.montana.edu/d2l/home/794961](https://ecat.montana.edu/d2l/home/794961)"
   ]
  },
  {
   "cell_type": "markdown",
   "metadata": {
    "slideshow": {
     "slide_type": "slide"
    }
   },
   "source": [
    "# <u>Plan for Today<u>\n",
    "1. Numpy\n",
    "1. Pandas \n",
    "1. Matplotlib"
   ]
  },
  {
   "cell_type": "markdown",
   "metadata": {},
   "source": [
    "## Launch Juypter Notebook from your laptop using command line\n",
    "\n",
    "- Open Command Prompt - from the Start Menu open *'Anaconda Prompt'*\n",
    "- Actiate Conda Environment (if applicable): If you have a specific Conda environment you wish to us you can , activate it  by typing `conda activate myenv` <br> For this workshop, we have already set up the BASE environment with all the necessary packages.\n",
    "- Launch Jupyter Lab or Notebook:\n",
    "    - To launch Jupyter Lab, type: `jupyter lab`\n",
    "    - To launch Jupyter Notebook, type `jupyter notebook`"
   ]
  },
  {
   "cell_type": "markdown",
   "metadata": {
    "slideshow": {
     "slide_type": "slide"
    }
   },
   "source": [
    "# Mini Conda\n",
    "- Mini Conda is a **package manager** ... it keeps track of other code bases so you don't have to.\n",
    "- Packages have versions, that change through time. It's important code you develop always uses the correct version of a package.\n",
    "- An `environment` is a container for you to let Python know which packages/versions to use.\n",
    "- Creating `environments` allow others to replicate your code."
   ]
  },
  {
   "cell_type": "markdown",
   "metadata": {
    "slideshow": {
     "slide_type": "slide"
    }
   },
   "source": [
    "# Mini Conda\n",
    "- To create an environment, type: `conda create -n myenv python=3.9` ... myenv will use Python version 3.9\n",
    "- To copy en environment from a file, type: `conda env create -f environment.yml`\n",
    "- To see what packages are in an environment, type: `conda env list`"
   ]
  },
  {
   "cell_type": "markdown",
   "metadata": {
    "slideshow": {
     "slide_type": "slide"
    }
   },
   "source": [
    "# Mini Conda\n",
    "- To use your environment, you need to activate it: `conda activate myenv` - now you are using your environment \n",
    "- To install packages, I recommend first installing [mamba](https://mamba.readthedocs.io/en/latest/installation/mamba-installation.html)\n",
    "- But you can use conda very easily: `conda install pandas` or `conda install python`\n",
    "- Congrats! You are now using environments correctly. \n",
    "- To exit your environment, type: `conda deactivate`"
   ]
  },
  {
   "cell_type": "markdown",
   "metadata": {
    "slideshow": {
     "slide_type": "slide"
    }
   },
   "source": [
    "![file-sys1.png](assets/env.png)"
   ]
  }
 ],
 "metadata": {
  "celltoolbar": "Slideshow",
  "kernelspec": {
   "display_name": "Python 3 (ipykernel)",
   "language": "python",
   "name": "python3"
  },
  "language_info": {
   "codemirror_mode": {
    "name": "ipython",
    "version": 3
   },
   "file_extension": ".py",
   "mimetype": "text/x-python",
   "name": "python",
   "nbconvert_exporter": "python",
   "pygments_lexer": "ipython3",
   "version": "3.11.5"
  }
 },
 "nbformat": 4,
 "nbformat_minor": 4
}
