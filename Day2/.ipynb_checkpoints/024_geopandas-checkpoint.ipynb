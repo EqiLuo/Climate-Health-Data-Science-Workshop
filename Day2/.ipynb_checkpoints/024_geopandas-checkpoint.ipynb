{
 "cells": [
  {
   "cell_type": "markdown",
   "metadata": {},
   "source": [
    "# Session 2-4: Introduction to Geopandas 🛰️🌍\n",
    "\n",
    "![ntl](./assets/ntl.jpg)\n",
    "\n",
    "Data science for Climate & Health is a ***broad*** topic. But generally, to figure out how we might create a more sustainabile future, we need two types of data: human and environment. These types of data are inharently geospatial because they **map** human and environment phenomena on planet earth. \n",
    "\n",
    "[<span class=\"codeb\">Geographic Information Systems</span>](https://en.wikipedia.org/wiki/Geographic_information_system) (GIS) allow for visualizing, manipulating, and analyzing human and environmental geographic data. But GIS platforms have limited utility because (1) it can be difficult to reproduce work flows with a GIS and (2) processing large volumes of data inefficent with a GIS graphical user interface (GUI). Further, GIS platforms tend to be a black box that do not allow you to fully understand how your data is being processed. \n",
    "\n",
    "Thankfully, open-source data science evangelists have developed a suite of geospatial data science packages – such as [<span class=\"codeb\">GeoPandas</span>](https://geopandas.org) and [<span class=\"codeb\">Rasterio</span>](https://rasterio.readthedocs.io) – in Python that build upon [Numpy](https://numpy.org), [<span class=\"codeb\">Pandas</span>](https://pandas.pydata.org), and other commonly used Python packages. As such, many of the data structures and functions are similar for packages like <span class=\"code\">Geopandas</span> as they are in Pandas. \n",
    "\n",
    "In this session, we will overview how GeoSpatial data can be analysized in Python. \n",
    " \n",
    "<p style=\"height:1pt\"> </p>\n",
    "\n",
    "<div class=\"boxhead2\">\n",
    "    Session Topics\n",
    "</div>\n",
    "\n",
    "<div class=\"boxtext2\">\n",
    "<ul class=\"a\">\n",
    "    <li> 📌 Introduction to <span class=\"codeb\">GeoPandas</span> </li>\n",
    "    <ul class=\"b\">\n",
    "        <li> Anatomy of a Geometry </li>\n",
    "        <li> Importing Shape Files </li>\n",
    "        <li> Concatenating and Merging Data </li>\n",
    "        <li> Coordinate reference systems and projections </li>\n",
    "    </ul>\n",
    "\n",
    "</ul>\n",
    "</div>\n",
    "\n",
    "<hr style=\"border-top: 0.2px solid gray; margin-top: 12pt; margin-bottom: 0pt\"></hr>\n",
    "\n",
    "### Instructions\n",
    "We will work through this notebook together. To run a cell, click on the cell and press \"Shift\" + \"Enter\" or click the \"Run\" button in the toolbar at the top. \n",
    "\n",
    "<p style=\"color:#408000; font-weight: bold\"> 🐍 &nbsp; &nbsp; This symbol designates an important note about Python structure, syntax, or another quirk.  </p>\n",
    "\n",
    "<p style=\"color:#008C96; font-weight: bold\"> ▶️ &nbsp; &nbsp; This symbol designates a cell with code to be run.  </p>\n",
    "\n",
    "<p style=\"color:#008C96; font-weight: bold\"> ✏️ &nbsp; &nbsp; This symbol designates a partially coded cell with an example.  </p>\n",
    "\n",
    "<hr style=\"border-top: 1px solid gray; margin-top: 24px; margin-bottom: 1px\"></hr>"
   ]
  },
  {
   "cell_type": "markdown",
   "metadata": {},
   "source": [
    "## Introduction to GeoPandas\n",
    "\n",
    "<img src=\"./assets/geopandas.png\">\n",
    "\n",
    "GeoPandas is an open-source Python library that ascribes geographic information to Pandas Series and Pandas DataFrame objects. In other words, GeoPandas enables a Pandas Series/DataFrame to have a spatial dimension, akin to a .shp file in a GIS platform. Importantly, Geopandas can perform geometric operations. To do this, GeoPandas objects use **[Shapely](https://pypi.org/project/shapely/)** geometry objects. "
   ]
  },
  {
   "cell_type": "markdown",
   "metadata": {},
   "source": [
    "### GeoSpatial Data \n",
    "<hr style=\"border-top: 0.2px solid gray; margin-top: 12px; margin-bottom: 1px\"></hr>\n",
    "\n",
    "GeoSpatial data is either `raster` (e.g. a grid) or `vector` (e.g. 2-d cartesian points, lines, or polygons). We will come back to raster data later in this lession. \n",
    "\n",
    "<img src=\"./assets/raster-vector.png\" alt=\"rastervector\" width=\"500\"/>\n",
    "\n",
    "Because GeoPandas ascribes spatial information to tabular data, GeoPandas objects are `vector` spatial data. Each row in a GeoPandas DataFrame, must have spatial information that is either a point, line, or polygon that corresponds to the geographic location(s), or area, to which the data should be mapped.  \n",
    "\n",
    "To add spatial information to a Pandas DataFrame, the `geometry` column implements a `shapely` object that contains infromation about the cartesian location of the location of that data. Let's look at an example. "
   ]
  },
  {
   "cell_type": "markdown",
   "metadata": {},
   "source": [
    "<div class=\"run\">\n",
    "    ▶️ <b> Run the cell below. </b>\n",
    "</div>"
   ]
  },
  {
   "cell_type": "code",
   "execution_count": 1,
   "metadata": {
    "tags": []
   },
   "outputs": [
    {
     "data": {
      "text/html": [
       "<div>\n",
       "<style scoped>\n",
       "    .dataframe tbody tr th:only-of-type {\n",
       "        vertical-align: middle;\n",
       "    }\n",
       "\n",
       "    .dataframe tbody tr th {\n",
       "        vertical-align: top;\n",
       "    }\n",
       "\n",
       "    .dataframe thead th {\n",
       "        text-align: right;\n",
       "    }\n",
       "</style>\n",
       "<table border=\"1\" class=\"dataframe\">\n",
       "  <thead>\n",
       "    <tr style=\"text-align: right;\">\n",
       "      <th></th>\n",
       "      <th>location</th>\n",
       "      <th>data1</th>\n",
       "      <th>data2</th>\n",
       "    </tr>\n",
       "  </thead>\n",
       "  <tbody>\n",
       "    <tr>\n",
       "      <th>0</th>\n",
       "      <td>p1</td>\n",
       "      <td>1</td>\n",
       "      <td>10</td>\n",
       "    </tr>\n",
       "    <tr>\n",
       "      <th>1</th>\n",
       "      <td>p2</td>\n",
       "      <td>2</td>\n",
       "      <td>22</td>\n",
       "    </tr>\n",
       "    <tr>\n",
       "      <th>2</th>\n",
       "      <td>p3</td>\n",
       "      <td>3</td>\n",
       "      <td>55</td>\n",
       "    </tr>\n",
       "    <tr>\n",
       "      <th>3</th>\n",
       "      <td>p4</td>\n",
       "      <td>4</td>\n",
       "      <td>67</td>\n",
       "    </tr>\n",
       "    <tr>\n",
       "      <th>4</th>\n",
       "      <td>p5</td>\n",
       "      <td>5</td>\n",
       "      <td>70</td>\n",
       "    </tr>\n",
       "    <tr>\n",
       "      <th>5</th>\n",
       "      <td>p6</td>\n",
       "      <td>6</td>\n",
       "      <td>1</td>\n",
       "    </tr>\n",
       "    <tr>\n",
       "      <th>6</th>\n",
       "      <td>p7</td>\n",
       "      <td>7</td>\n",
       "      <td>87</td>\n",
       "    </tr>\n",
       "  </tbody>\n",
       "</table>\n",
       "</div>"
      ],
      "text/plain": [
       "  location  data1  data2\n",
       "0       p1      1     10\n",
       "1       p2      2     22\n",
       "2       p3      3     55\n",
       "3       p4      4     67\n",
       "4       p5      5     70\n",
       "5       p6      6      1\n",
       "6       p7      7     87"
      ]
     },
     "execution_count": 1,
     "metadata": {},
     "output_type": "execute_result"
    }
   ],
   "source": [
    "import pandas as pd \n",
    "# Create a Pandas DataFrame from a list\n",
    "df = pd.DataFrame({'location' : ['p1','p2','p3','p4','p5','p6','p7'],\n",
    "                   'data1' : [1,2,3,4,5,6,7],\n",
    "                   'data2' : [10,22,55,67,70,1,87]})\n",
    "df"
   ]
  },
  {
   "cell_type": "markdown",
   "metadata": {},
   "source": [
    "The DataFrame has three columns - location, data1, and data2 - but it does not have any geographic information from which it can be mapped. To do this, we need to first great x and y coordinates (usually latitude and longitude)."
   ]
  },
  {
   "cell_type": "markdown",
   "metadata": {},
   "source": [
    "<div class=\"run\">\n",
    "    ▶️ <b> Run the cell below. </b>\n",
    "</div>"
   ]
  },
  {
   "cell_type": "code",
   "execution_count": 2,
   "metadata": {
    "tags": []
   },
   "outputs": [
    {
     "data": {
      "text/html": [
       "<div>\n",
       "<style scoped>\n",
       "    .dataframe tbody tr th:only-of-type {\n",
       "        vertical-align: middle;\n",
       "    }\n",
       "\n",
       "    .dataframe tbody tr th {\n",
       "        vertical-align: top;\n",
       "    }\n",
       "\n",
       "    .dataframe thead th {\n",
       "        text-align: right;\n",
       "    }\n",
       "</style>\n",
       "<table border=\"1\" class=\"dataframe\">\n",
       "  <thead>\n",
       "    <tr style=\"text-align: right;\">\n",
       "      <th></th>\n",
       "      <th>location</th>\n",
       "      <th>data1</th>\n",
       "      <th>data2</th>\n",
       "      <th>x</th>\n",
       "      <th>y</th>\n",
       "    </tr>\n",
       "  </thead>\n",
       "  <tbody>\n",
       "    <tr>\n",
       "      <th>0</th>\n",
       "      <td>p1</td>\n",
       "      <td>1</td>\n",
       "      <td>10</td>\n",
       "      <td>0</td>\n",
       "      <td>1</td>\n",
       "    </tr>\n",
       "    <tr>\n",
       "      <th>1</th>\n",
       "      <td>p2</td>\n",
       "      <td>2</td>\n",
       "      <td>22</td>\n",
       "      <td>2</td>\n",
       "      <td>0</td>\n",
       "    </tr>\n",
       "    <tr>\n",
       "      <th>2</th>\n",
       "      <td>p3</td>\n",
       "      <td>3</td>\n",
       "      <td>55</td>\n",
       "      <td>3</td>\n",
       "      <td>5</td>\n",
       "    </tr>\n",
       "    <tr>\n",
       "      <th>3</th>\n",
       "      <td>p4</td>\n",
       "      <td>4</td>\n",
       "      <td>67</td>\n",
       "      <td>4</td>\n",
       "      <td>2</td>\n",
       "    </tr>\n",
       "    <tr>\n",
       "      <th>4</th>\n",
       "      <td>p5</td>\n",
       "      <td>5</td>\n",
       "      <td>70</td>\n",
       "      <td>20</td>\n",
       "      <td>6</td>\n",
       "    </tr>\n",
       "    <tr>\n",
       "      <th>5</th>\n",
       "      <td>p6</td>\n",
       "      <td>6</td>\n",
       "      <td>1</td>\n",
       "      <td>4</td>\n",
       "      <td>4</td>\n",
       "    </tr>\n",
       "    <tr>\n",
       "      <th>6</th>\n",
       "      <td>p7</td>\n",
       "      <td>7</td>\n",
       "      <td>87</td>\n",
       "      <td>10</td>\n",
       "      <td>11</td>\n",
       "    </tr>\n",
       "  </tbody>\n",
       "</table>\n",
       "</div>"
      ],
      "text/plain": [
       "  location  data1  data2   x   y\n",
       "0       p1      1     10   0   1\n",
       "1       p2      2     22   2   0\n",
       "2       p3      3     55   3   5\n",
       "3       p4      4     67   4   2\n",
       "4       p5      5     70  20   6\n",
       "5       p6      6      1   4   4\n",
       "6       p7      7     87  10  11"
      ]
     },
     "execution_count": 2,
     "metadata": {},
     "output_type": "execute_result"
    }
   ],
   "source": [
    "df['x'] = [0,2,3,4,20,4,10]\n",
    "df['y'] = [1,0,5,2,6,4,11]\n",
    "df"
   ]
  },
  {
   "cell_type": "markdown",
   "metadata": {},
   "source": [
    "Now we will turn our `x` and `y` columns into a `Shapely POINT` and implement a `GeoPandas DataFrame`"
   ]
  },
  {
   "cell_type": "markdown",
   "metadata": {},
   "source": [
    "<div class=\"run\">\n",
    "    ▶️ <b> Run the cell below. </b>\n",
    "</div>"
   ]
  },
  {
   "cell_type": "code",
   "execution_count": 3,
   "metadata": {
    "tags": []
   },
   "outputs": [
    {
     "data": {
      "text/html": [
       "<div>\n",
       "<style scoped>\n",
       "    .dataframe tbody tr th:only-of-type {\n",
       "        vertical-align: middle;\n",
       "    }\n",
       "\n",
       "    .dataframe tbody tr th {\n",
       "        vertical-align: top;\n",
       "    }\n",
       "\n",
       "    .dataframe thead th {\n",
       "        text-align: right;\n",
       "    }\n",
       "</style>\n",
       "<table border=\"1\" class=\"dataframe\">\n",
       "  <thead>\n",
       "    <tr style=\"text-align: right;\">\n",
       "      <th></th>\n",
       "      <th>location</th>\n",
       "      <th>data1</th>\n",
       "      <th>data2</th>\n",
       "      <th>x</th>\n",
       "      <th>y</th>\n",
       "      <th>geometry</th>\n",
       "    </tr>\n",
       "  </thead>\n",
       "  <tbody>\n",
       "    <tr>\n",
       "      <th>0</th>\n",
       "      <td>p1</td>\n",
       "      <td>1</td>\n",
       "      <td>10</td>\n",
       "      <td>0</td>\n",
       "      <td>1</td>\n",
       "      <td>POINT (0.00000 1.00000)</td>\n",
       "    </tr>\n",
       "    <tr>\n",
       "      <th>1</th>\n",
       "      <td>p2</td>\n",
       "      <td>2</td>\n",
       "      <td>22</td>\n",
       "      <td>2</td>\n",
       "      <td>0</td>\n",
       "      <td>POINT (2.00000 0.00000)</td>\n",
       "    </tr>\n",
       "    <tr>\n",
       "      <th>2</th>\n",
       "      <td>p3</td>\n",
       "      <td>3</td>\n",
       "      <td>55</td>\n",
       "      <td>3</td>\n",
       "      <td>5</td>\n",
       "      <td>POINT (3.00000 5.00000)</td>\n",
       "    </tr>\n",
       "    <tr>\n",
       "      <th>3</th>\n",
       "      <td>p4</td>\n",
       "      <td>4</td>\n",
       "      <td>67</td>\n",
       "      <td>4</td>\n",
       "      <td>2</td>\n",
       "      <td>POINT (4.00000 2.00000)</td>\n",
       "    </tr>\n",
       "    <tr>\n",
       "      <th>4</th>\n",
       "      <td>p5</td>\n",
       "      <td>5</td>\n",
       "      <td>70</td>\n",
       "      <td>20</td>\n",
       "      <td>6</td>\n",
       "      <td>POINT (20.00000 6.00000)</td>\n",
       "    </tr>\n",
       "    <tr>\n",
       "      <th>5</th>\n",
       "      <td>p6</td>\n",
       "      <td>6</td>\n",
       "      <td>1</td>\n",
       "      <td>4</td>\n",
       "      <td>4</td>\n",
       "      <td>POINT (4.00000 4.00000)</td>\n",
       "    </tr>\n",
       "    <tr>\n",
       "      <th>6</th>\n",
       "      <td>p7</td>\n",
       "      <td>7</td>\n",
       "      <td>87</td>\n",
       "      <td>10</td>\n",
       "      <td>11</td>\n",
       "      <td>POINT (10.00000 11.00000)</td>\n",
       "    </tr>\n",
       "  </tbody>\n",
       "</table>\n",
       "</div>"
      ],
      "text/plain": [
       "  location  data1  data2   x   y                   geometry\n",
       "0       p1      1     10   0   1    POINT (0.00000 1.00000)\n",
       "1       p2      2     22   2   0    POINT (2.00000 0.00000)\n",
       "2       p3      3     55   3   5    POINT (3.00000 5.00000)\n",
       "3       p4      4     67   4   2    POINT (4.00000 2.00000)\n",
       "4       p5      5     70  20   6   POINT (20.00000 6.00000)\n",
       "5       p6      6      1   4   4    POINT (4.00000 4.00000)\n",
       "6       p7      7     87  10  11  POINT (10.00000 11.00000)"
      ]
     },
     "execution_count": 3,
     "metadata": {},
     "output_type": "execute_result"
    }
   ],
   "source": [
    "from shapely.geometry import Point\n",
    "import geopandas as gpd\n",
    "\n",
    "df['geometry'] = [Point(xy) for xy in zip(df.x, df.y)] \n",
    "gdf = gpd.GeoDataFrame(df)\n",
    "gdf"
   ]
  },
  {
   "cell_type": "code",
   "execution_count": 4,
   "metadata": {
    "tags": []
   },
   "outputs": [
    {
     "data": {
      "text/plain": [
       "shapely.geometry.point.Point"
      ]
     },
     "execution_count": 4,
     "metadata": {},
     "output_type": "execute_result"
    }
   ],
   "source": [
    "# check the type of object for the first geometry\n",
    "type(gdf['geometry'][0])"
   ]
  },
  {
   "cell_type": "markdown",
   "metadata": {},
   "source": [
    "#### Now, let's map our data!\n",
    "Notice that the points are plotted on the x and y coordinates we provided, but the color of the points corresponds to data2 feild. If you change the column to data2, then the colors will change to represent data2. "
   ]
  },
  {
   "cell_type": "markdown",
   "metadata": {},
   "source": [
    "<div class=\"run\">\n",
    "    ▶️ <b> Run the cell below. </b>\n",
    "</div>"
   ]
  },
  {
   "cell_type": "code",
   "execution_count": 5,
   "metadata": {
    "tags": []
   },
   "outputs": [
    {
     "data": {
      "image/png": "[encoded data removed]",
      "text/plain": [
       "<Figure size 640x480 with 2 Axes>"
      ]
     },
     "metadata": {},
     "output_type": "display_data"
    }
   ],
   "source": [
    "ax = gdf.plot(column = 'data1', legend = True)"
   ]
  },
  {
   "cell_type": "markdown",
   "metadata": {},
   "source": [
    "##### Let's do the same for our GHS data!"
   ]
  },
  {
   "cell_type": "markdown",
   "metadata": {},
   "source": [
    "Similarly, our Ghana DHS 2014 dataset (.csv) has two columns `'lat'` and `'lon'` which record the locations of the surveyed households. But to convert it from a *Pandas Dataframe* to *Geopandas Dataframe*, we need to create a geometry variable. "
   ]
  },
  {
   "cell_type": "code",
   "execution_count": 6,
   "metadata": {},
   "outputs": [
    {
     "data": {
      "text/html": [
       "<div>\n",
       "<style scoped>\n",
       "    .dataframe tbody tr th:only-of-type {\n",
       "        vertical-align: middle;\n",
       "    }\n",
       "\n",
       "    .dataframe tbody tr th {\n",
       "        vertical-align: top;\n",
       "    }\n",
       "\n",
       "    .dataframe thead th {\n",
       "        text-align: right;\n",
       "    }\n",
       "</style>\n",
       "<table border=\"1\" class=\"dataframe\">\n",
       "  <thead>\n",
       "    <tr style=\"text-align: right;\">\n",
       "      <th></th>\n",
       "      <th>year</th>\n",
       "      <th>rural_urban</th>\n",
       "      <th>mother_id</th>\n",
       "      <th>household_id</th>\n",
       "      <th>country</th>\n",
       "      <th>stunting</th>\n",
       "      <th>wasting</th>\n",
       "      <th>haz_new</th>\n",
       "      <th>waz_new</th>\n",
       "      <th>bmi_adult</th>\n",
       "      <th>wealth_index</th>\n",
       "      <th>lat</th>\n",
       "      <th>long</th>\n",
       "      <th>geometry</th>\n",
       "    </tr>\n",
       "  </thead>\n",
       "  <tbody>\n",
       "    <tr>\n",
       "      <th>0</th>\n",
       "      <td>2014</td>\n",
       "      <td>rural</td>\n",
       "      <td>1 1  2</td>\n",
       "      <td>1 1</td>\n",
       "      <td>Ghana</td>\n",
       "      <td>NaN</td>\n",
       "      <td>NaN</td>\n",
       "      <td>NaN</td>\n",
       "      <td>NaN</td>\n",
       "      <td>2026.0</td>\n",
       "      <td>poorer</td>\n",
       "      <td>4.965165</td>\n",
       "      <td>-2.009094</td>\n",
       "      <td>POINT (-2.00909 4.96516)</td>\n",
       "    </tr>\n",
       "    <tr>\n",
       "      <th>1</th>\n",
       "      <td>2014</td>\n",
       "      <td>rural</td>\n",
       "      <td>1 1  2</td>\n",
       "      <td>1 1</td>\n",
       "      <td>Ghana</td>\n",
       "      <td>1.0</td>\n",
       "      <td>0.0</td>\n",
       "      <td>-266.0</td>\n",
       "      <td>-146.0</td>\n",
       "      <td>2026.0</td>\n",
       "      <td>poorer</td>\n",
       "      <td>4.965165</td>\n",
       "      <td>-2.009094</td>\n",
       "      <td>POINT (-2.00909 4.96516)</td>\n",
       "    </tr>\n",
       "    <tr>\n",
       "      <th>2</th>\n",
       "      <td>2014</td>\n",
       "      <td>rural</td>\n",
       "      <td>1 3  2</td>\n",
       "      <td>1 3</td>\n",
       "      <td>Ghana</td>\n",
       "      <td>0.0</td>\n",
       "      <td>0.0</td>\n",
       "      <td>-159.0</td>\n",
       "      <td>-198.0</td>\n",
       "      <td>2360.0</td>\n",
       "      <td>middle</td>\n",
       "      <td>4.965165</td>\n",
       "      <td>-2.009094</td>\n",
       "      <td>POINT (-2.00909 4.96516)</td>\n",
       "    </tr>\n",
       "    <tr>\n",
       "      <th>3</th>\n",
       "      <td>2014</td>\n",
       "      <td>rural</td>\n",
       "      <td>1 5  2</td>\n",
       "      <td>1 5</td>\n",
       "      <td>Ghana</td>\n",
       "      <td>NaN</td>\n",
       "      <td>NaN</td>\n",
       "      <td>NaN</td>\n",
       "      <td>NaN</td>\n",
       "      <td>NaN</td>\n",
       "      <td>richer</td>\n",
       "      <td>4.965165</td>\n",
       "      <td>-2.009094</td>\n",
       "      <td>POINT (-2.00909 4.96516)</td>\n",
       "    </tr>\n",
       "    <tr>\n",
       "      <th>4</th>\n",
       "      <td>2014</td>\n",
       "      <td>rural</td>\n",
       "      <td>1 5  2</td>\n",
       "      <td>1 5</td>\n",
       "      <td>Ghana</td>\n",
       "      <td>NaN</td>\n",
       "      <td>NaN</td>\n",
       "      <td>NaN</td>\n",
       "      <td>NaN</td>\n",
       "      <td>NaN</td>\n",
       "      <td>richer</td>\n",
       "      <td>4.965165</td>\n",
       "      <td>-2.009094</td>\n",
       "      <td>POINT (-2.00909 4.96516)</td>\n",
       "    </tr>\n",
       "    <tr>\n",
       "      <th>...</th>\n",
       "      <td>...</td>\n",
       "      <td>...</td>\n",
       "      <td>...</td>\n",
       "      <td>...</td>\n",
       "      <td>...</td>\n",
       "      <td>...</td>\n",
       "      <td>...</td>\n",
       "      <td>...</td>\n",
       "      <td>...</td>\n",
       "      <td>...</td>\n",
       "      <td>...</td>\n",
       "      <td>...</td>\n",
       "      <td>...</td>\n",
       "      <td>...</td>\n",
       "    </tr>\n",
       "    <tr>\n",
       "      <th>5879</th>\n",
       "      <td>2014</td>\n",
       "      <td>urban</td>\n",
       "      <td>42715  1</td>\n",
       "      <td>42715</td>\n",
       "      <td>Ghana</td>\n",
       "      <td>NaN</td>\n",
       "      <td>NaN</td>\n",
       "      <td>NaN</td>\n",
       "      <td>NaN</td>\n",
       "      <td>NaN</td>\n",
       "      <td>poorer</td>\n",
       "      <td>5.907477</td>\n",
       "      <td>-1.045247</td>\n",
       "      <td>POINT (-1.04525 5.90748)</td>\n",
       "    </tr>\n",
       "    <tr>\n",
       "      <th>5880</th>\n",
       "      <td>2014</td>\n",
       "      <td>urban</td>\n",
       "      <td>42729  1</td>\n",
       "      <td>42729</td>\n",
       "      <td>Ghana</td>\n",
       "      <td>0.0</td>\n",
       "      <td>0.0</td>\n",
       "      <td>-69.0</td>\n",
       "      <td>-127.0</td>\n",
       "      <td>2254.0</td>\n",
       "      <td>middle</td>\n",
       "      <td>5.907477</td>\n",
       "      <td>-1.045247</td>\n",
       "      <td>POINT (-1.04525 5.90748)</td>\n",
       "    </tr>\n",
       "    <tr>\n",
       "      <th>5881</th>\n",
       "      <td>2014</td>\n",
       "      <td>urban</td>\n",
       "      <td>42731  2</td>\n",
       "      <td>42731</td>\n",
       "      <td>Ghana</td>\n",
       "      <td>NaN</td>\n",
       "      <td>NaN</td>\n",
       "      <td>NaN</td>\n",
       "      <td>NaN</td>\n",
       "      <td>NaN</td>\n",
       "      <td>poorer</td>\n",
       "      <td>5.907477</td>\n",
       "      <td>-1.045247</td>\n",
       "      <td>POINT (-1.04525 5.90748)</td>\n",
       "    </tr>\n",
       "    <tr>\n",
       "      <th>5882</th>\n",
       "      <td>2014</td>\n",
       "      <td>urban</td>\n",
       "      <td>42732  2</td>\n",
       "      <td>42732</td>\n",
       "      <td>Ghana</td>\n",
       "      <td>NaN</td>\n",
       "      <td>NaN</td>\n",
       "      <td>NaN</td>\n",
       "      <td>NaN</td>\n",
       "      <td>NaN</td>\n",
       "      <td>poorer</td>\n",
       "      <td>5.907477</td>\n",
       "      <td>-1.045247</td>\n",
       "      <td>POINT (-1.04525 5.90748)</td>\n",
       "    </tr>\n",
       "    <tr>\n",
       "      <th>5883</th>\n",
       "      <td>2014</td>\n",
       "      <td>urban</td>\n",
       "      <td>42732  2</td>\n",
       "      <td>42732</td>\n",
       "      <td>Ghana</td>\n",
       "      <td>NaN</td>\n",
       "      <td>NaN</td>\n",
       "      <td>NaN</td>\n",
       "      <td>NaN</td>\n",
       "      <td>NaN</td>\n",
       "      <td>poorer</td>\n",
       "      <td>5.907477</td>\n",
       "      <td>-1.045247</td>\n",
       "      <td>POINT (-1.04525 5.90748)</td>\n",
       "    </tr>\n",
       "  </tbody>\n",
       "</table>\n",
       "<p>5801 rows × 14 columns</p>\n",
       "</div>"
      ],
      "text/plain": [
       "      year rural_urban        mother_id household_id country  stunting  \\\n",
       "0     2014       rural           1 1  2          1 1   Ghana       NaN   \n",
       "1     2014       rural           1 1  2          1 1   Ghana       1.0   \n",
       "2     2014       rural           1 3  2          1 3   Ghana       0.0   \n",
       "3     2014       rural           1 5  2          1 5   Ghana       NaN   \n",
       "4     2014       rural           1 5  2          1 5   Ghana       NaN   \n",
       "...    ...         ...              ...          ...     ...       ...   \n",
       "5879  2014       urban         42715  1        42715   Ghana       NaN   \n",
       "5880  2014       urban         42729  1        42729   Ghana       0.0   \n",
       "5881  2014       urban         42731  2        42731   Ghana       NaN   \n",
       "5882  2014       urban         42732  2        42732   Ghana       NaN   \n",
       "5883  2014       urban         42732  2        42732   Ghana       NaN   \n",
       "\n",
       "      wasting  haz_new  waz_new  bmi_adult wealth_index       lat      long  \\\n",
       "0         NaN      NaN      NaN     2026.0       poorer  4.965165 -2.009094   \n",
       "1         0.0   -266.0   -146.0     2026.0       poorer  4.965165 -2.009094   \n",
       "2         0.0   -159.0   -198.0     2360.0       middle  4.965165 -2.009094   \n",
       "3         NaN      NaN      NaN        NaN       richer  4.965165 -2.009094   \n",
       "4         NaN      NaN      NaN        NaN       richer  4.965165 -2.009094   \n",
       "...       ...      ...      ...        ...          ...       ...       ...   \n",
       "5879      NaN      NaN      NaN        NaN       poorer  5.907477 -1.045247   \n",
       "5880      0.0    -69.0   -127.0     2254.0       middle  5.907477 -1.045247   \n",
       "5881      NaN      NaN      NaN        NaN       poorer  5.907477 -1.045247   \n",
       "5882      NaN      NaN      NaN        NaN       poorer  5.907477 -1.045247   \n",
       "5883      NaN      NaN      NaN        NaN       poorer  5.907477 -1.045247   \n",
       "\n",
       "                      geometry  \n",
       "0     POINT (-2.00909 4.96516)  \n",
       "1     POINT (-2.00909 4.96516)  \n",
       "2     POINT (-2.00909 4.96516)  \n",
       "3     POINT (-2.00909 4.96516)  \n",
       "4     POINT (-2.00909 4.96516)  \n",
       "...                        ...  \n",
       "5879  POINT (-1.04525 5.90748)  \n",
       "5880  POINT (-1.04525 5.90748)  \n",
       "5881  POINT (-1.04525 5.90748)  \n",
       "5882  POINT (-1.04525 5.90748)  \n",
       "5883  POINT (-1.04525 5.90748)  \n",
       "\n",
       "[5801 rows x 14 columns]"
      ]
     },
     "execution_count": 6,
     "metadata": {},
     "output_type": "execute_result"
    }
   ],
   "source": [
    "# First let's load the Ghana survey dataset\n",
    "df = pd.read_csv('./data/Ghana-2014-DHS-Household-Filtered.csv')\n",
    "\n",
    "# Identify records where both longitude and latitude are 0\n",
    "index_to_drop = df[(df['long'] == 0) & (df['lat'] == 0)].index\n",
    "\n",
    "# Drop these records using the drop function\n",
    "df = df.drop(index_to_drop)\n",
    "\n",
    "# Create geometry (vector point) from the lon and lat coordinates\n",
    "geometry = [Point(xy) for xy in zip(df['long'], df['lat'])]\n",
    "\n",
    "# Convert pandas dataframe to geopandas dataframe\n",
    "geo_df = gpd.GeoDataFrame(df, geometry=geometry)\n",
    "\n",
    "# Set the CRS to WGS 84 (EPSG:4326)\n",
    "# This step is important as later you may want to reproject the vector files\n",
    "geo_df.set_crs(\"EPSG:4326\", inplace=True)\n",
    "\n",
    "geo_df"
   ]
  },
  {
   "cell_type": "code",
   "execution_count": 7,
   "metadata": {},
   "outputs": [
    {
     "data": {
      "text/html": [
       "<div>\n",
       "<style scoped>\n",
       "    .dataframe tbody tr th:only-of-type {\n",
       "        vertical-align: middle;\n",
       "    }\n",
       "\n",
       "    .dataframe tbody tr th {\n",
       "        vertical-align: top;\n",
       "    }\n",
       "\n",
       "    .dataframe thead th {\n",
       "        text-align: right;\n",
       "    }\n",
       "</style>\n",
       "<table border=\"1\" class=\"dataframe\">\n",
       "  <thead>\n",
       "    <tr style=\"text-align: right;\">\n",
       "      <th></th>\n",
       "      <th>lat</th>\n",
       "      <th>long</th>\n",
       "      <th>geometry</th>\n",
       "    </tr>\n",
       "  </thead>\n",
       "  <tbody>\n",
       "    <tr>\n",
       "      <th>0</th>\n",
       "      <td>4.965165</td>\n",
       "      <td>-2.009094</td>\n",
       "      <td>POINT (-2.00909 4.96516)</td>\n",
       "    </tr>\n",
       "    <tr>\n",
       "      <th>1</th>\n",
       "      <td>4.965165</td>\n",
       "      <td>-2.009094</td>\n",
       "      <td>POINT (-2.00909 4.96516)</td>\n",
       "    </tr>\n",
       "    <tr>\n",
       "      <th>2</th>\n",
       "      <td>4.965165</td>\n",
       "      <td>-2.009094</td>\n",
       "      <td>POINT (-2.00909 4.96516)</td>\n",
       "    </tr>\n",
       "    <tr>\n",
       "      <th>3</th>\n",
       "      <td>4.965165</td>\n",
       "      <td>-2.009094</td>\n",
       "      <td>POINT (-2.00909 4.96516)</td>\n",
       "    </tr>\n",
       "    <tr>\n",
       "      <th>4</th>\n",
       "      <td>4.965165</td>\n",
       "      <td>-2.009094</td>\n",
       "      <td>POINT (-2.00909 4.96516)</td>\n",
       "    </tr>\n",
       "    <tr>\n",
       "      <th>...</th>\n",
       "      <td>...</td>\n",
       "      <td>...</td>\n",
       "      <td>...</td>\n",
       "    </tr>\n",
       "    <tr>\n",
       "      <th>5879</th>\n",
       "      <td>5.907477</td>\n",
       "      <td>-1.045247</td>\n",
       "      <td>POINT (-1.04525 5.90748)</td>\n",
       "    </tr>\n",
       "    <tr>\n",
       "      <th>5880</th>\n",
       "      <td>5.907477</td>\n",
       "      <td>-1.045247</td>\n",
       "      <td>POINT (-1.04525 5.90748)</td>\n",
       "    </tr>\n",
       "    <tr>\n",
       "      <th>5881</th>\n",
       "      <td>5.907477</td>\n",
       "      <td>-1.045247</td>\n",
       "      <td>POINT (-1.04525 5.90748)</td>\n",
       "    </tr>\n",
       "    <tr>\n",
       "      <th>5882</th>\n",
       "      <td>5.907477</td>\n",
       "      <td>-1.045247</td>\n",
       "      <td>POINT (-1.04525 5.90748)</td>\n",
       "    </tr>\n",
       "    <tr>\n",
       "      <th>5883</th>\n",
       "      <td>5.907477</td>\n",
       "      <td>-1.045247</td>\n",
       "      <td>POINT (-1.04525 5.90748)</td>\n",
       "    </tr>\n",
       "  </tbody>\n",
       "</table>\n",
       "<p>5801 rows × 3 columns</p>\n",
       "</div>"
      ],
      "text/plain": [
       "           lat      long                  geometry\n",
       "0     4.965165 -2.009094  POINT (-2.00909 4.96516)\n",
       "1     4.965165 -2.009094  POINT (-2.00909 4.96516)\n",
       "2     4.965165 -2.009094  POINT (-2.00909 4.96516)\n",
       "3     4.965165 -2.009094  POINT (-2.00909 4.96516)\n",
       "4     4.965165 -2.009094  POINT (-2.00909 4.96516)\n",
       "...        ...       ...                       ...\n",
       "5879  5.907477 -1.045247  POINT (-1.04525 5.90748)\n",
       "5880  5.907477 -1.045247  POINT (-1.04525 5.90748)\n",
       "5881  5.907477 -1.045247  POINT (-1.04525 5.90748)\n",
       "5882  5.907477 -1.045247  POINT (-1.04525 5.90748)\n",
       "5883  5.907477 -1.045247  POINT (-1.04525 5.90748)\n",
       "\n",
       "[5801 rows x 3 columns]"
      ]
     },
     "execution_count": 7,
     "metadata": {},
     "output_type": "execute_result"
    }
   ],
   "source": [
    "geo_df[['lat', 'long', 'geometry']]"
   ]
  },
  {
   "cell_type": "markdown",
   "metadata": {},
   "source": [
    "See! Our table has been geospatialized\n",
    "<br>You can use the [`gdf.plot()`](https://geopandas.org/en/stable/docs/reference/api/geopandas.GeoDataFrame.plot.html) function to visualize vector files in Python. Geopandas provides a high-level interface to the Matplotlib for making maps - for more detailed information, please check the User Guide Page from Geopandas [Mapping and plotting tools](https://geopandas.org/en/stable/docs/user_guide/mapping.html)"
   ]
  },
  {
   "cell_type": "code",
   "execution_count": 8,
   "metadata": {},
   "outputs": [
    {
     "data": {
      "image/png": "[encoded data removed]",
      "text/plain": [
       "<Figure size 800x600 with 1 Axes>"
      ]
     },
     "metadata": {},
     "output_type": "display_data"
    }
   ],
   "source": [
    "# Import matplotlib package \n",
    "import matplotlib.pyplot as plt\n",
    "\n",
    "# Initialize empty figure\n",
    "fig, ax = plt.subplots(1, 1, figsize=(8, 6))\n",
    "\n",
    "# Plot the locations of the household survey\n",
    "geo_df.plot(color='grey', markersize=5, ax=ax)\n",
    "\n",
    "plt.title('Geographic Distribution of 2014 DHS Survey Responses in Ghana')\n",
    "plt.xlabel('Longitude')\n",
    "plt.ylabel('Latitude')\n",
    "\n",
    "plt.show()"
   ]
  },
  {
   "cell_type": "markdown",
   "metadata": {},
   "source": [
    "You can also visualize different variables on the survey data."
   ]
  },
  {
   "cell_type": "code",
   "execution_count": 9,
   "metadata": {},
   "outputs": [
    {
     "data": {
      "image/png": "[encoded data removed]",
      "text/plain": [
       "<Figure size 800x600 with 1 Axes>"
      ]
     },
     "metadata": {},
     "output_type": "display_data"
    }
   ],
   "source": [
    "# PLOT THE RURAL/URBAN DISTRIBUTION ON THE SURVEY LOCATIONS\n",
    "\n",
    "# Initialize the plot\n",
    "fig, ax = plt.subplots(1, 1, figsize=(8, 6))\n",
    "\n",
    "# Plot the locations of the household survey with the rural/urban column defining the colors\n",
    "geo_df.plot(column='rural_urban', markersize=8, legend=True,\n",
    "            legend_kwds={'loc': 'upper left', 'bbox_to_anchor': (1, 1)}, ax=ax)\n",
    "\n",
    "# Set plot title and labels\n",
    "plt.title('Locations (Rural vs Urban) of 2014 DHS Survey Responses in Ghana')\n",
    "plt.xlabel('Longitude')\n",
    "plt.ylabel('Latitude')\n",
    "\n",
    "# Adjust the layout to make room for the legend\n",
    "plt.tight_layout()\n",
    "\n",
    "# Show the plot\n",
    "plt.show()"
   ]
  },
  {
   "cell_type": "markdown",
   "metadata": {},
   "source": [
    "### Importing Shape files\n",
    "<hr style=\"border-top: 0.2px solid gray; margin-top: 12px; margin-bottom: 1px\"></hr>"
   ]
  },
  {
   "cell_type": "markdown",
   "metadata": {},
   "source": [
    "GeoPandas can easily load vector data from `.shp` files, as well as `.csv`, `.json`, and other common geospatial vector file formats. For the following parts of the tutorial, we will use two datasets to further examine the usage of Geopandas and how to process vector datasets in Python."
   ]
  },
  {
   "cell_type": "markdown",
   "metadata": {},
   "source": [
    "Let's start with a `.shp` that contains <ins>the boundaries of every country on the planet.<ins>"
   ]
  },
  {
   "cell_type": "code",
   "execution_count": 10,
   "metadata": {
    "tags": []
   },
   "outputs": [],
   "source": [
    "# file & path\n",
    "import os\n",
    "\n",
    "# Base directory where all notebooks/codes/data are stored directly \n",
    "base_dir = 'C:/Users/eqiluo1/02_Ghana_Workshop_Apr_2024/Climate-Health-Data-Science-Workshop'\n",
    "\n",
    "# Filename relative to the base directory\n",
    "filename = 'Day2/data/ne_10m_admin_0_countries/ne_10m_admin_0_countries.shp' \n",
    "\n",
    "# Joining paths to get the full path to the file\n",
    "fn = os.path.join(base_dir, filename)\n"
   ]
  },
  {
   "cell_type": "code",
   "execution_count": 11,
   "metadata": {},
   "outputs": [
    {
     "data": {
      "text/html": [
       "<div>\n",
       "<style scoped>\n",
       "    .dataframe tbody tr th:only-of-type {\n",
       "        vertical-align: middle;\n",
       "    }\n",
       "\n",
       "    .dataframe tbody tr th {\n",
       "        vertical-align: top;\n",
       "    }\n",
       "\n",
       "    .dataframe thead th {\n",
       "        text-align: right;\n",
       "    }\n",
       "</style>\n",
       "<table border=\"1\" class=\"dataframe\">\n",
       "  <thead>\n",
       "    <tr style=\"text-align: right;\">\n",
       "      <th></th>\n",
       "      <th>featurecla</th>\n",
       "      <th>scalerank</th>\n",
       "      <th>LABELRANK</th>\n",
       "      <th>SOVEREIGNT</th>\n",
       "      <th>SOV_A3</th>\n",
       "      <th>ADM0_DIF</th>\n",
       "      <th>LEVEL</th>\n",
       "      <th>TYPE</th>\n",
       "      <th>ADMIN</th>\n",
       "      <th>ADM0_A3</th>\n",
       "      <th>...</th>\n",
       "      <th>NAME_KO</th>\n",
       "      <th>NAME_NL</th>\n",
       "      <th>NAME_PL</th>\n",
       "      <th>NAME_PT</th>\n",
       "      <th>NAME_RU</th>\n",
       "      <th>NAME_SV</th>\n",
       "      <th>NAME_TR</th>\n",
       "      <th>NAME_VI</th>\n",
       "      <th>NAME_ZH</th>\n",
       "      <th>geometry</th>\n",
       "    </tr>\n",
       "  </thead>\n",
       "  <tbody>\n",
       "    <tr>\n",
       "      <th>0</th>\n",
       "      <td>Admin-0 country</td>\n",
       "      <td>5</td>\n",
       "      <td>2</td>\n",
       "      <td>Indonesia</td>\n",
       "      <td>IDN</td>\n",
       "      <td>0</td>\n",
       "      <td>2</td>\n",
       "      <td>Sovereign country</td>\n",
       "      <td>Indonesia</td>\n",
       "      <td>IDN</td>\n",
       "      <td>...</td>\n",
       "      <td>인도네시아</td>\n",
       "      <td>Indonesië</td>\n",
       "      <td>Indonezja</td>\n",
       "      <td>Indonésia</td>\n",
       "      <td>Индонезия</td>\n",
       "      <td>Indonesien</td>\n",
       "      <td>Endonezya</td>\n",
       "      <td>Indonesia</td>\n",
       "      <td>印度尼西亚</td>\n",
       "      <td>MULTIPOLYGON (((117.70361 4.16341, 117.70361 4...</td>\n",
       "    </tr>\n",
       "    <tr>\n",
       "      <th>1</th>\n",
       "      <td>Admin-0 country</td>\n",
       "      <td>5</td>\n",
       "      <td>3</td>\n",
       "      <td>Malaysia</td>\n",
       "      <td>MYS</td>\n",
       "      <td>0</td>\n",
       "      <td>2</td>\n",
       "      <td>Sovereign country</td>\n",
       "      <td>Malaysia</td>\n",
       "      <td>MYS</td>\n",
       "      <td>...</td>\n",
       "      <td>말레이시아</td>\n",
       "      <td>Maleisië</td>\n",
       "      <td>Malezja</td>\n",
       "      <td>Malásia</td>\n",
       "      <td>Малайзия</td>\n",
       "      <td>Malaysia</td>\n",
       "      <td>Malezya</td>\n",
       "      <td>Malaysia</td>\n",
       "      <td>马来西亚</td>\n",
       "      <td>MULTIPOLYGON (((117.70361 4.16341, 117.69711 4...</td>\n",
       "    </tr>\n",
       "    <tr>\n",
       "      <th>2</th>\n",
       "      <td>Admin-0 country</td>\n",
       "      <td>6</td>\n",
       "      <td>2</td>\n",
       "      <td>Chile</td>\n",
       "      <td>CHL</td>\n",
       "      <td>0</td>\n",
       "      <td>2</td>\n",
       "      <td>Sovereign country</td>\n",
       "      <td>Chile</td>\n",
       "      <td>CHL</td>\n",
       "      <td>...</td>\n",
       "      <td>칠레</td>\n",
       "      <td>Chili</td>\n",
       "      <td>Chile</td>\n",
       "      <td>Chile</td>\n",
       "      <td>Чили</td>\n",
       "      <td>Chile</td>\n",
       "      <td>Şili</td>\n",
       "      <td>Chile</td>\n",
       "      <td>智利</td>\n",
       "      <td>MULTIPOLYGON (((-69.51009 -17.50659, -69.50611...</td>\n",
       "    </tr>\n",
       "    <tr>\n",
       "      <th>3</th>\n",
       "      <td>Admin-0 country</td>\n",
       "      <td>0</td>\n",
       "      <td>3</td>\n",
       "      <td>Bolivia</td>\n",
       "      <td>BOL</td>\n",
       "      <td>0</td>\n",
       "      <td>2</td>\n",
       "      <td>Sovereign country</td>\n",
       "      <td>Bolivia</td>\n",
       "      <td>BOL</td>\n",
       "      <td>...</td>\n",
       "      <td>볼리비아</td>\n",
       "      <td>Bolivia</td>\n",
       "      <td>Boliwia</td>\n",
       "      <td>Bolívia</td>\n",
       "      <td>Боливия</td>\n",
       "      <td>Bolivia</td>\n",
       "      <td>Bolivya</td>\n",
       "      <td>Bolivia</td>\n",
       "      <td>玻利維亞</td>\n",
       "      <td>POLYGON ((-69.51009 -17.50659, -69.51009 -17.5...</td>\n",
       "    </tr>\n",
       "    <tr>\n",
       "      <th>4</th>\n",
       "      <td>Admin-0 country</td>\n",
       "      <td>0</td>\n",
       "      <td>2</td>\n",
       "      <td>Peru</td>\n",
       "      <td>PER</td>\n",
       "      <td>0</td>\n",
       "      <td>2</td>\n",
       "      <td>Sovereign country</td>\n",
       "      <td>Peru</td>\n",
       "      <td>PER</td>\n",
       "      <td>...</td>\n",
       "      <td>페루</td>\n",
       "      <td>Peru</td>\n",
       "      <td>Peru</td>\n",
       "      <td>Peru</td>\n",
       "      <td>Перу</td>\n",
       "      <td>Peru</td>\n",
       "      <td>Peru</td>\n",
       "      <td>Peru</td>\n",
       "      <td>秘鲁</td>\n",
       "      <td>MULTIPOLYGON (((-69.51009 -17.50659, -69.63832...</td>\n",
       "    </tr>\n",
       "  </tbody>\n",
       "</table>\n",
       "<p>5 rows × 95 columns</p>\n",
       "</div>"
      ],
      "text/plain": [
       "        featurecla  scalerank  LABELRANK SOVEREIGNT SOV_A3  ADM0_DIF  LEVEL  \\\n",
       "0  Admin-0 country          5          2  Indonesia    IDN         0      2   \n",
       "1  Admin-0 country          5          3   Malaysia    MYS         0      2   \n",
       "2  Admin-0 country          6          2      Chile    CHL         0      2   \n",
       "3  Admin-0 country          0          3    Bolivia    BOL         0      2   \n",
       "4  Admin-0 country          0          2       Peru    PER         0      2   \n",
       "\n",
       "                TYPE      ADMIN ADM0_A3  ...  NAME_KO    NAME_NL    NAME_PL  \\\n",
       "0  Sovereign country  Indonesia     IDN  ...    인도네시아  Indonesië  Indonezja   \n",
       "1  Sovereign country   Malaysia     MYS  ...    말레이시아   Maleisië    Malezja   \n",
       "2  Sovereign country      Chile     CHL  ...       칠레      Chili      Chile   \n",
       "3  Sovereign country    Bolivia     BOL  ...     볼리비아    Bolivia    Boliwia   \n",
       "4  Sovereign country       Peru     PER  ...       페루       Peru       Peru   \n",
       "\n",
       "     NAME_PT    NAME_RU     NAME_SV    NAME_TR    NAME_VI NAME_ZH  \\\n",
       "0  Indonésia  Индонезия  Indonesien  Endonezya  Indonesia   印度尼西亚   \n",
       "1    Malásia   Малайзия    Malaysia    Malezya   Malaysia    马来西亚   \n",
       "2      Chile       Чили       Chile       Şili      Chile      智利   \n",
       "3    Bolívia    Боливия     Bolivia    Bolivya    Bolivia    玻利維亞   \n",
       "4       Peru       Перу        Peru       Peru       Peru      秘鲁   \n",
       "\n",
       "                                            geometry  \n",
       "0  MULTIPOLYGON (((117.70361 4.16341, 117.70361 4...  \n",
       "1  MULTIPOLYGON (((117.70361 4.16341, 117.69711 4...  \n",
       "2  MULTIPOLYGON (((-69.51009 -17.50659, -69.50611...  \n",
       "3  POLYGON ((-69.51009 -17.50659, -69.51009 -17.5...  \n",
       "4  MULTIPOLYGON (((-69.51009 -17.50659, -69.63832...  \n",
       "\n",
       "[5 rows x 95 columns]"
      ]
     },
     "execution_count": 11,
     "metadata": {},
     "output_type": "execute_result"
    }
   ],
   "source": [
    "gdf = gpd.read_file(fn)\n",
    "gdf.head()"
   ]
  },
  {
   "cell_type": "markdown",
   "metadata": {},
   "source": [
    "Like a `Pandas DataFrame`, this `GeoPandas DataFrame` looks quite similar. You can see from that it contains a bunch of different columns for each country, but it also contains a `geometry` column that `GeoPandas` reads in as a `shapely` object. \n",
    "\n",
    "But functionally, `gdf` has many of the same methods and attributes as a `Pandas DataFrame`. Let's take a look at some of the similarities and differences. "
   ]
  },
  {
   "cell_type": "markdown",
   "metadata": {},
   "source": [
    "<div class=\"run\">\n",
    "    ▶️ <b> Run the cells below. </b>\n",
    "</div>"
   ]
  },
  {
   "cell_type": "code",
   "execution_count": 12,
   "metadata": {
    "scrolled": true,
    "tags": []
   },
   "outputs": [
    {
     "name": "stdout",
     "output_type": "stream",
     "text": [
      "<class 'geopandas.geodataframe.GeoDataFrame'>\n"
     ]
    },
    {
     "data": {
      "text/plain": [
       "Index(['featurecla', 'scalerank', 'LABELRANK', 'SOVEREIGNT', 'SOV_A3',\n",
       "       'ADM0_DIF', 'LEVEL', 'TYPE', 'ADMIN', 'ADM0_A3', 'GEOU_DIF', 'GEOUNIT',\n",
       "       'GU_A3', 'SU_DIF', 'SUBUNIT', 'SU_A3', 'BRK_DIFF', 'NAME', 'NAME_LONG',\n",
       "       'BRK_A3', 'BRK_NAME', 'BRK_GROUP', 'ABBREV', 'POSTAL', 'FORMAL_EN',\n",
       "       'FORMAL_FR', 'NAME_CIAWF', 'NOTE_ADM0', 'NOTE_BRK', 'NAME_SORT',\n",
       "       'NAME_ALT', 'MAPCOLOR7', 'MAPCOLOR8', 'MAPCOLOR9', 'MAPCOLOR13',\n",
       "       'POP_EST', 'POP_RANK', 'GDP_MD_EST', 'POP_YEAR', 'LASTCENSUS',\n",
       "       'GDP_YEAR', 'ECONOMY', 'INCOME_GRP', 'WIKIPEDIA', 'FIPS_10_', 'ISO_A2',\n",
       "       'ISO_A3', 'ISO_A3_EH', 'ISO_N3', 'UN_A3', 'WB_A2', 'WB_A3', 'WOE_ID',\n",
       "       'WOE_ID_EH', 'WOE_NOTE', 'ADM0_A3_IS', 'ADM0_A3_US', 'ADM0_A3_UN',\n",
       "       'ADM0_A3_WB', 'CONTINENT', 'REGION_UN', 'SUBREGION', 'REGION_WB',\n",
       "       'NAME_LEN', 'LONG_LEN', 'ABBREV_LEN', 'TINY', 'HOMEPART', 'MIN_ZOOM',\n",
       "       'MIN_LABEL', 'MAX_LABEL', 'NE_ID', 'WIKIDATAID', 'NAME_AR', 'NAME_BN',\n",
       "       'NAME_DE', 'NAME_EN', 'NAME_ES', 'NAME_FR', 'NAME_EL', 'NAME_HI',\n",
       "       'NAME_HU', 'NAME_ID', 'NAME_IT', 'NAME_JA', 'NAME_KO', 'NAME_NL',\n",
       "       'NAME_PL', 'NAME_PT', 'NAME_RU', 'NAME_SV', 'NAME_TR', 'NAME_VI',\n",
       "       'NAME_ZH', 'geometry'],\n",
       "      dtype='object')"
      ]
     },
     "execution_count": 12,
     "metadata": {},
     "output_type": "execute_result"
    }
   ],
   "source": [
    "print(type(gdf))\n",
    "gdf.columns"
   ]
  },
  {
   "cell_type": "code",
   "execution_count": 13,
   "metadata": {
    "tags": []
   },
   "outputs": [
    {
     "data": {
      "text/plain": [
       "(254, 95)"
      ]
     },
     "execution_count": 13,
     "metadata": {},
     "output_type": "execute_result"
    }
   ],
   "source": [
    "# What is the size of our gdf?\n",
    "gdf.shape"
   ]
  },
  {
   "cell_type": "markdown",
   "metadata": {},
   "source": [
    "<div class=\"example\">\n",
    "    ✏️ <b> Try it. </b> \n",
    "   Try ordering the countries by population estimate.\n",
    "</div>"
   ]
  },
  {
   "cell_type": "code",
   "execution_count": 14,
   "metadata": {
    "tags": []
   },
   "outputs": [
    {
     "data": {
      "text/html": [
       "<div>\n",
       "<style scoped>\n",
       "    .dataframe tbody tr th:only-of-type {\n",
       "        vertical-align: middle;\n",
       "    }\n",
       "\n",
       "    .dataframe tbody tr th {\n",
       "        vertical-align: top;\n",
       "    }\n",
       "\n",
       "    .dataframe thead th {\n",
       "        text-align: right;\n",
       "    }\n",
       "</style>\n",
       "<table border=\"1\" class=\"dataframe\">\n",
       "  <thead>\n",
       "    <tr style=\"text-align: right;\">\n",
       "      <th></th>\n",
       "      <th>featurecla</th>\n",
       "      <th>scalerank</th>\n",
       "      <th>LABELRANK</th>\n",
       "      <th>SOVEREIGNT</th>\n",
       "      <th>SOV_A3</th>\n",
       "      <th>ADM0_DIF</th>\n",
       "      <th>LEVEL</th>\n",
       "      <th>TYPE</th>\n",
       "      <th>ADMIN</th>\n",
       "      <th>ADM0_A3</th>\n",
       "      <th>...</th>\n",
       "      <th>NAME_KO</th>\n",
       "      <th>NAME_NL</th>\n",
       "      <th>NAME_PL</th>\n",
       "      <th>NAME_PT</th>\n",
       "      <th>NAME_RU</th>\n",
       "      <th>NAME_SV</th>\n",
       "      <th>NAME_TR</th>\n",
       "      <th>NAME_VI</th>\n",
       "      <th>NAME_ZH</th>\n",
       "      <th>geometry</th>\n",
       "    </tr>\n",
       "  </thead>\n",
       "  <tbody>\n",
       "    <tr>\n",
       "      <th>9</th>\n",
       "      <td>Admin-0 country</td>\n",
       "      <td>0</td>\n",
       "      <td>2</td>\n",
       "      <td>China</td>\n",
       "      <td>CH1</td>\n",
       "      <td>1</td>\n",
       "      <td>2</td>\n",
       "      <td>Country</td>\n",
       "      <td>China</td>\n",
       "      <td>CHN</td>\n",
       "      <td>...</td>\n",
       "      <td>중화인민공화국</td>\n",
       "      <td>Volksrepubliek China</td>\n",
       "      <td>Chińska Republika Ludowa</td>\n",
       "      <td>China</td>\n",
       "      <td>Китайская Народная Республика</td>\n",
       "      <td>Kina</td>\n",
       "      <td>Çin Halk Cumhuriyeti</td>\n",
       "      <td>Cộng hòa Nhân dân Trung Hoa</td>\n",
       "      <td>中华人民共和国</td>\n",
       "      <td>MULTIPOLYGON (((78.91595 33.38766, 78.82426 33...</td>\n",
       "    </tr>\n",
       "    <tr>\n",
       "      <th>8</th>\n",
       "      <td>Admin-0 country</td>\n",
       "      <td>0</td>\n",
       "      <td>2</td>\n",
       "      <td>India</td>\n",
       "      <td>IND</td>\n",
       "      <td>0</td>\n",
       "      <td>2</td>\n",
       "      <td>Sovereign country</td>\n",
       "      <td>India</td>\n",
       "      <td>IND</td>\n",
       "      <td>...</td>\n",
       "      <td>인도</td>\n",
       "      <td>India</td>\n",
       "      <td>Indie</td>\n",
       "      <td>Índia</td>\n",
       "      <td>Индия</td>\n",
       "      <td>Indien</td>\n",
       "      <td>Hindistan</td>\n",
       "      <td>Ấn Độ</td>\n",
       "      <td>印度</td>\n",
       "      <td>MULTIPOLYGON (((77.80035 35.49541, 77.81533 35...</td>\n",
       "    </tr>\n",
       "    <tr>\n",
       "      <th>153</th>\n",
       "      <td>Admin-0 country</td>\n",
       "      <td>0</td>\n",
       "      <td>2</td>\n",
       "      <td>United States of America</td>\n",
       "      <td>US1</td>\n",
       "      <td>1</td>\n",
       "      <td>2</td>\n",
       "      <td>Country</td>\n",
       "      <td>United States of America</td>\n",
       "      <td>USA</td>\n",
       "      <td>...</td>\n",
       "      <td>미국</td>\n",
       "      <td>Verenigde Staten van Amerika</td>\n",
       "      <td>Stany Zjednoczone</td>\n",
       "      <td>Estados Unidos</td>\n",
       "      <td>Соединённые Штаты Америки</td>\n",
       "      <td>USA</td>\n",
       "      <td>Amerika Birleşik Devletleri</td>\n",
       "      <td>Hoa Kỳ</td>\n",
       "      <td>美国</td>\n",
       "      <td>MULTIPOLYGON (((-95.16057 49.36949, -95.10282 ...</td>\n",
       "    </tr>\n",
       "    <tr>\n",
       "      <th>0</th>\n",
       "      <td>Admin-0 country</td>\n",
       "      <td>5</td>\n",
       "      <td>2</td>\n",
       "      <td>Indonesia</td>\n",
       "      <td>IDN</td>\n",
       "      <td>0</td>\n",
       "      <td>2</td>\n",
       "      <td>Sovereign country</td>\n",
       "      <td>Indonesia</td>\n",
       "      <td>IDN</td>\n",
       "      <td>...</td>\n",
       "      <td>인도네시아</td>\n",
       "      <td>Indonesië</td>\n",
       "      <td>Indonezja</td>\n",
       "      <td>Indonésia</td>\n",
       "      <td>Индонезия</td>\n",
       "      <td>Indonesien</td>\n",
       "      <td>Endonezya</td>\n",
       "      <td>Indonesia</td>\n",
       "      <td>印度尼西亚</td>\n",
       "      <td>MULTIPOLYGON (((117.70361 4.16341, 117.70361 4...</td>\n",
       "    </tr>\n",
       "    <tr>\n",
       "      <th>45</th>\n",
       "      <td>Admin-0 country</td>\n",
       "      <td>0</td>\n",
       "      <td>2</td>\n",
       "      <td>Brazil</td>\n",
       "      <td>BRA</td>\n",
       "      <td>0</td>\n",
       "      <td>2</td>\n",
       "      <td>Sovereign country</td>\n",
       "      <td>Brazil</td>\n",
       "      <td>BRA</td>\n",
       "      <td>...</td>\n",
       "      <td>브라질</td>\n",
       "      <td>Brazilië</td>\n",
       "      <td>Brazylia</td>\n",
       "      <td>Brasil</td>\n",
       "      <td>Бразилия</td>\n",
       "      <td>Brasilien</td>\n",
       "      <td>Brezilya</td>\n",
       "      <td>Brasil</td>\n",
       "      <td>巴西</td>\n",
       "      <td>MULTIPOLYGON (((-57.61170 -30.18296, -57.56865...</td>\n",
       "    </tr>\n",
       "    <tr>\n",
       "      <th>...</th>\n",
       "      <td>...</td>\n",
       "      <td>...</td>\n",
       "      <td>...</td>\n",
       "      <td>...</td>\n",
       "      <td>...</td>\n",
       "      <td>...</td>\n",
       "      <td>...</td>\n",
       "      <td>...</td>\n",
       "      <td>...</td>\n",
       "      <td>...</td>\n",
       "      <td>...</td>\n",
       "      <td>...</td>\n",
       "      <td>...</td>\n",
       "      <td>...</td>\n",
       "      <td>...</td>\n",
       "      <td>...</td>\n",
       "      <td>...</td>\n",
       "      <td>...</td>\n",
       "      <td>...</td>\n",
       "      <td>...</td>\n",
       "      <td>...</td>\n",
       "    </tr>\n",
       "    <tr>\n",
       "      <th>212</th>\n",
       "      <td>Admin-0 country</td>\n",
       "      <td>5</td>\n",
       "      <td>5</td>\n",
       "      <td>Australia</td>\n",
       "      <td>AU1</td>\n",
       "      <td>1</td>\n",
       "      <td>2</td>\n",
       "      <td>Dependency</td>\n",
       "      <td>Heard Island and McDonald Islands</td>\n",
       "      <td>HMD</td>\n",
       "      <td>...</td>\n",
       "      <td>허드 맥도널드 제도</td>\n",
       "      <td>Heard en McDonaldeilanden</td>\n",
       "      <td>Wyspy Heard i McDonalda</td>\n",
       "      <td>Ilha Heard e Ilhas McDonald</td>\n",
       "      <td>Остров Херд и острова Макдональд</td>\n",
       "      <td>Heard- och McDonaldöarna</td>\n",
       "      <td>Heard Adası ve McDonald Adaları</td>\n",
       "      <td>Đảo Heard và quần đảo McDonald</td>\n",
       "      <td>赫德島和麥克唐納群島</td>\n",
       "      <td>POLYGON ((73.73512 -53.11240, 73.76189 -53.118...</td>\n",
       "    </tr>\n",
       "    <tr>\n",
       "      <th>250</th>\n",
       "      <td>Admin-0 country</td>\n",
       "      <td>6</td>\n",
       "      <td>5</td>\n",
       "      <td>Australia</td>\n",
       "      <td>AU1</td>\n",
       "      <td>1</td>\n",
       "      <td>2</td>\n",
       "      <td>Dependency</td>\n",
       "      <td>Ashmore and Cartier Islands</td>\n",
       "      <td>ATC</td>\n",
       "      <td>...</td>\n",
       "      <td>애시모어 카르티에 제도</td>\n",
       "      <td>Ashmore- en Cartiereilanden</td>\n",
       "      <td>Wyspy Ashmore i Cartiera</td>\n",
       "      <td>Ilhas Ashmore e Cartier</td>\n",
       "      <td>Острова Ашмор и Картье</td>\n",
       "      <td>Ashmore- och Cartieröarna</td>\n",
       "      <td>Ashmore ve Cartier Adaları</td>\n",
       "      <td>Quần đảo Ashmore và Cartier</td>\n",
       "      <td>阿什莫尔和卡捷岛</td>\n",
       "      <td>POLYGON ((123.59702 -12.42832, 123.59775 -12.4...</td>\n",
       "    </tr>\n",
       "    <tr>\n",
       "      <th>251</th>\n",
       "      <td>Admin-0 country</td>\n",
       "      <td>6</td>\n",
       "      <td>8</td>\n",
       "      <td>Bajo Nuevo Bank (Petrel Is.)</td>\n",
       "      <td>BJN</td>\n",
       "      <td>0</td>\n",
       "      <td>2</td>\n",
       "      <td>Indeterminate</td>\n",
       "      <td>Bajo Nuevo Bank (Petrel Is.)</td>\n",
       "      <td>BJN</td>\n",
       "      <td>...</td>\n",
       "      <td>바호 누에보 뱅크</td>\n",
       "      <td>Bajo Nuevo</td>\n",
       "      <td>Bajo Nuevo</td>\n",
       "      <td>Ilha Baixo Novo</td>\n",
       "      <td>Бахо-Нуэво</td>\n",
       "      <td>Bajo Nuevo</td>\n",
       "      <td>Bajo Nuevo Bank</td>\n",
       "      <td>Bajo Nuevo Bank</td>\n",
       "      <td>巴霍努埃沃礁</td>\n",
       "      <td>POLYGON ((-79.98929 15.79495, -79.98782 15.796...</td>\n",
       "    </tr>\n",
       "    <tr>\n",
       "      <th>252</th>\n",
       "      <td>Admin-0 country</td>\n",
       "      <td>6</td>\n",
       "      <td>5</td>\n",
       "      <td>Serranilla Bank</td>\n",
       "      <td>SER</td>\n",
       "      <td>0</td>\n",
       "      <td>2</td>\n",
       "      <td>Indeterminate</td>\n",
       "      <td>Serranilla Bank</td>\n",
       "      <td>SER</td>\n",
       "      <td>...</td>\n",
       "      <td>세라냐 뱅크</td>\n",
       "      <td>Serranilla</td>\n",
       "      <td>Isla Serranilla</td>\n",
       "      <td>Ilha Serranilla</td>\n",
       "      <td>Серранилья-Банк</td>\n",
       "      <td>Serranilla Bank</td>\n",
       "      <td>Serranilla Bank</td>\n",
       "      <td>Serranilla Bank</td>\n",
       "      <td>塞拉纳浅滩</td>\n",
       "      <td>POLYGON ((-78.63707 15.86209, -78.64041 15.864...</td>\n",
       "    </tr>\n",
       "    <tr>\n",
       "      <th>253</th>\n",
       "      <td>Admin-0 country</td>\n",
       "      <td>6</td>\n",
       "      <td>6</td>\n",
       "      <td>Scarborough Reef</td>\n",
       "      <td>SCR</td>\n",
       "      <td>0</td>\n",
       "      <td>2</td>\n",
       "      <td>Indeterminate</td>\n",
       "      <td>Scarborough Reef</td>\n",
       "      <td>SCR</td>\n",
       "      <td>...</td>\n",
       "      <td>스카버러 암초</td>\n",
       "      <td>Scarborough-rif</td>\n",
       "      <td>Huangyan Dao</td>\n",
       "      <td>Recife de Scarborough</td>\n",
       "      <td>Скарборо-Шол</td>\n",
       "      <td>Scarboroughrevet</td>\n",
       "      <td>Scarborough Shoal</td>\n",
       "      <td>Bãi cạn Scarborough</td>\n",
       "      <td>黄岩岛</td>\n",
       "      <td>POLYGON ((117.75389 15.15437, 117.75569 15.151...</td>\n",
       "    </tr>\n",
       "  </tbody>\n",
       "</table>\n",
       "<p>254 rows × 95 columns</p>\n",
       "</div>"
      ],
      "text/plain": [
       "          featurecla  scalerank  LABELRANK                    SOVEREIGNT  \\\n",
       "9    Admin-0 country          0          2                         China   \n",
       "8    Admin-0 country          0          2                         India   \n",
       "153  Admin-0 country          0          2      United States of America   \n",
       "0    Admin-0 country          5          2                     Indonesia   \n",
       "45   Admin-0 country          0          2                        Brazil   \n",
       "..               ...        ...        ...                           ...   \n",
       "212  Admin-0 country          5          5                     Australia   \n",
       "250  Admin-0 country          6          5                     Australia   \n",
       "251  Admin-0 country          6          8  Bajo Nuevo Bank (Petrel Is.)   \n",
       "252  Admin-0 country          6          5               Serranilla Bank   \n",
       "253  Admin-0 country          6          6              Scarborough Reef   \n",
       "\n",
       "    SOV_A3  ADM0_DIF  LEVEL               TYPE  \\\n",
       "9      CH1         1      2            Country   \n",
       "8      IND         0      2  Sovereign country   \n",
       "153    US1         1      2            Country   \n",
       "0      IDN         0      2  Sovereign country   \n",
       "45     BRA         0      2  Sovereign country   \n",
       "..     ...       ...    ...                ...   \n",
       "212    AU1         1      2         Dependency   \n",
       "250    AU1         1      2         Dependency   \n",
       "251    BJN         0      2      Indeterminate   \n",
       "252    SER         0      2      Indeterminate   \n",
       "253    SCR         0      2      Indeterminate   \n",
       "\n",
       "                                 ADMIN ADM0_A3  ...       NAME_KO  \\\n",
       "9                                China     CHN  ...       중화인민공화국   \n",
       "8                                India     IND  ...            인도   \n",
       "153           United States of America     USA  ...            미국   \n",
       "0                            Indonesia     IDN  ...         인도네시아   \n",
       "45                              Brazil     BRA  ...           브라질   \n",
       "..                                 ...     ...  ...           ...   \n",
       "212  Heard Island and McDonald Islands     HMD  ...    허드 맥도널드 제도   \n",
       "250        Ashmore and Cartier Islands     ATC  ...  애시모어 카르티에 제도   \n",
       "251       Bajo Nuevo Bank (Petrel Is.)     BJN  ...     바호 누에보 뱅크   \n",
       "252                    Serranilla Bank     SER  ...        세라냐 뱅크   \n",
       "253                   Scarborough Reef     SCR  ...       스카버러 암초   \n",
       "\n",
       "                          NAME_NL                   NAME_PL  \\\n",
       "9            Volksrepubliek China  Chińska Republika Ludowa   \n",
       "8                           India                     Indie   \n",
       "153  Verenigde Staten van Amerika         Stany Zjednoczone   \n",
       "0                       Indonesië                 Indonezja   \n",
       "45                       Brazilië                  Brazylia   \n",
       "..                            ...                       ...   \n",
       "212     Heard en McDonaldeilanden   Wyspy Heard i McDonalda   \n",
       "250   Ashmore- en Cartiereilanden  Wyspy Ashmore i Cartiera   \n",
       "251                    Bajo Nuevo                Bajo Nuevo   \n",
       "252                    Serranilla           Isla Serranilla   \n",
       "253               Scarborough-rif              Huangyan Dao   \n",
       "\n",
       "                         NAME_PT                           NAME_RU  \\\n",
       "9                          China     Китайская Народная Республика   \n",
       "8                          Índia                             Индия   \n",
       "153               Estados Unidos         Соединённые Штаты Америки   \n",
       "0                      Indonésia                         Индонезия   \n",
       "45                        Brasil                          Бразилия   \n",
       "..                           ...                               ...   \n",
       "212  Ilha Heard e Ilhas McDonald  Остров Херд и острова Макдональд   \n",
       "250      Ilhas Ashmore e Cartier            Острова Ашмор и Картье   \n",
       "251              Ilha Baixo Novo                        Бахо-Нуэво   \n",
       "252              Ilha Serranilla                   Серранилья-Банк   \n",
       "253        Recife de Scarborough                      Скарборо-Шол   \n",
       "\n",
       "                       NAME_SV                          NAME_TR  \\\n",
       "9                         Kina             Çin Halk Cumhuriyeti   \n",
       "8                       Indien                        Hindistan   \n",
       "153                        USA      Amerika Birleşik Devletleri   \n",
       "0                   Indonesien                        Endonezya   \n",
       "45                   Brasilien                         Brezilya   \n",
       "..                         ...                              ...   \n",
       "212   Heard- och McDonaldöarna  Heard Adası ve McDonald Adaları   \n",
       "250  Ashmore- och Cartieröarna       Ashmore ve Cartier Adaları   \n",
       "251                 Bajo Nuevo                  Bajo Nuevo Bank   \n",
       "252            Serranilla Bank                  Serranilla Bank   \n",
       "253           Scarboroughrevet                Scarborough Shoal   \n",
       "\n",
       "                            NAME_VI     NAME_ZH  \\\n",
       "9       Cộng hòa Nhân dân Trung Hoa     中华人民共和国   \n",
       "8                             Ấn Độ          印度   \n",
       "153                          Hoa Kỳ          美国   \n",
       "0                         Indonesia       印度尼西亚   \n",
       "45                           Brasil          巴西   \n",
       "..                              ...         ...   \n",
       "212  Đảo Heard và quần đảo McDonald  赫德島和麥克唐納群島   \n",
       "250     Quần đảo Ashmore và Cartier    阿什莫尔和卡捷岛   \n",
       "251                 Bajo Nuevo Bank      巴霍努埃沃礁   \n",
       "252                 Serranilla Bank       塞拉纳浅滩   \n",
       "253             Bãi cạn Scarborough         黄岩岛   \n",
       "\n",
       "                                              geometry  \n",
       "9    MULTIPOLYGON (((78.91595 33.38766, 78.82426 33...  \n",
       "8    MULTIPOLYGON (((77.80035 35.49541, 77.81533 35...  \n",
       "153  MULTIPOLYGON (((-95.16057 49.36949, -95.10282 ...  \n",
       "0    MULTIPOLYGON (((117.70361 4.16341, 117.70361 4...  \n",
       "45   MULTIPOLYGON (((-57.61170 -30.18296, -57.56865...  \n",
       "..                                                 ...  \n",
       "212  POLYGON ((73.73512 -53.11240, 73.76189 -53.118...  \n",
       "250  POLYGON ((123.59702 -12.42832, 123.59775 -12.4...  \n",
       "251  POLYGON ((-79.98929 15.79495, -79.98782 15.796...  \n",
       "252  POLYGON ((-78.63707 15.86209, -78.64041 15.864...  \n",
       "253  POLYGON ((117.75389 15.15437, 117.75569 15.151...  \n",
       "\n",
       "[254 rows x 95 columns]"
      ]
     },
     "execution_count": 14,
     "metadata": {},
     "output_type": "execute_result"
    }
   ],
   "source": [
    "# Let's try to sort the column by the total population estimate\n",
    "gdf.sort_values(by = 'POP_EST', ascending = False)"
   ]
  },
  {
   "cell_type": "markdown",
   "metadata": {},
   "source": [
    "<div class=\"example\">\n",
    "    ✏️ <b> Try it. </b> \n",
    "   Try showing only the country name and population for the top ten most populated countries.\n",
    "</div>"
   ]
  },
  {
   "cell_type": "code",
   "execution_count": 15,
   "metadata": {
    "tags": []
   },
   "outputs": [
    {
     "data": {
      "text/html": [
       "<div>\n",
       "<style scoped>\n",
       "    .dataframe tbody tr th:only-of-type {\n",
       "        vertical-align: middle;\n",
       "    }\n",
       "\n",
       "    .dataframe tbody tr th {\n",
       "        vertical-align: top;\n",
       "    }\n",
       "\n",
       "    .dataframe thead th {\n",
       "        text-align: right;\n",
       "    }\n",
       "</style>\n",
       "<table border=\"1\" class=\"dataframe\">\n",
       "  <thead>\n",
       "    <tr style=\"text-align: right;\">\n",
       "      <th></th>\n",
       "      <th>NAME</th>\n",
       "      <th>POP_EST</th>\n",
       "    </tr>\n",
       "  </thead>\n",
       "  <tbody>\n",
       "    <tr>\n",
       "      <th>9</th>\n",
       "      <td>China</td>\n",
       "      <td>1379302771</td>\n",
       "    </tr>\n",
       "    <tr>\n",
       "      <th>8</th>\n",
       "      <td>India</td>\n",
       "      <td>1281935911</td>\n",
       "    </tr>\n",
       "    <tr>\n",
       "      <th>153</th>\n",
       "      <td>United States of America</td>\n",
       "      <td>326625791</td>\n",
       "    </tr>\n",
       "    <tr>\n",
       "      <th>0</th>\n",
       "      <td>Indonesia</td>\n",
       "      <td>260580739</td>\n",
       "    </tr>\n",
       "    <tr>\n",
       "      <th>45</th>\n",
       "      <td>Brazil</td>\n",
       "      <td>207353391</td>\n",
       "    </tr>\n",
       "    <tr>\n",
       "      <th>17</th>\n",
       "      <td>Pakistan</td>\n",
       "      <td>204924861</td>\n",
       "    </tr>\n",
       "    <tr>\n",
       "      <th>100</th>\n",
       "      <td>Nigeria</td>\n",
       "      <td>190632261</td>\n",
       "    </tr>\n",
       "    <tr>\n",
       "      <th>127</th>\n",
       "      <td>Bangladesh</td>\n",
       "      <td>157826578</td>\n",
       "    </tr>\n",
       "    <tr>\n",
       "      <th>48</th>\n",
       "      <td>Russia</td>\n",
       "      <td>142257519</td>\n",
       "    </tr>\n",
       "    <tr>\n",
       "      <th>185</th>\n",
       "      <td>Japan</td>\n",
       "      <td>126451398</td>\n",
       "    </tr>\n",
       "  </tbody>\n",
       "</table>\n",
       "</div>"
      ],
      "text/plain": [
       "                         NAME     POP_EST\n",
       "9                       China  1379302771\n",
       "8                       India  1281935911\n",
       "153  United States of America   326625791\n",
       "0                   Indonesia   260580739\n",
       "45                     Brazil   207353391\n",
       "17                   Pakistan   204924861\n",
       "100                   Nigeria   190632261\n",
       "127                Bangladesh   157826578\n",
       "48                     Russia   142257519\n",
       "185                     Japan   126451398"
      ]
     },
     "execution_count": 15,
     "metadata": {},
     "output_type": "execute_result"
    }
   ],
   "source": [
    "# Sort the table ascendingly by population count and print the top 10 countries\n",
    "gdf.sort_values(by = 'POP_EST', ascending = False)[['NAME', 'POP_EST']].head(10)"
   ]
  },
  {
   "cell_type": "markdown",
   "metadata": {},
   "source": [
    "✏️ Try making a [choropleth map](https://en.wikipedia.org/wiki/Choropleth_map) of per capita GDP estimate by country."
   ]
  },
  {
   "cell_type": "code",
   "execution_count": 20,
   "metadata": {
    "tags": []
   },
   "outputs": [
    {
     "data": {
      "text/plain": [
       "0    11620.198836\n",
       "1    27499.847683\n",
       "2    24514.781863\n",
       "3     7034.328781\n",
       "4    13223.074032\n",
       "Name: GDP_percapita, dtype: float64"
      ]
     },
     "execution_count": 20,
     "metadata": {},
     "output_type": "execute_result"
    }
   ],
   "source": [
    "import numpy as np\n",
    "\n",
    "# Create a new variable/column and calculate the GDP per capita \n",
    "gdf['GDP_percapita'] = gdf['GDP_MD_EST'] / gdf['POP_EST'] * 10**6\n",
    "\n",
    "# print the firt 5 elements and check\n",
    "gdf['GDP_percapita'].head()"
   ]
  },
  {
   "cell_type": "code",
   "execution_count": 21,
   "metadata": {
    "scrolled": true,
    "tags": []
   },
   "outputs": [
    {
     "data": {
      "image/png": "[encoded data removed]",
      "text/plain": [
       "<Figure size 640x480 with 2 Axes>"
      ]
     },
     "metadata": {},
     "output_type": "display_data"
    }
   ],
   "source": [
    "# you can also just use ax = gdf.plot() for simple quick visualization \n",
    "# but to have more subtle control, we can use matplotlib function to adjust the plot\n",
    "ax = gdf.plot(column = 'GDP_percapita', legend = True)"
   ]
  },
  {
   "cell_type": "code",
   "execution_count": 23,
   "metadata": {},
   "outputs": [
    {
     "data": {
      "image/png": "[encoded data removed]",
      "text/plain": [
       "<Figure size 800x600 with 2 Axes>"
      ]
     },
     "metadata": {},
     "output_type": "display_data"
    }
   ],
   "source": [
    "# Initialize the plot\n",
    "fig, ax = plt.subplots(1, 1, figsize=(8, 6))\n",
    "\n",
    "# Plot the locations of the household survey with the rural/urban column defining the colors\n",
    "gdf.plot(column='GDP_percapita', legend=True, ax=ax)\n",
    "\n",
    "# Set plot title and labels\n",
    "plt.title('GDP per capita estimate by country')\n",
    "plt.xlabel('Longitude')\n",
    "plt.ylabel('Latitude')\n",
    "\n",
    "# Adjust the layout to make room for the legend\n",
    "plt.tight_layout()\n",
    "\n",
    "# Show the plot\n",
    "plt.show()"
   ]
  },
  {
   "cell_type": "markdown",
   "metadata": {},
   "source": [
    "### Concatenating and Merging Data\n",
    "<hr style=\"border-top: 0.2px solid gray; margin-top: 12px; margin-bottom: 1px\"></hr>\n",
    "\n",
    "Often you will have tabular data, like a `.csv` file, that does not contain Geographic information. But it may have catagorical staptial information. In this case you may have to [concatenate](https://pandas.pydata.org/docs/reference/api/pandas.concat.html) or [merge](https://pandas.pydata.org/docs/reference/api/pandas.DataFrame.merge.html), two datasets to join the `.csv` file to spatial boundaries contained in a `.shp` file. Both concatenate and merge are quite useful. But with tabular data, you will most likely need to join two (or more) datasets based on a common set of values. As such, `pd.merge()` is likely your friend.\n",
    "\n",
    "For example, you may have a dataset with a columns called `country` but it does not have a geographic boundaries for the countries. You will then have to merge that dataset with a second dataset that has the geographic boundaries. This is often the case with `.csv` file that you want to attach to a `.shp` file to make a map.\n",
    "\n",
    "To merge two datasets, both datasets must have a column with the same name and (hopefully) the same values on which to join the the datasets. Let's look at our `.csv` file from last week."
   ]
  },
  {
   "cell_type": "markdown",
   "metadata": {},
   "source": [
    "<div class=\"run\">\n",
    "    ▶️ <b> Run the cell below. </b>\n",
    "</div>"
   ]
  },
  {
   "cell_type": "code",
   "execution_count": null,
   "metadata": {
    "tags": []
   },
   "outputs": [],
   "source": [
    "fn = os.path.join(base_dir, 'Day4/data/DhsPrevalenceWCovar.csv')\n",
    "df = pd.read_csv(fn)\n",
    "df.head()"
   ]
  },
  {
   "cell_type": "markdown",
   "metadata": {},
   "source": [
    "**Cool!** Our dataset from last week has a column - `country` - that has catagorical geographic information that we can likely use to concatenate our geometry data from our world countries `.shp` file. But we first need to look at what columns we will need from world countries `.shp` file, which are the name and the geometry."
   ]
  },
  {
   "cell_type": "markdown",
   "metadata": {},
   "source": [
    "<div class=\"run\">\n",
    "    ▶️ <b> Run the cell below. </b>\n",
    "</div>"
   ]
  },
  {
   "cell_type": "code",
   "execution_count": null,
   "metadata": {
    "tags": []
   },
   "outputs": [],
   "source": [
    "gdf.columns"
   ]
  },
  {
   "cell_type": "markdown",
   "metadata": {},
   "source": [
    "Let's make a new `GeoDataFrame` just with the columns we need and then let's merge.\n",
    "<div class=\"run\">\n",
    "    ▶️ <b> Run the cell below. </b>\n",
    "</div>"
   ]
  },
  {
   "cell_type": "code",
   "execution_count": null,
   "metadata": {
    "scrolled": true,
    "tags": []
   },
   "outputs": [],
   "source": [
    "# Create a subset from the original GeodataFrame with only name and the geometry\n",
    "gdf_sub = gdf[['NAME','geometry']].copy()\n",
    "\n",
    "# check the subset\n",
    "gdf_sub.head()"
   ]
  },
  {
   "cell_type": "markdown",
   "metadata": {},
   "source": [
    "Before we can merge the two datasets, we have to make sure they both have the same column name. In this case, we need to rename `NAME` to country. Take a moment to read about [pd.merge()].(https://pandas.pydata.org/docs/reference/api/pandas.DataFrame.merge.html)\n",
    "<div class=\"run\">\n",
    "    ▶️ <b> Run the cells below. </b>\n",
    "</div>"
   ]
  },
  {
   "cell_type": "code",
   "execution_count": null,
   "metadata": {
    "scrolled": true,
    "tags": []
   },
   "outputs": [],
   "source": [
    "# Rename the column\n",
    "# inplace = True will overwrite the dataframe's columns name\n",
    "gdf = gdf_sub.rename(columns = {'NAME' : 'country'}, inplace = True) \n",
    "gdf_sub.head()"
   ]
  },
  {
   "cell_type": "code",
   "execution_count": null,
   "metadata": {
    "scrolled": true,
    "tags": []
   },
   "outputs": [],
   "source": [
    "# Now merge them\n",
    "df_m = pd.merge(df, gdf_sub, on = 'country', how = 'inner')"
   ]
  },
  {
   "cell_type": "code",
   "execution_count": null,
   "metadata": {
    "tags": []
   },
   "outputs": [],
   "source": [
    "# Check the columns of our DHS df_m\n",
    "df_m.columns"
   ]
  },
  {
   "cell_type": "markdown",
   "metadata": {},
   "source": [
    "When you use `pd.merge()` it changes the type of the `GeoDataFrame` object back to a normal `Pandas DataFrame`. The geoemetry column still contains the `Shaple POLYGON` objects, but the it will not have the same attributes or methods as a `GeoPandas GeoData Frame`.\n",
    "\n",
    "To fix this, we need to cast the `Pandas DataFrame` to a `GeoPandas GeoDataFrame`. GeoPandas sees the geometry column and knows it can implement a GeoDataFrame object. In other words, a normal DataFrame must have a `geometry` column with `Shapely` objects to be cast into a `GeoDateFrame`. In general, it is always best to only have the same type of `Shapely` geometry (POINT, LINE, POLYGONE, etc.) in a single `GeoDataFrame`.  \n",
    "\n",
    "\n",
    "<div class=\"run\">\n",
    "    ▶️ <b> Run the cells below. </b>\n",
    "</div>"
   ]
  },
  {
   "cell_type": "code",
   "execution_count": null,
   "metadata": {
    "tags": []
   },
   "outputs": [],
   "source": [
    "print(type(df_m))\n",
    "gdf_m = gpd.GeoDataFrame(df_m)\n",
    "print(type(gdf_m))"
   ]
  },
  {
   "cell_type": "code",
   "execution_count": null,
   "metadata": {
    "scrolled": true,
    "tags": []
   },
   "outputs": [],
   "source": [
    "# May stunting rates for the surveys taken in 2015 with boundaries\n",
    "import matplotlib.pyplot as plt\n",
    "fig, ax = plt.subplots()\n",
    "gdf_sub.boundary. plot(ax = ax, color = 'black', linewidth = 0.05)\n",
    "gdf_m[gdf_m['year'] == 2010].plot('stunt_all', ax = ax)"
   ]
  },
  {
   "cell_type": "markdown",
   "metadata": {},
   "source": [
    "### Coordinate reference systems (CRS) and spatial Projections\n",
    "<hr style=\"border-top: 0.2px solid gray; margin-top: 12px; margin-bottom: 1px\"></hr>\n",
    "\n",
    "The Earth is a three dimensional spheroid, but maps genearlly two dimensional representations of phenomena on the Earth. As such, cartographers have devevloped many methods to project 3-D data onto a 2-D surface. To map points, lines, and polygons from 3-D to 2-D, projections have a coordinate reference system (CRS) that provides information on the units and type of geographic transform performed on the data to map it. \n",
    "\n",
    "<img src=\"./assets/crs.jpg\" alt=\"crs\" width=\"500\"/>\n",
    "\n",
    "A full overview of geographic projections and coordinate reference systesms is out of scope for this course. But I suggest you [reading up on them](https://pro.arcgis.com/en/pro-app/3.1/help/mapping/properties/coordinate-systems-and-projections.htm) if you are unfamiliary with these terms. \n",
    "\n",
    "For this class, what you need to know is: \n",
    "\n",
    "1. Always check the `crs` of your data and to make sure that two or more datasets are in the same `crs` and `projection` before you perform analysis. This will be come clearer in future labs. \n",
    "\n",
    "2. Know that **reprojecting** data will fundmentally alter your data. This is okay. But it will add spatial uncertainty to analysis. More on this later."
   ]
  },
  {
   "cell_type": "markdown",
   "metadata": {},
   "source": [
    "Let's explore the .crs information and reproject the global country data. [EPSG](https://epsg.io) codes are useful to keep track of spatial meta data. Global data is often in [EPSG:4326](https://epsg.io/4326), the  World Geodetic System 1984.\n",
    "<div class=\"run\">\n",
    "    ▶️ <b> Run the cells below. </b>\n",
    "</div>"
   ]
  },
  {
   "cell_type": "code",
   "execution_count": null,
   "metadata": {
    "tags": []
   },
   "outputs": [],
   "source": [
    "# Access the .crs attribute of a GeoDateFrame\n",
    "print(type(gdf_sub.crs))\n",
    "gdf_sub.crs"
   ]
  },
  {
   "cell_type": "code",
   "execution_count": null,
   "metadata": {
    "tags": []
   },
   "outputs": [],
   "source": [
    "# Notice that .crs has many methods and attributes"
   ]
  },
  {
   "cell_type": "code",
   "execution_count": null,
   "metadata": {
    "tags": []
   },
   "outputs": [],
   "source": [
    "# Notice that .crs has many methods and attributes\n",
    "dir(gdf_sub.crs)"
   ]
  },
  {
   "cell_type": "code",
   "execution_count": null,
   "metadata": {
    "tags": []
   },
   "outputs": [],
   "source": [
    "# Let's plot the data\n",
    "gdf_sub.plot()"
   ]
  },
  {
   "cell_type": "markdown",
   "metadata": {},
   "source": [
    "Now reproject it and plot it in a different crs, [ESRI:54009](https://epsg.io/54009), another commonly used global CRS. Note, this CRS was created by ESRI, not EPSG. \n",
    "<div class=\"run\">\n",
    "    ▶️ <b> Run the cells below. </b>\n",
    "</div"
   ]
  },
  {
   "cell_type": "code",
   "execution_count": null,
   "metadata": {
    "tags": []
   },
   "outputs": [],
   "source": [
    "gdf_sub.to_crs('esri:54009').plot()"
   ]
  },
  {
   "cell_type": "markdown",
   "metadata": {},
   "source": [
    "Notice that `esri:54009` distorts the edges of th earth and produces more an oval map. All projections distort one or more of the follow: area, direction, shape, and area. But some do a better job of preserving this information than others."
   ]
  },
  {
   "cell_type": "markdown",
   "metadata": {},
   "source": [
    "### Writing a shape file\n",
    "It is very easy to write a `GeoDataFrame` to disk as a .shp file or a GeoJson file. Let's write our new DHS GeoDataFrame to disk.\n",
    "<div class=\"run\">\n",
    "    ▶️ <b> Run the cells below. </b>\n",
    "</div>"
   ]
  },
  {
   "cell_type": "code",
   "execution_count": null,
   "metadata": {
    "tags": []
   },
   "outputs": [],
   "source": [
    "# first check the crs\n",
    "gdf_m.crs"
   ]
  },
  {
   "cell_type": "code",
   "execution_count": null,
   "metadata": {
    "tags": []
   },
   "outputs": [],
   "source": [
    "# Create a File Name\n",
    "fn = os.path.join(base_dir, 'Day4/data/new_dhs_data.shp')"
   ]
  },
  {
   "cell_type": "markdown",
   "metadata": {},
   "source": [
    "## Introduction to GeoPandas\n",
    "\n",
    "<img src=\"./assets/geopandas.png\">\n",
    "\n",
    "GeoPandas is an open-source Python library that ascribes geographic information to Pandas Series and Pandas DataFrame objects. In other words, GeoPandas enables a Pandas Series/DataFrame to have a spatial dimension, akin to a .shp file in a GIS platform. Importantly, Geopandas can perform geometric operations. To do this, GeoPandas objects use **[Shapely](https://pypi.org/project/shapely/)** geometry objects. "
   ]
  },
  {
   "cell_type": "markdown",
   "metadata": {},
   "source": [
    "### GeoSpatial Data \n",
    "<hr style=\"border-top: 0.2px solid gray; margin-top: 12px; margin-bottom: 1px\"></hr>\n",
    "\n",
    "GeoSpatial data is either `raster` (e.g. a grid) or `vector` (e.g. 2-d cartesian points, lines, or polygons). We will come back to raster data later in this lession. \n",
    "\n",
    "<img src=\"./assets/raster-vector.png\" alt=\"rastervector\" width=\"500\"/>\n",
    "\n",
    "Because GeoPandas ascribes spatial information to tabular data, GeoPandas objects are `vector` spatial data. Each row in a GeoPandas DataFrame, must have spatial information that is either a point, line, or polygon that corresponds to the geographic location(s), or area, to which the data should be mapped.  \n",
    "\n",
    "To add spatial information to a Pandas DataFrame, the `geometry` column implements a `shapely` object that contains infromation about the cartesian location of the location of that data. Let's look at an example. "
   ]
  },
  {
   "cell_type": "code",
   "execution_count": null,
   "metadata": {
    "tags": []
   },
   "outputs": [],
   "source": [
    "# Write to disk. Notice we usually drop the index column and we also need to specify the crs. \n",
    "gdf_m.to_file(filename = fn, crs = gdf_m.crs)"
   ]
  },
  {
   "cell_type": "markdown",
   "metadata": {},
   "source": [
    "**QUESTION: What UserWarning did you just produce? Why might this UserWarning create problems for you later?**"
   ]
  },
  {
   "cell_type": "code",
   "execution_count": null,
   "metadata": {
    "scrolled": true,
    "tags": []
   },
   "outputs": [],
   "source": [
    "# And open it to check it\n",
    "gpd.read_file(fn).head()"
   ]
  },
  {
   "cell_type": "markdown",
   "metadata": {},
   "source": [
    "<hr style=\"border-top: 0.2px solid gray; margin-top: 12pt; margin-bottom: 0pt\"></hr>\n",
    "\n",
    "## Introduction to Rasterio\n",
    "\n",
    "<img src=\"./assets/rasterio.png\">\n",
    "\n",
    "[Rasterio](https://rasterio.readthedocs.io/en/stable/#) is an open-source Python library that enables the use and maniplation of raster data. Most often used for remote-sensed or weather/climate data, raster data is a spatial grid in which each cell is ascribe a numeric or float point value. Often, raster values actually mean something physical (e.g. a global map of daily maximum temperature may be in °C). But they also can be used to classify grid cells (e.g. a value of 0, means ocean and a value of 1 means land). \n",
    "\n",
    "<img src=\"./assets/raster-vector.png\" alt=\"rastervector\" width=\"500\"/>\n",
    "\n",
    "As shown above, `Vector` data can be transformed into `raster` data, and vice versa. Like vector data, `raster` data must have spatial metadata that explains the geographic extent, crs, and projection, as well as things like `nan` values "
   ]
  },
  {
   "cell_type": "markdown",
   "metadata": {},
   "source": [
    "### Loading a Raster\n",
    "\n",
    "Let's take a look at a `raster` dataset. This file contains an estimated daily maximum air temperature values from [CHIRTS-daily](https://www.chc.ucsb.edu/data/chirtsdaily), a dataset I helped build during my PhD. CHIRTS-daily leverages the temporal accuracy of weather stations with the spatial coverage of weather satellites to produce a continuous ~5km grid of daily maximum temperatures from 1983-2016. This is really important, because much of the planet does not have weather station data. In fact, about 4 billion people live more than 25 km from a weather station (see our paper in [Environmental Research Letters](https://iopscience.iop.org/article/10.1088/1748-9326/ac30c0/pdf)."
   ]
  },
  {
   "cell_type": "markdown",
   "metadata": {},
   "source": [
    "<div class=\"run\">\n",
    "    ▶️ <b> Run the cells below. </b>\n",
    "</div>"
   ]
  },
  {
   "cell_type": "code",
   "execution_count": null,
   "metadata": {
    "tags": []
   },
   "outputs": [],
   "source": [
    "import rasterio \n",
    "\n",
    "fn = os.path.join(base_dir, 'Day4/data/Tmax.2016.07.01.tif')\n",
    "rst1 = rasterio.open(fn)\n",
    "print(type(rst1))"
   ]
  },
  {
   "cell_type": "markdown",
   "metadata": {},
   "source": [
    "The `rasterio` object is a `rasterio.io.DatasetReader` and has several attributes/methods that allow you to understand the dataset and access the data. But it is is not as straightforward as `GeoPandas DataFrames`. The `meta` attribute is the most useful. \n",
    "\n",
    "**QUESTION: What information does the meta give you?**"
   ]
  },
  {
   "cell_type": "code",
   "execution_count": null,
   "metadata": {
    "tags": []
   },
   "outputs": [],
   "source": [
    "rst1.meta"
   ]
  },
  {
   "cell_type": "markdown",
   "metadata": {},
   "source": [
    "Notice that the `meta` attribute is a Python `dictionary`, which means it can easily be accessed by `keys`. It can also be easily updated. "
   ]
  },
  {
   "cell_type": "code",
   "execution_count": null,
   "metadata": {
    "tags": []
   },
   "outputs": [],
   "source": [
    "print(rst1.meta['dtype'])"
   ]
  },
  {
   "cell_type": "markdown",
   "metadata": {},
   "source": [
    "### Read and Write the data\n",
    "Raster files (usually `GeoTiff`) often contain multiple `bands` or stacked arrays. In this case our raster only has one band. We can access it with the code below. Notice that the `band` is a 2-d numpy object with a shape of 2600 rows by 7200 columns."
   ]
  },
  {
   "cell_type": "markdown",
   "metadata": {},
   "source": [
    "<div class=\"run\">\n",
    "    ▶️ <b> Run the cells below. </b>\n",
    "</div>"
   ]
  },
  {
   "cell_type": "code",
   "execution_count": null,
   "metadata": {
    "tags": []
   },
   "outputs": [],
   "source": [
    "rst1.read(1)"
   ]
  },
  {
   "cell_type": "code",
   "execution_count": null,
   "metadata": {
    "tags": []
   },
   "outputs": [],
   "source": [
    "print(type(rst1.read(1)))\n",
    "print(rst1.read(1).shape)"
   ]
  },
  {
   "cell_type": "markdown",
   "metadata": {},
   "source": [
    "Let's plot it!"
   ]
  },
  {
   "cell_type": "code",
   "execution_count": null,
   "metadata": {
    "tags": []
   },
   "outputs": [],
   "source": [
    "plt.imshow(rst1.read(1));\n",
    "plt.colorbar(shrink = 0.4);"
   ]
  },
  {
   "cell_type": "markdown",
   "metadata": {},
   "source": [
    "What's wrong with the image? Well it looks like the ocean values must be very small. Let's look at the meta data again and the array."
   ]
  },
  {
   "cell_type": "code",
   "execution_count": null,
   "metadata": {
    "tags": []
   },
   "outputs": [],
   "source": [
    "rst1.meta"
   ]
  },
  {
   "cell_type": "code",
   "execution_count": null,
   "metadata": {
    "tags": []
   },
   "outputs": [],
   "source": [
    "rst1.read(1)"
   ]
  },
  {
   "cell_type": "markdown",
   "metadata": {},
   "source": [
    "The ocean values look like they are -9999, so let's update the `meta` data and write a new `GeoTiff` file so we know to ignore the ocean values."
   ]
  },
  {
   "cell_type": "code",
   "execution_count": null,
   "metadata": {
    "tags": []
   },
   "outputs": [],
   "source": [
    "# File Name\n",
    "fn = os.path.join(base_dir, 'Day4/data/Tmax.2016.07.01_update.tif')\n",
    "\n",
    "# Get the data array \n",
    "arr = rst1.read(1)\n",
    "\n",
    "# Update the meta data\n",
    "meta_out = rst1.meta\n",
    "meta_out['nodata'] = -9999.\n",
    "meta_out"
   ]
  },
  {
   "cell_type": "code",
   "execution_count": null,
   "metadata": {
    "tags": []
   },
   "outputs": [],
   "source": [
    "# Write the file\n",
    "with rasterio.open(fn, \"w\", **meta_out) as dest:\n",
    "    dest.write(arr, 1)"
   ]
  },
  {
   "cell_type": "markdown",
   "metadata": {},
   "source": [
    "### Explore the new data \n",
    "Let's read the new data with the correct meta data values and plot it. Notice that the meta data is now correct, but the ocean is still funny. This is because `plt.imshow` is only being passed the `numpy array` object, not the meta data. So you will have to manual set the `vmin` and `vmax` parameteres."
   ]
  },
  {
   "cell_type": "code",
   "execution_count": null,
   "metadata": {
    "tags": []
   },
   "outputs": [],
   "source": [
    "rst1 = rasterio.open(fn)\n",
    "rst1.meta"
   ]
  },
  {
   "cell_type": "code",
   "execution_count": null,
   "metadata": {
    "tags": []
   },
   "outputs": [],
   "source": [
    "# -100 C seems like a solid low bound for air temperature data\n",
    "plt.imshow(rst1.read(1), vmin = 0)\n",
    "plt.colorbar(shrink = 0.4)"
   ]
  },
  {
   "cell_type": "markdown",
   "metadata": {},
   "source": [
    "### We can also look at the distribution of the data\n",
    "<div class=\"run\">\n",
    "    ▶️ <b> Run the cells below. </b>\n",
    "</div>"
   ]
  },
  {
   "cell_type": "code",
   "execution_count": null,
   "metadata": {
    "tags": []
   },
   "outputs": [],
   "source": [
    "# copy the array\n",
    "arr = rst1.read(1)\n",
    "print(arr.shape)\n",
    "\n",
    "# flatten it\n",
    "arr_f = arr.flatten()\n",
    "print(arr_f.shape)"
   ]
  },
  {
   "cell_type": "code",
   "execution_count": null,
   "metadata": {
    "tags": []
   },
   "outputs": [],
   "source": [
    "# Drop the ocean values\n",
    "arr_f = arr_f[arr_f != -9999.]\n",
    "print(arr_f.shape)"
   ]
  },
  {
   "cell_type": "code",
   "execution_count": null,
   "metadata": {
    "scrolled": true,
    "tags": []
   },
   "outputs": [],
   "source": [
    "# Plot the histogram\n",
    "plt.hist(arr_f);\n",
    "plt.title('Global Distribution of 2m Air Temperatures July 1 2016', fontsize = 13)"
   ]
  },
  {
   "cell_type": "markdown",
   "metadata": {},
   "source": [
    "### Raster Math\n",
    "Because `raster` data are read by Python as 2-D `numpy arrays`, it is easy to preform mathmatical oppertations on them. The arrays must be the same size. In other words the rasters must align, the underlying raster files must have the same projection, .crs, spatial resolution, and spatial extent. \n",
    "\n",
    "We are going to use a climate projection I helped develop, the [CHC-CMIP6 dataset](https://www.chc.ucsb.edu/data/chc-cmip6). This is the highest resolution global climate projection for 2030 and 2050 produced to date. It is a very unique climate projection and if you have questions, I am happy to chat with you about it because it pretty different from other climate projections. Our hope in producing CHC-CMIP6, is literally to save lives by helping governments prepare for a much hotter future.\n",
    "\n",
    "The datset we are using here uses the SSP-RCP 245 projection for 2050. [Carbon Brief](https://www.carbonbrief.org/explainer-how-shared-socioeconomic-pathways-explore-future-climate-change/) has a great data explainer to understand the basics of CMIP6 projection models. I suggest giving it a read."
   ]
  },
  {
   "cell_type": "markdown",
   "metadata": {},
   "source": [
    "<div class=\"run\">\n",
    "    ▶️ <b> Run the cells below. </b>\n",
    "</div>"
   ]
  },
  {
   "cell_type": "code",
   "execution_count": null,
   "metadata": {
    "tags": []
   },
   "outputs": [],
   "source": [
    "# File name\n",
    "fn = os.path.join(base_dir, 'Day4/data/2050_SSP245.Tmax.2016.07.01.tif')"
   ]
  },
  {
   "cell_type": "code",
   "execution_count": null,
   "metadata": {
    "tags": []
   },
   "outputs": [],
   "source": [
    "# Open\n",
    "rst2 = rasterio.open(fn)"
   ]
  },
  {
   "cell_type": "code",
   "execution_count": null,
   "metadata": {
    "tags": []
   },
   "outputs": [],
   "source": [
    "# Check meta data\n",
    "rst2.meta"
   ]
  },
  {
   "cell_type": "code",
   "execution_count": null,
   "metadata": {
    "tags": []
   },
   "outputs": [],
   "source": [
    "# Plot it\n",
    "plt.imshow(rst2.read(1));\n",
    "plt.colorbar(shrink = 0.4)"
   ]
  },
  {
   "cell_type": "markdown",
   "metadata": {},
   "source": [
    "#### How much will the planet warm by 2050?\n",
    "\n",
    "Keep in mind he ocean is still a problem with the `2050_SSP245` file, but we do not need to rewrite the file per say. As long as we know the issue, we can make sense of our data.\n",
    "\n",
    "To figure out how much warming July 1, 2016 would be under an SSP245 projection in 2050, we simply subtract the two datasets."
   ]
  },
  {
   "cell_type": "markdown",
   "metadata": {},
   "source": [
    "**QUESTION: About how much hotter is July 1 in 2050 than 2016?**"
   ]
  },
  {
   "cell_type": "markdown",
   "metadata": {},
   "source": [
    "<div class=\"run\">\n",
    "    ▶️ <b> Run the cells below. </b>\n",
    "</div>"
   ]
  },
  {
   "cell_type": "code",
   "execution_count": null,
   "metadata": {
    "tags": []
   },
   "outputs": [],
   "source": [
    "# Pull the arrays from the rasterio reader\n",
    "arr_1 = rst1.read(1)\n",
    "arr_2 = rst2.read(1)\n",
    "\n",
    "# Do the math\n",
    "arr_3 = arr_2 - arr_1"
   ]
  },
  {
   "cell_type": "code",
   "execution_count": null,
   "metadata": {
    "tags": []
   },
   "outputs": [],
   "source": [
    "# Plot it, but let's mask out the ocean values but setting a low bound of -1 °C\n",
    "plt.imshow(arr_3, vmin = -1);\n",
    "plt.colorbar(shrink = 0.4);"
   ]
  },
  {
   "cell_type": "code",
   "execution_count": null,
   "metadata": {
    "tags": []
   },
   "outputs": [],
   "source": [
    "# What is the maximum change in air temperatures?\n",
    "arr_3[arr_3 != -9999].max()"
   ]
  },
  {
   "cell_type": "code",
   "execution_count": null,
   "metadata": {
    "tags": []
   },
   "outputs": [],
   "source": [
    "# Which areas of the planet will be > 2°C warmer on July 1?\n",
    "data = np.where(arr_3 > 2, 1, 0)\n",
    "plt.imshow(data)\n",
    "plt.colorbar(shrink = 0.4);"
   ]
  },
  {
   "cell_type": "markdown",
   "metadata": {},
   "source": [
    "### How much will the distribution of temperatures shift on July 1?"
   ]
  },
  {
   "cell_type": "code",
   "execution_count": null,
   "metadata": {
    "tags": []
   },
   "outputs": [],
   "source": [
    "# Data for 2016\n",
    "data = arr_1 = arr_1[arr_1 != -9999.]\n",
    "plt.hist(arr_1, color = 'darkgreen', alpha = 0.25);\n",
    "\n",
    "# Data for 2050\n",
    "data = arr_2 = arr_2[arr_2 != -9999.]\n",
    "plt.hist(arr_2, color = 'red', alpha = 0.25);\n",
    "\n",
    "# Legend\n",
    "plt.legend(labels = ['2016', '2050'])\n",
    "\n",
    "plt.title('Global Distribution of 2m Air Temperatures July 1 2016 vs. July 1 2050 for SSP 245', fontsize = 11)"
   ]
  },
  {
   "cell_type": "markdown",
   "metadata": {},
   "source": [
    "# Concluding Points\n",
    "\n",
    "<img src=\"./assets/tay.jpg\" alt=\"tay\" width=\"500\"/>\n",
    "\n",
    "**Congratulations!** You now are on your way to truly doing Data Science for Sustainability. You know more about geospatial analysis than most humans on the planet. There is still tons left to learn and the best way to learn more is to practice. This notebook gives you a solid foundation to embark on your own work."
   ]
  }
 ],
 "metadata": {
  "kernelspec": {
   "display_name": "eqi-general",
   "language": "python",
   "name": "eqi-general"
  },
  "language_info": {
   "codemirror_mode": {
    "name": "ipython",
    "version": 3
   },
   "file_extension": ".py",
   "mimetype": "text/x-python",
   "name": "python",
   "nbconvert_exporter": "python",
   "pygments_lexer": "ipython3",
   "version": "3.11.7"
  }
 },
 "nbformat": 4,
 "nbformat_minor": 4
}
