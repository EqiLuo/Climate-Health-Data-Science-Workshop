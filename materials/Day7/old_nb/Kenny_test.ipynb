{
 "cells": [
  {
   "cell_type": "code",
   "execution_count": 1,
   "id": "9cd181f6-0481-4624-adcd-60c7d3b60b40",
   "metadata": {
    "tags": []
   },
   "outputs": [],
   "source": [
    "import rasterio\n",
    "import numpy as np"
   ]
  },
  {
   "cell_type": "code",
   "execution_count": 2,
   "id": "ffdcf001-3a4b-4716-ba10-0758722ac25c",
   "metadata": {
    "tags": []
   },
   "outputs": [],
   "source": [
    "src = rasterio.open(\"./data/usa_ppp_2020_constrained.tif\", GEOREF_SOURCES='INTERNAL')\n",
    "#type(src.read(1))\n",
    "#plt.imshow(src.read(1), cmap='gray')"
   ]
  },
  {
   "cell_type": "code",
   "execution_count": 3,
   "id": "2d0932e8-93bc-42d0-9b50-11890847edd8",
   "metadata": {
    "tags": []
   },
   "outputs": [
    {
     "data": {
      "text/plain": [
       "rasterio.io.DatasetReader"
      ]
     },
     "execution_count": 3,
     "metadata": {},
     "output_type": "execute_result"
    }
   ],
   "source": [
    "type(src)"
   ]
  },
  {
   "cell_type": "code",
   "execution_count": 4,
   "id": "f3c3b0ba-8222-495e-bb29-f96a37b32430",
   "metadata": {
    "tags": []
   },
   "outputs": [
    {
     "data": {
      "text/plain": [
       "CRS.from_epsg(4326)"
      ]
     },
     "execution_count": 4,
     "metadata": {},
     "output_type": "execute_result"
    }
   ],
   "source": [
    "src.crs"
   ]
  },
  {
   "cell_type": "code",
   "execution_count": 5,
   "id": "d28eb864-e4fc-45ef-9d72-9ec1ee41eb23",
   "metadata": {
    "tags": []
   },
   "outputs": [
    {
     "data": {
      "text/plain": [
       "Affine(0.00083333333, 0.0, -179.147915935,\n",
       "       0.0, -0.00083333333, 71.390416582)"
      ]
     },
     "execution_count": 5,
     "metadata": {},
     "output_type": "execute_result"
    }
   ],
   "source": [
    "src.transform"
   ]
  },
  {
   "cell_type": "code",
   "execution_count": 6,
   "id": "0beb540a-4ca1-4d4e-9c75-3352737810a0",
   "metadata": {
    "tags": []
   },
   "outputs": [
    {
     "name": "stdout",
     "output_type": "stream",
     "text": [
      "430711\n",
      "62976\n"
     ]
    }
   ],
   "source": [
    "print(src.width)\n",
    "print(src.height)"
   ]
  },
  {
   "cell_type": "code",
   "execution_count": 7,
   "id": "bca4a481-1844-46cf-9a25-e06b7fda1924",
   "metadata": {
    "tags": []
   },
   "outputs": [
    {
     "data": {
      "text/plain": [
       "1"
      ]
     },
     "execution_count": 7,
     "metadata": {},
     "output_type": "execute_result"
    }
   ],
   "source": [
    "src.count"
   ]
  },
  {
   "cell_type": "code",
   "execution_count": 8,
   "id": "fb8aef44-b54c-4743-b737-030a44cfeb78",
   "metadata": {
    "tags": []
   },
   "outputs": [
    {
     "data": {
      "text/plain": [
       "BoundingBox(left=-179.147915935, bottom=18.91041679192, right=179.77791596263003, top=71.390416582)"
      ]
     },
     "execution_count": 8,
     "metadata": {},
     "output_type": "execute_result"
    }
   ],
   "source": [
    "src.bounds"
   ]
  },
  {
   "cell_type": "code",
   "execution_count": 9,
   "id": "ad56fb73-9980-44c2-bf61-51b4ffd19401",
   "metadata": {
    "tags": []
   },
   "outputs": [
    {
     "data": {
      "text/plain": [
       "'GTiff'"
      ]
     },
     "execution_count": 9,
     "metadata": {},
     "output_type": "execute_result"
    }
   ],
   "source": [
    "src.driver"
   ]
  },
  {
   "cell_type": "code",
   "execution_count": 10,
   "id": "5c0897a9-d824-40e1-bf60-e487b9e183c0",
   "metadata": {
    "tags": []
   },
   "outputs": [
    {
     "data": {
      "text/plain": [
       "(-99999.0,)"
      ]
     },
     "execution_count": 10,
     "metadata": {},
     "output_type": "execute_result"
    }
   ],
   "source": [
    "src.nodatavals"
   ]
  },
  {
   "cell_type": "code",
   "execution_count": 11,
   "id": "1d5beb65-d1b7-4688-9722-1491bee00368",
   "metadata": {
    "tags": []
   },
   "outputs": [
    {
     "data": {
      "text/plain": [
       "{'driver': 'GTiff',\n",
       " 'dtype': 'float32',\n",
       " 'nodata': -99999.0,\n",
       " 'width': 430711,\n",
       " 'height': 62976,\n",
       " 'count': 1,\n",
       " 'crs': CRS.from_epsg(4326),\n",
       " 'transform': Affine(0.00083333333, 0.0, -179.147915935,\n",
       "        0.0, -0.00083333333, 71.390416582)}"
      ]
     },
     "execution_count": 11,
     "metadata": {},
     "output_type": "execute_result"
    }
   ],
   "source": [
    "src.meta"
   ]
  },
  {
   "cell_type": "code",
   "execution_count": 12,
   "id": "faa4ae08-6e10-47d5-bfb7-465229509a00",
   "metadata": {
    "tags": []
   },
   "outputs": [
    {
     "name": "stdout",
     "output_type": "stream",
     "text": [
      "<class 'numpy.ndarray'>\n",
      "float32\n"
     ]
    }
   ],
   "source": [
    "band1 = src.read()\n",
    "print(type(band1))\n",
    "print(band1.dtype)"
   ]
  },
  {
   "cell_type": "code",
   "execution_count": null,
   "id": "d859f38e-5e7f-486c-8864-ce3c30bf53c1",
   "metadata": {},
   "outputs": [],
   "source": [
    "from matplotlib import pyplot\n",
    "pyplot.imshow(band1, cmap='pink')"
   ]
  }
 ],
 "metadata": {
  "kernelspec": {
   "display_name": "Python 3 (ipykernel)",
   "language": "python",
   "name": "python3"
  },
  "language_info": {
   "codemirror_mode": {
    "name": "ipython",
    "version": 3
   },
   "file_extension": ".py",
   "mimetype": "text/x-python",
   "name": "python",
   "nbconvert_exporter": "python",
   "pygments_lexer": "ipython3",
   "version": "3.9.6"
  }
 },
 "nbformat": 4,
 "nbformat_minor": 5
}
