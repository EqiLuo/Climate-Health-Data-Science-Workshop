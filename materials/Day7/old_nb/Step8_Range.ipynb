{
 "cells": [
  {
   "cell_type": "markdown",
   "metadata": {},
   "source": [
    "# Raster Range\n",
    "Cascade Tuholske Feb 2021 <br>\n",
    "\n",
    "Notebook finds the pixel-level range across gridded rasters"
   ]
  },
  {
   "cell_type": "code",
   "execution_count": 1,
   "metadata": {},
   "outputs": [],
   "source": [
    "#### Dependencies\n",
    "import numpy as np\n",
    "import pandas as pd\n",
    "import rasterio \n",
    "import xarray as xr\n",
    "import geopandas as gpd\n",
    "import glob\n",
    "import rioxarray as rio\n",
    "from scipy.stats import variation \n",
    "import rasterio.mask\n",
    "import matplotlib.pyplot as plt"
   ]
  },
  {
   "cell_type": "code",
   "execution_count": 2,
   "metadata": {},
   "outputs": [],
   "source": [
    "def open_rst(rst_fn):\n",
    "    \"function opens a raster and makes it into a xarray object\"\n",
    "    \n",
    "    rst = xr.DataArray(rasterio.open(rst_fn).read(1), dims = ['y', 'x']) # y and x are our 2-d labels\n",
    "    \n",
    "    return rst"
   ]
  },
  {
   "cell_type": "code",
   "execution_count": 3,
   "metadata": {},
   "outputs": [],
   "source": [
    "def rst_range(rst_fns, fn_out = None, save = False):\n",
    "    \"\"\" Calc pixel-level range on stacked arrays and writes it out as a raster, returns the range, max and min arrs\n",
    "    fst_fns = list of rasters \n",
    "    fn_out = file name and path to write out range raster\n",
    "    save = if save == true, will write raster, default = False\n",
    "    \n",
    "    \"\"\"\n",
    "    \n",
    "    arr_list = [] # empty list\n",
    "    \n",
    "    # open and stack arrays\n",
    "    for rst_fn in rst_fns:\n",
    "        \n",
    "      \n",
    "        rst_arr = rasterio.open(rst_fn).read(1)\n",
    "        arr_list.append(rst_arr)\n",
    "    \n",
    "    arr3d = np.dstack([arr_list])\n",
    "        \n",
    "    # mask zeros\n",
    "    arr3d[arr3d == -999] = 0 # Set NAN to zeros\n",
    "        \n",
    "    # Get range\n",
    "    arr_min = np.amin(arr3d, axis = 0)\n",
    "    arr_max = np.amax(arr3d, axis = 0)\n",
    "    arr_range = arr_max - arr_min\n",
    "    arr_out = arr_range.data\n",
    "    \n",
    "    # get meta data & write raster \n",
    "    out_meta = rasterio.open(rst_fns[0]).meta\n",
    "    out_meta.update({'dtype' : 'float64'})\n",
    "    \n",
    "    if save == True: \n",
    "        with rasterio.open(fn_out, \"w\", **out_meta) as dest:\n",
    "            dest.write(arr_out, 1)\n",
    "        \n",
    "    return arr_range, arr_max, arr_min"
   ]
  },
  {
   "cell_type": "code",
   "execution_count": 10,
   "metadata": {},
   "outputs": [
    {
     "data": {
      "text/plain": [
       "['/Users/cascade/Github/PopGridCompare/data/interim/WP16_all_MMZ.tif',\n",
       " '/Users/cascade/Github/PopGridCompare/data/interim/GPWv4_all_MMZ.tif',\n",
       " '/Users/cascade/Github/PopGridCompare/data/interim/ESRI16_all_MMZ.tif',\n",
       " '/Users/cascade/Github/PopGridCompare/data/interim/LS15_all_MMZ.tif',\n",
       " '/Users/cascade/Github/PopGridCompare/data/interim/GHS15_all_MMZ.tif']"
      ]
     },
     "execution_count": 10,
     "metadata": {},
     "output_type": "execute_result"
    }
   ],
   "source": [
    "# write range rasters out\n",
    "\n",
    "# File Paths & FNs --- Update by geography urban/rural for MMZ, ECU, NPL\n",
    "DATA_PATH = '/Users/cascade/Github/PopGridCompare/data/'\n",
    "\n",
    "country = '_all_MMZ'\n",
    "fn_out = DATA_PATH+'interim/'+'range-MMZ.tif'\n",
    "rst_fns = glob.glob('/Users/cascade/Github/PopGridCompare/data/interim/*'+country+'.tif')\n",
    "rst_fns"
   ]
  },
  {
   "cell_type": "code",
   "execution_count": 11,
   "metadata": {},
   "outputs": [],
   "source": [
    "# make data\n",
    "data_range, data_max, data_min = rst_range(rst_fns, fn_out = fn_out, save = True)"
   ]
  }
 ],
 "metadata": {
  "kernelspec": {
   "display_name": "Python 3",
   "language": "python",
   "name": "python3"
  },
  "language_info": {
   "codemirror_mode": {
    "name": "ipython",
    "version": 3
   },
   "file_extension": ".py",
   "mimetype": "text/x-python",
   "name": "python",
   "nbconvert_exporter": "python",
   "pygments_lexer": "ipython3",
   "version": "3.8.6"
  }
 },
 "nbformat": 4,
 "nbformat_minor": 4
}
