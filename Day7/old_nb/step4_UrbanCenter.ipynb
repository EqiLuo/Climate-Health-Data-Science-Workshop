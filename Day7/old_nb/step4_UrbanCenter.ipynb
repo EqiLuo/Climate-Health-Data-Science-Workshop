{
 "cells": [
  {
   "cell_type": "markdown",
   "metadata": {},
   "source": [
    "# Assess Transects Across Urban Areas in Cases Studies\n",
    "by Cascade Tuholske March, 2021"
   ]
  },
  {
   "cell_type": "code",
   "execution_count": 1,
   "metadata": {},
   "outputs": [],
   "source": [
    "import rasterio \n",
    "import geopandas as gpd\n",
    "import pandas as pd\n",
    "import numpy as np\n",
    "from shapely.geometry import Point\n",
    "import matplotlib.pyplot as plt\n",
    "import rasterio.mask\n",
    "import glob\n",
    "from matplotlib import colors, cm\n",
    "from matplotlib.colors import ListedColormap\n",
    "import matplotlib.colors as mcolors"
   ]
  },
  {
   "cell_type": "code",
   "execution_count": 2,
   "metadata": {},
   "outputs": [],
   "source": [
    "# Path\n",
    "DATA_PATH = '/Users/cascade/Github/PopGridCompare/data/'\n",
    "city_nm ='Beira' # always update"
   ]
  },
  {
   "cell_type": "code",
   "execution_count": 3,
   "metadata": {},
   "outputs": [],
   "source": [
    "# Fun colors\n",
    "# https://towardsdatascience.com/beautiful-custom-colormaps-with-matplotlib-5bab3d1f0e72\n",
    "\n",
    "def hex_to_rgb(value):\n",
    "    '''\n",
    "    Converts hex to rgb colours\n",
    "    value: string of 6 characters representing a hex colour.\n",
    "    Returns: list length 3 of RGB values'''\n",
    "    value = value.strip(\"#\") # removes hash symbol if present\n",
    "    lv = len(value)\n",
    "    return tuple(int(value[i:i + lv // 3], 16) for i in range(0, lv, lv // 3))\n",
    "\n",
    "\n",
    "def rgb_to_dec(value):\n",
    "    '''\n",
    "    Converts rgb to decimal colours (i.e. divides each value by 256)\n",
    "    value: list (length 3) of RGB values\n",
    "    Returns: list (length 3) of decimal values'''\n",
    "    return [v/256 for v in value]\n",
    "\n",
    "\n",
    "def get_continuous_cmap(hex_list, float_list=None):\n",
    "    ''' creates and returns a color map that can be used in heat map figures.\n",
    "        If float_list is not provided, colour map graduates linearly between each color in hex_list.\n",
    "        If float_list is provided, each color in hex_list is mapped to the respective location in float_list. \n",
    "        \n",
    "        Parameters\n",
    "        ----------\n",
    "        hex_list: list of hex code strings\n",
    "        float_list: list of floats between 0 and 1, same length as hex_list. Must start with 0 and end with 1.\n",
    "        \n",
    "        Returns\n",
    "        ----------\n",
    "        colour map'''\n",
    "    rgb_list = [rgb_to_dec(hex_to_rgb(i)) for i in hex_list]\n",
    "    if float_list:\n",
    "        pass\n",
    "    else:\n",
    "        float_list = list(np.linspace(0,1,len(rgb_list)))\n",
    "        \n",
    "    cdict = dict()\n",
    "    for num, col in enumerate(['red', 'green', 'blue']):\n",
    "        col_list = [[float_list[i], rgb_list[i][num], rgb_list[i][num]] for i in range(len(float_list))]\n",
    "        cdict[col] = col_list\n",
    "    cmp = mcolors.LinearSegmentedColormap('my_cmp', segmentdata=cdict, N=256)\n",
    "    return cmp"
   ]
  },
  {
   "cell_type": "markdown",
   "metadata": {},
   "source": [
    "## Clip Match Rasters"
   ]
  },
  {
   "cell_type": "code",
   "execution_count": 4,
   "metadata": {},
   "outputs": [],
   "source": [
    "def raster_clip(rst_fn, polys, in_ext, out_ext):\n",
    "    \n",
    "    \"\"\" function clips a raster and saves it out\n",
    "    args:\n",
    "        rst_fn = raster you want to clip\n",
    "        polys = polys you want to clip to\n",
    "        in_ext = tail of .tif file to clip off\n",
    "        out_ext = tail of .tif file for saving out \n",
    "    \"\"\"\n",
    "    \n",
    "    # Get raster name\n",
    "    data = rst_fn.split(DATA_PATH+'interim/')[1].split(in_ext)[0]\n",
    "    fn_out = DATA_PATH+'interim/'+data+out_ext\n",
    "    print(fn_out)\n",
    "    \n",
    "    # clip raster\n",
    "    with rasterio.open(rst_fn) as src:\n",
    "        out_image, out_transform = rasterio.mask.mask(src, polys, crop=True)\n",
    "        out_meta = src.meta\n",
    "        \n",
    "    # Update meta data\n",
    "    out_meta.update({\"driver\": \"GTiff\",\n",
    "                 \"height\": out_image.shape[1],\n",
    "                 \"width\": out_image.shape[2],\n",
    "                 \"transform\": out_transform})\n",
    "    \n",
    "    # write image \n",
    "    with rasterio.open(fn_out, \"w\", **out_meta) as dest:\n",
    "        dest.write(out_image)"
   ]
  },
  {
   "cell_type": "code",
   "execution_count": 5,
   "metadata": {
    "scrolled": true
   },
   "outputs": [
    {
     "name": "stdout",
     "output_type": "stream",
     "text": [
      "/Users/cascade/Github/PopGridCompare/data/interim/GHS15_Beira.tif\n",
      "/Users/cascade/Github/PopGridCompare/data/interim/LS15_Beira.tif\n",
      "/Users/cascade/Github/PopGridCompare/data/interim/GPWv4_Beira.tif\n",
      "/Users/cascade/Github/PopGridCompare/data/interim/ESRI16_Beira.tif\n",
      "/Users/cascade/Github/PopGridCompare/data/interim/WP16_Beira.tif\n"
     ]
    },
    {
     "name": "stderr",
     "output_type": "stream",
     "text": [
      "<ipython-input-5-b1a5bedec429>:11: UserWarning: Geometry is in a geographic CRS. Results from 'buffer' are likely incorrect. Use 'GeoSeries.to_crs()' to re-project geometries to a projected CRS before this operation.\n",
      "\n",
      "  buffer = point.buffer(dist, cap_style = 3)\n"
     ]
    }
   ],
   "source": [
    "#### Matched Rasters \n",
    "rst_fns = glob.glob('/Users/cascade/Github/PopGridCompare/data/interim/*_matched.tif')\n",
    "rst_fns\n",
    "\n",
    "# Open point and buffer\n",
    "point_fn = DATA_PATH+'interim/UCDB-'+city_nm+'.shp'\n",
    "point = gpd.read_file(point_fn)\n",
    "\n",
    "# CRS is in degrees, but we're going with ~km here so (.25° ~  55.5km)\n",
    "dist = .25\n",
    "buffer = point.buffer(dist, cap_style = 3)\n",
    "\n",
    "in_ext = '_matched.tif'\n",
    "out_ext = '_'+city_nm+'.tif'\n",
    "for rst_fn in rst_fns:\n",
    "    raster_clip(rst_fn, buffer, in_ext, out_ext)"
   ]
  },
  {
   "cell_type": "markdown",
   "metadata": {},
   "source": [
    "## Clip MGUP"
   ]
  },
  {
   "cell_type": "code",
   "execution_count": 6,
   "metadata": {},
   "outputs": [],
   "source": [
    "def raster_clip(rst_fn, polys, fn_out):\n",
    "    \n",
    "    \"\"\" function clips a raster and saves it out\n",
    "    args:\n",
    "        rst_fn = raster you want to clip\n",
    "        poly = polys you want to clip to\n",
    "        fn_out = fn to write out\n",
    "    \"\"\"\n",
    "    \n",
    "    \n",
    "    # clip raster\n",
    "    with rasterio.open(rst_fn) as src:\n",
    "        out_image, out_transform = rasterio.mask.mask(src, polys, crop=True)\n",
    "        out_meta = src.meta\n",
    "        \n",
    "    # Update meta data\n",
    "    out_meta.update({\"driver\": \"GTiff\",\n",
    "                 \"height\": out_image.shape[1],\n",
    "                 \"width\": out_image.shape[2],\n",
    "                 \"transform\": out_transform})\n",
    "    \n",
    "    # write image \n",
    "    with rasterio.open(fn_out, \"w\", **out_meta) as dest:\n",
    "        dest.write(out_image)"
   ]
  },
  {
   "cell_type": "code",
   "execution_count": 7,
   "metadata": {},
   "outputs": [],
   "source": [
    "#### MGUP\n",
    "rst_fn = DATA_PATH+'interim/MGUP15_2015-km-matched.tif'\n",
    "fn_out = DATA_PATH+'interim/MGUP15_2015-km-'+city_nm+'.tif'\n",
    "raster_clip(rst_fn, buffer, fn_out)"
   ]
  },
  {
   "cell_type": "markdown",
   "metadata": {},
   "source": [
    "## Make plot data"
   ]
  },
  {
   "cell_type": "code",
   "execution_count": 8,
   "metadata": {},
   "outputs": [],
   "source": [
    "#### set colors\n",
    "ESRI16_c = 'blue'\n",
    "GHS15_c = 'indigo'\n",
    "GPWv4_c = 'deeppink'\n",
    "LS15_c = 'deepskyblue'\n",
    "WP16_c = 'forestgreen'"
   ]
  },
  {
   "cell_type": "code",
   "execution_count": 9,
   "metadata": {},
   "outputs": [],
   "source": [
    "clip_rsts = sorted(glob.glob(DATA_PATH+'interim/*_'+city_nm+'.tif'))"
   ]
  },
  {
   "cell_type": "code",
   "execution_count": 10,
   "metadata": {},
   "outputs": [],
   "source": [
    "# Make a ~60km transect\n",
    "def make_transect(rst_fns):\n",
    "    dic = {}\n",
    "    df = pd.DataFrame()\n",
    "    \n",
    "    # pop\n",
    "    for rst in clip_rsts:\n",
    "        \n",
    "        data = rst.split(DATA_PATH+'interim/')[1].split('_'+city_nm+'.tif')[0] # get data str\n",
    "        print(data)\n",
    "        arr = rasterio.open(rst).read(1) # read in array\n",
    "        sub = arr[28:34,:] # subset 7 X 61km transect\n",
    "        sub = np.where(sub == -999, 0, sub) # revalue\n",
    "        df[data] = sub.sum(axis = 0) # populatate array\n",
    "        \n",
    "        # log scale it for the dic\n",
    "        sub = res = np.where(sub != 0, np.log10(sub), 0) \n",
    "        dic[data] = sub\n",
    "\n",
    "    \n",
    "    return dic, df"
   ]
  },
  {
   "cell_type": "code",
   "execution_count": 11,
   "metadata": {},
   "outputs": [
    {
     "name": "stdout",
     "output_type": "stream",
     "text": [
      "ESRI16\n",
      "GHS15\n",
      "GPWv4\n",
      "LS15\n",
      "WP16\n"
     ]
    },
    {
     "name": "stderr",
     "output_type": "stream",
     "text": [
      "<ipython-input-10-d81cb8b508c8>:17: RuntimeWarning: divide by zero encountered in log10\n",
      "  sub = res = np.where(sub != 0, np.log10(sub), 0)\n"
     ]
    }
   ],
   "source": [
    "dic, df = make_transect(clip_rsts)"
   ]
  },
  {
   "cell_type": "code",
   "execution_count": 12,
   "metadata": {
    "scrolled": false
   },
   "outputs": [
    {
     "name": "stdout",
     "output_type": "stream",
     "text": [
      "ESRI16 4.4177705311169255 0.0\n",
      "GHS15 4.207209313406194 0.0\n",
      "GPWv4 2.7628157 0.0\n",
      "LS15 4.5677907105335365 0.0\n",
      "WP16 3.7903967 0.0\n"
     ]
    }
   ],
   "source": [
    "# get color ranges for min max\n",
    "for i, item in enumerate(dic.items()):\n",
    "    print(item[0], item[1].max(), item[1].min())"
   ]
  },
  {
   "cell_type": "code",
   "execution_count": 13,
   "metadata": {},
   "outputs": [],
   "source": [
    "vmax = 4.5"
   ]
  },
  {
   "cell_type": "code",
   "execution_count": 14,
   "metadata": {},
   "outputs": [],
   "source": [
    "# rename them \n",
    "dic['WPE-16'] = dic.pop('ESRI16')\n",
    "dic['GHS-15'] = dic.pop('GHS15')\n",
    "dic['GPW-15'] = dic.pop('GPWv4')\n",
    "dic['LS-15'] = dic.pop('LS15')\n",
    "dic['WP-16'] = dic.pop('WP16')"
   ]
  },
  {
   "cell_type": "code",
   "execution_count": 15,
   "metadata": {},
   "outputs": [],
   "source": [
    "# mgup data \n",
    "fn_in = DATA_PATH+'interim/MGUP15_2015-km-'+city_nm+'.tif'\n",
    "mgup = rasterio.open(fn_in).read(1)\n",
    "mgup_data = mgup[28:34,:]"
   ]
  },
  {
   "cell_type": "markdown",
   "metadata": {},
   "source": [
    "## Raster plots"
   ]
  },
  {
   "cell_type": "code",
   "execution_count": 16,
   "metadata": {},
   "outputs": [],
   "source": [
    "# Make colors\n",
    "hex_list = ['#0091ad', '#3fcdda', '#83f9f8', '#d6f6eb', '#fdf1d2', '#f8eaad', '#faaaae', '#ff57bb']\n",
    "newcmp=get_continuous_cmap(hex_list)"
   ]
  },
  {
   "cell_type": "code",
   "execution_count": 17,
   "metadata": {
    "scrolled": true
   },
   "outputs": [
    {
     "data": {
      "image/png": "[encoded data removed]",
      "text/plain": [
       "<Figure size 504x864 with 7 Axes>"
      ]
     },
     "metadata": {
      "needs_background": "light"
     },
     "output_type": "display_data"
    }
   ],
   "source": [
    "# plot transects\n",
    "fig, axs = plt.subplots(6, 1, figsize = (7, 12), sharex=True)\n",
    "fig.subplots_adjust(left=None, bottom=None, right=None, top=.5, wspace=0, hspace=0)\n",
    "\n",
    "# color map\n",
    "# Make colors\n",
    "hex_list = ['#0091ad', '#3fcdda', '#83f9f8', '#d6f6eb', '#fdf1d2', '#f8eaad', '#faaaae', '#ff57bb']\n",
    "newcmp=get_continuous_cmap(hex_list)\n",
    "\n",
    "# pop\n",
    "for i, key in enumerate(dic):\n",
    "    \n",
    "    im = axs[i].imshow(dic[key], alpha = 1, cmap = newcmp, vmin = 0, vmax = vmax)\n",
    "    axs[i].tick_params(axis='both', which='both', bottom=False, top=False, left=False, labelleft=False, \n",
    "                       labelbottom=False)\n",
    "    axs[i].set_title(key)\n",
    "\n",
    "# mgup\n",
    "data = np.where(mgup_data == -999, 0, mgup_data)\n",
    "axs[5].imshow(mgup_data, cmap = 'binary')\n",
    "axs[5].set_title('MGUP Urban Pixels')\n",
    "axs[5].tick_params(axis='both', which='both', bottom=False, top=False, left=False, labelleft=False, \n",
    "                       labelbottom=False)\n",
    "\n",
    "# color bar\n",
    "fig.subplots_adjust(right=0.8)\n",
    "cbar_ax = fig.add_axes([0.82, 0.2, 0.03, 0.29])\n",
    "cb = fig.colorbar(im, cax=cbar_ax)\n",
    "cb.set_ticks([1,2,3,4])\n",
    "cb.set_ticklabels(['$10^1$', '$10^2$', '$10^3$', '$10^4$'])\n",
    "cbar_ax.tick_params(labelsize=12)\n",
    "\n",
    "# color bar ticks\n",
    "# cbar_ax.set_xticks([0,3])\n",
    "\n",
    "# save it out\n",
    "fig_out = '/Users/cascade/Github/PopGridCompare/data/FIGS/MS/Finalv1/Fig3-'+city_nm+'-rst.png'\n",
    "plt.savefig(fig_out, dpi = 300, facecolor = 'white', bbox_inches='tight')"
   ]
  },
  {
   "cell_type": "markdown",
   "metadata": {},
   "source": [
    "## Line plot sums"
   ]
  },
  {
   "cell_type": "code",
   "execution_count": 18,
   "metadata": {
    "scrolled": false
   },
   "outputs": [
    {
     "name": "stderr",
     "output_type": "stream",
     "text": [
      "<ipython-input-18-ff682a27b3f0>:20: UserWarning: FixedFormatter should only be used together with FixedLocator\n",
      "  axs[0].set_yticklabels(labels, fontsize = 13)\n",
      "<ipython-input-18-ff682a27b3f0>:29: UserWarning: FixedFormatter should only be used together with FixedLocator\n",
      "  axs[1].set_yticklabels(labels, fontsize = 13)\n",
      "<ipython-input-18-ff682a27b3f0>:38: UserWarning: FixedFormatter should only be used together with FixedLocator\n",
      "  axs[2].set_yticklabels(labels, fontsize = 13)\n",
      "<ipython-input-18-ff682a27b3f0>:48: UserWarning: FixedFormatter should only be used together with FixedLocator\n",
      "  axs[3].set_yticklabels(labels, fontsize = 13)\n",
      "<ipython-input-18-ff682a27b3f0>:57: UserWarning: FixedFormatter should only be used together with FixedLocator\n",
      "  axs[4].set_yticklabels(labels, fontsize = 13)\n"
     ]
    },
    {
     "data": {
      "image/png": "[encoded data removed]",
      "text/plain": [
       "<Figure size 504x720 with 5 Axes>"
      ]
     },
     "metadata": {
      "needs_background": "light"
     },
     "output_type": "display_data"
    }
   ],
   "source": [
    "# Make  plot \n",
    "fig, axs = plt.subplots(5, 1, figsize = (7, 10), sharex=True)\n",
    "#fig.subplots_adjust(left=None, bottom=None, right=None, top=.5, wspace=0, hspace=0)\n",
    "ws = 0.25\n",
    "fig.subplots_adjust(wspace=ws)\n",
    "x = list(range(0,61))\n",
    "scale = 1\n",
    "\n",
    "# Title & labels\n",
    "axs[0].set_title(city_nm+' 7km x 60km Transect', fontsize = 14)\n",
    "labels = ['$10^0$', '$10^2$', '$10^4$']\n",
    "locs = [0,2,4]\n",
    "\n",
    "# ESRI\n",
    "data = np.ma.log10(df.ESRI16.to_numpy())\n",
    "data = data.filled(0)\n",
    "axs[0].plot(x, data, alpha  = 1, color = ESRI16_c)\n",
    "axs[0].set_ylim([-0.25,6])\n",
    "axs[0].legend(['WPE-16'], fontsize = 12, loc = 'upper right')\n",
    "axs[0].set_yticklabels(labels, fontsize = 13)\n",
    "axs[0].set_yticks(locs)\n",
    "\n",
    "# GHS15\n",
    "data = np.ma.log10(df.GHS15.to_numpy())\n",
    "data = data.filled(0)\n",
    "axs[1].plot(x, data, alpha  = 1, color = GHS15_c)\n",
    "axs[1].set_ylim([-0.25,6])\n",
    "axs[1].legend(['GHS-15'], fontsize = 12, loc = 'upper right')\n",
    "axs[1].set_yticklabels(labels, fontsize = 13)\n",
    "axs[1].set_yticks(locs)\n",
    "\n",
    "# GPWv4\n",
    "data = np.ma.log10(df.GPWv4.to_numpy())\n",
    "data = data.filled(0)\n",
    "axs[2].plot(x, data, alpha  = 1, color = GPWv4_c)\n",
    "axs[2].set_ylim([-0.25,6])\n",
    "axs[2].legend(['GPW-15'], fontsize = 12, loc = 'upper right')\n",
    "axs[2].set_yticklabels(labels, fontsize = 13)\n",
    "axs[2].set_yticks(locs)\n",
    "axs[2].set_ylabel('North-South Sum Population [log10]', fontsize = 13)\n",
    "\n",
    "# LS15\n",
    "data = np.ma.log10(df.LS15.to_numpy())\n",
    "data = data.filled(0)\n",
    "axs[3].plot(x, data, alpha  = 1, color = LS15_c)\n",
    "axs[3].set_ylim([-0.25,6])\n",
    "axs[3].legend(['LS-15'], fontsize = 12, loc = 'upper right')\n",
    "axs[3].set_yticklabels(labels, fontsize = 13)\n",
    "axs[3].set_yticks(locs)\n",
    "\n",
    "# WP-16\n",
    "data = np.ma.log10(df.WP16.to_numpy())\n",
    "data = data.filled(0)\n",
    "axs[4].plot(x, data, alpha  = 1, color = WP16_c)\n",
    "axs[4].set_ylim([-1,6])\n",
    "axs[4].legend(['WP-16'], fontsize = 12, loc = 'upper right')\n",
    "axs[4].set_yticklabels(labels, fontsize = 13)\n",
    "axs[4].set_yticks(locs)\n",
    "\n",
    "# Ticks\n",
    "plt.xticks([0, 16, 31, 46, 60], ['30km W', '15km W', 'Center', '30km E', '60km East'], fontsize = 13);\n",
    "\n",
    "# save it out\n",
    "fig_out = '/Users/cascade/Github/PopGridCompare/data/FIGS/MS/Finalv1/Fig3-'+city_nm+'-sums.png'\n",
    "plt.savefig(fig_out, dpi = 300, facecolor = 'white', bbox_inches='tight')"
   ]
  }
 ],
 "metadata": {
  "kernelspec": {
   "display_name": "Python 3",
   "language": "python",
   "name": "python3"
  },
  "language_info": {
   "codemirror_mode": {
    "name": "ipython",
    "version": 3
   },
   "file_extension": ".py",
   "mimetype": "text/x-python",
   "name": "python",
   "nbconvert_exporter": "python",
   "pygments_lexer": "ipython3",
   "version": "3.8.6"
  }
 },
 "nbformat": 4,
 "nbformat_minor": 4
}
