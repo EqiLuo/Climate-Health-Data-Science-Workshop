{
 "cells": [
  {
   "cell_type": "markdown",
   "metadata": {},
   "source": [
    "# Other\n",
    "Notebook to dig up stats for the MS <br>\n",
    "Cascade Tuholske, Feb 2021"
   ]
  },
  {
   "cell_type": "code",
   "execution_count": 70,
   "metadata": {},
   "outputs": [],
   "source": [
    "# Dependencies\n",
    "import geopandas as gpd\n",
    "import pandas as np\n",
    "import numpy as np\n",
    "import glob\n",
    "import rasterio\n",
    "import matplotlib.pyplot as plt"
   ]
  },
  {
   "cell_type": "markdown",
   "metadata": {},
   "source": [
    "### Admin Units"
   ]
  },
  {
   "cell_type": "code",
   "execution_count": 4,
   "metadata": {},
   "outputs": [
    {
     "name": "stdout",
     "output_type": "stream",
     "text": [
      "How many admin units are there?\n",
      "For ZWE 91\n"
     ]
    }
   ],
   "source": [
    "print('How many admin units are there?')\n",
    "df_in = '/Users/cascade/Github/PopGridCompare/data/raw/GPWv4-boundaries/gwpv4_zwe_admin2.shp'\n",
    "df = gpd.read_file(df_in)\n",
    "print('For ZWE', len(df))"
   ]
  },
  {
   "cell_type": "code",
   "execution_count": 5,
   "metadata": {},
   "outputs": [
    {
     "name": "stdout",
     "output_type": "stream",
     "text": [
      "How many admin units are there?\n",
      "For NPL 3990\n"
     ]
    }
   ],
   "source": [
    "print('How many admin units are there?')\n",
    "df_in = '/Users/cascade/Github/PopGridCompare/data/raw/GPWv4-boundaries/gwpv4_npl_admin4.shp'\n",
    "df = gpd.read_file(df_in)\n",
    "print('For NPL', len(df))"
   ]
  },
  {
   "cell_type": "code",
   "execution_count": 6,
   "metadata": {},
   "outputs": [
    {
     "name": "stdout",
     "output_type": "stream",
     "text": [
      "How many admin units are there?\n",
      "For mwi 12647\n"
     ]
    }
   ],
   "source": [
    "print('How many admin units are there?')\n",
    "df_in = '/Users/cascade/Github/PopGridCompare/data/raw/GPWv4-boundaries/gwpv4_mwi_admin3.shp'\n",
    "df = gpd.read_file(df_in)\n",
    "print('For mwi', len(df))"
   ]
  },
  {
   "cell_type": "code",
   "execution_count": 8,
   "metadata": {},
   "outputs": [
    {
     "name": "stdout",
     "output_type": "stream",
     "text": [
      "How many admin units are there?\n",
      "For moz 413\n"
     ]
    }
   ],
   "source": [
    "print('How many admin units are there?')\n",
    "df_in = '/Users/cascade/Github/PopGridCompare/data/raw/GPWv4-boundaries/gwpv4_moz_admin3.shp'\n",
    "df = gpd.read_file(df_in)\n",
    "print('For moz', len(df))"
   ]
  },
  {
   "cell_type": "code",
   "execution_count": 9,
   "metadata": {
    "scrolled": true
   },
   "outputs": [
    {
     "name": "stdout",
     "output_type": "stream",
     "text": [
      "How many admin units are there?\n",
      "For ecu 1047\n"
     ]
    }
   ],
   "source": [
    "print('How many admin units are there?')\n",
    "df_in = '/Users/cascade/Github/PopGridCompare/data/raw/GPWv4-boundaries/gwpv4_ecu_admin3.shp'\n",
    "df = gpd.read_file(df_in)\n",
    "print('For ecu', len(df))"
   ]
  },
  {
   "cell_type": "markdown",
   "metadata": {},
   "source": [
    "## Counts"
   ]
  },
  {
   "cell_type": "code",
   "execution_count": 102,
   "metadata": {},
   "outputs": [],
   "source": [
    "PATH = '/Users/cascade/Github/PopGridCompare/data/interim/'"
   ]
  },
  {
   "cell_type": "code",
   "execution_count": 105,
   "metadata": {},
   "outputs": [],
   "source": [
    "rst_list = glob.glob(PATH+'agg_*.tif')"
   ]
  },
  {
   "cell_type": "code",
   "execution_count": 129,
   "metadata": {},
   "outputs": [
    {
     "name": "stdout",
     "output_type": "stream",
     "text": [
      "agg_MMZ.tif\n",
      "tot 3937046\n",
      "counts (array([0, 1, 2, 3, 4, 5], dtype=int32), array([2418131,   67470,  148693,  984142,  247488,   71122]))\n",
      "agree 2665619\n",
      "Pct agree 67.7060669344478 \n",
      "\n",
      "agg_NPL.tif\n",
      "tot 482154\n",
      "counts (array([0, 1, 2, 3, 4, 5], dtype=int32), array([300927,   7734,  14501,  27775,  64255,  66962]))\n",
      "agree 365182\n",
      "Pct agree 75.73970142319673 \n",
      "\n",
      "agg_ECU.tif\n",
      "tot 550046\n",
      "counts (array([0, 1, 2, 3, 4, 5], dtype=int32), array([295855,  20371,  43893, 132826,  46933,  10168]))\n",
      "agree 342788\n",
      "Pct agree 62.3198787010541 \n",
      "\n"
     ]
    }
   ],
   "source": [
    "# How many pixels are occupied \n",
    "for fn in rst_list:\n",
    "    print(fn.split('interim/')[1])\n",
    "    data = rasterio.open(fn).read(1)\n",
    "    tot = len(data.flatten())\n",
    "    print('tot', tot)\n",
    "    print('counts', np.unique(data, return_counts=True))\n",
    "    count = np.unique(data, return_counts=True)[1]\n",
    "    agree = count[0] + count[4]\n",
    "    print('agree',agree)\n",
    "    pct = agree / tot * 100\n",
    "    print('Pct agree', pct, '\\n')"
   ]
  },
  {
   "cell_type": "markdown",
   "metadata": {},
   "source": [
    "## Range Outliers"
   ]
  },
  {
   "cell_type": "code",
   "execution_count": 131,
   "metadata": {},
   "outputs": [],
   "source": [
    "def open_rst(rst_fn):\n",
    "    \"function opens a raster and makes it into a xarray object\"\n",
    "    \n",
    "    rst = xr.DataArray(rasterio.open(rst_fn).read(1), dims = ['y', 'x']) # y and x are our 2-d labels\n",
    "    \n",
    "    return rst"
   ]
  },
  {
   "cell_type": "code",
   "execution_count": 132,
   "metadata": {},
   "outputs": [],
   "source": [
    "def rst_range(rst_fns, fn_out = None, save = False):\n",
    "    \"\"\" Calc pixel-level range on stacked arrays and writes it out as a raster, returns the range, max and min arrs\n",
    "    fst_fns = list of rasters \n",
    "    fn_out = file name and path to write out range raster\n",
    "    save = if save == true, will write raster, default = False\n",
    "    \n",
    "    \"\"\"\n",
    "    \n",
    "    arr_list = [] # empty list\n",
    "    \n",
    "    # open and stack arrays\n",
    "    for rst_fn in rst_fns:\n",
    "        \n",
    "      \n",
    "        rst_arr = rasterio.open(rst_fn).read(1)\n",
    "        arr_list.append(rst_arr)\n",
    "    \n",
    "    arr3d = np.dstack([arr_list])\n",
    "        \n",
    "    # mask zeros\n",
    "    arr3d[arr3d == -999] = 0 # Set NAN to zeros\n",
    "        \n",
    "    # Get range\n",
    "    arr_min = np.amin(arr3d, axis = 0)\n",
    "    arr_max = np.amax(arr3d, axis = 0)\n",
    "    arr_range = arr_max - arr_min\n",
    "    arr_out = arr_range.data\n",
    "    \n",
    "    # get meta data & write raster \n",
    "    out_meta = rasterio.open(rst_fns[0]).meta\n",
    "    out_meta.update({'dtype' : 'float64'})\n",
    "    \n",
    "    if save == True: \n",
    "        with rasterio.open(fn_out, \"w\", **out_meta) as dest:\n",
    "            dest.write(arr_out, 1)\n",
    "\n",
    "    return arr_range, arr_max, arr_min"
   ]
  },
  {
   "cell_type": "markdown",
   "metadata": {},
   "source": [
    "### NPL"
   ]
  },
  {
   "cell_type": "code",
   "execution_count": 133,
   "metadata": {},
   "outputs": [
    {
     "name": "stdout",
     "output_type": "stream",
     "text": [
      "/Users/cascade/Github/PopGridCompare/data/interim/WP16_rural_NPL.tif\n",
      "/Users/cascade/Github/PopGridCompare/data/interim/ESRI16_rural_NPL.tif\n",
      "/Users/cascade/Github/PopGridCompare/data/interim/GHS15_rural_NPL.tif\n",
      "/Users/cascade/Github/PopGridCompare/data/interim/LS15_rural_NPL.tif\n",
      "/Users/cascade/Github/PopGridCompare/data/interim/GPWv4_rural_NPL.tif\n"
     ]
    }
   ],
   "source": [
    "# File Paths & FNs --- Update by geography urban/rural for MMZ, ECU, NPL\n",
    "DATA_PATH = '/Users/cascade/Github/PopGridCompare/data/'\n",
    "\n",
    "# args\n",
    "country = 'rural_NPL'\n",
    "\n",
    "# get rst names\n",
    "rst_fns = glob.glob('/Users/cascade/Github/PopGridCompare/data/interim/*'+country+'.tif')\n",
    "for rst in rst_fns: print(rst) # check them\n",
    "    \n",
    "# make data\n",
    "data_range, data_max, data_min = rst_range(rst_fns, fn_out = None, save = False)"
   ]
  },
  {
   "cell_type": "code",
   "execution_count": 148,
   "metadata": {
    "scrolled": true
   },
   "outputs": [
    {
     "name": "stdout",
     "output_type": "stream",
     "text": [
      "rural_MMZ\n",
      "How many min 1000 have range over 5000? (array([0, 1]), array([3937019,      27]))\n"
     ]
    }
   ],
   "source": [
    "# date range set 0s\n",
    "range_zeros = np.where(data_range == 0, -999, data_range)\n",
    "range_zeros50K = range_zeros > 50000\n",
    "range_zeros50K = range_zeros50K.astype(int)\n",
    "min1000 = (data_min > 0) & (data_min <= 1000)\n",
    "min1000 = min1000.astype(int)\n",
    "print(country)\n",
    "print('How many min 1000 have range over 50000?', np.unique(min1000 * range_zeros50K, return_counts = True))"
   ]
  },
  {
   "cell_type": "markdown",
   "metadata": {},
   "source": [
    "### MMZ"
   ]
  },
  {
   "cell_type": "code",
   "execution_count": 149,
   "metadata": {},
   "outputs": [
    {
     "name": "stdout",
     "output_type": "stream",
     "text": [
      "/Users/cascade/Github/PopGridCompare/data/interim/LS15_rural_MMZ.tif\n",
      "/Users/cascade/Github/PopGridCompare/data/interim/GPWv4_rural_MMZ.tif\n",
      "/Users/cascade/Github/PopGridCompare/data/interim/ESRI16_rural_MMZ.tif\n",
      "/Users/cascade/Github/PopGridCompare/data/interim/WP16_rural_MMZ.tif\n",
      "/Users/cascade/Github/PopGridCompare/data/interim/GHS15_rural_MMZ.tif\n",
      "rural_MMZ\n",
      "How many min 1000 have range over 50000? (array([0, 1]), array([3937019,      27]))\n"
     ]
    }
   ],
   "source": [
    "# File Paths & FNs --- Update by geography urban/rural for MMZ, ECU, NPL\n",
    "DATA_PATH = '/Users/cascade/Github/PopGridCompare/data/'\n",
    "\n",
    "# args\n",
    "country = 'rural_MMZ'\n",
    "\n",
    "# get rst names\n",
    "rst_fns = glob.glob('/Users/cascade/Github/PopGridCompare/data/interim/*'+country+'.tif')\n",
    "for rst in rst_fns: print(rst) # check them\n",
    "    \n",
    "# make data\n",
    "data_range, data_max, data_min = rst_range(rst_fns, fn_out = None, save = False)\n",
    "\n",
    "# date range set 0s\n",
    "range_zeros = np.where(data_range == 0, -999, data_range)\n",
    "range_zeros50K = range_zeros > 50000\n",
    "range_zeros50K = range_zeros50K.astype(int)\n",
    "min1000 = (data_min > 0) & (data_min <= 1000)\n",
    "min1000 = min1000.astype(int)\n",
    "print(country)\n",
    "print('How many min 1000 have range over 50000?', np.unique(min1000 * range_zeros50K, return_counts = True))"
   ]
  },
  {
   "cell_type": "markdown",
   "metadata": {},
   "source": [
    "### ECU"
   ]
  },
  {
   "cell_type": "code",
   "execution_count": 151,
   "metadata": {},
   "outputs": [
    {
     "name": "stdout",
     "output_type": "stream",
     "text": [
      "/Users/cascade/Github/PopGridCompare/data/interim/GHS15_rural_ECU.tif\n",
      "/Users/cascade/Github/PopGridCompare/data/interim/ESRI16_rural_ECU.tif\n",
      "/Users/cascade/Github/PopGridCompare/data/interim/WP16_rural_ECU.tif\n",
      "/Users/cascade/Github/PopGridCompare/data/interim/GPWv4_rural_ECU.tif\n",
      "/Users/cascade/Github/PopGridCompare/data/interim/LS15_rural_ECU.tif\n",
      "rural_ECU\n",
      "How many min 1000 have range over 50000? (array([0, 1]), array([550038,      8]))\n"
     ]
    }
   ],
   "source": [
    "# File Paths & FNs --- Update by geography urban/rural for MMZ, ECU, NPL\n",
    "DATA_PATH = '/Users/cascade/Github/PopGridCompare/data/'\n",
    "\n",
    "# args\n",
    "country = 'rural_ECU'\n",
    "\n",
    "# get rst names\n",
    "rst_fns = glob.glob('/Users/cascade/Github/PopGridCompare/data/interim/*'+country+'.tif')\n",
    "for rst in rst_fns: print(rst) # check them\n",
    "    \n",
    "# make data\n",
    "data_range, data_max, data_min = rst_range(rst_fns, fn_out = None, save = False)\n",
    "\n",
    "# date range set 0s\n",
    "range_zeros = np.where(data_range == 0, -999, data_range)\n",
    "range_zeros50K = range_zeros > 25000\n",
    "range_zeros50K = range_zeros50K.astype(int)\n",
    "min1000 = (data_min > 0) & (data_min <= 1000)\n",
    "min1000 = min1000.astype(int)\n",
    "print(country)\n",
    "print('How many min 1000 have range over 25000?', np.unique(min1000 * range_zeros50K, return_counts = True))"
   ]
  },
  {
   "cell_type": "markdown",
   "metadata": {},
   "source": [
    "### Find Rural 1000"
   ]
  },
  {
   "cell_type": "code",
   "execution_count": 157,
   "metadata": {},
   "outputs": [
    {
     "name": "stdout",
     "output_type": "stream",
     "text": [
      "rural_MMZ\n",
      "/Users/cascade/Github/PopGridCompare/data/interim/LS15_rural_MMZ.tif\n",
      "(array([0, 1]), array([3936977,      69]))\n",
      "/Users/cascade/Github/PopGridCompare/data/interim/GPWv4_rural_MMZ.tif\n",
      "(array([0, 1]), array([3937036,      10]))\n",
      "/Users/cascade/Github/PopGridCompare/data/interim/ESRI16_rural_MMZ.tif\n",
      "(array([0, 1]), array([3936930,     116]))\n",
      "/Users/cascade/Github/PopGridCompare/data/interim/WP16_rural_MMZ.tif\n",
      "(array([0, 1]), array([3937030,      16]))\n",
      "/Users/cascade/Github/PopGridCompare/data/interim/GHS15_rural_MMZ.tif\n",
      "(array([0, 1]), array([3936518,     528]))\n"
     ]
    }
   ],
   "source": [
    "# File Paths & FNs --- Update by geography urban/rural for MMZ, ECU, NPL\n",
    "DATA_PATH = '/Users/cascade/Github/PopGridCompare/data/'\n",
    "\n",
    "# args\n",
    "country = 'rural_MMZ'\n",
    "\n",
    "# get rst names\n",
    "rst_fns = glob.glob('/Users/cascade/Github/PopGridCompare/data/interim/*'+country+'.tif')\n",
    "\n",
    "print(country)\n",
    "\n",
    "# Get number of rural pixels > 10,000\n",
    "for rst in rst_fns:\n",
    "    print(rst)\n",
    "    data = rasterio.open(rst).read(1)\n",
    "    data = data > 10000\n",
    "    data = data.astype(int)\n",
    "    print(np.unique(data, return_counts = True))"
   ]
  },
  {
   "cell_type": "markdown",
   "metadata": {},
   "source": [
    "### Nepal Outlier"
   ]
  },
  {
   "cell_type": "code",
   "execution_count": 160,
   "metadata": {},
   "outputs": [
    {
     "name": "stdout",
     "output_type": "stream",
     "text": [
      "/Users/cascade/Github/PopGridCompare/data/interim/WP16_rural_NPL.tif\n",
      "/Users/cascade/Github/PopGridCompare/data/interim/ESRI16_rural_NPL.tif\n",
      "/Users/cascade/Github/PopGridCompare/data/interim/GHS15_rural_NPL.tif\n",
      "/Users/cascade/Github/PopGridCompare/data/interim/LS15_rural_NPL.tif\n",
      "/Users/cascade/Github/PopGridCompare/data/interim/GPWv4_rural_NPL.tif\n"
     ]
    }
   ],
   "source": [
    "# File Paths & FNs --- Update by geography urban/rural for MMZ, ECU, NPL\n",
    "DATA_PATH = '/Users/cascade/Github/PopGridCompare/data/'\n",
    "\n",
    "# args\n",
    "country = 'rural_NPL'\n",
    "\n",
    "# get rst names\n",
    "rst_fns = glob.glob('/Users/cascade/Github/PopGridCompare/data/interim/*'+country+'.tif')\n",
    "\n",
    "for rst in rst_fns: print(rst)"
   ]
  },
  {
   "cell_type": "code",
   "execution_count": 167,
   "metadata": {},
   "outputs": [],
   "source": [
    "# GHS \n",
    "ghs = rasterio.open(rst_fns[2]).read(1)\n",
    "ghs = ghs > 110000\n",
    "ghs = ghs.astype(int)"
   ]
  },
  {
   "cell_type": "code",
   "execution_count": 168,
   "metadata": {},
   "outputs": [
    {
     "data": {
      "text/plain": [
       "(array([0, 1]), array([482153,      1]))"
      ]
     },
     "execution_count": 168,
     "metadata": {},
     "output_type": "execute_result"
    }
   ],
   "source": [
    "np.unique(ghs, return_counts = True)"
   ]
  },
  {
   "cell_type": "code",
   "execution_count": 169,
   "metadata": {
    "scrolled": true
   },
   "outputs": [
    {
     "name": "stdout",
     "output_type": "stream",
     "text": [
      "/Users/cascade/Github/PopGridCompare/data/interim/WP16_rural_NPL.tif\n",
      "(array([ -0.        , 729.90893555]), array([482153,      1])) \n",
      "\n",
      "/Users/cascade/Github/PopGridCompare/data/interim/ESRI16_rural_NPL.tif\n",
      "(array([ 0, 28]), array([482153,      1])) \n",
      "\n",
      "/Users/cascade/Github/PopGridCompare/data/interim/GHS15_rural_NPL.tif\n",
      "(array([    -0.        , 117461.80763054]), array([482153,      1])) \n",
      "\n",
      "/Users/cascade/Github/PopGridCompare/data/interim/LS15_rural_NPL.tif\n",
      "(array([  0, 103]), array([482153,      1])) \n",
      "\n",
      "/Users/cascade/Github/PopGridCompare/data/interim/GPWv4_rural_NPL.tif\n",
      "(array([  -0.        , 2392.41113281]), array([482153,      1])) \n",
      "\n"
     ]
    }
   ],
   "source": [
    "for rst in rst_fns:\n",
    "    data = rasterio.open(rst).read(1)\n",
    "    out = data * ghs\n",
    "    print(rst)\n",
    "    print(np.unique(out, return_counts = True), '\\n')"
   ]
  },
  {
   "cell_type": "markdown",
   "metadata": {},
   "source": [
    "# Idai costs\n",
    "https://media.ifrc.org/ifrc/wp-content/uploads/sites/5/2019/09/2019-IFRC-CODN-EN.pdf <br>\n",
    "Similarly, estimates of populations living in flood inundated areas ranged from WPE-16 <br>\n",
    "identifying 817 thousand people (88% rural) to 1.28 million people (99% rural) by GPW-15.\n",
    "- $112 / person"
   ]
  },
  {
   "cell_type": "code",
   "execution_count": 8,
   "metadata": {},
   "outputs": [
    {
     "name": "stdout",
     "output_type": "stream",
     "text": [
      "Costs low 91.504\n"
     ]
    }
   ],
   "source": [
    "# Floods\n",
    "print('Costs low', 112 * 817 * 10**3 / 10**6)"
   ]
  },
  {
   "cell_type": "code",
   "execution_count": 9,
   "metadata": {},
   "outputs": [
    {
     "name": "stdout",
     "output_type": "stream",
     "text": [
      "Costs 143.36\n"
     ]
    }
   ],
   "source": [
    "# Floods\n",
    "print('Costs', 112 * 1.28 * 10**6 / 10**6)"
   ]
  }
 ],
 "metadata": {
  "kernelspec": {
   "display_name": "Python 3",
   "language": "python",
   "name": "python3"
  },
  "language_info": {
   "codemirror_mode": {
    "name": "ipython",
    "version": 3
   },
   "file_extension": ".py",
   "mimetype": "text/x-python",
   "name": "python",
   "nbconvert_exporter": "python",
   "pygments_lexer": "ipython3",
   "version": "3.8.6"
  }
 },
 "nbformat": 4,
 "nbformat_minor": 4
}
