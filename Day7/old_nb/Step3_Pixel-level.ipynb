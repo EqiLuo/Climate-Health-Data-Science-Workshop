{
 "cells": [
  {
   "cell_type": "markdown",
   "metadata": {},
   "source": [
    "# Pixel-level\n",
    "\n",
    "By Cascade Tuholske, Sep 2020 <br>\n",
    "Notebook to generate pixel agreement, coeffiecent of variation of popgrid data, and distributions of pixels. <br>"
   ]
  },
  {
   "cell_type": "code",
   "execution_count": 1,
   "metadata": {},
   "outputs": [],
   "source": [
    "#### Dependencies\n",
    "import numpy as np\n",
    "import pandas as pd\n",
    "import rasterio \n",
    "import xarray as xr\n",
    "import geopandas as gpd\n",
    "import glob\n",
    "import rioxarray as rio\n",
    "from scipy.stats import variation \n",
    "import rasterio.mask\n",
    "import matplotlib.pyplot as plt"
   ]
  },
  {
   "cell_type": "markdown",
   "metadata": {},
   "source": [
    "## Pixel Aggreement"
   ]
  },
  {
   "cell_type": "code",
   "execution_count": 2,
   "metadata": {},
   "outputs": [],
   "source": [
    "#### File Paths & FNs\n",
    "DATA_PATH = '/Users/cascade/Github/PopGridCompare/data/'\n",
    "country = '_ECU.tif'"
   ]
  },
  {
   "cell_type": "code",
   "execution_count": 3,
   "metadata": {},
   "outputs": [
    {
     "name": "stdout",
     "output_type": "stream",
     "text": [
      "/Users/cascade/Github/PopGridCompare/data/interim/LS15_all_ECU.tif\n",
      "/Users/cascade/Github/PopGridCompare/data/interim/GHS15_all_ECU.tif\n",
      "/Users/cascade/Github/PopGridCompare/data/interim/ESRI16_all_ECU.tif\n",
      "/Users/cascade/Github/PopGridCompare/data/interim/GPWv4_all_ECU.tif\n",
      "/Users/cascade/Github/PopGridCompare/data/interim/WP16_all_ECU.tif\n"
     ]
    }
   ],
   "source": [
    "# 2021.01.20 - keeping GPWv4\n",
    "rst_fns = glob.glob('/Users/cascade/Github/PopGridCompare/data/interim/*all'+country)\n",
    "for rst in rst_fns: print(rst) # check them"
   ]
  },
  {
   "cell_type": "code",
   "execution_count": 4,
   "metadata": {},
   "outputs": [],
   "source": [
    "# Get all arrays\n",
    "arrs = []\n",
    "\n",
    "for rst in rst_fns:\n",
    "    arr = rasterio.open(rst).read(1)\n",
    "    arrs.append(arr)"
   ]
  },
  {
   "cell_type": "code",
   "execution_count": 5,
   "metadata": {},
   "outputs": [],
   "source": [
    "# find areas of agreement\n",
    "zeros = []\n",
    "for arr in arrs:\n",
    "    zero = arr > -999\n",
    "    zero = zero.astype(int)\n",
    "    zeros.append(zero)\n",
    "\n",
    "agg = sum(zeros)"
   ]
  },
  {
   "cell_type": "code",
   "execution_count": 6,
   "metadata": {},
   "outputs": [],
   "source": [
    "agg32 = agg.astype('int32')"
   ]
  },
  {
   "cell_type": "code",
   "execution_count": 7,
   "metadata": {},
   "outputs": [],
   "source": [
    "# get meta data & write raster \n",
    "out_meta = rasterio.open(rst_fns[0]).meta\n",
    "out_meta['dtype'] = 'int32'"
   ]
  },
  {
   "cell_type": "code",
   "execution_count": 8,
   "metadata": {},
   "outputs": [],
   "source": [
    "fn_out = DATA_PATH+'interim/agg'+country\n",
    "with rasterio.open(fn_out, \"w\", **out_meta) as dest:\n",
    "    dest.write(agg32, 1)"
   ]
  },
  {
   "cell_type": "markdown",
   "metadata": {},
   "source": [
    "## Range across rasters"
   ]
  },
  {
   "cell_type": "code",
   "execution_count": 9,
   "metadata": {},
   "outputs": [],
   "source": [
    "def open_rst(rst_fn):\n",
    "    \"function opens a raster and makes it into a xarray object\"\n",
    "    \n",
    "    rst = xr.DataArray(rasterio.open(rst_fn).read(1), dims = ['y', 'x']) # y and x are our 2-d labels\n",
    "    \n",
    "    return rst"
   ]
  },
  {
   "cell_type": "code",
   "execution_count": 10,
   "metadata": {},
   "outputs": [],
   "source": [
    "def rst_range(rst_fns, fn_out = None, save = False):\n",
    "    \"\"\" Calc pixel-level range on stacked arrays and writes it out as a raster, returns the range, max and min arrs\n",
    "    fst_fns = list of rasters \n",
    "    fn_out = file name and path to write out range raster\n",
    "    save = if save == true, will write raster, default = False\n",
    "    \n",
    "    \"\"\"\n",
    "    \n",
    "    arr_list = [] # empty list\n",
    "    \n",
    "    # open and stack arrays\n",
    "    for rst_fn in rst_fns:\n",
    "        \n",
    "      \n",
    "        rst_arr = rasterio.open(rst_fn).read(1)\n",
    "        arr_list.append(rst_arr)\n",
    "    \n",
    "    arr3d = np.dstack([arr_list])\n",
    "        \n",
    "    # mask zeros\n",
    "    arr3d[arr3d == -999] = 0 # Set NAN to zeros\n",
    "        \n",
    "    # Get range\n",
    "    arr_min = np.amin(arr3d, axis = 0)\n",
    "    arr_max = np.amax(arr3d, axis = 0)\n",
    "    arr_range = arr_max - arr_min\n",
    "    arr_out = arr_range.data\n",
    "    \n",
    "    # get meta data & write raster \n",
    "    out_meta = rasterio.open(rst_fns[0]).meta\n",
    "    out_meta.update({'dtype' : 'float64'})\n",
    "    \n",
    "    if save == True: \n",
    "        with rasterio.open(fn_out, \"w\", **out_meta) as dest:\n",
    "            dest.write(arr_out, 1)\n",
    "        \n",
    "    return arr_range, arr_max, arr_min"
   ]
  },
  {
   "cell_type": "code",
   "execution_count": 11,
   "metadata": {},
   "outputs": [],
   "source": [
    "def make_plot(data_min, data_range, title, color, save = None, fn_out = None):\n",
    "    \n",
    "    \"\"\" plots min vs range for pop grid compare\n",
    "    Args:\n",
    "        data_min, = data min values as array\n",
    "        data_range = data max values as array\n",
    "        title = tile of plot as str\n",
    "        color = color for points\n",
    "        save = if True saves plot\n",
    "        fn_out = name of fn to save\n",
    "    \"\"\"\n",
    "    \n",
    "    # Set up\n",
    "    fig, axs = plt.subplots(1, 1, figsize = (8, 8), sharex=True)\n",
    "    ws = 0.25\n",
    "    fig.subplots_adjust(wspace=ws)\n",
    "    scale = 10**3 \n",
    "\n",
    "    # plot\n",
    "    X = np.delete(data_min.flatten(), np.where(data_range.flatten() == 0)) # remove all zero ranges\n",
    "    Y = np.delete(data_range.flatten(), np.where(data_range.flatten() == 0)) # remove all zero ranges\n",
    "    axs.scatter(X/scale, Y/scale, alpha = 0.3, color = color, marker = 'o')#, edgecolors = 'darkslategray')\n",
    "\n",
    "    # titles & lables & ticks\n",
    "    axs.set_title(title, fontsize = 25)\n",
    "    axs.set_xlabel('Pop Min', fontsize = 20)\n",
    "    axs.set_ylabel('Pop Range', fontsize = 20)\n",
    "    axs.tick_params(axis = 'both', which = 'major', labelsize = 20)\n",
    "    axs.tick_params(axis = 'both', which = 'minor', labelsize = 20)\n",
    "\n",
    "    if save == True:\n",
    "        plt.savefig(fn_out, dpi = 300, bbox_inches='tight', facecolor = 'w')"
   ]
  },
  {
   "cell_type": "code",
   "execution_count": 12,
   "metadata": {
    "scrolled": false
   },
   "outputs": [
    {
     "name": "stdout",
     "output_type": "stream",
     "text": [
      "/Users/cascade/Github/PopGridCompare/data/interim/ESRI16_urban_NPL.tif\n",
      "/Users/cascade/Github/PopGridCompare/data/interim/WP16_urban_NPL.tif\n",
      "/Users/cascade/Github/PopGridCompare/data/interim/GHS15_urban_NPL.tif\n",
      "/Users/cascade/Github/PopGridCompare/data/interim/LS15_urban_NPL.tif\n",
      "/Users/cascade/Github/PopGridCompare/data/interim/GPWv4_urban_NPL.tif\n"
     ]
    },
    {
     "data": {
      "image/png": "[encoded data removed]",
      "text/plain": [
       "<Figure size 576x576 with 1 Axes>"
      ]
     },
     "metadata": {
      "needs_background": "light"
     },
     "output_type": "display_data"
    }
   ],
   "source": [
    "# File Paths & FNs --- Update by geography urban/rural for MMZ, ECU, NPL\n",
    "DATA_PATH = '/Users/cascade/Github/PopGridCompare/data/'\n",
    "\n",
    "# args\n",
    "country = 'urban_NPL'\n",
    "title = 'Nepal Urban'\n",
    "fn_out = DATA_PATH+'FIGS/MS/Finalv1/Fig2_'+country+'.png'\n",
    "color = 'slategray'#'lightcoral'#'gold'\n",
    "\n",
    "# get rst names\n",
    "rst_fns = glob.glob('/Users/cascade/Github/PopGridCompare/data/interim/*'+country+'.tif')\n",
    "for rst in rst_fns: print(rst) # check them\n",
    "    \n",
    "# make data\n",
    "data_range, data_max, data_min = rst_range(rst_fns, fn_out = None, save = False)\n",
    "\n",
    "# plot & save\n",
    "make_plot(data_min = data_min, data_range = data_range, title = title, color = color, save = True, fn_out = fn_out)"
   ]
  },
  {
   "cell_type": "markdown",
   "metadata": {},
   "source": [
    "## What are the stats?"
   ]
  },
  {
   "cell_type": "code",
   "execution_count": 13,
   "metadata": {},
   "outputs": [],
   "source": [
    "# File Paths & FNs\n",
    "DATA_PATH = '/Users/cascade/Github/PopGridCompare/data/'"
   ]
  },
  {
   "cell_type": "code",
   "execution_count": 14,
   "metadata": {},
   "outputs": [],
   "source": [
    "def get_stats(country, mask):\n",
    "    \n",
    "    \"\"\" gets count of rural/urban pixels, max and inhabitied pixels \n",
    "    Args: \n",
    "        country = country.tif\n",
    "        mask = full path file name of bianary raster for the country's area \n",
    "    \"\"\"\n",
    "    \n",
    "    # Stuff to fill\n",
    "    df = pd.DataFrame()\n",
    "    \n",
    "    countries = []\n",
    "    labels = []\n",
    "    urban_counts = []\n",
    "    urban_maxs = []\n",
    "    urban_sums = []\n",
    "    rural_counts = []\n",
    "    rural_maxs = []\n",
    "    rural_sums = []\n",
    "    uninhabated = []\n",
    "    pcts = []\n",
    "    \n",
    "    # urban labels, counts & max\n",
    "    rst_fns = sorted(glob.glob(DATA_PATH+'interim/*urban'+country))\n",
    "    for rst in rst_fns:\n",
    "        \n",
    "        label = rst.split('interim/')[1].split('_urban')[0]\n",
    "        labels.append(label)\n",
    "        cmax = rasterio.open(rst).read(1).flatten().max()\n",
    "        urban_maxs.append(cmax)\n",
    "        urban = list(filter(lambda x: x > 0, rasterio.open(rst).read(1).flatten()))\n",
    "        urban_count = len(urban)\n",
    "        urban_sum = sum(urban)\n",
    "        urban_counts.append(urban_count)\n",
    "        urban_sums.append(urban_sum)\n",
    "    \n",
    "    # rural labels, counts & max\n",
    "    rst_fns = sorted(glob.glob(DATA_PATH+'interim/*rural'+country))\n",
    "    for rst in rst_fns:\n",
    "        \n",
    "        cmax = rasterio.open(rst).read(1).flatten().max()\n",
    "        rural_maxs.append(cmax)\n",
    "        rural = list(filter(lambda x: x > 0, rasterio.open(rst).read(1).flatten()))\n",
    "        rural_count = len(rural)\n",
    "        rural_sum = sum(rural)\n",
    "        rural_counts.append(rural_count)\n",
    "        rural_sums.append(rural_sum)\n",
    "    \n",
    "    # Uninhabitated \n",
    "    rst_fns = sorted(glob.glob(DATA_PATH+'interim/*all'+country))\n",
    "    for rst in rst_fns:\n",
    "        a = len(list(filter(lambda x: x != -999, rasterio.open(rst).read(1).flatten()))) # ! nan pixels\n",
    "        b = len(list(filter(lambda x: x == 1, rasterio.open(mask).read(1).flatten()))) # all pixels w/in bounds\n",
    "        c = b - a\n",
    "        pct = c / b * 100 # pct uninhabated\n",
    "        uninhabated.append(c)\n",
    "        pcts.append(pct)\n",
    "\n",
    "    # Population dataframe\n",
    "    df['country'] = [country.split('.tif')[0]] * len(rst_fns)\n",
    "    df['label'] = labels\n",
    "    df['urban_max'] = urban_maxs\n",
    "    df['rural_max'] = rural_maxs\n",
    "    df['urban_sum'] = urban_sums\n",
    "    df['rural_sum'] = rural_sums\n",
    "    df['total_pop'] = df['urban_sum'] + df['rural_sum']\n",
    "    df['urban_count'] = urban_counts\n",
    "    df['rural_count'] = rural_counts\n",
    "    df['uninhabated'] = uninhabated\n",
    "    df['pct'] = pcts\n",
    "    \n",
    "    return df"
   ]
  },
  {
   "cell_type": "code",
   "execution_count": 15,
   "metadata": {},
   "outputs": [],
   "source": [
    "# Get stats Nepal\n",
    "country = '_NPL.tif'\n",
    "mask_fn = DATA_PATH+'interim/NPL-rst.tif'\n",
    "df1 = get_stats(country, mask_fn)"
   ]
  },
  {
   "cell_type": "code",
   "execution_count": 16,
   "metadata": {},
   "outputs": [],
   "source": [
    "# Get stats Ecu\n",
    "country = '_ECU.tif'\n",
    "mask_fn = DATA_PATH+'interim/ECU-rst.tif'\n",
    "df2 = get_stats(country, mask_fn)"
   ]
  },
  {
   "cell_type": "code",
   "execution_count": null,
   "metadata": {},
   "outputs": [],
   "source": [
    "# Get stats MMZ\n",
    "country = '_MMZ.tif'\n",
    "mask_fn = DATA_PATH+'interim/MMZ-rst.tif'\n",
    "df3 = get_stats(country, mask_fn)"
   ]
  },
  {
   "cell_type": "code",
   "execution_count": null,
   "metadata": {},
   "outputs": [],
   "source": [
    "# Concat\n",
    "dfs = [df1, df2, df3]\n",
    "df_out = pd.concat(dfs)\n",
    "df_out"
   ]
  },
  {
   "cell_type": "code",
   "execution_count": null,
   "metadata": {},
   "outputs": [],
   "source": [
    "# Write it out\n",
    "fn_out = DATA_PATH+'processed/Table1.csv'\n",
    "df_out.to_csv(fn_out)"
   ]
  }
 ],
 "metadata": {
  "kernelspec": {
   "display_name": "Python 3",
   "language": "python",
   "name": "python3"
  },
  "language_info": {
   "codemirror_mode": {
    "name": "ipython",
    "version": 3
   },
   "file_extension": ".py",
   "mimetype": "text/x-python",
   "name": "python",
   "nbconvert_exporter": "python",
   "pygments_lexer": "ipython3",
   "version": "3.8.6"
  }
 },
 "nbformat": 4,
 "nbformat_minor": 2
}
